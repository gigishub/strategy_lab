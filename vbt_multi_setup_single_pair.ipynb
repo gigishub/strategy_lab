{
 "cells": [
  {
   "cell_type": "markdown",
   "metadata": {},
   "source": [
    "## STRATEGY \n",
    "\n",
    "Parameters:\n",
    "\tStretch:\t0.5\n",
    "\tLongTermMALen:\t200\n",
    "\tShortTermMALen:\t20\n",
    "\t\t\n",
    "Data:\n",
    "\tATRValue:\tATR(3)\n",
    "\tADXValue:\tADX(5)\n",
    "\t\n",
    "\tShortTermMA:\tMA(Close, ShortTermMALen)\n",
    "\tLongTermMA:\tMA(Close, LongTermMALen)\n",
    "\n",
    "\tClosingRange:\t(Close - Low) / (High - Low)\n",
    "\tIsUptrend: \tClose > LongTermMA\n",
    "\tIsVolatile:\tADXValue > 30\t\t\t  \n",
    "\n",
    "\tLong_limit:\t    Low - (ATRValue * Stretch) // limit order price\n",
    "\tLong_trigger:\tClosingRange < 0.3 // close in lower 30% of bar\n",
    "\tLong_setup:\t    LongTrigger and IsUptrend and IsLiquid and IsVolatile\n",
    "\t\n",
    "\tStopLossExit:\tClose < ShortTermMA\n",
    "\n",
    "\n",
    "\n",
    "\tExit_rule:\tClose > FillPrice or StopLossExit\n",
    "\tExit_price:\tNextOpen"
   ]
  },
  {
   "cell_type": "code",
   "execution_count": 1,
   "metadata": {},
   "outputs": [
    {
     "name": "stderr",
     "output_type": "stream",
     "text": [
      "/Users/andre/Documents/Python_local/mean_reversion_strategy/venv/lib/python3.9/site-packages/urllib3/__init__.py:35: NotOpenSSLWarning: urllib3 v2 only supports OpenSSL 1.1.1+, currently the 'ssl' module is compiled with 'LibreSSL 2.8.3'. See: https://github.com/urllib3/urllib3/issues/3020\n",
      "  warnings.warn(\n"
     ]
    }
   ],
   "source": [
    "import vectorbt as vbt\n",
    "import pandas as pd \n",
    "import numpy as np\n",
    "from datetime import datetime\n",
    "from kucoin_candle_spot import SpotDataFetcher\n",
    "from datetime import datetime, timezone\n",
    "import pandas_ta as ta\n",
    "from numba import njit\n",
    "import plotly.graph_objs as go\n"
   ]
  },
  {
   "cell_type": "markdown",
   "metadata": {},
   "source": [
    "## data collection"
   ]
  },
  {
   "cell_type": "code",
   "execution_count": 2,
   "metadata": {},
   "outputs": [
    {
     "name": "stderr",
     "output_type": "stream",
     "text": [
      "INFO:kucoin_candle_spot.kucoin_fetch_spot:Fetching candle data...\n",
      "INFO:kucoin_candle_spot.kucoin_fetch_spot:Fetch complete. Chunks: 2, Candles: 753\n",
      "INFO:kucoin_candle_spot.kucoin_fetch_spot:Fetching candle data...\n",
      "INFO:kucoin_candle_spot.kucoin_fetch_spot:Fetch complete. Chunks: 2, Candles: 753\n"
     ]
    }
   ],
   "source": [
    "\n",
    "symbols = [\"ETH-USDT\", \"BTC-USDT\"]\n",
    "timeframe = \"1day\"\n",
    "start_time = \"2023-01-08 10:00:00\"\n",
    "end_time = datetime.now(timezone.utc).strftime(\"%Y-%m-%d %H:%M:%S\")\n",
    "\n",
    "\n",
    "# Fetch data for each symbol and store in a dictionary\n",
    "dataframes = {}\n",
    "for symbol in symbols:\n",
    "    fetcher = SpotDataFetcher(symbol, timeframe, start_time, end_time)\n",
    "    df = fetcher.fetch_candles_as_df()\n",
    "    df['symbol'] = symbol\n",
    "    dataframes[symbol] = df\n",
    "\n",
    "# # Print the DataFrame for each symbol\n",
    "# for symbol, df in dataframes.items():\n",
    "#     print(f\"\\nDataFrame for {symbol}:\")\n",
    "#     print(df)\n",
    "# fetcher = SpotDataFetcher(symbol, timeframe, start_time, end_time)\n",
    "\n",
    "\n"
   ]
  },
  {
   "cell_type": "code",
   "execution_count": 13,
   "metadata": {},
   "outputs": [
    {
     "name": "stdout",
     "output_type": "stream",
     "text": [
      "{'ETH-USDT':                               open    close     high      low          volume  \\\n",
      "timestamp                                                                       \n",
      "2023-01-09 00:00:00+00:00  1290.13  1320.44  1344.79  1285.26  43599.34545334   \n",
      "2023-01-10 00:00:00+00:00  1320.43  1335.83  1347.08  1317.10  31684.49483084   \n",
      "2023-01-11 00:00:00+00:00  1335.94  1389.41  1397.56  1321.03  33512.38247916   \n",
      "2023-01-12 00:00:00+00:00  1389.59  1415.85  1437.73  1356.40  69646.54076749   \n",
      "2023-01-13 00:00:00+00:00  1415.86  1451.02  1464.51  1400.92  43249.64419696   \n",
      "...                            ...      ...      ...      ...             ...   \n",
      "2025-01-26 00:00:00+00:00  3318.69  3233.03  3362.10  3229.85  28348.55197177   \n",
      "2025-01-27 00:00:00+00:00  3232.71  3182.34  3253.70  3021.15  87840.69636415   \n",
      "2025-01-28 00:00:00+00:00  3182.51  3077.63  3222.76  3039.78  47969.72429215   \n",
      "2025-01-29 00:00:00+00:00  3077.67  3114.04  3183.25  3055.00  50313.22874885   \n",
      "2025-01-30 00:00:00+00:00  3114.05  3252.37  3259.62  3091.62  20569.40722829   \n",
      "\n",
      "                                       turnover    symbol  \n",
      "timestamp                                                  \n",
      "2023-01-09 00:00:00+00:00   57458306.8964261214  ETH-USDT  \n",
      "2023-01-10 00:00:00+00:00    42199099.077023657  ETH-USDT  \n",
      "2023-01-11 00:00:00+00:00   45137042.7885045479  ETH-USDT  \n",
      "2023-01-12 00:00:00+00:00   97664482.6678301957  ETH-USDT  \n",
      "2023-01-13 00:00:00+00:00   61490104.4468178746  ETH-USDT  \n",
      "...                                         ...       ...  \n",
      "2025-01-26 00:00:00+00:00   93891113.4664728268  ETH-USDT  \n",
      "2025-01-27 00:00:00+00:00  273330592.7531215816  ETH-USDT  \n",
      "2025-01-28 00:00:00+00:00  151452939.5404197053  ETH-USDT  \n",
      "2025-01-29 00:00:00+00:00  157010469.9595549403  ETH-USDT  \n",
      "2025-01-30 00:00:00+00:00   65483770.7446829121  ETH-USDT  \n",
      "\n",
      "[753 rows x 7 columns], 'BTC-USDT':                                open     close      high       low  \\\n",
      "timestamp                                                           \n",
      "2023-01-09 00:00:00+00:00   17127.5   17181.4   17394.6   17106.3   \n",
      "2023-01-10 00:00:00+00:00   17181.4   17436.5   17495.2   17147.3   \n",
      "2023-01-11 00:00:00+00:00   17436.5   17943.2   17999.0   17319.3   \n",
      "2023-01-12 00:00:00+00:00   17943.2   18845.6   19102.1   17907.6   \n",
      "2023-01-13 00:00:00+00:00   18845.7   19924.9   19994.0   18719.1   \n",
      "...                             ...       ...       ...       ...   \n",
      "2025-01-26 00:00:00+00:00  104741.7  102617.4  105511.9  102511.8   \n",
      "2025-01-27 00:00:00+00:00  102606.7  102083.3  103272.8   97778.8   \n",
      "2025-01-28 00:00:00+00:00  102071.6  101336.8  103789.3  100277.7   \n",
      "2025-01-29 00:00:00+00:00  101335.3  103736.1  104791.7  101322.6   \n",
      "2025-01-30 00:00:00+00:00  103742.0  105220.3  105598.9  103266.6   \n",
      "\n",
      "                                   volume             turnover    symbol  \n",
      "timestamp                                                                 \n",
      "2023-01-09 00:00:00+00:00   5577.37314231   96180461.415334055  BTC-USDT  \n",
      "2023-01-10 00:00:00+00:00   3933.07007805   68091218.739313634  BTC-USDT  \n",
      "2023-01-11 00:00:00+00:00   4559.96523889   79971307.449813698  BTC-USDT  \n",
      "2023-01-12 00:00:00+00:00  10886.19514717  200849541.285974835  BTC-USDT  \n",
      "2023-01-13 00:00:00+00:00     9375.409916  180257460.526571197  BTC-USDT  \n",
      "...                                   ...                  ...       ...  \n",
      "2025-01-26 00:00:00+00:00    876.70195799   91572400.202423731  BTC-USDT  \n",
      "2025-01-27 00:00:00+00:00   4766.84840827  478187302.811317367  BTC-USDT  \n",
      "2025-01-28 00:00:00+00:00   2133.94324915  218299424.833929149  BTC-USDT  \n",
      "2025-01-29 00:00:00+00:00   2298.73691235  236184729.589379658  BTC-USDT  \n",
      "2025-01-30 00:00:00+00:00    825.74292577   86535346.110652567  BTC-USDT  \n",
      "\n",
      "[753 rows x 7 columns]}\n"
     ]
    }
   ],
   "source": [
    "# data frames is dict of datfarems with candle data for each symbol\n",
    "print(dataframes)\n",
    "\n",
    "df_eth = dataframes['ETH-USDT']\n",
    "df_btc = dataframes['BTC-USDT']"
   ]
  },
  {
   "cell_type": "code",
   "execution_count": 4,
   "metadata": {},
   "outputs": [],
   "source": [
    "def custom_trading_strategy(close, high, low, stretch=0.5, \n",
    "                             long_term_ma_len=200, short_term_ma_len=20, adx_len=5, atr_len=3, symbol=None):\n",
    "    # Calculate indicators\n",
    "    atr = vbt.IndicatorFactory.from_talib('ATR').run(high, low, close, timeperiod=atr_len).real.to_numpy()\n",
    "    adx = vbt.IndicatorFactory.from_talib('ADX').run(high, low, close, timeperiod=adx_len).real.to_numpy()\n",
    "    \n",
    "    # Moving Averages\n",
    "    long_term_ma = vbt.IndicatorFactory.from_talib('EMA').run(close, timeperiod=long_term_ma_len).real.to_numpy()\n",
    "    short_term_ma = vbt.IndicatorFactory.from_talib('EMA').run(close, timeperiod=short_term_ma_len).real.to_numpy()\n",
    "\n",
    "    # Closing Range\n",
    "    closing_range = (close - low) / (high - low)\n",
    "    \n",
    "    # Conditions\n",
    "    is_uptrend = close > long_term_ma\n",
    "    is_volatile = adx > 30\n",
    "    \n",
    "    # Long Limit\n",
    "    long_limit = low - (atr * stretch)\n",
    "    \n",
    "    # Long Trigger\n",
    "    long_trigger = closing_range < 0.3\n",
    "    \n",
    "    # Long Setup\n",
    "    long_setup = long_trigger & is_uptrend & is_volatile\n",
    "    \n",
    "    # Return limit order price when conditions for long setup are met\n",
    "    limit_order_price = np.where(long_setup, long_limit, np.nan)\n",
    "    \n",
    "    # Ensure the order of outputs matches output_names\n",
    "    return limit_order_price, long_term_ma,short_term_ma, atr, adx\n",
    "\n",
    "# Create the indicator factory\n",
    "custom_strategy_indicator = vbt.IndicatorFactory(\n",
    "    class_name='CustomTradingStrategy',\n",
    "    short_name='custom_strategy',\n",
    "    input_names=['Close', 'High', 'Low'],\n",
    "    param_names=['stretch', 'long_term_ma_len','short_term_ma_len', 'adx_len', 'atr_len','symbol'],\n",
    "    output_names=['limit_order_price' ,'long_term_ma','short_term_ma', 'atr', 'adx']  # Add outputs for indicators\n",
    "\n",
    ").from_apply_func(custom_trading_strategy)\n",
    "\n",
    "\n"
   ]
  },
  {
   "cell_type": "code",
   "execution_count": 16,
   "metadata": {},
   "outputs": [
    {
     "data": {
      "text/html": [
       "<div>\n",
       "<style scoped>\n",
       "    .dataframe tbody tr th:only-of-type {\n",
       "        vertical-align: middle;\n",
       "    }\n",
       "\n",
       "    .dataframe tbody tr th {\n",
       "        vertical-align: top;\n",
       "    }\n",
       "\n",
       "    .dataframe thead tr th {\n",
       "        text-align: left;\n",
       "    }\n",
       "\n",
       "    .dataframe thead tr:last-of-type th {\n",
       "        text-align: right;\n",
       "    }\n",
       "</style>\n",
       "<table border=\"1\" class=\"dataframe\">\n",
       "  <thead>\n",
       "    <tr>\n",
       "      <th>custom_strategy_stretch</th>\n",
       "      <th colspan=\"4\" halign=\"left\">0.5</th>\n",
       "    </tr>\n",
       "    <tr>\n",
       "      <th>custom_strategy_long_term_ma_len</th>\n",
       "      <th colspan=\"2\" halign=\"left\">100</th>\n",
       "      <th colspan=\"2\" halign=\"left\">200</th>\n",
       "    </tr>\n",
       "    <tr>\n",
       "      <th>custom_strategy_short_term_ma_len</th>\n",
       "      <th colspan=\"2\" halign=\"left\">20</th>\n",
       "      <th colspan=\"2\" halign=\"left\">20</th>\n",
       "    </tr>\n",
       "    <tr>\n",
       "      <th>custom_strategy_adx_len</th>\n",
       "      <th>5</th>\n",
       "      <th>6</th>\n",
       "      <th>5</th>\n",
       "      <th>6</th>\n",
       "    </tr>\n",
       "    <tr>\n",
       "      <th>custom_strategy_atr_len</th>\n",
       "      <th>3</th>\n",
       "      <th>3</th>\n",
       "      <th>3</th>\n",
       "      <th>3</th>\n",
       "    </tr>\n",
       "    <tr>\n",
       "      <th>custom_strategy_symbol</th>\n",
       "      <th>BTC-USDT</th>\n",
       "      <th>BTC-USDT</th>\n",
       "      <th>BTC-USDT</th>\n",
       "      <th>BTC-USDT</th>\n",
       "    </tr>\n",
       "    <tr>\n",
       "      <th>timestamp</th>\n",
       "      <th></th>\n",
       "      <th></th>\n",
       "      <th></th>\n",
       "      <th></th>\n",
       "    </tr>\n",
       "  </thead>\n",
       "  <tbody>\n",
       "    <tr>\n",
       "      <th>2023-01-09 00:00:00+00:00</th>\n",
       "      <td>NaN</td>\n",
       "      <td>NaN</td>\n",
       "      <td>NaN</td>\n",
       "      <td>NaN</td>\n",
       "    </tr>\n",
       "    <tr>\n",
       "      <th>2023-01-10 00:00:00+00:00</th>\n",
       "      <td>NaN</td>\n",
       "      <td>NaN</td>\n",
       "      <td>NaN</td>\n",
       "      <td>NaN</td>\n",
       "    </tr>\n",
       "    <tr>\n",
       "      <th>2023-01-11 00:00:00+00:00</th>\n",
       "      <td>NaN</td>\n",
       "      <td>NaN</td>\n",
       "      <td>NaN</td>\n",
       "      <td>NaN</td>\n",
       "    </tr>\n",
       "    <tr>\n",
       "      <th>2023-01-12 00:00:00+00:00</th>\n",
       "      <td>NaN</td>\n",
       "      <td>NaN</td>\n",
       "      <td>NaN</td>\n",
       "      <td>NaN</td>\n",
       "    </tr>\n",
       "    <tr>\n",
       "      <th>2023-01-13 00:00:00+00:00</th>\n",
       "      <td>NaN</td>\n",
       "      <td>NaN</td>\n",
       "      <td>NaN</td>\n",
       "      <td>NaN</td>\n",
       "    </tr>\n",
       "    <tr>\n",
       "      <th>...</th>\n",
       "      <td>...</td>\n",
       "      <td>...</td>\n",
       "      <td>...</td>\n",
       "      <td>...</td>\n",
       "    </tr>\n",
       "    <tr>\n",
       "      <th>2025-01-26 00:00:00+00:00</th>\n",
       "      <td>NaN</td>\n",
       "      <td>NaN</td>\n",
       "      <td>NaN</td>\n",
       "      <td>NaN</td>\n",
       "    </tr>\n",
       "    <tr>\n",
       "      <th>2025-01-27 00:00:00+00:00</th>\n",
       "      <td>NaN</td>\n",
       "      <td>NaN</td>\n",
       "      <td>NaN</td>\n",
       "      <td>NaN</td>\n",
       "    </tr>\n",
       "    <tr>\n",
       "      <th>2025-01-28 00:00:00+00:00</th>\n",
       "      <td>NaN</td>\n",
       "      <td>NaN</td>\n",
       "      <td>NaN</td>\n",
       "      <td>NaN</td>\n",
       "    </tr>\n",
       "    <tr>\n",
       "      <th>2025-01-29 00:00:00+00:00</th>\n",
       "      <td>NaN</td>\n",
       "      <td>NaN</td>\n",
       "      <td>NaN</td>\n",
       "      <td>NaN</td>\n",
       "    </tr>\n",
       "    <tr>\n",
       "      <th>2025-01-30 00:00:00+00:00</th>\n",
       "      <td>NaN</td>\n",
       "      <td>NaN</td>\n",
       "      <td>NaN</td>\n",
       "      <td>NaN</td>\n",
       "    </tr>\n",
       "  </tbody>\n",
       "</table>\n",
       "<p>753 rows × 4 columns</p>\n",
       "</div>"
      ],
      "text/plain": [
       "custom_strategy_stretch                0.5                           \n",
       "custom_strategy_long_term_ma_len       100               200         \n",
       "custom_strategy_short_term_ma_len       20                20         \n",
       "custom_strategy_adx_len                  5        6        5        6\n",
       "custom_strategy_atr_len                  3        3        3        3\n",
       "custom_strategy_symbol            BTC-USDT BTC-USDT BTC-USDT BTC-USDT\n",
       "timestamp                                                            \n",
       "2023-01-09 00:00:00+00:00              NaN      NaN      NaN      NaN\n",
       "2023-01-10 00:00:00+00:00              NaN      NaN      NaN      NaN\n",
       "2023-01-11 00:00:00+00:00              NaN      NaN      NaN      NaN\n",
       "2023-01-12 00:00:00+00:00              NaN      NaN      NaN      NaN\n",
       "2023-01-13 00:00:00+00:00              NaN      NaN      NaN      NaN\n",
       "...                                    ...      ...      ...      ...\n",
       "2025-01-26 00:00:00+00:00              NaN      NaN      NaN      NaN\n",
       "2025-01-27 00:00:00+00:00              NaN      NaN      NaN      NaN\n",
       "2025-01-28 00:00:00+00:00              NaN      NaN      NaN      NaN\n",
       "2025-01-29 00:00:00+00:00              NaN      NaN      NaN      NaN\n",
       "2025-01-30 00:00:00+00:00              NaN      NaN      NaN      NaN\n",
       "\n",
       "[753 rows x 4 columns]"
      ]
     },
     "execution_count": 16,
     "metadata": {},
     "output_type": "execute_result"
    }
   ],
   "source": [
    "# Entry parameter \n",
    "stretch = 0.5\n",
    "long_term_ma_len = [100,200]\n",
    "adx_len = [5,6]\n",
    "atr_len = 3\n",
    "\n",
    "# exit parameter\n",
    "short_term_ma_len = 20\n",
    "\n",
    "\n",
    "# Usage example (commented out)\n",
    "indicator = custom_strategy_indicator.run(\n",
    "    df_btc['close'], df_btc['high'], df_btc['low'],\n",
    "    stretch=stretch,\n",
    "    long_term_ma_len=long_term_ma_len,\n",
    "    short_term_ma_len=short_term_ma_len,\n",
    "    adx_len=adx_len,\n",
    "    atr_len=atr_len,\n",
    "    symbol='BTC-USDT',\n",
    "    param_product=True\n",
    "\n",
    ")\n",
    "\n",
    "df_indicator_signals = indicator.limit_order_price\n",
    "df_indicator_signals\n",
    "\n"
   ]
  },
  {
   "cell_type": "code",
   "execution_count": 12,
   "metadata": {},
   "outputs": [
    {
     "data": {
      "text/html": [
       "<div>\n",
       "<style scoped>\n",
       "    .dataframe tbody tr th:only-of-type {\n",
       "        vertical-align: middle;\n",
       "    }\n",
       "\n",
       "    .dataframe tbody tr th {\n",
       "        vertical-align: top;\n",
       "    }\n",
       "\n",
       "    .dataframe thead th {\n",
       "        text-align: right;\n",
       "    }\n",
       "</style>\n",
       "<table border=\"1\" class=\"dataframe\">\n",
       "  <thead>\n",
       "    <tr style=\"text-align: right;\">\n",
       "      <th></th>\n",
       "      <th>open</th>\n",
       "      <th>close</th>\n",
       "      <th>high</th>\n",
       "      <th>low</th>\n",
       "      <th>volume</th>\n",
       "      <th>turnover</th>\n",
       "      <th>symbol</th>\n",
       "    </tr>\n",
       "    <tr>\n",
       "      <th>timestamp</th>\n",
       "      <th></th>\n",
       "      <th></th>\n",
       "      <th></th>\n",
       "      <th></th>\n",
       "      <th></th>\n",
       "      <th></th>\n",
       "      <th></th>\n",
       "    </tr>\n",
       "  </thead>\n",
       "  <tbody>\n",
       "    <tr>\n",
       "      <th>2023-01-09 00:00:00+00:00</th>\n",
       "      <td>17127.5</td>\n",
       "      <td>17181.4</td>\n",
       "      <td>17394.6</td>\n",
       "      <td>17106.3</td>\n",
       "      <td>5577.37314231</td>\n",
       "      <td>96180461.415334055</td>\n",
       "      <td>BTC-USDT</td>\n",
       "    </tr>\n",
       "    <tr>\n",
       "      <th>2023-01-10 00:00:00+00:00</th>\n",
       "      <td>17181.4</td>\n",
       "      <td>17436.5</td>\n",
       "      <td>17495.2</td>\n",
       "      <td>17147.3</td>\n",
       "      <td>3933.07007805</td>\n",
       "      <td>68091218.739313634</td>\n",
       "      <td>BTC-USDT</td>\n",
       "    </tr>\n",
       "    <tr>\n",
       "      <th>2023-01-11 00:00:00+00:00</th>\n",
       "      <td>17436.5</td>\n",
       "      <td>17943.2</td>\n",
       "      <td>17999.0</td>\n",
       "      <td>17319.3</td>\n",
       "      <td>4559.96523889</td>\n",
       "      <td>79971307.449813698</td>\n",
       "      <td>BTC-USDT</td>\n",
       "    </tr>\n",
       "    <tr>\n",
       "      <th>2023-01-12 00:00:00+00:00</th>\n",
       "      <td>17943.2</td>\n",
       "      <td>18845.6</td>\n",
       "      <td>19102.1</td>\n",
       "      <td>17907.6</td>\n",
       "      <td>10886.19514717</td>\n",
       "      <td>200849541.285974835</td>\n",
       "      <td>BTC-USDT</td>\n",
       "    </tr>\n",
       "    <tr>\n",
       "      <th>2023-01-13 00:00:00+00:00</th>\n",
       "      <td>18845.7</td>\n",
       "      <td>19924.9</td>\n",
       "      <td>19994.0</td>\n",
       "      <td>18719.1</td>\n",
       "      <td>9375.409916</td>\n",
       "      <td>180257460.526571197</td>\n",
       "      <td>BTC-USDT</td>\n",
       "    </tr>\n",
       "    <tr>\n",
       "      <th>...</th>\n",
       "      <td>...</td>\n",
       "      <td>...</td>\n",
       "      <td>...</td>\n",
       "      <td>...</td>\n",
       "      <td>...</td>\n",
       "      <td>...</td>\n",
       "      <td>...</td>\n",
       "    </tr>\n",
       "    <tr>\n",
       "      <th>2025-01-26 00:00:00+00:00</th>\n",
       "      <td>104741.7</td>\n",
       "      <td>102617.4</td>\n",
       "      <td>105511.9</td>\n",
       "      <td>102511.8</td>\n",
       "      <td>876.70195799</td>\n",
       "      <td>91572400.202423731</td>\n",
       "      <td>BTC-USDT</td>\n",
       "    </tr>\n",
       "    <tr>\n",
       "      <th>2025-01-27 00:00:00+00:00</th>\n",
       "      <td>102606.7</td>\n",
       "      <td>102083.3</td>\n",
       "      <td>103272.8</td>\n",
       "      <td>97778.8</td>\n",
       "      <td>4766.84840827</td>\n",
       "      <td>478187302.811317367</td>\n",
       "      <td>BTC-USDT</td>\n",
       "    </tr>\n",
       "    <tr>\n",
       "      <th>2025-01-28 00:00:00+00:00</th>\n",
       "      <td>102071.6</td>\n",
       "      <td>101336.8</td>\n",
       "      <td>103789.3</td>\n",
       "      <td>100277.7</td>\n",
       "      <td>2133.94324915</td>\n",
       "      <td>218299424.833929149</td>\n",
       "      <td>BTC-USDT</td>\n",
       "    </tr>\n",
       "    <tr>\n",
       "      <th>2025-01-29 00:00:00+00:00</th>\n",
       "      <td>101335.3</td>\n",
       "      <td>103736.1</td>\n",
       "      <td>104791.7</td>\n",
       "      <td>101322.6</td>\n",
       "      <td>2298.73691235</td>\n",
       "      <td>236184729.589379658</td>\n",
       "      <td>BTC-USDT</td>\n",
       "    </tr>\n",
       "    <tr>\n",
       "      <th>2025-01-30 00:00:00+00:00</th>\n",
       "      <td>103742.0</td>\n",
       "      <td>105220.3</td>\n",
       "      <td>105598.9</td>\n",
       "      <td>103266.6</td>\n",
       "      <td>825.74292577</td>\n",
       "      <td>86535346.110652567</td>\n",
       "      <td>BTC-USDT</td>\n",
       "    </tr>\n",
       "  </tbody>\n",
       "</table>\n",
       "<p>753 rows × 7 columns</p>\n",
       "</div>"
      ],
      "text/plain": [
       "                               open     close      high       low  \\\n",
       "timestamp                                                           \n",
       "2023-01-09 00:00:00+00:00   17127.5   17181.4   17394.6   17106.3   \n",
       "2023-01-10 00:00:00+00:00   17181.4   17436.5   17495.2   17147.3   \n",
       "2023-01-11 00:00:00+00:00   17436.5   17943.2   17999.0   17319.3   \n",
       "2023-01-12 00:00:00+00:00   17943.2   18845.6   19102.1   17907.6   \n",
       "2023-01-13 00:00:00+00:00   18845.7   19924.9   19994.0   18719.1   \n",
       "...                             ...       ...       ...       ...   \n",
       "2025-01-26 00:00:00+00:00  104741.7  102617.4  105511.9  102511.8   \n",
       "2025-01-27 00:00:00+00:00  102606.7  102083.3  103272.8   97778.8   \n",
       "2025-01-28 00:00:00+00:00  102071.6  101336.8  103789.3  100277.7   \n",
       "2025-01-29 00:00:00+00:00  101335.3  103736.1  104791.7  101322.6   \n",
       "2025-01-30 00:00:00+00:00  103742.0  105220.3  105598.9  103266.6   \n",
       "\n",
       "                                   volume             turnover    symbol  \n",
       "timestamp                                                                 \n",
       "2023-01-09 00:00:00+00:00   5577.37314231   96180461.415334055  BTC-USDT  \n",
       "2023-01-10 00:00:00+00:00   3933.07007805   68091218.739313634  BTC-USDT  \n",
       "2023-01-11 00:00:00+00:00   4559.96523889   79971307.449813698  BTC-USDT  \n",
       "2023-01-12 00:00:00+00:00  10886.19514717  200849541.285974835  BTC-USDT  \n",
       "2023-01-13 00:00:00+00:00     9375.409916  180257460.526571197  BTC-USDT  \n",
       "...                                   ...                  ...       ...  \n",
       "2025-01-26 00:00:00+00:00    876.70195799   91572400.202423731  BTC-USDT  \n",
       "2025-01-27 00:00:00+00:00   4766.84840827  478187302.811317367  BTC-USDT  \n",
       "2025-01-28 00:00:00+00:00   2133.94324915  218299424.833929149  BTC-USDT  \n",
       "2025-01-29 00:00:00+00:00   2298.73691235  236184729.589379658  BTC-USDT  \n",
       "2025-01-30 00:00:00+00:00    825.74292577   86535346.110652567  BTC-USDT  \n",
       "\n",
       "[753 rows x 7 columns]"
      ]
     },
     "execution_count": 12,
     "metadata": {},
     "output_type": "execute_result"
    }
   ],
   "source": [
    "df"
   ]
  },
  {
   "cell_type": "code",
   "execution_count": 17,
   "metadata": {},
   "outputs": [
    {
     "name": "stdout",
     "output_type": "stream",
     "text": [
      "Columns have been renamed\n"
     ]
    },
    {
     "data": {
      "text/html": [
       "<div>\n",
       "<style scoped>\n",
       "    .dataframe tbody tr th:only-of-type {\n",
       "        vertical-align: middle;\n",
       "    }\n",
       "\n",
       "    .dataframe tbody tr th {\n",
       "        vertical-align: top;\n",
       "    }\n",
       "\n",
       "    .dataframe thead tr th {\n",
       "        text-align: left;\n",
       "    }\n",
       "\n",
       "    .dataframe thead tr:last-of-type th {\n",
       "        text-align: right;\n",
       "    }\n",
       "</style>\n",
       "<table border=\"1\" class=\"dataframe\">\n",
       "  <thead>\n",
       "    <tr>\n",
       "      <th>custom_strategy_stretch</th>\n",
       "      <th colspan=\"4\" halign=\"left\">0.5</th>\n",
       "    </tr>\n",
       "    <tr>\n",
       "      <th>custom_strategy_long_term_ma_len</th>\n",
       "      <th colspan=\"2\" halign=\"left\">100</th>\n",
       "      <th colspan=\"2\" halign=\"left\">200</th>\n",
       "    </tr>\n",
       "    <tr>\n",
       "      <th>custom_strategy_short_term_ma_len</th>\n",
       "      <th colspan=\"2\" halign=\"left\">20</th>\n",
       "      <th colspan=\"2\" halign=\"left\">20</th>\n",
       "    </tr>\n",
       "    <tr>\n",
       "      <th>custom_strategy_adx_len</th>\n",
       "      <th>5</th>\n",
       "      <th>6</th>\n",
       "      <th>5</th>\n",
       "      <th>6</th>\n",
       "    </tr>\n",
       "    <tr>\n",
       "      <th>custom_strategy_atr_len</th>\n",
       "      <th>3</th>\n",
       "      <th>3</th>\n",
       "      <th>3</th>\n",
       "      <th>3</th>\n",
       "    </tr>\n",
       "    <tr>\n",
       "      <th>custom_strategy_symbol</th>\n",
       "      <th>BTC-USDT</th>\n",
       "      <th>BTC-USDT</th>\n",
       "      <th>BTC-USDT</th>\n",
       "      <th>BTC-USDT</th>\n",
       "    </tr>\n",
       "    <tr>\n",
       "      <th>timestamp</th>\n",
       "      <th></th>\n",
       "      <th></th>\n",
       "      <th></th>\n",
       "      <th></th>\n",
       "    </tr>\n",
       "  </thead>\n",
       "  <tbody>\n",
       "    <tr>\n",
       "      <th>2023-01-09 00:00:00+00:00</th>\n",
       "      <td>17181.4</td>\n",
       "      <td>17181.4</td>\n",
       "      <td>17181.4</td>\n",
       "      <td>17181.4</td>\n",
       "    </tr>\n",
       "    <tr>\n",
       "      <th>2023-01-10 00:00:00+00:00</th>\n",
       "      <td>17436.5</td>\n",
       "      <td>17436.5</td>\n",
       "      <td>17436.5</td>\n",
       "      <td>17436.5</td>\n",
       "    </tr>\n",
       "    <tr>\n",
       "      <th>2023-01-11 00:00:00+00:00</th>\n",
       "      <td>17943.2</td>\n",
       "      <td>17943.2</td>\n",
       "      <td>17943.2</td>\n",
       "      <td>17943.2</td>\n",
       "    </tr>\n",
       "    <tr>\n",
       "      <th>2023-01-12 00:00:00+00:00</th>\n",
       "      <td>18845.6</td>\n",
       "      <td>18845.6</td>\n",
       "      <td>18845.6</td>\n",
       "      <td>18845.6</td>\n",
       "    </tr>\n",
       "    <tr>\n",
       "      <th>2023-01-13 00:00:00+00:00</th>\n",
       "      <td>19924.9</td>\n",
       "      <td>19924.9</td>\n",
       "      <td>19924.9</td>\n",
       "      <td>19924.9</td>\n",
       "    </tr>\n",
       "    <tr>\n",
       "      <th>...</th>\n",
       "      <td>...</td>\n",
       "      <td>...</td>\n",
       "      <td>...</td>\n",
       "      <td>...</td>\n",
       "    </tr>\n",
       "    <tr>\n",
       "      <th>2025-01-26 00:00:00+00:00</th>\n",
       "      <td>102617.4</td>\n",
       "      <td>102617.4</td>\n",
       "      <td>102617.4</td>\n",
       "      <td>102617.4</td>\n",
       "    </tr>\n",
       "    <tr>\n",
       "      <th>2025-01-27 00:00:00+00:00</th>\n",
       "      <td>102083.3</td>\n",
       "      <td>102083.3</td>\n",
       "      <td>102083.3</td>\n",
       "      <td>102083.3</td>\n",
       "    </tr>\n",
       "    <tr>\n",
       "      <th>2025-01-28 00:00:00+00:00</th>\n",
       "      <td>101336.8</td>\n",
       "      <td>101336.8</td>\n",
       "      <td>101336.8</td>\n",
       "      <td>101336.8</td>\n",
       "    </tr>\n",
       "    <tr>\n",
       "      <th>2025-01-29 00:00:00+00:00</th>\n",
       "      <td>103736.1</td>\n",
       "      <td>103736.1</td>\n",
       "      <td>103736.1</td>\n",
       "      <td>103736.1</td>\n",
       "    </tr>\n",
       "    <tr>\n",
       "      <th>2025-01-30 00:00:00+00:00</th>\n",
       "      <td>105220.3</td>\n",
       "      <td>105220.3</td>\n",
       "      <td>105220.3</td>\n",
       "      <td>105220.3</td>\n",
       "    </tr>\n",
       "  </tbody>\n",
       "</table>\n",
       "<p>753 rows × 4 columns</p>\n",
       "</div>"
      ],
      "text/plain": [
       "custom_strategy_stretch                 0.5                              \n",
       "custom_strategy_long_term_ma_len        100                 200          \n",
       "custom_strategy_short_term_ma_len        20                  20          \n",
       "custom_strategy_adx_len                   5         6         5         6\n",
       "custom_strategy_atr_len                   3         3         3         3\n",
       "custom_strategy_symbol             BTC-USDT  BTC-USDT  BTC-USDT  BTC-USDT\n",
       "timestamp                                                                \n",
       "2023-01-09 00:00:00+00:00           17181.4   17181.4   17181.4   17181.4\n",
       "2023-01-10 00:00:00+00:00           17436.5   17436.5   17436.5   17436.5\n",
       "2023-01-11 00:00:00+00:00           17943.2   17943.2   17943.2   17943.2\n",
       "2023-01-12 00:00:00+00:00           18845.6   18845.6   18845.6   18845.6\n",
       "2023-01-13 00:00:00+00:00           19924.9   19924.9   19924.9   19924.9\n",
       "...                                     ...       ...       ...       ...\n",
       "2025-01-26 00:00:00+00:00          102617.4  102617.4  102617.4  102617.4\n",
       "2025-01-27 00:00:00+00:00          102083.3  102083.3  102083.3  102083.3\n",
       "2025-01-28 00:00:00+00:00          101336.8  101336.8  101336.8  101336.8\n",
       "2025-01-29 00:00:00+00:00          103736.1  103736.1  103736.1  103736.1\n",
       "2025-01-30 00:00:00+00:00          105220.3  105220.3  105220.3  105220.3\n",
       "\n",
       "[753 rows x 4 columns]"
      ]
     },
     "execution_count": 17,
     "metadata": {},
     "output_type": "execute_result"
    }
   ],
   "source": [
    "def copy_rename_close_series(df_original, df_indicator_signals):\n",
    "\n",
    "    def repeat_series_horizontally(series, target_shape):\n",
    "        return np.tile(series.values.reshape(-1, 1), target_shape[1])\n",
    "\n",
    "    # Assuming df and df_indicator_signals are already defined\n",
    "    nedded_copies = len(df_indicator_signals.columns)\n",
    "\n",
    "    # Repeat the 'close' series horizontally to match the shape of df_indicator_signals\n",
    "    df_dublicate_close = pd.DataFrame(repeat_series_horizontally(df_original['close'], df_indicator_signals.shape), index=df_original.index)\n",
    "\n",
    "    # Rename columns if shapes match\n",
    "    if df_indicator_signals.shape == df_dublicate_close.shape:\n",
    "        df_dublicate_close.columns = df_indicator_signals.columns\n",
    "        print(\"Columns have been renamed\")\n",
    "    else:\n",
    "        print(\"The DataFrames do not have the same shape.\")\n",
    "    \n",
    "    \n",
    "    return df_dublicate_close\n",
    "\n",
    "    \n",
    "\n",
    "\n",
    "df_dublicate_close = copy_rename_close_series(df, df_indicator_signals)\n",
    "# how to access the columns ----> e.g. df_dublicate_close[(0.5, 100, 20, 5, 3,'BTC-USDT')]\n",
    "df_dublicate_close\n",
    "\n"
   ]
  },
  {
   "cell_type": "code",
   "execution_count": 7,
   "metadata": {},
   "outputs": [],
   "source": [
    "import numpy as np\n",
    "import vectorbt as vbt\n",
    "from numba import njit\n",
    "import talib\n",
    "from vectorbt.portfolio.enums import SizeType, Direction\n",
    "\n",
    "# Create arrays to store the data we want to plot\n",
    "@njit\n",
    "def order_func_nb(c, high, low, open_, entries, ma_short, entry_price):  # Added entry_price parameter\n",
    "    close_price = c.close[c.i, c.col]\n",
    "    close_minus_1bar = c.close[c.i-1, c.col]\n",
    "    \n",
    "    # if in position \n",
    "    if c.position_now > 0:\n",
    "        if (close_minus_1bar <= ma_short[c.i-1]) or (close_price > entry_price[c.i]):\n",
    "            value = vbt.portfolio.nb.order_nb(\n",
    "                size=-np.inf,\n",
    "                price=open_[c.i],\n",
    "                size_type=SizeType.Amount,\n",
    "                direction=Direction.LongOnly,\n",
    "                fees=0.001,\n",
    "                slippage=0.002)\n",
    "            # Store exit data\n",
    "            return value\n",
    "\n",
    "    # if not in position search for position to enter\n",
    "    elif (c.position_now == 0) and (c.i != 0):\n",
    "        if (entries[c.i-1,c.col] > 0) and (low[c.i] < entries[c.i-1,c.col]):\n",
    "            entry_price[:] = np.nan  # Reset entry price array\n",
    "            entry_price[:] = entries[c.i-1,c.col]  # Update entry price array\n",
    "\n",
    "            order = vbt.portfolio.nb.order_nb(\n",
    "                size=1,\n",
    "                price=entry_price[c.i],\n",
    "                size_type=SizeType.Percent,\n",
    "                direction=Direction.LongOnly,\n",
    "                fees=0.001,\n",
    "                slippage=0.002,\n",
    "                allow_partial=False,\n",
    "                raise_reject=True\n",
    "            )\n",
    "            return order\n",
    "\n",
    "    return vbt.portfolio.enums.NoOrder\n",
    "\n",
    "# candle data\n",
    "close = df_dublicate_close\n",
    "open_ = df['open'].to_numpy().flatten()\n",
    "high = df['high'].to_numpy().flatten()\n",
    "low = df['low'].to_numpy().flatten()\n",
    "\n",
    "# indicator data\n",
    "entries = df_indicator_signals.to_numpy()\n",
    "ma_short = indicator.short_term_ma.to_numpy().flatten()\n",
    "\n",
    "# Create arrays to store data\n",
    "entry_price = np.full(close.shape[0], np.nan)  # Initialize entry price array\n",
    "\n",
    "# Create portfolio with trade_data\n",
    "pf = vbt.Portfolio.from_order_func(\n",
    "    close,\n",
    "    order_func_nb,\n",
    "    high,\n",
    "    low,\n",
    "    open_,\n",
    "    entries,\n",
    "    ma_short,\n",
    "    entry_price,  # Pass entry_price array to the function\n",
    "    init_cash=500\n",
    ")"
   ]
  },
  {
   "cell_type": "code",
   "execution_count": 8,
   "metadata": {},
   "outputs": [
    {
     "data": {
      "text/html": [
       "<div>\n",
       "<style scoped>\n",
       "    .dataframe tbody tr th:only-of-type {\n",
       "        vertical-align: middle;\n",
       "    }\n",
       "\n",
       "    .dataframe tbody tr th {\n",
       "        vertical-align: top;\n",
       "    }\n",
       "\n",
       "    .dataframe thead th {\n",
       "        text-align: right;\n",
       "    }\n",
       "</style>\n",
       "<table border=\"1\" class=\"dataframe\">\n",
       "  <thead>\n",
       "    <tr style=\"text-align: right;\">\n",
       "      <th></th>\n",
       "      <th></th>\n",
       "      <th></th>\n",
       "      <th></th>\n",
       "      <th></th>\n",
       "      <th></th>\n",
       "      <th>total_return</th>\n",
       "      <th>max_drawdown</th>\n",
       "    </tr>\n",
       "    <tr>\n",
       "      <th>custom_strategy_stretch</th>\n",
       "      <th>custom_strategy_long_term_ma_len</th>\n",
       "      <th>custom_strategy_short_term_ma_len</th>\n",
       "      <th>custom_strategy_adx_len</th>\n",
       "      <th>custom_strategy_atr_len</th>\n",
       "      <th>custom_strategy_symbol</th>\n",
       "      <th></th>\n",
       "      <th></th>\n",
       "    </tr>\n",
       "  </thead>\n",
       "  <tbody>\n",
       "    <tr>\n",
       "      <th rowspan=\"4\" valign=\"top\">0.5</th>\n",
       "      <th rowspan=\"2\" valign=\"top\">200</th>\n",
       "      <th rowspan=\"2\" valign=\"top\">20</th>\n",
       "      <th>5</th>\n",
       "      <th>3</th>\n",
       "      <th>BTC-USDT</th>\n",
       "      <td>-0.206312</td>\n",
       "      <td>-0.263144</td>\n",
       "    </tr>\n",
       "    <tr>\n",
       "      <th>6</th>\n",
       "      <th>3</th>\n",
       "      <th>BTC-USDT</th>\n",
       "      <td>-0.216011</td>\n",
       "      <td>-0.272148</td>\n",
       "    </tr>\n",
       "    <tr>\n",
       "      <th rowspan=\"2\" valign=\"top\">100</th>\n",
       "      <th rowspan=\"2\" valign=\"top\">20</th>\n",
       "      <th>5</th>\n",
       "      <th>3</th>\n",
       "      <th>BTC-USDT</th>\n",
       "      <td>-0.218686</td>\n",
       "      <td>-0.274631</td>\n",
       "    </tr>\n",
       "    <tr>\n",
       "      <th>6</th>\n",
       "      <th>3</th>\n",
       "      <th>BTC-USDT</th>\n",
       "      <td>-0.228233</td>\n",
       "      <td>-0.283495</td>\n",
       "    </tr>\n",
       "  </tbody>\n",
       "</table>\n",
       "</div>"
      ],
      "text/plain": [
       "                                                                                                                                                                   total_return  \\\n",
       "custom_strategy_stretch custom_strategy_long_term_ma_len custom_strategy_short_term_ma_len custom_strategy_adx_len custom_strategy_atr_len custom_strategy_symbol                 \n",
       "0.5                     200                              20                                5                       3                       BTC-USDT                   -0.206312   \n",
       "                                                                                           6                       3                       BTC-USDT                   -0.216011   \n",
       "                        100                              20                                5                       3                       BTC-USDT                   -0.218686   \n",
       "                                                                                           6                       3                       BTC-USDT                   -0.228233   \n",
       "\n",
       "                                                                                                                                                                   max_drawdown  \n",
       "custom_strategy_stretch custom_strategy_long_term_ma_len custom_strategy_short_term_ma_len custom_strategy_adx_len custom_strategy_atr_len custom_strategy_symbol                \n",
       "0.5                     200                              20                                5                       3                       BTC-USDT                   -0.263144  \n",
       "                                                                                           6                       3                       BTC-USDT                   -0.272148  \n",
       "                        100                              20                                5                       3                       BTC-USDT                   -0.274631  \n",
       "                                                                                           6                       3                       BTC-USDT                   -0.283495  "
      ]
     },
     "execution_count": 8,
     "metadata": {},
     "output_type": "execute_result"
    }
   ],
   "source": [
    "total_return = pf.total_return()\n",
    "max_dd = pf.max_drawdown()\n",
    "total_return\n",
    "return_and_maxdd = pd.concat([total_return, max_dd], axis=1)\n",
    "return_and_maxdd.sort_values(by='total_return', ascending=False).head(50)"
   ]
  },
  {
   "cell_type": "code",
   "execution_count": 9,
   "metadata": {},
   "outputs": [
    {
     "data": {
      "text/html": [
       "<div>\n",
       "<style scoped>\n",
       "    .dataframe tbody tr th:only-of-type {\n",
       "        vertical-align: middle;\n",
       "    }\n",
       "\n",
       "    .dataframe tbody tr th {\n",
       "        vertical-align: top;\n",
       "    }\n",
       "\n",
       "    .dataframe thead th {\n",
       "        text-align: right;\n",
       "    }\n",
       "</style>\n",
       "<table border=\"1\" class=\"dataframe\">\n",
       "  <thead>\n",
       "    <tr style=\"text-align: right;\">\n",
       "      <th></th>\n",
       "      <th>Exit Trade Id</th>\n",
       "      <th>Column</th>\n",
       "      <th>Size</th>\n",
       "      <th>Entry Timestamp</th>\n",
       "      <th>Avg Entry Price</th>\n",
       "      <th>Entry Fees</th>\n",
       "      <th>Exit Timestamp</th>\n",
       "      <th>Avg Exit Price</th>\n",
       "      <th>Exit Fees</th>\n",
       "      <th>PnL</th>\n",
       "      <th>Return</th>\n",
       "      <th>Direction</th>\n",
       "      <th>Status</th>\n",
       "      <th>Position Id</th>\n",
       "    </tr>\n",
       "  </thead>\n",
       "  <tbody>\n",
       "    <tr>\n",
       "      <th>0</th>\n",
       "      <td>0</td>\n",
       "      <td>(0.5, 100, 20, 5, 3, BTC-USDT)</td>\n",
       "      <td>0.018197</td>\n",
       "      <td>2023-04-21 00:00:00+00:00</td>\n",
       "      <td>27450.076199</td>\n",
       "      <td>0.499500</td>\n",
       "      <td>2023-04-22 00:00:00+00:00</td>\n",
       "      <td>27206.0788</td>\n",
       "      <td>0.495061</td>\n",
       "      <td>-5.434506</td>\n",
       "      <td>-0.010880</td>\n",
       "      <td>Long</td>\n",
       "      <td>Closed</td>\n",
       "      <td>0</td>\n",
       "    </tr>\n",
       "    <tr>\n",
       "      <th>1</th>\n",
       "      <td>1</td>\n",
       "      <td>(0.5, 100, 20, 5, 3, BTC-USDT)</td>\n",
       "      <td>0.017238</td>\n",
       "      <td>2023-05-01 00:00:00+00:00</td>\n",
       "      <td>28662.326916</td>\n",
       "      <td>0.494071</td>\n",
       "      <td>2023-05-02 00:00:00+00:00</td>\n",
       "      <td>28010.2672</td>\n",
       "      <td>0.482831</td>\n",
       "      <td>-12.216886</td>\n",
       "      <td>-0.024727</td>\n",
       "      <td>Long</td>\n",
       "      <td>Closed</td>\n",
       "      <td>1</td>\n",
       "    </tr>\n",
       "    <tr>\n",
       "      <th>2</th>\n",
       "      <td>2</td>\n",
       "      <td>(0.5, 100, 20, 5, 3, BTC-USDT)</td>\n",
       "      <td>0.018365</td>\n",
       "      <td>2023-05-12 00:00:00+00:00</td>\n",
       "      <td>26237.650533</td>\n",
       "      <td>0.481867</td>\n",
       "      <td>2023-05-13 00:00:00+00:00</td>\n",
       "      <td>26743.2064</td>\n",
       "      <td>0.491152</td>\n",
       "      <td>8.311752</td>\n",
       "      <td>0.017249</td>\n",
       "      <td>Long</td>\n",
       "      <td>Closed</td>\n",
       "      <td>2</td>\n",
       "    </tr>\n",
       "    <tr>\n",
       "      <th>3</th>\n",
       "      <td>3</td>\n",
       "      <td>(0.5, 100, 20, 5, 3, BTC-USDT)</td>\n",
       "      <td>0.017999</td>\n",
       "      <td>2023-05-31 00:00:00+00:00</td>\n",
       "      <td>27233.056117</td>\n",
       "      <td>0.490170</td>\n",
       "      <td>2023-06-02 00:00:00+00:00</td>\n",
       "      <td>26760.3720</td>\n",
       "      <td>0.481662</td>\n",
       "      <td>-9.479716</td>\n",
       "      <td>-0.019340</td>\n",
       "      <td>Long</td>\n",
       "      <td>Closed</td>\n",
       "      <td>3</td>\n",
       "    </tr>\n",
       "    <tr>\n",
       "      <th>4</th>\n",
       "      <td>4</td>\n",
       "      <td>(0.5, 100, 20, 5, 3, BTC-USDT)</td>\n",
       "      <td>0.015866</td>\n",
       "      <td>2023-07-05 00:00:00+00:00</td>\n",
       "      <td>30297.088121</td>\n",
       "      <td>0.480700</td>\n",
       "      <td>2023-07-07 00:00:00+00:00</td>\n",
       "      <td>29835.2100</td>\n",
       "      <td>0.473372</td>\n",
       "      <td>-8.282327</td>\n",
       "      <td>-0.017230</td>\n",
       "      <td>Long</td>\n",
       "      <td>Closed</td>\n",
       "      <td>4</td>\n",
       "    </tr>\n",
       "    <tr>\n",
       "      <th>...</th>\n",
       "      <td>...</td>\n",
       "      <td>...</td>\n",
       "      <td>...</td>\n",
       "      <td>...</td>\n",
       "      <td>...</td>\n",
       "      <td>...</td>\n",
       "      <td>...</td>\n",
       "      <td>...</td>\n",
       "      <td>...</td>\n",
       "      <td>...</td>\n",
       "      <td>...</td>\n",
       "      <td>...</td>\n",
       "      <td>...</td>\n",
       "      <td>...</td>\n",
       "    </tr>\n",
       "    <tr>\n",
       "      <th>63</th>\n",
       "      <td>63</td>\n",
       "      <td>(0.5, 200, 20, 6, 3, BTC-USDT)</td>\n",
       "      <td>0.006855</td>\n",
       "      <td>2024-07-25 00:00:00+00:00</td>\n",
       "      <td>64131.357422</td>\n",
       "      <td>0.439624</td>\n",
       "      <td>2024-07-26 00:00:00+00:00</td>\n",
       "      <td>65664.5078</td>\n",
       "      <td>0.450134</td>\n",
       "      <td>9.620071</td>\n",
       "      <td>0.021883</td>\n",
       "      <td>Long</td>\n",
       "      <td>Closed</td>\n",
       "      <td>63</td>\n",
       "    </tr>\n",
       "    <tr>\n",
       "      <th>64</th>\n",
       "      <td>64</td>\n",
       "      <td>(0.5, 200, 20, 6, 3, BTC-USDT)</td>\n",
       "      <td>0.007076</td>\n",
       "      <td>2024-08-01 00:00:00+00:00</td>\n",
       "      <td>63488.813613</td>\n",
       "      <td>0.449234</td>\n",
       "      <td>2024-08-23 00:00:00+00:00</td>\n",
       "      <td>60260.8368</td>\n",
       "      <td>0.426394</td>\n",
       "      <td>-23.716158</td>\n",
       "      <td>-0.052792</td>\n",
       "      <td>Long</td>\n",
       "      <td>Closed</td>\n",
       "      <td>64</td>\n",
       "    </tr>\n",
       "    <tr>\n",
       "      <th>65</th>\n",
       "      <td>65</td>\n",
       "      <td>(0.5, 200, 20, 6, 3, BTC-USDT)</td>\n",
       "      <td>0.006863</td>\n",
       "      <td>2024-08-27 00:00:00+00:00</td>\n",
       "      <td>62002.334014</td>\n",
       "      <td>0.425542</td>\n",
       "      <td>2024-09-19 00:00:00+00:00</td>\n",
       "      <td>61631.3902</td>\n",
       "      <td>0.422996</td>\n",
       "      <td>-3.394444</td>\n",
       "      <td>-0.007977</td>\n",
       "      <td>Long</td>\n",
       "      <td>Closed</td>\n",
       "      <td>65</td>\n",
       "    </tr>\n",
       "    <tr>\n",
       "      <th>66</th>\n",
       "      <td>66</td>\n",
       "      <td>(0.5, 200, 20, 6, 3, BTC-USDT)</td>\n",
       "      <td>0.006506</td>\n",
       "      <td>2024-09-30 00:00:00+00:00</td>\n",
       "      <td>64888.459332</td>\n",
       "      <td>0.422151</td>\n",
       "      <td>2024-10-14 00:00:00+00:00</td>\n",
       "      <td>62746.6552</td>\n",
       "      <td>0.408217</td>\n",
       "      <td>-14.764501</td>\n",
       "      <td>-0.034974</td>\n",
       "      <td>Long</td>\n",
       "      <td>Closed</td>\n",
       "      <td>66</td>\n",
       "    </tr>\n",
       "    <tr>\n",
       "      <th>67</th>\n",
       "      <td>67</td>\n",
       "      <td>(0.5, 200, 20, 6, 3, BTC-USDT)</td>\n",
       "      <td>0.003932</td>\n",
       "      <td>2024-12-18 00:00:00+00:00</td>\n",
       "      <td>103604.534828</td>\n",
       "      <td>0.407401</td>\n",
       "      <td>2025-01-17 00:00:00+00:00</td>\n",
       "      <td>99786.3274</td>\n",
       "      <td>0.392387</td>\n",
       "      <td>-15.814014</td>\n",
       "      <td>-0.038817</td>\n",
       "      <td>Long</td>\n",
       "      <td>Closed</td>\n",
       "      <td>67</td>\n",
       "    </tr>\n",
       "  </tbody>\n",
       "</table>\n",
       "<p>68 rows × 14 columns</p>\n",
       "</div>"
      ],
      "text/plain": [
       "    Exit Trade Id                          Column      Size  \\\n",
       "0               0  (0.5, 100, 20, 5, 3, BTC-USDT)  0.018197   \n",
       "1               1  (0.5, 100, 20, 5, 3, BTC-USDT)  0.017238   \n",
       "2               2  (0.5, 100, 20, 5, 3, BTC-USDT)  0.018365   \n",
       "3               3  (0.5, 100, 20, 5, 3, BTC-USDT)  0.017999   \n",
       "4               4  (0.5, 100, 20, 5, 3, BTC-USDT)  0.015866   \n",
       "..            ...                             ...       ...   \n",
       "63             63  (0.5, 200, 20, 6, 3, BTC-USDT)  0.006855   \n",
       "64             64  (0.5, 200, 20, 6, 3, BTC-USDT)  0.007076   \n",
       "65             65  (0.5, 200, 20, 6, 3, BTC-USDT)  0.006863   \n",
       "66             66  (0.5, 200, 20, 6, 3, BTC-USDT)  0.006506   \n",
       "67             67  (0.5, 200, 20, 6, 3, BTC-USDT)  0.003932   \n",
       "\n",
       "             Entry Timestamp  Avg Entry Price  Entry Fees  \\\n",
       "0  2023-04-21 00:00:00+00:00     27450.076199    0.499500   \n",
       "1  2023-05-01 00:00:00+00:00     28662.326916    0.494071   \n",
       "2  2023-05-12 00:00:00+00:00     26237.650533    0.481867   \n",
       "3  2023-05-31 00:00:00+00:00     27233.056117    0.490170   \n",
       "4  2023-07-05 00:00:00+00:00     30297.088121    0.480700   \n",
       "..                       ...              ...         ...   \n",
       "63 2024-07-25 00:00:00+00:00     64131.357422    0.439624   \n",
       "64 2024-08-01 00:00:00+00:00     63488.813613    0.449234   \n",
       "65 2024-08-27 00:00:00+00:00     62002.334014    0.425542   \n",
       "66 2024-09-30 00:00:00+00:00     64888.459332    0.422151   \n",
       "67 2024-12-18 00:00:00+00:00    103604.534828    0.407401   \n",
       "\n",
       "              Exit Timestamp  Avg Exit Price  Exit Fees        PnL    Return  \\\n",
       "0  2023-04-22 00:00:00+00:00      27206.0788   0.495061  -5.434506 -0.010880   \n",
       "1  2023-05-02 00:00:00+00:00      28010.2672   0.482831 -12.216886 -0.024727   \n",
       "2  2023-05-13 00:00:00+00:00      26743.2064   0.491152   8.311752  0.017249   \n",
       "3  2023-06-02 00:00:00+00:00      26760.3720   0.481662  -9.479716 -0.019340   \n",
       "4  2023-07-07 00:00:00+00:00      29835.2100   0.473372  -8.282327 -0.017230   \n",
       "..                       ...             ...        ...        ...       ...   \n",
       "63 2024-07-26 00:00:00+00:00      65664.5078   0.450134   9.620071  0.021883   \n",
       "64 2024-08-23 00:00:00+00:00      60260.8368   0.426394 -23.716158 -0.052792   \n",
       "65 2024-09-19 00:00:00+00:00      61631.3902   0.422996  -3.394444 -0.007977   \n",
       "66 2024-10-14 00:00:00+00:00      62746.6552   0.408217 -14.764501 -0.034974   \n",
       "67 2025-01-17 00:00:00+00:00      99786.3274   0.392387 -15.814014 -0.038817   \n",
       "\n",
       "   Direction  Status  Position Id  \n",
       "0       Long  Closed            0  \n",
       "1       Long  Closed            1  \n",
       "2       Long  Closed            2  \n",
       "3       Long  Closed            3  \n",
       "4       Long  Closed            4  \n",
       "..       ...     ...          ...  \n",
       "63      Long  Closed           63  \n",
       "64      Long  Closed           64  \n",
       "65      Long  Closed           65  \n",
       "66      Long  Closed           66  \n",
       "67      Long  Closed           67  \n",
       "\n",
       "[68 rows x 14 columns]"
      ]
     },
     "execution_count": 9,
     "metadata": {},
     "output_type": "execute_result"
    }
   ],
   "source": [
    "trades = pf.trades.records_readable\n",
    "trades\n",
    "# combined_df = df.join(trades.set_index('Entry Timestamp'), how='outer')  # Join on index\n",
    "# combined_df\n"
   ]
  },
  {
   "cell_type": "code",
   "execution_count": 10,
   "metadata": {},
   "outputs": [
    {
     "data": {
      "application/vnd.plotly.v1+json": {
       "config": {
        "plotlyServerURL": "https://plot.ly"
       },
       "data": [
        {
         "close": [
          17181.4,
          17436.5,
          17943.2,
          18845.6,
          19924.9,
          20948,
          20874.3,
          21184.3,
          21131.7,
          20676.7,
          21073.5,
          22668.7,
          22780.9,
          22707.9,
          22913.5,
          22629,
          23058.3,
          23006.3,
          23071.9,
          23026.5,
          23741.8,
          22827.4,
          23130.1,
          23725.4,
          23491.2,
          23434,
          23324.5,
          22928.3,
          22759.9,
          23244.8,
          22959.8,
          21797.1,
          21625.1,
          21861.8,
          21779.6,
          21773.1,
          22199.1,
          24327.7,
          23515.5,
          24573,
          24633.4,
          24270,
          24839.9,
          24448.8,
          24182.8,
          23936.3,
          23187,
          23160.3,
          23558.3,
          23491,
          23138.1,
          23630.5,
          23460.7,
          22352.4,
          22346.5,
          22427.5,
          22406,
          22199.3,
          21702.4,
          20361.1,
          20151.9,
          20465.2,
          22001.4,
          24099.9,
          24676.6,
          24281.8,
          25001,
          27390.8,
          26907.7,
          27967.4,
          27722.4,
          28107.9,
          27253.9,
          28293.4,
          27452.2,
          27462.8,
          27970.1,
          27125.5,
          27261.8,
          28348.2,
          28027.5,
          28467.2,
          28453.9,
          28173.5,
          27800.9,
          28163.7,
          28171.5,
          28030.3,
          27906,
          27939.2,
          28320.8,
          29636.6,
          30200.3,
          29889.4,
          30372.7,
          30463.2,
          30298.2,
          30304.1,
          29426.7,
          30380.1,
          28803.8,
          28237.1,
          27260.6,
          27813.8,
          27587.4,
          27506,
          28297,
          28415.1,
          29473.9,
          29309.9,
          29226,
          29232,
          28066.3,
          28668,
          29026.6,
          28837.9,
          29504.6,
          28845.9,
          28429.3,
          27666.9,
          27629.5,
          27593,
          26969.8,
          26796,
          26774.9,
          26918.7,
          27167.2,
          27035.9,
          27403.5,
          26819,
          26881.4,
          27104.8,
          26744.7,
          26846.1,
          27219.4,
          26328.2,
          26474.7,
          26707.3,
          26855.4,
          28067.3,
          27736.3,
          27693.9,
          27211.6,
          26814.1,
          27243.5,
          27069.9,
          27121.3,
          25725.7,
          27229.8,
          26342.3,
          26498.9,
          26478.1,
          25841,
          25925.3,
          25906.4,
          25936,
          25128.7,
          25597.4,
          26348,
          26518,
          26339.9,
          26843.1,
          28305.3,
          29991.1,
          29886.9,
          30690.6,
          30532,
          30464.3,
          30271.4,
          30692.4,
          30079,
          30448.8,
          30475.1,
          30585.5,
          30615.1,
          31156.5,
          30765.9,
          30504.3,
          29895,
          30343.4,
          30288.3,
          30163.3,
          30413.8,
          30621.2,
          30380.4,
          31451.9,
          30313.3,
          30288.2,
          30231,
          30141.2,
          29859,
          29908.6,
          29800.7,
          29898.9,
          29789.4,
          30083.1,
          29180.1,
          29227.8,
          29352.3,
          29221.3,
          29314.8,
          29354.7,
          29278.3,
          29234.2,
          29708.9,
          29182.5,
          29194.1,
          29113.9,
          29074,
          29091.3,
          29214.3,
          29772.7,
          29581.7,
          29453.4,
          29426.6,
          29430.8,
          29307.1,
          29433,
          29202.2,
          28727.3,
          26624.3,
          26053.4,
          26101,
          26188.8,
          26124.7,
          26054.4,
          26431.6,
          26180,
          26058.2,
          26019.7,
          26101.4,
          26120.4,
          27715.8,
          27301,
          25940.4,
          25803.7,
          25869.2,
          25972.5,
          25826.7,
          25792.4,
          25759.5,
          26253.2,
          25910.5,
          25901.1,
          25841.1,
          25162.6,
          25838.3,
          26220.8,
          26521.7,
          26601.2,
          26558.2,
          26525.8,
          26764.1,
          27204.2,
          27120.2,
          26567.1,
          26577.1,
          26574.9,
          26253.7,
          26300.9,
          26221.3,
          26368.8,
          27019.2,
          26909.8,
          26962.8,
          27992.5,
          27490.8,
          27428,
          27782.6,
          27408.2,
          27928.6,
          27954,
          27917.8,
          27589.6,
          27387,
          26878.6,
          26760.6,
          26862.5,
          26856.2,
          27153.9,
          28501,
          28396.2,
          28321,
          28715.1,
          29667.9,
          29907.5,
          29989.5,
          33071.9,
          33927,
          34494,
          34148.9,
          33891.3,
          34083.5,
          34523.5,
          34473.5,
          34639.5,
          35421.7,
          34935.9,
          34716.1,
          35062.2,
          35013,
          35040,
          35396.3,
          35626.3,
          36700.3,
          37302.9,
          37133.7,
          37063.5,
          36462.7,
          35551.4,
          37854.6,
          36164.1,
          36609.2,
          36568.1,
          37351.5,
          37447.1,
          35744,
          37406.7,
          37290.5,
          37710.4,
          37775.6,
          37448.7,
          37242.6,
          37818.9,
          37852.9,
          37719.7,
          38680.8,
          39453,
          39972.5,
          41985.1,
          44071.2,
          43763.4,
          43277.7,
          44167.9,
          43712.7,
          43784,
          41250.3,
          41490,
          42868.7,
          43022.8,
          41938.3,
          42274.7,
          41373.8,
          42655.8,
          42268.6,
          43666,
          43858.2,
          43970,
          43702.1,
          42999.1,
          43572.6,
          42517.7,
          43433.6,
          42564,
          42068.8,
          42145.4,
          42277.2,
          44175.2,
          44940.6,
          42840.9,
          44149.2,
          44147.9,
          43970.8,
          43926.6,
          46949.2,
          46116.8,
          46644.8,
          46340.1,
          42780.2,
          42842.7,
          41727.2,
          42523.6,
          43136.8,
          42773.1,
          41321.5,
          41655.5,
          41693.4,
          41579.8,
          39573,
          39896.4,
          40082.1,
          39966,
          41815.8,
          42119,
          42037.9,
          43299.8,
          42943.3,
          42585.1,
          43082.2,
          43199.1,
          43006.1,
          42582.9,
          42706.1,
          43096,
          44344,
          45288.6,
          47135.7,
          47750,
          48297.7,
          49923.9,
          49694.4,
          51792,
          51880.4,
          52121.1,
          51644.1,
          52133,
          51777.1,
          52263.8,
          51854.3,
          51289.6,
          50746.2,
          51562.1,
          51725.9,
          54472.1,
          57031.8,
          62429.7,
          61143.2,
          62381.7,
          61982,
          63106.1,
          68248.5,
          63714.1,
          66074.1,
          66820.2,
          68124.1,
          68313,
          68953.9,
          72085.5,
          71450,
          73078.1,
          71387.9,
          69492.1,
          65308.2,
          68395.8,
          67615.9,
          61931.8,
          67841.1,
          65504.1,
          63790,
          63990.7,
          67215.7,
          69868.9,
          69989.7,
          69468,
          70794.3,
          69846.1,
          69570.9,
          71264.5,
          69653,
          65482.9,
          65959.2,
          68485.2,
          67822.4,
          68886,
          69350,
          71626.4,
          69150.1,
          70631.8,
          70005.6,
          67115.6,
          63916.5,
          65661.1,
          63416.7,
          63793.2,
          61273.8,
          63468.3,
          63813.8,
          64939.3,
          64941.3,
          66810.1,
          66415.6,
          64290.6,
          64501.2,
          63768.2,
          63452.6,
          63122.9,
          63859.8,
          60670.4,
          58346.5,
          59057,
          62878.1,
          63890.6,
          64014.5,
          63165.3,
          62314.5,
          61187.2,
          63076.6,
          60799.5,
          60827.1,
          61484.1,
          62938.2,
          61577.2,
          66210.8,
          65237.7,
          67019.1,
          66914,
          66269.4,
          71401.2,
          70144.9,
          69168,
          67971.1,
          68566,
          69294.6,
          68503.5,
          69429.5,
          68405.1,
          67654,
          68353,
          67536.4,
          67761.7,
          67768.4,
          68808.7,
          70537.5,
          71105.2,
          70798.4,
          69342,
          69308.5,
          69640.3,
          69537.2,
          67308.4,
          68268.1,
          66769.6,
          66042.5,
          66226.7,
          66679,
          66494.5,
          65179.1,
          64970.3,
          64878.8,
          64150.9,
          64265.7,
          63208,
          60292.5,
          61803.2,
          60856.8,
          61702,
          60439.2,
          60984.1,
          62769.4,
          62899.8,
          62136.8,
          60213.3,
          57055.6,
          56629.6,
          58237.3,
          55853.2,
          56710.6,
          58036,
          57723,
          57331.2,
          57889.5,
          59206.2,
          60789.2,
          64718.6,
          65048.6,
          64082.9,
          63988.1,
          66653.4,
          67122.4,
          68171,
          67536.9,
          65935.8,
          65386.1,
          65796,
          67912.3,
          67915.7,
          68246.9,
          66782.6,
          66189.8,
          64633.5,
          65350.3,
          61493.8,
          60716.3,
          58157.9,
          54009.6,
          56039.6,
          55127.6,
          61691.7,
          60831.4,
          60922.9,
          58710.9,
          59347.4,
          60586.7,
          58679,
          57540.1,
          58874.9,
          59495.9,
          58428.1,
          59432.3,
          59012.1,
          61148,
          60381.1,
          64040.9,
          64151.3,
          64220.6,
          62830.1,
          59413.9,
          59030.3,
          59352,
          59115,
          58972.6,
          57305.7,
          59134.6,
          57486,
          57974.6,
          56179.5,
          53960.3,
          54156,
          54873.1,
          57042,
          57632.5,
          57335.9,
          58127.9,
          60493.9,
          59988,
          59132,
          58215,
          60307.7,
          61753.5,
          62950.4,
          63205.5,
          63343.5,
          63575.9,
          63331.4,
          64269.7,
          63154.4,
          65165.5,
          65770.8,
          65841,
          65598,
          63330,
          60816,
          60651.4,
          60750,
          62086.5,
          62064.1,
          62819.4,
          62223.2,
          62163.4,
          60638.5,
          60319.5,
          62533.9,
          63204.1,
          62872.3,
          66087,
          67071.6,
          67618.2,
          67424.5,
          68426.7,
          68378,
          69034.5,
          67375.5,
          67419.8,
          66665,
          68200,
          66696.8,
          67094.7,
          68021.8,
          69961.4,
          72735.5,
          72345.6,
          70298.2,
          69495.2,
          69376.8,
          68771.5,
          67857.2,
          69374.9,
          75581.7,
          75865.4,
          76506.9,
          76684.1,
          80359.5,
          88637.1,
          87936.9,
          90375.4,
          87322.4,
          91042.3,
          90573.2,
          89854.2,
          90465.7,
          92292.1,
          94285,
          98317,
          98891.4,
          97684.1,
          97891.9,
          92999,
          91958.3,
          95854.3,
          95642.3,
          97458,
          96395.3,
          97185.7,
          95826.8,
          95845.3,
          98618.3,
          96927.3,
          99729.4,
          99832.6,
          101106.5,
          97272.9,
          96582.1,
          101110.4,
          100002.9,
          101413.2,
          101418.8,
          104469.1,
          106060.3,
          106149.9,
          100202.9,
          97456.6,
          97799.9,
          97280.2,
          95186.2,
          94885.9,
          98661.7,
          99434.8,
          95785.8,
          94286.1,
          95306.7,
          93739.7,
          92796.2,
          93574.3,
          94584.1,
          96983.8,
          98173.9,
          98215.4,
          98360.8,
          102224.3,
          96959.2,
          95056.8,
          92548.5,
          94721.4,
          94606.5,
          94539.8,
          94525.7,
          96565.3,
          100495.6,
          99986.3,
          104076.3,
          104550.6,
          101317.1,
          102265,
          106140.2,
          103704,
          103907,
          104857.2,
          104740.1,
          102617.4,
          102083.3,
          101336.8,
          103736.1,
          105220.3
         ],
         "high": [
          17394.6,
          17495.2,
          17999,
          19102.1,
          19994,
          21325,
          21046.8,
          21444.8,
          21584.7,
          21639.2,
          21199.2,
          22748.2,
          23369.9,
          23071.8,
          23175,
          23152.9,
          23819.8,
          23283,
          23500,
          23182.6,
          23954.9,
          23796.4,
          23326.9,
          23818,
          24264,
          23714.2,
          23585.9,
          23433.5,
          23158.4,
          23345.7,
          23454.7,
          23009.4,
          21934.9,
          21899.4,
          22085,
          21894,
          22315,
          24377.4,
          25253,
          25016.5,
          24875.3,
          25182.7,
          25111,
          25248,
          24474.9,
          24594,
          24133.2,
          23215,
          23684.3,
          23897.8,
          23595,
          24000,
          23796.7,
          23471.7,
          22406.4,
          22658,
          22599.9,
          22561.4,
          22282,
          21831.1,
          20361.2,
          20679.9,
          22100,
          24520,
          26389.6,
          25162,
          25162,
          27750.2,
          27720.9,
          28387.7,
          28480.8,
          28434.6,
          28861.7,
          28765.9,
          28499,
          27789.9,
          28199.9,
          28023.5,
          27500,
          28648,
          29185.1,
          28657.4,
          28824.7,
          28526,
          28498,
          28445.5,
          28772,
          28180,
          28101.8,
          28152.6,
          28531.4,
          29764,
          30554.8,
          30480,
          30580,
          31020,
          30594.9,
          30548,
          30315.1,
          30482.7,
          30413.8,
          29091.4,
          28372.9,
          27879.2,
          27813.9,
          28000,
          28390.4,
          30020.9,
          29892,
          29594,
          29443.3,
          29967.7,
          29337,
          28881.3,
          29260,
          29380,
          29671.8,
          29821.7,
          29139.3,
          28631.3,
          27816.5,
          28310.1,
          27628.7,
          27091.5,
          27062.4,
          27197,
          27659,
          27296.2,
          27500,
          27484,
          27172.8,
          27146.8,
          27279.4,
          27095.1,
          27480,
          27219.4,
          26626.1,
          26930.8,
          26885.7,
          28250,
          28449,
          28037.9,
          27834,
          27352.7,
          27296.9,
          27328.8,
          27465,
          27126.4,
          27356,
          27387.8,
          26812.3,
          26777.8,
          26532.3,
          26200,
          26100,
          26426.4,
          26096.2,
          25760.3,
          26515.2,
          26832.9,
          26700,
          27070,
          28400,
          30800,
          30500,
          31424.5,
          30795.6,
          31042.6,
          30663.8,
          31000,
          30707.8,
          30839.4,
          31282.4,
          30663.9,
          30788,
          31378.3,
          31327.6,
          30880,
          31519.9,
          30448,
          30386.2,
          30450,
          31044.5,
          30813.3,
          30988.5,
          31819.9,
          31629,
          30390.4,
          30433.8,
          30337.1,
          30237.6,
          30184,
          30415.1,
          30059.6,
          29997.5,
          30349.8,
          30096.6,
          29372.7,
          29678.2,
          29568.9,
          29539,
          29390,
          29449.4,
          29531,
          29736.6,
          30042.6,
          29426.2,
          29328.3,
          29151,
          29204.8,
          29278.2,
          30228.7,
          30135.8,
          29737.8,
          29565.4,
          29480.4,
          29472.5,
          29692.6,
          29500,
          29257,
          28786,
          26830.8,
          26275.9,
          26298,
          26261.3,
          26138.4,
          26813.9,
          26580.9,
          26307.7,
          26120.2,
          26179.6,
          26250.5,
          28148.8,
          27763.3,
          27578.8,
          26155.8,
          25985.7,
          26130.6,
          26102,
          25908.6,
          26035.8,
          26438,
          26446.8,
          25942.9,
          26032.3,
          25902.8,
          26532,
          26406.3,
          26855.7,
          26885.9,
          26776.8,
          26619.3,
          27408.1,
          27484.9,
          27391,
          27158.9,
          26745.8,
          26633.7,
          26738.2,
          26448.3,
          26395,
          26849,
          27305.9,
          27243.1,
          27092,
          28100,
          28574,
          27671.7,
          27836.9,
          28116.8,
          28286.1,
          28029,
          28088.7,
          27984,
          27732.3,
          27473.7,
          26941.7,
          27126.9,
          26988.9,
          27291.9,
          30100,
          28614.4,
          28975.4,
          28949,
          30243.4,
          30372.3,
          30269.6,
          34900,
          35263.5,
          35111,
          34821,
          34242,
          34497.9,
          34748.8,
          34856,
          34722.9,
          35578.7,
          35976,
          34939,
          35253.4,
          35385.3,
          35275,
          35892.6,
          36118,
          37977.4,
          37535,
          37398,
          37217,
          37400,
          36746.5,
          37954.9,
          37925.4,
          36789.7,
          36851.7,
          37500,
          37750,
          37643.9,
          37860,
          37638.9,
          38400,
          37888,
          37809.5,
          37561,
          38366,
          38447.7,
          38137.8,
          38990,
          39750,
          40205,
          42413,
          44484,
          44284.7,
          44043.9,
          44699.2,
          44358.2,
          44058.3,
          43802.6,
          42097.8,
          43486,
          43412,
          43081.9,
          42714.9,
          42428.5,
          42757,
          43486.9,
          44291,
          44238.7,
          44396.5,
          43986.3,
          43945,
          43794,
          43590.3,
          43669.8,
          43780.9,
          43100.8,
          42613.7,
          42888.8,
          44187.1,
          45879.9,
          45505,
          44741.5,
          44310,
          44216.7,
          44480,
          47245.4,
          47968,
          47686.3,
          48989,
          46518.9,
          43253.5,
          43084.5,
          43373,
          43573,
          43195.9,
          42925,
          42185.3,
          41867,
          41876,
          41684,
          40172,
          40553.3,
          40300,
          42243.3,
          42195.8,
          42839,
          43317.9,
          43861.9,
          43742.3,
          43295,
          43481.9,
          43379.4,
          43119.4,
          43578.9,
          43386,
          44393,
          45603,
          48192,
          48167,
          48591.9,
          50336.8,
          50364,
          52040,
          52809.6,
          52591.8,
          52166.8,
          52384.3,
          52487.3,
          52994.1,
          52370,
          52063.9,
          51543.1,
          51699.8,
          51963.3,
          54908.2,
          57587,
          64021,
          63663,
          63066.1,
          62437.9,
          63233.4,
          68510.6,
          69000,
          67645.3,
          67978.8,
          69941,
          68551.5,
          69870,
          72800,
          73065.2,
          73634.9,
          73773.6,
          72419.2,
          70047.3,
          68921.9,
          68966,
          68134.6,
          68100,
          68236.8,
          66640.7,
          65998,
          67620,
          71145.3,
          71574,
          71739.5,
          71544,
          70913.8,
          70331,
          71349,
          71274.8,
          69677.5,
          66890.9,
          69317.1,
          68740.6,
          69659,
          70345,
          72780.5,
          71751.5,
          71167.9,
          71299.8,
          71220,
          67935.6,
          65822,
          66844.2,
          64385,
          64497.5,
          64114,
          65432.3,
          65415.5,
          65700,
          67245.8,
          67184,
          67070,
          65276.7,
          64807,
          63920.9,
          64369.9,
          64213.5,
          64734,
          60847.1,
          59624.8,
          63325,
          64551.8,
          64629,
          65518.7,
          64415.6,
          63018.2,
          63422.4,
          63466.3,
          61522.5,
          61863.9,
          63449,
          63108,
          66460.5,
          66799,
          67528,
          67375.4,
          67708,
          71589.1,
          71975.9,
          70659.7,
          70068.9,
          69247.6,
          69609.2,
          69552.7,
          70678.6,
          69594.5,
          68931.4,
          69511.9,
          69039,
          67879.3,
          68472.9,
          70277,
          71063,
          71751.9,
          71650,
          71993.5,
          69576.2,
          69847.1,
          70180,
          69579.4,
          70000,
          68406,
          67370.5,
          66475.4,
          67009.8,
          67306.4,
          66587.6,
          65726.1,
          66479.4,
          65066.5,
          64531.2,
          64518,
          63380.4,
          62405.6,
          62478.9,
          62388.7,
          62215.6,
          61220.1,
          63137,
          63850,
          63290.1,
          62285.5,
          60499.9,
          57538.2,
          58475.4,
          58442,
          58219.9,
          58313.9,
          59032.2,
          59598.9,
          58528,
          59838.4,
          61441.7,
          64899.9,
          65373.4,
          66120,
          65120,
          67412,
          67595.2,
          68366,
          68476,
          67753.5,
          67100.9,
          66154,
          68213.5,
          69492.2,
          68314.8,
          70066,
          66998.2,
          66850,
          65652,
          65602.4,
          62194.3,
          61108,
          58305,
          57126.2,
          57722.9,
          62714.9,
          61742.5,
          61466.9,
          61874.9,
          60786.1,
          61594.6,
          61820.1,
          59843,
          59808.9,
          59706.5,
          60270,
          59599,
          61480,
          61815.9,
          61399.8,
          64957.6,
          64500,
          65000,
          64479.4,
          63218.9,
          60230.5,
          61160.3,
          59950.5,
          59454,
          59074.6,
          59424.6,
          59811,
          58520,
          58328.6,
          57007.2,
          54842.4,
          55307.5,
          58091.3,
          58044.7,
          57980,
          58566.6,
          60624.3,
          60609.5,
          60385,
          59203.4,
          61328.2,
          61777,
          63850.5,
          64130.6,
          63550,
          64000,
          64753.9,
          64691.5,
          64817.4,
          65819.9,
          66575.6,
          66257.6,
          66074.7,
          65608.5,
          64118.7,
          62388.5,
          61475.5,
          62477,
          62367.9,
          62978.7,
          64460.3,
          63197.5,
          62545.3,
          61318.1,
          63418.3,
          63485.8,
          63287.9,
          66525.5,
          67950.9,
          68418.8,
          67940,
          69000,
          68697,
          69388,
          69537.1,
          67832.9,
          67464.5,
          68850.7,
          68765.5,
          67456.6,
          68333,
          70282.9,
          73640.5,
          72953.7,
          72683.5,
          71626.9,
          69909,
          69391.7,
          69494.9,
          70540.1,
          76407.1,
          76830,
          77175.2,
          76913,
          81498.1,
          89526.3,
          89922.2,
          93242.1,
          91779.2,
          91848.8,
          91918.7,
          91455.2,
          92600,
          93912,
          94819.5,
          98924.7,
          99595,
          98909.8,
          98570.5,
          98896.2,
          94981.4,
          97192.1,
          96564.7,
          98609,
          97466.2,
          97897.9,
          98157,
          96300,
          99008.9,
          104087.7,
          101900,
          100582.4,
          101359.3,
          101211.1,
          98266.3,
          101876.3,
          102525,
          101900,
          102648.2,
          105216.6,
          107803.7,
          108384.6,
          106499.9,
          102832,
          98252.2,
          99623.4,
          97451.5,
          96530.3,
          99476.5,
          99587.8,
          99970.8,
          97515.9,
          95745,
          95343.1,
          95025.6,
          96287.7,
          95150,
          97839.1,
          98976.9,
          98782.5,
          98800,
          102486.3,
          102709.9,
          97269.9,
          95380.8,
          95861.2,
          95031.9,
          95446.7,
          95937.9,
          97378.5,
          100688.5,
          100864.5,
          105835.4,
          104990,
          106443.4,
          109699.6,
          107275.7,
          106382.9,
          106845.6,
          107113.6,
          105287.2,
          105511.9,
          103272.8,
          103789.3,
          104791.7,
          105598.9
         ],
         "low": [
          17106.3,
          17147.3,
          17319.3,
          17907.6,
          18719.1,
          19887.4,
          20541.5,
          20619,
          20808,
          20404,
          20659.6,
          20866,
          22417,
          22295,
          22504.1,
          22434.2,
          22325,
          22855,
          22531.9,
          22880,
          22971.5,
          22500,
          22719.3,
          22730,
          23366.2,
          23210.2,
          23246,
          22751,
          22628.4,
          22750,
          22672,
          21683,
          21441.2,
          21601.4,
          21626.1,
          21352.3,
          21520.4,
          22050.1,
          23506.4,
          23343.6,
          24411,
          24200,
          23827.3,
          24152.5,
          23580,
          23609.8,
          22844,
          22751.1,
          23062.6,
          23100.7,
          23020.9,
          23024,
          23200,
          21962.4,
          22158.3,
          22184,
          22261.1,
          21931.8,
          21577,
          20025.9,
          19558.1,
          19769.2,
          20275.1,
          21813,
          23958.8,
          23881,
          24121.8,
          24889.6,
          26560,
          26824.3,
          27133.8,
          27300.1,
          26610,
          27118.1,
          26983.1,
          27158.4,
          27416.7,
          26510,
          26631.2,
          27239.5,
          27673.6,
          27515.9,
          28216.1,
          27852,
          27241.6,
          27669.8,
          27801.7,
          27704.4,
          27767.5,
          27860.1,
          27784.9,
          28166.1,
          29591,
          29651,
          29856.1,
          29975.2,
          30205.1,
          30123.6,
          29239.6,
          29100,
          28571,
          28000,
          27125,
          27141.1,
          27318,
          26960,
          27194,
          27220.9,
          28377.3,
          28887.6,
          29026.3,
          29084.9,
          27662.1,
          27869.9,
          28116.9,
          28668.5,
          28789.4,
          28339.3,
          28400,
          27266.7,
          27353,
          26781,
          26709.1,
          25802.4,
          26692.5,
          26578,
          26726.8,
          26856.5,
          26551,
          26366.6,
          26634.7,
          26830.9,
          26655.2,
          26539.5,
          26800,
          26086,
          25871.2,
          26328.3,
          26554.9,
          26766.6,
          27529,
          27558.4,
          26840.9,
          26615,
          26505,
          26908.3,
          26953.3,
          25399,
          25350,
          26124.2,
          26214.2,
          26275.1,
          25365,
          25635.1,
          25604.8,
          25724.4,
          24821,
          24807.5,
          25169.4,
          26181.1,
          26258,
          26257.3,
          26654,
          28262,
          29477,
          29802.3,
          30251.1,
          30280,
          29920,
          30225.2,
          29843.9,
          30051.7,
          29500,
          30325,
          30168,
          30566.9,
          30621.5,
          30199.8,
          29855.4,
          29701,
          30050.1,
          30071.6,
          29949.6,
          30304.1,
          30214.4,
          30253.1,
          29906.6,
          30235.5,
          30062.2,
          29656,
          29541,
          29762,
          29571.2,
          29727.1,
          29630,
          29729.1,
          28872.4,
          29050.5,
          29098.1,
          29088,
          29131,
          29254.2,
          29026.7,
          29112.2,
          28584,
          28928,
          28970,
          28800.5,
          28983.4,
          28992.4,
          28701.5,
          29143.9,
          29380.5,
          29339.7,
          29252.3,
          29379.7,
          29272,
          29100.5,
          29079.7,
          28720,
          25000,
          25620.9,
          25802.1,
          25978.9,
          25812.5,
          25350,
          25816.3,
          25867,
          25780.2,
          25984.9,
          25963.7,
          25865.7,
          25923.7,
          27018,
          25668.2,
          25334.8,
          25752.9,
          25802.1,
          25628.2,
          25562.5,
          25400,
          25615.3,
          25645.3,
          25802,
          25566.8,
          24901.7,
          25131.4,
          25764.6,
          26125.8,
          26219.4,
          26441.8,
          26389.1,
          26372.1,
          26666,
          26787.8,
          26374.9,
          26470.3,
          26510.4,
          26123,
          26000,
          26092.3,
          26114,
          26343,
          26672.5,
          26889.1,
          26956.1,
          27275.9,
          27164.7,
          27209.3,
          27355,
          27176.1,
          27846,
          27690,
          27263.8,
          27293.9,
          26538.4,
          26556.3,
          26685.9,
          26801,
          26807.6,
          27114.9,
          28072.2,
          28147.5,
          28109.8,
          28579.2,
          29464.2,
          29645,
          29885,
          32821.2,
          33680.5,
          33752,
          33401,
          33860.5,
          33930.7,
          34064,
          34031,
          34100,
          34301.1,
          34120,
          34585.3,
          34451.4,
          34731,
          34521.1,
          35095.8,
          35537.7,
          36324.4,
          36649.2,
          36728.1,
          36333,
          34740,
          35359.4,
          35499.5,
          35859.4,
          36188.6,
          36384,
          36700,
          35733.5,
          35620,
          36868,
          37255.5,
          37583.8,
          37120.4,
          36713,
          36874.1,
          37570,
          37495.2,
          37616.4,
          38641,
          39270.8,
          39972.4,
          41400,
          43362.2,
          42829.2,
          43075.8,
          43567.9,
          43560.6,
          40222.4,
          40683.3,
          40567,
          41459.2,
          41660.6,
          41625,
          41250,
          40551.3,
          41811,
          42210.1,
          43300.1,
          43411,
          43289,
          42500,
          42736.4,
          41618.7,
          42115,
          42275.3,
          41304.1,
          41520,
          41965.7,
          42177.3,
          44148.1,
          40620,
          42624.1,
          42372,
          43399,
          43600,
          43183.5,
          44620.8,
          44316.7,
          45578.3,
          41440,
          42433.1,
          41723,
          41715.7,
          42034.6,
          42211,
          40680,
          40276.2,
          41457.6,
          41502.4,
          39417.8,
          38559,
          39493.5,
          39554.1,
          39822,
          41390.3,
          41623.1,
          41802.9,
          42700,
          42280.7,
          41886.8,
          42555,
          42880.1,
          42215,
          42260.2,
          42573.2,
          42786.7,
          44330,
          45247.1,
          46845.1,
          47571.9,
          47716.8,
          48300,
          49228.5,
          51315.4,
          51578.6,
          50625.7,
          51153.7,
          51681.1,
          50750.5,
          50622,
          50943.1,
          50518.3,
          50589,
          51278,
          50901.9,
          54447,
          56694,
          60371.7,
          60781.4,
          61558.3,
          61320.6,
          62301.6,
          59000,
          62786,
          65562,
          66112,
          67866.5,
          68100,
          67092.3,
          68653.1,
          71333,
          68586,
          65619.4,
          64777,
          64547.2,
          66560.9,
          61523,
          60749.6,
          64515.6,
          62254.3,
          63000.1,
          63783,
          66383.3,
          69224.1,
          68410.8,
          68843.8,
          68957,
          69528.1,
          69553.4,
          68039.1,
          64597.5,
          64455.7,
          65048.8,
          65957.7,
          67453,
          68824.1,
          69049.1,
          68208.2,
          67521.2,
          69562.2,
          64939.8,
          59900,
          62142.9,
          62269.3,
          61592.1,
          59669.9,
          60803.1,
          59600,
          63085.1,
          64241,
          64504.2,
          65807.2,
          63600.9,
          62800,
          63318.3,
          62391.6,
          62780,
          61781.4,
          59174.1,
          56560,
          56938,
          58814.8,
          62542.7,
          62870.4,
          62704.1,
          62250,
          60881,
          60636.1,
          60179.6,
          60483.4,
          60605,
          60764.1,
          61137.1,
          61339.4,
          64602.9,
          65097.6,
          66587,
          65880,
          66066.8,
          69165,
          68910.4,
          66301.4,
          66621.1,
          68507.7,
          68178.1,
          68260,
          67277,
          67144.1,
          67132,
          66666.7,
          67441.9,
          67273.4,
          67619.1,
          68567.2,
          70385.4,
          70115.2,
          68361.3,
          69175,
          69129,
          69186.2,
          66035,
          66903.2,
          66271,
          65073.4,
          65816,
          66042.4,
          65132,
          64061.8,
          64677.6,
          64568,
          63400,
          63951.6,
          63176.3,
          58416.2,
          60253.8,
          60713.9,
          60612,
          60054.5,
          60403.3,
          60714.2,
          62520.6,
          61815.1,
          59408.7,
          56759.6,
          53339.7,
          56025.2,
          55721,
          54281,
          56291.3,
          57169.9,
          57048.2,
          56536.5,
          57757.2,
          59190.7,
          60651.9,
          62381.3,
          63853,
          63234.7,
          63300.5,
          66218.4,
          65763.1,
          66579,
          65438.1,
          65105,
          63466.3,
          65722.3,
          66641,
          67063.1,
          66411,
          65296.2,
          64523.8,
          62279.4,
          61227.1,
          59857.6,
          57200,
          48705.8,
          53944.3,
          54562,
          54737.4,
          59531.6,
          60248.2,
          58301.8,
          57649.2,
          58421,
          58444.5,
          56111.2,
          57101.2,
          58800.7,
          58420,
          57814.6,
          58556.2,
          58786.8,
          59729.1,
          60340.6,
          63539.2,
          63776,
          62816.3,
          58000,
          57862,
          58708.5,
          57679.6,
          58745.5,
          57200.3,
          57133.8,
          57415,
          55602.5,
          55636.3,
          52550,
          53756,
          53630,
          54596.2,
          56387.1,
          55564.9,
          57316.4,
          57638.4,
          59397.7,
          58680.2,
          57489.7,
          57622,
          59187.4,
          61566.5,
          62348.4,
          62757.7,
          62362.1,
          62566.7,
          62711.5,
          62948.9,
          62666.5,
          64814.9,
          65422.1,
          65431.9,
          62850,
          60158.9,
          59989,
          59869,
          60468.1,
          61689,
          61818,
          62136.1,
          61870.2,
          60306.1,
          58932.1,
          60086.3,
          62487.4,
          62054.8,
          62465.5,
          64800,
          66751.5,
          66683.3,
          67191.5,
          68010,
          68096.4,
          66849.6,
          66564,
          65257.1,
          66508.2,
          65596.4,
          66441.4,
          66934.3,
          67620.8,
          69762.3,
          71430.4,
          69674.9,
          68823.5,
          69020,
          67474.7,
          66835.1,
          67478.6,
          69295,
          74427.1,
          75591.5,
          75715.7,
          76362.3,
          80208.3,
          85068,
          86129.9,
          86677.3,
          87077.8,
          90074.8,
          88650,
          89369.4,
          90351.8,
          91474.8,
          94038.1,
          97017.5,
          97130,
          95747,
          92573.9,
          90801.9,
          91797.5,
          94535.8,
          95352.9,
          96088,
          95700,
          94379.2,
          93575,
          94580.7,
          90606.3,
          96228.6,
          98823.6,
          98669.6,
          93867.2,
          94250.1,
          95634.2,
          99307.1,
          99202.7,
          100606.2,
          101232.6,
          103332.5,
          105210.9,
          99970.2,
          95680.1,
          92277.9,
          96403.4,
          94238.4,
          92519.5,
          93576.5,
          97622.7,
          95156,
          93490,
          94134.4,
          93036.7,
          91552,
          92046.6,
          92900.8,
          94380.5,
          96105.4,
          97537.4,
          97275.9,
          97915.6,
          96142.6,
          92540.8,
          91188.3,
          92219,
          93854.4,
          93711.7,
          89221,
          94341.3,
          96495.2,
          97347,
          99944.8,
          102275,
          99599.9,
          99541,
          100100,
          103337.1,
          101261.4,
          102751.3,
          104116.8,
          102511.8,
          97778.8,
          100277.7,
          101322.6,
          103266.6
         ],
         "name": "candlesticks",
         "open": [
          17127.5,
          17181.4,
          17436.5,
          17943.2,
          18845.7,
          19924.9,
          20948,
          20874.3,
          21184.3,
          21131.8,
          20676.7,
          21073.6,
          22668.8,
          22780.9,
          22707.9,
          22913.5,
          22629,
          23059.2,
          23006.3,
          23071.8,
          23026.4,
          23741.8,
          22827.5,
          23130.1,
          23725.5,
          23491.1,
          23434,
          23324.5,
          22928.4,
          22760,
          23244.9,
          22959.8,
          21797.1,
          21625.2,
          21861.8,
          21779.7,
          21773.1,
          22199.1,
          24327.6,
          23516.6,
          24571.1,
          24633.4,
          24270,
          24840,
          24448.9,
          24182.8,
          23936.3,
          23187.1,
          23160.3,
          23556,
          23491.1,
          23141.9,
          23629.9,
          23460.8,
          22352.5,
          22346.5,
          22427.5,
          22406,
          22199.3,
          21702.4,
          20361.2,
          20151.9,
          20465.2,
          22001.6,
          24100,
          24676.5,
          24281.7,
          25000.9,
          27391.4,
          26907.9,
          27969.7,
          27722.4,
          28106.2,
          27253.8,
          28293.4,
          27452.2,
          27462.8,
          27970.1,
          27125.5,
          27261.9,
          28348.1,
          28027.5,
          28467.2,
          28453.9,
          28173.5,
          27800.2,
          28163.7,
          28171.6,
          28030.3,
          27906,
          27939.2,
          28320.8,
          29636.6,
          30200.3,
          29889.5,
          30372.6,
          30463.2,
          30298.2,
          30304,
          29426.8,
          30380.2,
          28803.8,
          28238.6,
          27260.6,
          27813.9,
          27587.4,
          27506,
          28297,
          28415.1,
          29473.9,
          29309.9,
          29225.9,
          29232,
          28066.4,
          28668,
          29026.6,
          28837.9,
          29504.5,
          28845.9,
          28429.2,
          27666.9,
          27629.5,
          27593,
          26969.8,
          26796.8,
          26774.9,
          26918.7,
          27163.5,
          27035.9,
          27403.5,
          26819,
          26881.4,
          27104.8,
          26744.7,
          26846.1,
          27219.4,
          26328.3,
          26474.8,
          26704.9,
          26855.4,
          28067.2,
          27736.3,
          27693.8,
          27211.7,
          26814,
          27243.4,
          27069.9,
          27119,
          25725.7,
          27229.8,
          26342.3,
          26498.9,
          26478.1,
          25841,
          25925.4,
          25906.4,
          25935.9,
          25128.6,
          25597.4,
          26348.1,
          26518.1,
          26340,
          26843.1,
          28305.3,
          29991.1,
          29886.8,
          30690.1,
          30531.9,
          30464.4,
          30271.4,
          30692.4,
          30079,
          30448.9,
          30475.1,
          30585.5,
          30615.2,
          31156.6,
          30765.9,
          30503.9,
          29895,
          30343.4,
          30288.3,
          30163.3,
          30413.9,
          30621.3,
          30380.4,
          31452,
          30313.3,
          30288.3,
          30231.1,
          30141.2,
          29859.1,
          29908.6,
          29800.7,
          29898.9,
          29789.4,
          30083.1,
          29180.1,
          29227.8,
          29352.3,
          29221.3,
          29314.8,
          29354.6,
          29278.3,
          29234.3,
          29708.9,
          29182.5,
          29194.1,
          29113.9,
          29073.9,
          29091.3,
          29214.2,
          29772.7,
          29581.7,
          29453.4,
          29426.7,
          29430.8,
          29307,
          29433.1,
          29202.2,
          28727.3,
          26624.2,
          26053.5,
          26101,
          26188.7,
          26124.7,
          26054.4,
          26431.5,
          26179.9,
          26060.1,
          26019.6,
          26101.4,
          26119.6,
          27715.7,
          27301.1,
          25940.4,
          25803.7,
          25869.2,
          25972.5,
          25826.8,
          25792.4,
          25759.6,
          26253.3,
          25910.5,
          25901.1,
          25841.1,
          25162.6,
          25838.3,
          26220.8,
          26521.7,
          26601.2,
          26558.3,
          26525.9,
          26764.2,
          27208.3,
          27120.3,
          26567.2,
          26577.1,
          26575,
          26248.8,
          26301,
          26221.4,
          26368.9,
          27019.2,
          26909.9,
          26962.8,
          27992.7,
          27493.8,
          27428.1,
          27781.5,
          27408.2,
          27928.6,
          27954.1,
          27917.9,
          27589.3,
          27387,
          26878.7,
          26760.6,
          26862.5,
          26856.2,
          27153.9,
          28501.1,
          28396.3,
          28321.1,
          28715.1,
          29668,
          29907.6,
          29989.5,
          33071.8,
          33924,
          34494.9,
          34149,
          33891.3,
          34083.6,
          34523.5,
          34473.5,
          34639,
          35421.8,
          34936,
          34716.1,
          35062.3,
          35013,
          35041.4,
          35396.3,
          35620.7,
          36701.3,
          37303,
          37136.4,
          37063.5,
          36462.7,
          35551.4,
          37854.6,
          36164.2,
          36609.2,
          36568.2,
          37356.9,
          37447.1,
          35736.8,
          37407.1,
          37290.5,
          37710.4,
          37775.6,
          37447.4,
          37243.2,
          37819,
          37852.9,
          37723.2,
          38680.8,
          39449.4,
          39972.5,
          41985.1,
          44075,
          43763.5,
          43273.3,
          44171.4,
          43712.8,
          43784,
          41249,
          41490.7,
          42868.8,
          43027.2,
          41938.4,
          42273.5,
          41374.3,
          42655.9,
          42268.8,
          43666.9,
          43858.2,
          43970,
          43702.1,
          42994.8,
          43572.6,
          42511.9,
          43433.6,
          42564.1,
          42068.7,
          42145.4,
          42278.8,
          44175.3,
          44945.2,
          42840.9,
          44153.6,
          44148,
          43966.6,
          43926.7,
          46949.2,
          46112.6,
          46649.3,
          46340.1,
          42785.2,
          42842.7,
          41727.2,
          42513.5,
          43132.4,
          42773.1,
          41324.1,
          41658.8,
          41693.4,
          41579.9,
          39573,
          39900.6,
          40082.1,
          39959.8,
          41820.5,
          42119.1,
          42037.9,
          43299.8,
          42943.3,
          42580.3,
          43082.3,
          43199.2,
          43011.1,
          42583,
          42706.2,
          43098,
          44341.4,
          45288.6,
          47135.7,
          47750.1,
          48297.7,
          49924,
          49694.4,
          51796,
          51880.4,
          52121.1,
          51644.2,
          52133,
          51781.8,
          52263.9,
          51854.3,
          51289.7,
          50753.6,
          51562.2,
          51727.9,
          54472.2,
          57040.2,
          62429.8,
          61143.3,
          62381.8,
          61981.9,
          63112.9,
          68248.5,
          63714.1,
          66074.1,
          66820.3,
          68124,
          68313,
          68953.9,
          72090.5,
          71450,
          73078.2,
          71388,
          69504,
          65308.3,
          68395.9,
          67615.9,
          61931.8,
          67832.6,
          65504.2,
          63793.9,
          63990.8,
          67206.7,
          69869,
          69989.7,
          69468.1,
          70794.3,
          69846.2,
          69578.4,
          71257.7,
          69653,
          65473.1,
          65960,
          68485.2,
          67822.5,
          68886,
          69350,
          71626.4,
          69150,
          70631.8,
          70005.6,
          67113.7,
          63917.9,
          65660.2,
          63424.4,
          63793.3,
          61273.8,
          63473.3,
          63816.4,
          64934.2,
          64941.3,
          66810.2,
          66415.6,
          64281.5,
          64501.2,
          63768.3,
          63452.6,
          63123,
          63860.2,
          60666.8,
          58346.6,
          59057.1,
          62878.1,
          63890.7,
          64015.5,
          63165.3,
          62312.5,
          61190.7,
          63076.7,
          60799.6,
          60827.2,
          61484.1,
          62938.1,
          61577.3,
          66210.8,
          65237.8,
          67019.1,
          66914,
          66269.5,
          71428.3,
          70151.5,
          69168,
          67964.4,
          68565.9,
          69294.7,
          68503.5,
          69429.5,
          68407.5,
          67654.1,
          68353.1,
          67539.5,
          67761.8,
          67768.4,
          68808.8,
          70537.5,
          71102.4,
          70798.4,
          69342.1,
          69308.6,
          69640.3,
          69530.5,
          67308.4,
          68268.1,
          66775.4,
          66042.6,
          66226.8,
          66679,
          66494.6,
          65179.1,
          64970.3,
          64878.8,
          64151,
          64265.8,
          63208.1,
          60295.5,
          61803.2,
          60861.3,
          61702,
          60439.2,
          60984.1,
          62769.5,
          62899.7,
          62136.8,
          60213.7,
          57055.6,
          56629.7,
          58237.4,
          55856.9,
          56710.7,
          58040.8,
          57723,
          57340.1,
          57893,
          59201.8,
          60789.2,
          64719.7,
          65042.9,
          64082.9,
          63988.1,
          66656.1,
          67122.4,
          68171.1,
          67528.5,
          65931.1,
          65376.8,
          65796.1,
          67912.3,
          67898.2,
          68247,
          66782.6,
          66189.8,
          64627.4,
          65350.3,
          61493.8,
          60709.2,
          58164.3,
          54031.9,
          56016.1,
          55132.6,
          61685.6,
          60844.6,
          60923,
          58717.1,
          59351.7,
          60586.7,
          58678.9,
          57540.1,
          58874.9,
          59496,
          58428.1,
          59432.3,
          59012,
          61148.1,
          60381.6,
          64041,
          64150.9,
          64220.6,
          62836.4,
          59410.9,
          59033.1,
          59350.7,
          59123.5,
          58972.6,
          57305.7,
          59139.3,
          57484.7,
          57974.7,
          56179.5,
          53960.4,
          54156.1,
          54873.1,
          57040.7,
          57638.8,
          57335.9,
          58127.9,
          60494,
          59988.1,
          59132,
          58215,
          60307.8,
          61754.9,
          62950.5,
          63205.6,
          63343.6,
          63576,
          63333,
          64269.7,
          63154.5,
          65165.5,
          65771.9,
          65842.5,
          65599.5,
          63328.6,
          60814.6,
          60651,
          60750,
          62086.6,
          62064.1,
          62819.4,
          62223.1,
          62163.4,
          60637.6,
          60319.5,
          62533.9,
          63204.1,
          62872.4,
          66087,
          67071.7,
          67618.2,
          67424.4,
          68427,
          68378.8,
          69034.6,
          67375.5,
          67423.3,
          66665,
          68200,
          66696.2,
          67094.7,
          68021.8,
          69961.5,
          72735.6,
          72345.7,
          70298.2,
          69495.1,
          69376.8,
          68776.1,
          67857.1,
          69374.9,
          75581.8,
          75865.4,
          76506.9,
          76684.1,
          80359.5,
          88637.2,
          87936.9,
          90375.4,
          87326.9,
          91028.1,
          90583.2,
          89854.3,
          90465.7,
          92292.2,
          94289,
          98317,
          98891.5,
          97684.1,
          97903.7,
          92999.1,
          91958.3,
          95854.3,
          95642.3,
          97458.1,
          96395.2,
          97185.7,
          95826.8,
          95845.2,
          98602.4,
          96927.4,
          99729.4,
          99832.6,
          101106.6,
          97273,
          96582.2,
          101116.9,
          100002.9,
          101413.2,
          101418.8,
          104469.1,
          106060.3,
          106130.4,
          100202.9,
          97456.7,
          97800,
          97280.7,
          95186.2,
          94885.9,
          98661.6,
          99434.9,
          95785.9,
          94286.1,
          95305,
          93739.8,
          92792,
          93574.4,
          94584.2,
          96983.9,
          98173.9,
          98215.4,
          98360.9,
          102224.4,
          96959.2,
          95048.8,
          92548.4,
          94717.6,
          94606.5,
          94539.7,
          94525.8,
          96565.4,
          100495.6,
          99986.3,
          104076.4,
          104550.6,
          101327.2,
          102259.4,
          106140.2,
          103710.2,
          103907.1,
          104857.2,
          104741.7,
          102606.7,
          102071.6,
          101335.3,
          103742
         ],
         "type": "candlestick",
         "x": [
          "2023-01-09T00:00:00+00:00",
          "2023-01-10T00:00:00+00:00",
          "2023-01-11T00:00:00+00:00",
          "2023-01-12T00:00:00+00:00",
          "2023-01-13T00:00:00+00:00",
          "2023-01-14T00:00:00+00:00",
          "2023-01-15T00:00:00+00:00",
          "2023-01-16T00:00:00+00:00",
          "2023-01-17T00:00:00+00:00",
          "2023-01-18T00:00:00+00:00",
          "2023-01-19T00:00:00+00:00",
          "2023-01-20T00:00:00+00:00",
          "2023-01-21T00:00:00+00:00",
          "2023-01-22T00:00:00+00:00",
          "2023-01-23T00:00:00+00:00",
          "2023-01-24T00:00:00+00:00",
          "2023-01-25T00:00:00+00:00",
          "2023-01-26T00:00:00+00:00",
          "2023-01-27T00:00:00+00:00",
          "2023-01-28T00:00:00+00:00",
          "2023-01-29T00:00:00+00:00",
          "2023-01-30T00:00:00+00:00",
          "2023-01-31T00:00:00+00:00",
          "2023-02-01T00:00:00+00:00",
          "2023-02-02T00:00:00+00:00",
          "2023-02-03T00:00:00+00:00",
          "2023-02-04T00:00:00+00:00",
          "2023-02-05T00:00:00+00:00",
          "2023-02-06T00:00:00+00:00",
          "2023-02-07T00:00:00+00:00",
          "2023-02-08T00:00:00+00:00",
          "2023-02-09T00:00:00+00:00",
          "2023-02-10T00:00:00+00:00",
          "2023-02-11T00:00:00+00:00",
          "2023-02-12T00:00:00+00:00",
          "2023-02-13T00:00:00+00:00",
          "2023-02-14T00:00:00+00:00",
          "2023-02-15T00:00:00+00:00",
          "2023-02-16T00:00:00+00:00",
          "2023-02-17T00:00:00+00:00",
          "2023-02-18T00:00:00+00:00",
          "2023-02-19T00:00:00+00:00",
          "2023-02-20T00:00:00+00:00",
          "2023-02-21T00:00:00+00:00",
          "2023-02-22T00:00:00+00:00",
          "2023-02-23T00:00:00+00:00",
          "2023-02-24T00:00:00+00:00",
          "2023-02-25T00:00:00+00:00",
          "2023-02-26T00:00:00+00:00",
          "2023-02-27T00:00:00+00:00",
          "2023-02-28T00:00:00+00:00",
          "2023-03-01T00:00:00+00:00",
          "2023-03-02T00:00:00+00:00",
          "2023-03-03T00:00:00+00:00",
          "2023-03-04T00:00:00+00:00",
          "2023-03-05T00:00:00+00:00",
          "2023-03-06T00:00:00+00:00",
          "2023-03-07T00:00:00+00:00",
          "2023-03-08T00:00:00+00:00",
          "2023-03-09T00:00:00+00:00",
          "2023-03-10T00:00:00+00:00",
          "2023-03-11T00:00:00+00:00",
          "2023-03-12T00:00:00+00:00",
          "2023-03-13T00:00:00+00:00",
          "2023-03-14T00:00:00+00:00",
          "2023-03-15T00:00:00+00:00",
          "2023-03-16T00:00:00+00:00",
          "2023-03-17T00:00:00+00:00",
          "2023-03-18T00:00:00+00:00",
          "2023-03-19T00:00:00+00:00",
          "2023-03-20T00:00:00+00:00",
          "2023-03-21T00:00:00+00:00",
          "2023-03-22T00:00:00+00:00",
          "2023-03-23T00:00:00+00:00",
          "2023-03-24T00:00:00+00:00",
          "2023-03-25T00:00:00+00:00",
          "2023-03-26T00:00:00+00:00",
          "2023-03-27T00:00:00+00:00",
          "2023-03-28T00:00:00+00:00",
          "2023-03-29T00:00:00+00:00",
          "2023-03-30T00:00:00+00:00",
          "2023-03-31T00:00:00+00:00",
          "2023-04-01T00:00:00+00:00",
          "2023-04-02T00:00:00+00:00",
          "2023-04-03T00:00:00+00:00",
          "2023-04-04T00:00:00+00:00",
          "2023-04-05T00:00:00+00:00",
          "2023-04-06T00:00:00+00:00",
          "2023-04-07T00:00:00+00:00",
          "2023-04-08T00:00:00+00:00",
          "2023-04-09T00:00:00+00:00",
          "2023-04-10T00:00:00+00:00",
          "2023-04-11T00:00:00+00:00",
          "2023-04-12T00:00:00+00:00",
          "2023-04-13T00:00:00+00:00",
          "2023-04-14T00:00:00+00:00",
          "2023-04-15T00:00:00+00:00",
          "2023-04-16T00:00:00+00:00",
          "2023-04-17T00:00:00+00:00",
          "2023-04-18T00:00:00+00:00",
          "2023-04-19T00:00:00+00:00",
          "2023-04-20T00:00:00+00:00",
          "2023-04-21T00:00:00+00:00",
          "2023-04-22T00:00:00+00:00",
          "2023-04-23T00:00:00+00:00",
          "2023-04-24T00:00:00+00:00",
          "2023-04-25T00:00:00+00:00",
          "2023-04-26T00:00:00+00:00",
          "2023-04-27T00:00:00+00:00",
          "2023-04-28T00:00:00+00:00",
          "2023-04-29T00:00:00+00:00",
          "2023-04-30T00:00:00+00:00",
          "2023-05-01T00:00:00+00:00",
          "2023-05-02T00:00:00+00:00",
          "2023-05-03T00:00:00+00:00",
          "2023-05-04T00:00:00+00:00",
          "2023-05-05T00:00:00+00:00",
          "2023-05-06T00:00:00+00:00",
          "2023-05-07T00:00:00+00:00",
          "2023-05-08T00:00:00+00:00",
          "2023-05-09T00:00:00+00:00",
          "2023-05-10T00:00:00+00:00",
          "2023-05-11T00:00:00+00:00",
          "2023-05-12T00:00:00+00:00",
          "2023-05-13T00:00:00+00:00",
          "2023-05-14T00:00:00+00:00",
          "2023-05-15T00:00:00+00:00",
          "2023-05-16T00:00:00+00:00",
          "2023-05-17T00:00:00+00:00",
          "2023-05-18T00:00:00+00:00",
          "2023-05-19T00:00:00+00:00",
          "2023-05-20T00:00:00+00:00",
          "2023-05-21T00:00:00+00:00",
          "2023-05-22T00:00:00+00:00",
          "2023-05-23T00:00:00+00:00",
          "2023-05-24T00:00:00+00:00",
          "2023-05-25T00:00:00+00:00",
          "2023-05-26T00:00:00+00:00",
          "2023-05-27T00:00:00+00:00",
          "2023-05-28T00:00:00+00:00",
          "2023-05-29T00:00:00+00:00",
          "2023-05-30T00:00:00+00:00",
          "2023-05-31T00:00:00+00:00",
          "2023-06-01T00:00:00+00:00",
          "2023-06-02T00:00:00+00:00",
          "2023-06-03T00:00:00+00:00",
          "2023-06-04T00:00:00+00:00",
          "2023-06-05T00:00:00+00:00",
          "2023-06-06T00:00:00+00:00",
          "2023-06-07T00:00:00+00:00",
          "2023-06-08T00:00:00+00:00",
          "2023-06-09T00:00:00+00:00",
          "2023-06-10T00:00:00+00:00",
          "2023-06-11T00:00:00+00:00",
          "2023-06-12T00:00:00+00:00",
          "2023-06-13T00:00:00+00:00",
          "2023-06-14T00:00:00+00:00",
          "2023-06-15T00:00:00+00:00",
          "2023-06-16T00:00:00+00:00",
          "2023-06-17T00:00:00+00:00",
          "2023-06-18T00:00:00+00:00",
          "2023-06-19T00:00:00+00:00",
          "2023-06-20T00:00:00+00:00",
          "2023-06-21T00:00:00+00:00",
          "2023-06-22T00:00:00+00:00",
          "2023-06-23T00:00:00+00:00",
          "2023-06-24T00:00:00+00:00",
          "2023-06-25T00:00:00+00:00",
          "2023-06-26T00:00:00+00:00",
          "2023-06-27T00:00:00+00:00",
          "2023-06-28T00:00:00+00:00",
          "2023-06-29T00:00:00+00:00",
          "2023-06-30T00:00:00+00:00",
          "2023-07-01T00:00:00+00:00",
          "2023-07-02T00:00:00+00:00",
          "2023-07-03T00:00:00+00:00",
          "2023-07-04T00:00:00+00:00",
          "2023-07-05T00:00:00+00:00",
          "2023-07-06T00:00:00+00:00",
          "2023-07-07T00:00:00+00:00",
          "2023-07-08T00:00:00+00:00",
          "2023-07-09T00:00:00+00:00",
          "2023-07-10T00:00:00+00:00",
          "2023-07-11T00:00:00+00:00",
          "2023-07-12T00:00:00+00:00",
          "2023-07-13T00:00:00+00:00",
          "2023-07-14T00:00:00+00:00",
          "2023-07-15T00:00:00+00:00",
          "2023-07-16T00:00:00+00:00",
          "2023-07-17T00:00:00+00:00",
          "2023-07-18T00:00:00+00:00",
          "2023-07-19T00:00:00+00:00",
          "2023-07-20T00:00:00+00:00",
          "2023-07-21T00:00:00+00:00",
          "2023-07-22T00:00:00+00:00",
          "2023-07-23T00:00:00+00:00",
          "2023-07-24T00:00:00+00:00",
          "2023-07-25T00:00:00+00:00",
          "2023-07-26T00:00:00+00:00",
          "2023-07-27T00:00:00+00:00",
          "2023-07-28T00:00:00+00:00",
          "2023-07-29T00:00:00+00:00",
          "2023-07-30T00:00:00+00:00",
          "2023-07-31T00:00:00+00:00",
          "2023-08-01T00:00:00+00:00",
          "2023-08-02T00:00:00+00:00",
          "2023-08-03T00:00:00+00:00",
          "2023-08-04T00:00:00+00:00",
          "2023-08-05T00:00:00+00:00",
          "2023-08-06T00:00:00+00:00",
          "2023-08-07T00:00:00+00:00",
          "2023-08-08T00:00:00+00:00",
          "2023-08-09T00:00:00+00:00",
          "2023-08-10T00:00:00+00:00",
          "2023-08-11T00:00:00+00:00",
          "2023-08-12T00:00:00+00:00",
          "2023-08-13T00:00:00+00:00",
          "2023-08-14T00:00:00+00:00",
          "2023-08-15T00:00:00+00:00",
          "2023-08-16T00:00:00+00:00",
          "2023-08-17T00:00:00+00:00",
          "2023-08-18T00:00:00+00:00",
          "2023-08-19T00:00:00+00:00",
          "2023-08-20T00:00:00+00:00",
          "2023-08-21T00:00:00+00:00",
          "2023-08-22T00:00:00+00:00",
          "2023-08-23T00:00:00+00:00",
          "2023-08-24T00:00:00+00:00",
          "2023-08-25T00:00:00+00:00",
          "2023-08-26T00:00:00+00:00",
          "2023-08-27T00:00:00+00:00",
          "2023-08-28T00:00:00+00:00",
          "2023-08-29T00:00:00+00:00",
          "2023-08-30T00:00:00+00:00",
          "2023-08-31T00:00:00+00:00",
          "2023-09-01T00:00:00+00:00",
          "2023-09-02T00:00:00+00:00",
          "2023-09-03T00:00:00+00:00",
          "2023-09-04T00:00:00+00:00",
          "2023-09-05T00:00:00+00:00",
          "2023-09-06T00:00:00+00:00",
          "2023-09-07T00:00:00+00:00",
          "2023-09-08T00:00:00+00:00",
          "2023-09-09T00:00:00+00:00",
          "2023-09-10T00:00:00+00:00",
          "2023-09-11T00:00:00+00:00",
          "2023-09-12T00:00:00+00:00",
          "2023-09-13T00:00:00+00:00",
          "2023-09-14T00:00:00+00:00",
          "2023-09-15T00:00:00+00:00",
          "2023-09-16T00:00:00+00:00",
          "2023-09-17T00:00:00+00:00",
          "2023-09-18T00:00:00+00:00",
          "2023-09-19T00:00:00+00:00",
          "2023-09-20T00:00:00+00:00",
          "2023-09-21T00:00:00+00:00",
          "2023-09-22T00:00:00+00:00",
          "2023-09-23T00:00:00+00:00",
          "2023-09-24T00:00:00+00:00",
          "2023-09-25T00:00:00+00:00",
          "2023-09-26T00:00:00+00:00",
          "2023-09-27T00:00:00+00:00",
          "2023-09-28T00:00:00+00:00",
          "2023-09-29T00:00:00+00:00",
          "2023-09-30T00:00:00+00:00",
          "2023-10-01T00:00:00+00:00",
          "2023-10-02T00:00:00+00:00",
          "2023-10-03T00:00:00+00:00",
          "2023-10-04T00:00:00+00:00",
          "2023-10-05T00:00:00+00:00",
          "2023-10-06T00:00:00+00:00",
          "2023-10-07T00:00:00+00:00",
          "2023-10-08T00:00:00+00:00",
          "2023-10-09T00:00:00+00:00",
          "2023-10-10T00:00:00+00:00",
          "2023-10-11T00:00:00+00:00",
          "2023-10-12T00:00:00+00:00",
          "2023-10-13T00:00:00+00:00",
          "2023-10-14T00:00:00+00:00",
          "2023-10-15T00:00:00+00:00",
          "2023-10-16T00:00:00+00:00",
          "2023-10-17T00:00:00+00:00",
          "2023-10-18T00:00:00+00:00",
          "2023-10-19T00:00:00+00:00",
          "2023-10-20T00:00:00+00:00",
          "2023-10-21T00:00:00+00:00",
          "2023-10-22T00:00:00+00:00",
          "2023-10-23T00:00:00+00:00",
          "2023-10-24T00:00:00+00:00",
          "2023-10-25T00:00:00+00:00",
          "2023-10-26T00:00:00+00:00",
          "2023-10-27T00:00:00+00:00",
          "2023-10-28T00:00:00+00:00",
          "2023-10-29T00:00:00+00:00",
          "2023-10-30T00:00:00+00:00",
          "2023-10-31T00:00:00+00:00",
          "2023-11-01T00:00:00+00:00",
          "2023-11-02T00:00:00+00:00",
          "2023-11-03T00:00:00+00:00",
          "2023-11-04T00:00:00+00:00",
          "2023-11-05T00:00:00+00:00",
          "2023-11-06T00:00:00+00:00",
          "2023-11-07T00:00:00+00:00",
          "2023-11-08T00:00:00+00:00",
          "2023-11-09T00:00:00+00:00",
          "2023-11-10T00:00:00+00:00",
          "2023-11-11T00:00:00+00:00",
          "2023-11-12T00:00:00+00:00",
          "2023-11-13T00:00:00+00:00",
          "2023-11-14T00:00:00+00:00",
          "2023-11-15T00:00:00+00:00",
          "2023-11-16T00:00:00+00:00",
          "2023-11-17T00:00:00+00:00",
          "2023-11-18T00:00:00+00:00",
          "2023-11-19T00:00:00+00:00",
          "2023-11-20T00:00:00+00:00",
          "2023-11-21T00:00:00+00:00",
          "2023-11-22T00:00:00+00:00",
          "2023-11-23T00:00:00+00:00",
          "2023-11-24T00:00:00+00:00",
          "2023-11-25T00:00:00+00:00",
          "2023-11-26T00:00:00+00:00",
          "2023-11-27T00:00:00+00:00",
          "2023-11-28T00:00:00+00:00",
          "2023-11-29T00:00:00+00:00",
          "2023-11-30T00:00:00+00:00",
          "2023-12-01T00:00:00+00:00",
          "2023-12-02T00:00:00+00:00",
          "2023-12-03T00:00:00+00:00",
          "2023-12-04T00:00:00+00:00",
          "2023-12-05T00:00:00+00:00",
          "2023-12-06T00:00:00+00:00",
          "2023-12-07T00:00:00+00:00",
          "2023-12-08T00:00:00+00:00",
          "2023-12-09T00:00:00+00:00",
          "2023-12-10T00:00:00+00:00",
          "2023-12-11T00:00:00+00:00",
          "2023-12-12T00:00:00+00:00",
          "2023-12-13T00:00:00+00:00",
          "2023-12-14T00:00:00+00:00",
          "2023-12-15T00:00:00+00:00",
          "2023-12-16T00:00:00+00:00",
          "2023-12-17T00:00:00+00:00",
          "2023-12-18T00:00:00+00:00",
          "2023-12-19T00:00:00+00:00",
          "2023-12-20T00:00:00+00:00",
          "2023-12-21T00:00:00+00:00",
          "2023-12-22T00:00:00+00:00",
          "2023-12-23T00:00:00+00:00",
          "2023-12-24T00:00:00+00:00",
          "2023-12-25T00:00:00+00:00",
          "2023-12-26T00:00:00+00:00",
          "2023-12-27T00:00:00+00:00",
          "2023-12-28T00:00:00+00:00",
          "2023-12-29T00:00:00+00:00",
          "2023-12-30T00:00:00+00:00",
          "2023-12-31T00:00:00+00:00",
          "2024-01-01T00:00:00+00:00",
          "2024-01-02T00:00:00+00:00",
          "2024-01-03T00:00:00+00:00",
          "2024-01-04T00:00:00+00:00",
          "2024-01-05T00:00:00+00:00",
          "2024-01-06T00:00:00+00:00",
          "2024-01-07T00:00:00+00:00",
          "2024-01-08T00:00:00+00:00",
          "2024-01-09T00:00:00+00:00",
          "2024-01-10T00:00:00+00:00",
          "2024-01-11T00:00:00+00:00",
          "2024-01-12T00:00:00+00:00",
          "2024-01-13T00:00:00+00:00",
          "2024-01-14T00:00:00+00:00",
          "2024-01-15T00:00:00+00:00",
          "2024-01-16T00:00:00+00:00",
          "2024-01-17T00:00:00+00:00",
          "2024-01-18T00:00:00+00:00",
          "2024-01-19T00:00:00+00:00",
          "2024-01-20T00:00:00+00:00",
          "2024-01-21T00:00:00+00:00",
          "2024-01-22T00:00:00+00:00",
          "2024-01-23T00:00:00+00:00",
          "2024-01-24T00:00:00+00:00",
          "2024-01-25T00:00:00+00:00",
          "2024-01-26T00:00:00+00:00",
          "2024-01-27T00:00:00+00:00",
          "2024-01-28T00:00:00+00:00",
          "2024-01-29T00:00:00+00:00",
          "2024-01-30T00:00:00+00:00",
          "2024-01-31T00:00:00+00:00",
          "2024-02-01T00:00:00+00:00",
          "2024-02-02T00:00:00+00:00",
          "2024-02-03T00:00:00+00:00",
          "2024-02-04T00:00:00+00:00",
          "2024-02-05T00:00:00+00:00",
          "2024-02-06T00:00:00+00:00",
          "2024-02-07T00:00:00+00:00",
          "2024-02-08T00:00:00+00:00",
          "2024-02-09T00:00:00+00:00",
          "2024-02-10T00:00:00+00:00",
          "2024-02-11T00:00:00+00:00",
          "2024-02-12T00:00:00+00:00",
          "2024-02-13T00:00:00+00:00",
          "2024-02-14T00:00:00+00:00",
          "2024-02-15T00:00:00+00:00",
          "2024-02-16T00:00:00+00:00",
          "2024-02-17T00:00:00+00:00",
          "2024-02-18T00:00:00+00:00",
          "2024-02-19T00:00:00+00:00",
          "2024-02-20T00:00:00+00:00",
          "2024-02-21T00:00:00+00:00",
          "2024-02-22T00:00:00+00:00",
          "2024-02-23T00:00:00+00:00",
          "2024-02-24T00:00:00+00:00",
          "2024-02-25T00:00:00+00:00",
          "2024-02-26T00:00:00+00:00",
          "2024-02-27T00:00:00+00:00",
          "2024-02-28T00:00:00+00:00",
          "2024-02-29T00:00:00+00:00",
          "2024-03-01T00:00:00+00:00",
          "2024-03-02T00:00:00+00:00",
          "2024-03-03T00:00:00+00:00",
          "2024-03-04T00:00:00+00:00",
          "2024-03-05T00:00:00+00:00",
          "2024-03-06T00:00:00+00:00",
          "2024-03-07T00:00:00+00:00",
          "2024-03-08T00:00:00+00:00",
          "2024-03-09T00:00:00+00:00",
          "2024-03-10T00:00:00+00:00",
          "2024-03-11T00:00:00+00:00",
          "2024-03-12T00:00:00+00:00",
          "2024-03-13T00:00:00+00:00",
          "2024-03-14T00:00:00+00:00",
          "2024-03-15T00:00:00+00:00",
          "2024-03-16T00:00:00+00:00",
          "2024-03-17T00:00:00+00:00",
          "2024-03-18T00:00:00+00:00",
          "2024-03-19T00:00:00+00:00",
          "2024-03-20T00:00:00+00:00",
          "2024-03-21T00:00:00+00:00",
          "2024-03-22T00:00:00+00:00",
          "2024-03-23T00:00:00+00:00",
          "2024-03-24T00:00:00+00:00",
          "2024-03-25T00:00:00+00:00",
          "2024-03-26T00:00:00+00:00",
          "2024-03-27T00:00:00+00:00",
          "2024-03-28T00:00:00+00:00",
          "2024-03-29T00:00:00+00:00",
          "2024-03-30T00:00:00+00:00",
          "2024-03-31T00:00:00+00:00",
          "2024-04-01T00:00:00+00:00",
          "2024-04-02T00:00:00+00:00",
          "2024-04-03T00:00:00+00:00",
          "2024-04-04T00:00:00+00:00",
          "2024-04-05T00:00:00+00:00",
          "2024-04-06T00:00:00+00:00",
          "2024-04-07T00:00:00+00:00",
          "2024-04-08T00:00:00+00:00",
          "2024-04-09T00:00:00+00:00",
          "2024-04-10T00:00:00+00:00",
          "2024-04-11T00:00:00+00:00",
          "2024-04-12T00:00:00+00:00",
          "2024-04-13T00:00:00+00:00",
          "2024-04-14T00:00:00+00:00",
          "2024-04-15T00:00:00+00:00",
          "2024-04-16T00:00:00+00:00",
          "2024-04-17T00:00:00+00:00",
          "2024-04-18T00:00:00+00:00",
          "2024-04-19T00:00:00+00:00",
          "2024-04-20T00:00:00+00:00",
          "2024-04-21T00:00:00+00:00",
          "2024-04-22T00:00:00+00:00",
          "2024-04-23T00:00:00+00:00",
          "2024-04-24T00:00:00+00:00",
          "2024-04-25T00:00:00+00:00",
          "2024-04-26T00:00:00+00:00",
          "2024-04-27T00:00:00+00:00",
          "2024-04-28T00:00:00+00:00",
          "2024-04-29T00:00:00+00:00",
          "2024-04-30T00:00:00+00:00",
          "2024-05-01T00:00:00+00:00",
          "2024-05-02T00:00:00+00:00",
          "2024-05-03T00:00:00+00:00",
          "2024-05-04T00:00:00+00:00",
          "2024-05-05T00:00:00+00:00",
          "2024-05-06T00:00:00+00:00",
          "2024-05-07T00:00:00+00:00",
          "2024-05-08T00:00:00+00:00",
          "2024-05-09T00:00:00+00:00",
          "2024-05-10T00:00:00+00:00",
          "2024-05-11T00:00:00+00:00",
          "2024-05-12T00:00:00+00:00",
          "2024-05-13T00:00:00+00:00",
          "2024-05-14T00:00:00+00:00",
          "2024-05-15T00:00:00+00:00",
          "2024-05-16T00:00:00+00:00",
          "2024-05-17T00:00:00+00:00",
          "2024-05-18T00:00:00+00:00",
          "2024-05-19T00:00:00+00:00",
          "2024-05-20T00:00:00+00:00",
          "2024-05-21T00:00:00+00:00",
          "2024-05-22T00:00:00+00:00",
          "2024-05-23T00:00:00+00:00",
          "2024-05-24T00:00:00+00:00",
          "2024-05-25T00:00:00+00:00",
          "2024-05-26T00:00:00+00:00",
          "2024-05-27T00:00:00+00:00",
          "2024-05-28T00:00:00+00:00",
          "2024-05-29T00:00:00+00:00",
          "2024-05-30T00:00:00+00:00",
          "2024-05-31T00:00:00+00:00",
          "2024-06-01T00:00:00+00:00",
          "2024-06-02T00:00:00+00:00",
          "2024-06-03T00:00:00+00:00",
          "2024-06-04T00:00:00+00:00",
          "2024-06-05T00:00:00+00:00",
          "2024-06-06T00:00:00+00:00",
          "2024-06-07T00:00:00+00:00",
          "2024-06-08T00:00:00+00:00",
          "2024-06-09T00:00:00+00:00",
          "2024-06-10T00:00:00+00:00",
          "2024-06-11T00:00:00+00:00",
          "2024-06-12T00:00:00+00:00",
          "2024-06-13T00:00:00+00:00",
          "2024-06-14T00:00:00+00:00",
          "2024-06-15T00:00:00+00:00",
          "2024-06-16T00:00:00+00:00",
          "2024-06-17T00:00:00+00:00",
          "2024-06-18T00:00:00+00:00",
          "2024-06-19T00:00:00+00:00",
          "2024-06-20T00:00:00+00:00",
          "2024-06-21T00:00:00+00:00",
          "2024-06-22T00:00:00+00:00",
          "2024-06-23T00:00:00+00:00",
          "2024-06-24T00:00:00+00:00",
          "2024-06-25T00:00:00+00:00",
          "2024-06-26T00:00:00+00:00",
          "2024-06-27T00:00:00+00:00",
          "2024-06-28T00:00:00+00:00",
          "2024-06-29T00:00:00+00:00",
          "2024-06-30T00:00:00+00:00",
          "2024-07-01T00:00:00+00:00",
          "2024-07-02T00:00:00+00:00",
          "2024-07-03T00:00:00+00:00",
          "2024-07-04T00:00:00+00:00",
          "2024-07-05T00:00:00+00:00",
          "2024-07-06T00:00:00+00:00",
          "2024-07-07T00:00:00+00:00",
          "2024-07-08T00:00:00+00:00",
          "2024-07-09T00:00:00+00:00",
          "2024-07-10T00:00:00+00:00",
          "2024-07-11T00:00:00+00:00",
          "2024-07-12T00:00:00+00:00",
          "2024-07-13T00:00:00+00:00",
          "2024-07-14T00:00:00+00:00",
          "2024-07-15T00:00:00+00:00",
          "2024-07-16T00:00:00+00:00",
          "2024-07-17T00:00:00+00:00",
          "2024-07-18T00:00:00+00:00",
          "2024-07-19T00:00:00+00:00",
          "2024-07-20T00:00:00+00:00",
          "2024-07-21T00:00:00+00:00",
          "2024-07-22T00:00:00+00:00",
          "2024-07-23T00:00:00+00:00",
          "2024-07-24T00:00:00+00:00",
          "2024-07-25T00:00:00+00:00",
          "2024-07-26T00:00:00+00:00",
          "2024-07-27T00:00:00+00:00",
          "2024-07-28T00:00:00+00:00",
          "2024-07-29T00:00:00+00:00",
          "2024-07-30T00:00:00+00:00",
          "2024-07-31T00:00:00+00:00",
          "2024-08-01T00:00:00+00:00",
          "2024-08-02T00:00:00+00:00",
          "2024-08-03T00:00:00+00:00",
          "2024-08-04T00:00:00+00:00",
          "2024-08-05T00:00:00+00:00",
          "2024-08-06T00:00:00+00:00",
          "2024-08-07T00:00:00+00:00",
          "2024-08-08T00:00:00+00:00",
          "2024-08-09T00:00:00+00:00",
          "2024-08-10T00:00:00+00:00",
          "2024-08-11T00:00:00+00:00",
          "2024-08-12T00:00:00+00:00",
          "2024-08-13T00:00:00+00:00",
          "2024-08-14T00:00:00+00:00",
          "2024-08-15T00:00:00+00:00",
          "2024-08-16T00:00:00+00:00",
          "2024-08-17T00:00:00+00:00",
          "2024-08-18T00:00:00+00:00",
          "2024-08-19T00:00:00+00:00",
          "2024-08-20T00:00:00+00:00",
          "2024-08-21T00:00:00+00:00",
          "2024-08-22T00:00:00+00:00",
          "2024-08-23T00:00:00+00:00",
          "2024-08-24T00:00:00+00:00",
          "2024-08-25T00:00:00+00:00",
          "2024-08-26T00:00:00+00:00",
          "2024-08-27T00:00:00+00:00",
          "2024-08-28T00:00:00+00:00",
          "2024-08-29T00:00:00+00:00",
          "2024-08-30T00:00:00+00:00",
          "2024-08-31T00:00:00+00:00",
          "2024-09-01T00:00:00+00:00",
          "2024-09-02T00:00:00+00:00",
          "2024-09-03T00:00:00+00:00",
          "2024-09-04T00:00:00+00:00",
          "2024-09-05T00:00:00+00:00",
          "2024-09-06T00:00:00+00:00",
          "2024-09-07T00:00:00+00:00",
          "2024-09-08T00:00:00+00:00",
          "2024-09-09T00:00:00+00:00",
          "2024-09-10T00:00:00+00:00",
          "2024-09-11T00:00:00+00:00",
          "2024-09-12T00:00:00+00:00",
          "2024-09-13T00:00:00+00:00",
          "2024-09-14T00:00:00+00:00",
          "2024-09-15T00:00:00+00:00",
          "2024-09-16T00:00:00+00:00",
          "2024-09-17T00:00:00+00:00",
          "2024-09-18T00:00:00+00:00",
          "2024-09-19T00:00:00+00:00",
          "2024-09-20T00:00:00+00:00",
          "2024-09-21T00:00:00+00:00",
          "2024-09-22T00:00:00+00:00",
          "2024-09-23T00:00:00+00:00",
          "2024-09-24T00:00:00+00:00",
          "2024-09-25T00:00:00+00:00",
          "2024-09-26T00:00:00+00:00",
          "2024-09-27T00:00:00+00:00",
          "2024-09-28T00:00:00+00:00",
          "2024-09-29T00:00:00+00:00",
          "2024-09-30T00:00:00+00:00",
          "2024-10-01T00:00:00+00:00",
          "2024-10-02T00:00:00+00:00",
          "2024-10-03T00:00:00+00:00",
          "2024-10-04T00:00:00+00:00",
          "2024-10-05T00:00:00+00:00",
          "2024-10-06T00:00:00+00:00",
          "2024-10-07T00:00:00+00:00",
          "2024-10-08T00:00:00+00:00",
          "2024-10-09T00:00:00+00:00",
          "2024-10-10T00:00:00+00:00",
          "2024-10-11T00:00:00+00:00",
          "2024-10-12T00:00:00+00:00",
          "2024-10-13T00:00:00+00:00",
          "2024-10-14T00:00:00+00:00",
          "2024-10-15T00:00:00+00:00",
          "2024-10-16T00:00:00+00:00",
          "2024-10-17T00:00:00+00:00",
          "2024-10-18T00:00:00+00:00",
          "2024-10-19T00:00:00+00:00",
          "2024-10-20T00:00:00+00:00",
          "2024-10-21T00:00:00+00:00",
          "2024-10-22T00:00:00+00:00",
          "2024-10-23T00:00:00+00:00",
          "2024-10-24T00:00:00+00:00",
          "2024-10-25T00:00:00+00:00",
          "2024-10-26T00:00:00+00:00",
          "2024-10-27T00:00:00+00:00",
          "2024-10-28T00:00:00+00:00",
          "2024-10-29T00:00:00+00:00",
          "2024-10-30T00:00:00+00:00",
          "2024-10-31T00:00:00+00:00",
          "2024-11-01T00:00:00+00:00",
          "2024-11-02T00:00:00+00:00",
          "2024-11-03T00:00:00+00:00",
          "2024-11-04T00:00:00+00:00",
          "2024-11-05T00:00:00+00:00",
          "2024-11-06T00:00:00+00:00",
          "2024-11-07T00:00:00+00:00",
          "2024-11-08T00:00:00+00:00",
          "2024-11-09T00:00:00+00:00",
          "2024-11-10T00:00:00+00:00",
          "2024-11-11T00:00:00+00:00",
          "2024-11-12T00:00:00+00:00",
          "2024-11-13T00:00:00+00:00",
          "2024-11-14T00:00:00+00:00",
          "2024-11-15T00:00:00+00:00",
          "2024-11-16T00:00:00+00:00",
          "2024-11-17T00:00:00+00:00",
          "2024-11-18T00:00:00+00:00",
          "2024-11-19T00:00:00+00:00",
          "2024-11-20T00:00:00+00:00",
          "2024-11-21T00:00:00+00:00",
          "2024-11-22T00:00:00+00:00",
          "2024-11-23T00:00:00+00:00",
          "2024-11-24T00:00:00+00:00",
          "2024-11-25T00:00:00+00:00",
          "2024-11-26T00:00:00+00:00",
          "2024-11-27T00:00:00+00:00",
          "2024-11-28T00:00:00+00:00",
          "2024-11-29T00:00:00+00:00",
          "2024-11-30T00:00:00+00:00",
          "2024-12-01T00:00:00+00:00",
          "2024-12-02T00:00:00+00:00",
          "2024-12-03T00:00:00+00:00",
          "2024-12-04T00:00:00+00:00",
          "2024-12-05T00:00:00+00:00",
          "2024-12-06T00:00:00+00:00",
          "2024-12-07T00:00:00+00:00",
          "2024-12-08T00:00:00+00:00",
          "2024-12-09T00:00:00+00:00",
          "2024-12-10T00:00:00+00:00",
          "2024-12-11T00:00:00+00:00",
          "2024-12-12T00:00:00+00:00",
          "2024-12-13T00:00:00+00:00",
          "2024-12-14T00:00:00+00:00",
          "2024-12-15T00:00:00+00:00",
          "2024-12-16T00:00:00+00:00",
          "2024-12-17T00:00:00+00:00",
          "2024-12-18T00:00:00+00:00",
          "2024-12-19T00:00:00+00:00",
          "2024-12-20T00:00:00+00:00",
          "2024-12-21T00:00:00+00:00",
          "2024-12-22T00:00:00+00:00",
          "2024-12-23T00:00:00+00:00",
          "2024-12-24T00:00:00+00:00",
          "2024-12-25T00:00:00+00:00",
          "2024-12-26T00:00:00+00:00",
          "2024-12-27T00:00:00+00:00",
          "2024-12-28T00:00:00+00:00",
          "2024-12-29T00:00:00+00:00",
          "2024-12-30T00:00:00+00:00",
          "2024-12-31T00:00:00+00:00",
          "2025-01-01T00:00:00+00:00",
          "2025-01-02T00:00:00+00:00",
          "2025-01-03T00:00:00+00:00",
          "2025-01-04T00:00:00+00:00",
          "2025-01-05T00:00:00+00:00",
          "2025-01-06T00:00:00+00:00",
          "2025-01-07T00:00:00+00:00",
          "2025-01-08T00:00:00+00:00",
          "2025-01-09T00:00:00+00:00",
          "2025-01-10T00:00:00+00:00",
          "2025-01-11T00:00:00+00:00",
          "2025-01-12T00:00:00+00:00",
          "2025-01-13T00:00:00+00:00",
          "2025-01-14T00:00:00+00:00",
          "2025-01-15T00:00:00+00:00",
          "2025-01-16T00:00:00+00:00",
          "2025-01-17T00:00:00+00:00",
          "2025-01-18T00:00:00+00:00",
          "2025-01-19T00:00:00+00:00",
          "2025-01-20T00:00:00+00:00",
          "2025-01-21T00:00:00+00:00",
          "2025-01-22T00:00:00+00:00",
          "2025-01-23T00:00:00+00:00",
          "2025-01-24T00:00:00+00:00",
          "2025-01-25T00:00:00+00:00",
          "2025-01-26T00:00:00+00:00",
          "2025-01-27T00:00:00+00:00",
          "2025-01-28T00:00:00+00:00",
          "2025-01-29T00:00:00+00:00",
          "2025-01-30T00:00:00+00:00"
         ]
        },
        {
         "marker": {
          "color": "yellow",
          "size": 20
         },
         "mode": "lines",
         "name": "200 MA",
         "type": "scatter",
         "x": [
          "2023-01-09T00:00:00+00:00",
          "2023-01-10T00:00:00+00:00",
          "2023-01-11T00:00:00+00:00",
          "2023-01-12T00:00:00+00:00",
          "2023-01-13T00:00:00+00:00",
          "2023-01-14T00:00:00+00:00",
          "2023-01-15T00:00:00+00:00",
          "2023-01-16T00:00:00+00:00",
          "2023-01-17T00:00:00+00:00",
          "2023-01-18T00:00:00+00:00",
          "2023-01-19T00:00:00+00:00",
          "2023-01-20T00:00:00+00:00",
          "2023-01-21T00:00:00+00:00",
          "2023-01-22T00:00:00+00:00",
          "2023-01-23T00:00:00+00:00",
          "2023-01-24T00:00:00+00:00",
          "2023-01-25T00:00:00+00:00",
          "2023-01-26T00:00:00+00:00",
          "2023-01-27T00:00:00+00:00",
          "2023-01-28T00:00:00+00:00",
          "2023-01-29T00:00:00+00:00",
          "2023-01-30T00:00:00+00:00",
          "2023-01-31T00:00:00+00:00",
          "2023-02-01T00:00:00+00:00",
          "2023-02-02T00:00:00+00:00",
          "2023-02-03T00:00:00+00:00",
          "2023-02-04T00:00:00+00:00",
          "2023-02-05T00:00:00+00:00",
          "2023-02-06T00:00:00+00:00",
          "2023-02-07T00:00:00+00:00",
          "2023-02-08T00:00:00+00:00",
          "2023-02-09T00:00:00+00:00",
          "2023-02-10T00:00:00+00:00",
          "2023-02-11T00:00:00+00:00",
          "2023-02-12T00:00:00+00:00",
          "2023-02-13T00:00:00+00:00",
          "2023-02-14T00:00:00+00:00",
          "2023-02-15T00:00:00+00:00",
          "2023-02-16T00:00:00+00:00",
          "2023-02-17T00:00:00+00:00",
          "2023-02-18T00:00:00+00:00",
          "2023-02-19T00:00:00+00:00",
          "2023-02-20T00:00:00+00:00",
          "2023-02-21T00:00:00+00:00",
          "2023-02-22T00:00:00+00:00",
          "2023-02-23T00:00:00+00:00",
          "2023-02-24T00:00:00+00:00",
          "2023-02-25T00:00:00+00:00",
          "2023-02-26T00:00:00+00:00",
          "2023-02-27T00:00:00+00:00",
          "2023-02-28T00:00:00+00:00",
          "2023-03-01T00:00:00+00:00",
          "2023-03-02T00:00:00+00:00",
          "2023-03-03T00:00:00+00:00",
          "2023-03-04T00:00:00+00:00",
          "2023-03-05T00:00:00+00:00",
          "2023-03-06T00:00:00+00:00",
          "2023-03-07T00:00:00+00:00",
          "2023-03-08T00:00:00+00:00",
          "2023-03-09T00:00:00+00:00",
          "2023-03-10T00:00:00+00:00",
          "2023-03-11T00:00:00+00:00",
          "2023-03-12T00:00:00+00:00",
          "2023-03-13T00:00:00+00:00",
          "2023-03-14T00:00:00+00:00",
          "2023-03-15T00:00:00+00:00",
          "2023-03-16T00:00:00+00:00",
          "2023-03-17T00:00:00+00:00",
          "2023-03-18T00:00:00+00:00",
          "2023-03-19T00:00:00+00:00",
          "2023-03-20T00:00:00+00:00",
          "2023-03-21T00:00:00+00:00",
          "2023-03-22T00:00:00+00:00",
          "2023-03-23T00:00:00+00:00",
          "2023-03-24T00:00:00+00:00",
          "2023-03-25T00:00:00+00:00",
          "2023-03-26T00:00:00+00:00",
          "2023-03-27T00:00:00+00:00",
          "2023-03-28T00:00:00+00:00",
          "2023-03-29T00:00:00+00:00",
          "2023-03-30T00:00:00+00:00",
          "2023-03-31T00:00:00+00:00",
          "2023-04-01T00:00:00+00:00",
          "2023-04-02T00:00:00+00:00",
          "2023-04-03T00:00:00+00:00",
          "2023-04-04T00:00:00+00:00",
          "2023-04-05T00:00:00+00:00",
          "2023-04-06T00:00:00+00:00",
          "2023-04-07T00:00:00+00:00",
          "2023-04-08T00:00:00+00:00",
          "2023-04-09T00:00:00+00:00",
          "2023-04-10T00:00:00+00:00",
          "2023-04-11T00:00:00+00:00",
          "2023-04-12T00:00:00+00:00",
          "2023-04-13T00:00:00+00:00",
          "2023-04-14T00:00:00+00:00",
          "2023-04-15T00:00:00+00:00",
          "2023-04-16T00:00:00+00:00",
          "2023-04-17T00:00:00+00:00",
          "2023-04-18T00:00:00+00:00",
          "2023-04-19T00:00:00+00:00",
          "2023-04-20T00:00:00+00:00",
          "2023-04-21T00:00:00+00:00",
          "2023-04-22T00:00:00+00:00",
          "2023-04-23T00:00:00+00:00",
          "2023-04-24T00:00:00+00:00",
          "2023-04-25T00:00:00+00:00",
          "2023-04-26T00:00:00+00:00",
          "2023-04-27T00:00:00+00:00",
          "2023-04-28T00:00:00+00:00",
          "2023-04-29T00:00:00+00:00",
          "2023-04-30T00:00:00+00:00",
          "2023-05-01T00:00:00+00:00",
          "2023-05-02T00:00:00+00:00",
          "2023-05-03T00:00:00+00:00",
          "2023-05-04T00:00:00+00:00",
          "2023-05-05T00:00:00+00:00",
          "2023-05-06T00:00:00+00:00",
          "2023-05-07T00:00:00+00:00",
          "2023-05-08T00:00:00+00:00",
          "2023-05-09T00:00:00+00:00",
          "2023-05-10T00:00:00+00:00",
          "2023-05-11T00:00:00+00:00",
          "2023-05-12T00:00:00+00:00",
          "2023-05-13T00:00:00+00:00",
          "2023-05-14T00:00:00+00:00",
          "2023-05-15T00:00:00+00:00",
          "2023-05-16T00:00:00+00:00",
          "2023-05-17T00:00:00+00:00",
          "2023-05-18T00:00:00+00:00",
          "2023-05-19T00:00:00+00:00",
          "2023-05-20T00:00:00+00:00",
          "2023-05-21T00:00:00+00:00",
          "2023-05-22T00:00:00+00:00",
          "2023-05-23T00:00:00+00:00",
          "2023-05-24T00:00:00+00:00",
          "2023-05-25T00:00:00+00:00",
          "2023-05-26T00:00:00+00:00",
          "2023-05-27T00:00:00+00:00",
          "2023-05-28T00:00:00+00:00",
          "2023-05-29T00:00:00+00:00",
          "2023-05-30T00:00:00+00:00",
          "2023-05-31T00:00:00+00:00",
          "2023-06-01T00:00:00+00:00",
          "2023-06-02T00:00:00+00:00",
          "2023-06-03T00:00:00+00:00",
          "2023-06-04T00:00:00+00:00",
          "2023-06-05T00:00:00+00:00",
          "2023-06-06T00:00:00+00:00",
          "2023-06-07T00:00:00+00:00",
          "2023-06-08T00:00:00+00:00",
          "2023-06-09T00:00:00+00:00",
          "2023-06-10T00:00:00+00:00",
          "2023-06-11T00:00:00+00:00",
          "2023-06-12T00:00:00+00:00",
          "2023-06-13T00:00:00+00:00",
          "2023-06-14T00:00:00+00:00",
          "2023-06-15T00:00:00+00:00",
          "2023-06-16T00:00:00+00:00",
          "2023-06-17T00:00:00+00:00",
          "2023-06-18T00:00:00+00:00",
          "2023-06-19T00:00:00+00:00",
          "2023-06-20T00:00:00+00:00",
          "2023-06-21T00:00:00+00:00",
          "2023-06-22T00:00:00+00:00",
          "2023-06-23T00:00:00+00:00",
          "2023-06-24T00:00:00+00:00",
          "2023-06-25T00:00:00+00:00",
          "2023-06-26T00:00:00+00:00",
          "2023-06-27T00:00:00+00:00",
          "2023-06-28T00:00:00+00:00",
          "2023-06-29T00:00:00+00:00",
          "2023-06-30T00:00:00+00:00",
          "2023-07-01T00:00:00+00:00",
          "2023-07-02T00:00:00+00:00",
          "2023-07-03T00:00:00+00:00",
          "2023-07-04T00:00:00+00:00",
          "2023-07-05T00:00:00+00:00",
          "2023-07-06T00:00:00+00:00",
          "2023-07-07T00:00:00+00:00",
          "2023-07-08T00:00:00+00:00",
          "2023-07-09T00:00:00+00:00",
          "2023-07-10T00:00:00+00:00",
          "2023-07-11T00:00:00+00:00",
          "2023-07-12T00:00:00+00:00",
          "2023-07-13T00:00:00+00:00",
          "2023-07-14T00:00:00+00:00",
          "2023-07-15T00:00:00+00:00",
          "2023-07-16T00:00:00+00:00",
          "2023-07-17T00:00:00+00:00",
          "2023-07-18T00:00:00+00:00",
          "2023-07-19T00:00:00+00:00",
          "2023-07-20T00:00:00+00:00",
          "2023-07-21T00:00:00+00:00",
          "2023-07-22T00:00:00+00:00",
          "2023-07-23T00:00:00+00:00",
          "2023-07-24T00:00:00+00:00",
          "2023-07-25T00:00:00+00:00",
          "2023-07-26T00:00:00+00:00",
          "2023-07-27T00:00:00+00:00",
          "2023-07-28T00:00:00+00:00",
          "2023-07-29T00:00:00+00:00",
          "2023-07-30T00:00:00+00:00",
          "2023-07-31T00:00:00+00:00",
          "2023-08-01T00:00:00+00:00",
          "2023-08-02T00:00:00+00:00",
          "2023-08-03T00:00:00+00:00",
          "2023-08-04T00:00:00+00:00",
          "2023-08-05T00:00:00+00:00",
          "2023-08-06T00:00:00+00:00",
          "2023-08-07T00:00:00+00:00",
          "2023-08-08T00:00:00+00:00",
          "2023-08-09T00:00:00+00:00",
          "2023-08-10T00:00:00+00:00",
          "2023-08-11T00:00:00+00:00",
          "2023-08-12T00:00:00+00:00",
          "2023-08-13T00:00:00+00:00",
          "2023-08-14T00:00:00+00:00",
          "2023-08-15T00:00:00+00:00",
          "2023-08-16T00:00:00+00:00",
          "2023-08-17T00:00:00+00:00",
          "2023-08-18T00:00:00+00:00",
          "2023-08-19T00:00:00+00:00",
          "2023-08-20T00:00:00+00:00",
          "2023-08-21T00:00:00+00:00",
          "2023-08-22T00:00:00+00:00",
          "2023-08-23T00:00:00+00:00",
          "2023-08-24T00:00:00+00:00",
          "2023-08-25T00:00:00+00:00",
          "2023-08-26T00:00:00+00:00",
          "2023-08-27T00:00:00+00:00",
          "2023-08-28T00:00:00+00:00",
          "2023-08-29T00:00:00+00:00",
          "2023-08-30T00:00:00+00:00",
          "2023-08-31T00:00:00+00:00",
          "2023-09-01T00:00:00+00:00",
          "2023-09-02T00:00:00+00:00",
          "2023-09-03T00:00:00+00:00",
          "2023-09-04T00:00:00+00:00",
          "2023-09-05T00:00:00+00:00",
          "2023-09-06T00:00:00+00:00",
          "2023-09-07T00:00:00+00:00",
          "2023-09-08T00:00:00+00:00",
          "2023-09-09T00:00:00+00:00",
          "2023-09-10T00:00:00+00:00",
          "2023-09-11T00:00:00+00:00",
          "2023-09-12T00:00:00+00:00",
          "2023-09-13T00:00:00+00:00",
          "2023-09-14T00:00:00+00:00",
          "2023-09-15T00:00:00+00:00",
          "2023-09-16T00:00:00+00:00",
          "2023-09-17T00:00:00+00:00",
          "2023-09-18T00:00:00+00:00",
          "2023-09-19T00:00:00+00:00",
          "2023-09-20T00:00:00+00:00",
          "2023-09-21T00:00:00+00:00",
          "2023-09-22T00:00:00+00:00",
          "2023-09-23T00:00:00+00:00",
          "2023-09-24T00:00:00+00:00",
          "2023-09-25T00:00:00+00:00",
          "2023-09-26T00:00:00+00:00",
          "2023-09-27T00:00:00+00:00",
          "2023-09-28T00:00:00+00:00",
          "2023-09-29T00:00:00+00:00",
          "2023-09-30T00:00:00+00:00",
          "2023-10-01T00:00:00+00:00",
          "2023-10-02T00:00:00+00:00",
          "2023-10-03T00:00:00+00:00",
          "2023-10-04T00:00:00+00:00",
          "2023-10-05T00:00:00+00:00",
          "2023-10-06T00:00:00+00:00",
          "2023-10-07T00:00:00+00:00",
          "2023-10-08T00:00:00+00:00",
          "2023-10-09T00:00:00+00:00",
          "2023-10-10T00:00:00+00:00",
          "2023-10-11T00:00:00+00:00",
          "2023-10-12T00:00:00+00:00",
          "2023-10-13T00:00:00+00:00",
          "2023-10-14T00:00:00+00:00",
          "2023-10-15T00:00:00+00:00",
          "2023-10-16T00:00:00+00:00",
          "2023-10-17T00:00:00+00:00",
          "2023-10-18T00:00:00+00:00",
          "2023-10-19T00:00:00+00:00",
          "2023-10-20T00:00:00+00:00",
          "2023-10-21T00:00:00+00:00",
          "2023-10-22T00:00:00+00:00",
          "2023-10-23T00:00:00+00:00",
          "2023-10-24T00:00:00+00:00",
          "2023-10-25T00:00:00+00:00",
          "2023-10-26T00:00:00+00:00",
          "2023-10-27T00:00:00+00:00",
          "2023-10-28T00:00:00+00:00",
          "2023-10-29T00:00:00+00:00",
          "2023-10-30T00:00:00+00:00",
          "2023-10-31T00:00:00+00:00",
          "2023-11-01T00:00:00+00:00",
          "2023-11-02T00:00:00+00:00",
          "2023-11-03T00:00:00+00:00",
          "2023-11-04T00:00:00+00:00",
          "2023-11-05T00:00:00+00:00",
          "2023-11-06T00:00:00+00:00",
          "2023-11-07T00:00:00+00:00",
          "2023-11-08T00:00:00+00:00",
          "2023-11-09T00:00:00+00:00",
          "2023-11-10T00:00:00+00:00",
          "2023-11-11T00:00:00+00:00",
          "2023-11-12T00:00:00+00:00",
          "2023-11-13T00:00:00+00:00",
          "2023-11-14T00:00:00+00:00",
          "2023-11-15T00:00:00+00:00",
          "2023-11-16T00:00:00+00:00",
          "2023-11-17T00:00:00+00:00",
          "2023-11-18T00:00:00+00:00",
          "2023-11-19T00:00:00+00:00",
          "2023-11-20T00:00:00+00:00",
          "2023-11-21T00:00:00+00:00",
          "2023-11-22T00:00:00+00:00",
          "2023-11-23T00:00:00+00:00",
          "2023-11-24T00:00:00+00:00",
          "2023-11-25T00:00:00+00:00",
          "2023-11-26T00:00:00+00:00",
          "2023-11-27T00:00:00+00:00",
          "2023-11-28T00:00:00+00:00",
          "2023-11-29T00:00:00+00:00",
          "2023-11-30T00:00:00+00:00",
          "2023-12-01T00:00:00+00:00",
          "2023-12-02T00:00:00+00:00",
          "2023-12-03T00:00:00+00:00",
          "2023-12-04T00:00:00+00:00",
          "2023-12-05T00:00:00+00:00",
          "2023-12-06T00:00:00+00:00",
          "2023-12-07T00:00:00+00:00",
          "2023-12-08T00:00:00+00:00",
          "2023-12-09T00:00:00+00:00",
          "2023-12-10T00:00:00+00:00",
          "2023-12-11T00:00:00+00:00",
          "2023-12-12T00:00:00+00:00",
          "2023-12-13T00:00:00+00:00",
          "2023-12-14T00:00:00+00:00",
          "2023-12-15T00:00:00+00:00",
          "2023-12-16T00:00:00+00:00",
          "2023-12-17T00:00:00+00:00",
          "2023-12-18T00:00:00+00:00",
          "2023-12-19T00:00:00+00:00",
          "2023-12-20T00:00:00+00:00",
          "2023-12-21T00:00:00+00:00",
          "2023-12-22T00:00:00+00:00",
          "2023-12-23T00:00:00+00:00",
          "2023-12-24T00:00:00+00:00",
          "2023-12-25T00:00:00+00:00",
          "2023-12-26T00:00:00+00:00",
          "2023-12-27T00:00:00+00:00",
          "2023-12-28T00:00:00+00:00",
          "2023-12-29T00:00:00+00:00",
          "2023-12-30T00:00:00+00:00",
          "2023-12-31T00:00:00+00:00",
          "2024-01-01T00:00:00+00:00",
          "2024-01-02T00:00:00+00:00",
          "2024-01-03T00:00:00+00:00",
          "2024-01-04T00:00:00+00:00",
          "2024-01-05T00:00:00+00:00",
          "2024-01-06T00:00:00+00:00",
          "2024-01-07T00:00:00+00:00",
          "2024-01-08T00:00:00+00:00",
          "2024-01-09T00:00:00+00:00",
          "2024-01-10T00:00:00+00:00",
          "2024-01-11T00:00:00+00:00",
          "2024-01-12T00:00:00+00:00",
          "2024-01-13T00:00:00+00:00",
          "2024-01-14T00:00:00+00:00",
          "2024-01-15T00:00:00+00:00",
          "2024-01-16T00:00:00+00:00",
          "2024-01-17T00:00:00+00:00",
          "2024-01-18T00:00:00+00:00",
          "2024-01-19T00:00:00+00:00",
          "2024-01-20T00:00:00+00:00",
          "2024-01-21T00:00:00+00:00",
          "2024-01-22T00:00:00+00:00",
          "2024-01-23T00:00:00+00:00",
          "2024-01-24T00:00:00+00:00",
          "2024-01-25T00:00:00+00:00",
          "2024-01-26T00:00:00+00:00",
          "2024-01-27T00:00:00+00:00",
          "2024-01-28T00:00:00+00:00",
          "2024-01-29T00:00:00+00:00",
          "2024-01-30T00:00:00+00:00",
          "2024-01-31T00:00:00+00:00",
          "2024-02-01T00:00:00+00:00",
          "2024-02-02T00:00:00+00:00",
          "2024-02-03T00:00:00+00:00",
          "2024-02-04T00:00:00+00:00",
          "2024-02-05T00:00:00+00:00",
          "2024-02-06T00:00:00+00:00",
          "2024-02-07T00:00:00+00:00",
          "2024-02-08T00:00:00+00:00",
          "2024-02-09T00:00:00+00:00",
          "2024-02-10T00:00:00+00:00",
          "2024-02-11T00:00:00+00:00",
          "2024-02-12T00:00:00+00:00",
          "2024-02-13T00:00:00+00:00",
          "2024-02-14T00:00:00+00:00",
          "2024-02-15T00:00:00+00:00",
          "2024-02-16T00:00:00+00:00",
          "2024-02-17T00:00:00+00:00",
          "2024-02-18T00:00:00+00:00",
          "2024-02-19T00:00:00+00:00",
          "2024-02-20T00:00:00+00:00",
          "2024-02-21T00:00:00+00:00",
          "2024-02-22T00:00:00+00:00",
          "2024-02-23T00:00:00+00:00",
          "2024-02-24T00:00:00+00:00",
          "2024-02-25T00:00:00+00:00",
          "2024-02-26T00:00:00+00:00",
          "2024-02-27T00:00:00+00:00",
          "2024-02-28T00:00:00+00:00",
          "2024-02-29T00:00:00+00:00",
          "2024-03-01T00:00:00+00:00",
          "2024-03-02T00:00:00+00:00",
          "2024-03-03T00:00:00+00:00",
          "2024-03-04T00:00:00+00:00",
          "2024-03-05T00:00:00+00:00",
          "2024-03-06T00:00:00+00:00",
          "2024-03-07T00:00:00+00:00",
          "2024-03-08T00:00:00+00:00",
          "2024-03-09T00:00:00+00:00",
          "2024-03-10T00:00:00+00:00",
          "2024-03-11T00:00:00+00:00",
          "2024-03-12T00:00:00+00:00",
          "2024-03-13T00:00:00+00:00",
          "2024-03-14T00:00:00+00:00",
          "2024-03-15T00:00:00+00:00",
          "2024-03-16T00:00:00+00:00",
          "2024-03-17T00:00:00+00:00",
          "2024-03-18T00:00:00+00:00",
          "2024-03-19T00:00:00+00:00",
          "2024-03-20T00:00:00+00:00",
          "2024-03-21T00:00:00+00:00",
          "2024-03-22T00:00:00+00:00",
          "2024-03-23T00:00:00+00:00",
          "2024-03-24T00:00:00+00:00",
          "2024-03-25T00:00:00+00:00",
          "2024-03-26T00:00:00+00:00",
          "2024-03-27T00:00:00+00:00",
          "2024-03-28T00:00:00+00:00",
          "2024-03-29T00:00:00+00:00",
          "2024-03-30T00:00:00+00:00",
          "2024-03-31T00:00:00+00:00",
          "2024-04-01T00:00:00+00:00",
          "2024-04-02T00:00:00+00:00",
          "2024-04-03T00:00:00+00:00",
          "2024-04-04T00:00:00+00:00",
          "2024-04-05T00:00:00+00:00",
          "2024-04-06T00:00:00+00:00",
          "2024-04-07T00:00:00+00:00",
          "2024-04-08T00:00:00+00:00",
          "2024-04-09T00:00:00+00:00",
          "2024-04-10T00:00:00+00:00",
          "2024-04-11T00:00:00+00:00",
          "2024-04-12T00:00:00+00:00",
          "2024-04-13T00:00:00+00:00",
          "2024-04-14T00:00:00+00:00",
          "2024-04-15T00:00:00+00:00",
          "2024-04-16T00:00:00+00:00",
          "2024-04-17T00:00:00+00:00",
          "2024-04-18T00:00:00+00:00",
          "2024-04-19T00:00:00+00:00",
          "2024-04-20T00:00:00+00:00",
          "2024-04-21T00:00:00+00:00",
          "2024-04-22T00:00:00+00:00",
          "2024-04-23T00:00:00+00:00",
          "2024-04-24T00:00:00+00:00",
          "2024-04-25T00:00:00+00:00",
          "2024-04-26T00:00:00+00:00",
          "2024-04-27T00:00:00+00:00",
          "2024-04-28T00:00:00+00:00",
          "2024-04-29T00:00:00+00:00",
          "2024-04-30T00:00:00+00:00",
          "2024-05-01T00:00:00+00:00",
          "2024-05-02T00:00:00+00:00",
          "2024-05-03T00:00:00+00:00",
          "2024-05-04T00:00:00+00:00",
          "2024-05-05T00:00:00+00:00",
          "2024-05-06T00:00:00+00:00",
          "2024-05-07T00:00:00+00:00",
          "2024-05-08T00:00:00+00:00",
          "2024-05-09T00:00:00+00:00",
          "2024-05-10T00:00:00+00:00",
          "2024-05-11T00:00:00+00:00",
          "2024-05-12T00:00:00+00:00",
          "2024-05-13T00:00:00+00:00",
          "2024-05-14T00:00:00+00:00",
          "2024-05-15T00:00:00+00:00",
          "2024-05-16T00:00:00+00:00",
          "2024-05-17T00:00:00+00:00",
          "2024-05-18T00:00:00+00:00",
          "2024-05-19T00:00:00+00:00",
          "2024-05-20T00:00:00+00:00",
          "2024-05-21T00:00:00+00:00",
          "2024-05-22T00:00:00+00:00",
          "2024-05-23T00:00:00+00:00",
          "2024-05-24T00:00:00+00:00",
          "2024-05-25T00:00:00+00:00",
          "2024-05-26T00:00:00+00:00",
          "2024-05-27T00:00:00+00:00",
          "2024-05-28T00:00:00+00:00",
          "2024-05-29T00:00:00+00:00",
          "2024-05-30T00:00:00+00:00",
          "2024-05-31T00:00:00+00:00",
          "2024-06-01T00:00:00+00:00",
          "2024-06-02T00:00:00+00:00",
          "2024-06-03T00:00:00+00:00",
          "2024-06-04T00:00:00+00:00",
          "2024-06-05T00:00:00+00:00",
          "2024-06-06T00:00:00+00:00",
          "2024-06-07T00:00:00+00:00",
          "2024-06-08T00:00:00+00:00",
          "2024-06-09T00:00:00+00:00",
          "2024-06-10T00:00:00+00:00",
          "2024-06-11T00:00:00+00:00",
          "2024-06-12T00:00:00+00:00",
          "2024-06-13T00:00:00+00:00",
          "2024-06-14T00:00:00+00:00",
          "2024-06-15T00:00:00+00:00",
          "2024-06-16T00:00:00+00:00",
          "2024-06-17T00:00:00+00:00",
          "2024-06-18T00:00:00+00:00",
          "2024-06-19T00:00:00+00:00",
          "2024-06-20T00:00:00+00:00",
          "2024-06-21T00:00:00+00:00",
          "2024-06-22T00:00:00+00:00",
          "2024-06-23T00:00:00+00:00",
          "2024-06-24T00:00:00+00:00",
          "2024-06-25T00:00:00+00:00",
          "2024-06-26T00:00:00+00:00",
          "2024-06-27T00:00:00+00:00",
          "2024-06-28T00:00:00+00:00",
          "2024-06-29T00:00:00+00:00",
          "2024-06-30T00:00:00+00:00",
          "2024-07-01T00:00:00+00:00",
          "2024-07-02T00:00:00+00:00",
          "2024-07-03T00:00:00+00:00",
          "2024-07-04T00:00:00+00:00",
          "2024-07-05T00:00:00+00:00",
          "2024-07-06T00:00:00+00:00",
          "2024-07-07T00:00:00+00:00",
          "2024-07-08T00:00:00+00:00",
          "2024-07-09T00:00:00+00:00",
          "2024-07-10T00:00:00+00:00",
          "2024-07-11T00:00:00+00:00",
          "2024-07-12T00:00:00+00:00",
          "2024-07-13T00:00:00+00:00",
          "2024-07-14T00:00:00+00:00",
          "2024-07-15T00:00:00+00:00",
          "2024-07-16T00:00:00+00:00",
          "2024-07-17T00:00:00+00:00",
          "2024-07-18T00:00:00+00:00",
          "2024-07-19T00:00:00+00:00",
          "2024-07-20T00:00:00+00:00",
          "2024-07-21T00:00:00+00:00",
          "2024-07-22T00:00:00+00:00",
          "2024-07-23T00:00:00+00:00",
          "2024-07-24T00:00:00+00:00",
          "2024-07-25T00:00:00+00:00",
          "2024-07-26T00:00:00+00:00",
          "2024-07-27T00:00:00+00:00",
          "2024-07-28T00:00:00+00:00",
          "2024-07-29T00:00:00+00:00",
          "2024-07-30T00:00:00+00:00",
          "2024-07-31T00:00:00+00:00",
          "2024-08-01T00:00:00+00:00",
          "2024-08-02T00:00:00+00:00",
          "2024-08-03T00:00:00+00:00",
          "2024-08-04T00:00:00+00:00",
          "2024-08-05T00:00:00+00:00",
          "2024-08-06T00:00:00+00:00",
          "2024-08-07T00:00:00+00:00",
          "2024-08-08T00:00:00+00:00",
          "2024-08-09T00:00:00+00:00",
          "2024-08-10T00:00:00+00:00",
          "2024-08-11T00:00:00+00:00",
          "2024-08-12T00:00:00+00:00",
          "2024-08-13T00:00:00+00:00",
          "2024-08-14T00:00:00+00:00",
          "2024-08-15T00:00:00+00:00",
          "2024-08-16T00:00:00+00:00",
          "2024-08-17T00:00:00+00:00",
          "2024-08-18T00:00:00+00:00",
          "2024-08-19T00:00:00+00:00",
          "2024-08-20T00:00:00+00:00",
          "2024-08-21T00:00:00+00:00",
          "2024-08-22T00:00:00+00:00",
          "2024-08-23T00:00:00+00:00",
          "2024-08-24T00:00:00+00:00",
          "2024-08-25T00:00:00+00:00",
          "2024-08-26T00:00:00+00:00",
          "2024-08-27T00:00:00+00:00",
          "2024-08-28T00:00:00+00:00",
          "2024-08-29T00:00:00+00:00",
          "2024-08-30T00:00:00+00:00",
          "2024-08-31T00:00:00+00:00",
          "2024-09-01T00:00:00+00:00",
          "2024-09-02T00:00:00+00:00",
          "2024-09-03T00:00:00+00:00",
          "2024-09-04T00:00:00+00:00",
          "2024-09-05T00:00:00+00:00",
          "2024-09-06T00:00:00+00:00",
          "2024-09-07T00:00:00+00:00",
          "2024-09-08T00:00:00+00:00",
          "2024-09-09T00:00:00+00:00",
          "2024-09-10T00:00:00+00:00",
          "2024-09-11T00:00:00+00:00",
          "2024-09-12T00:00:00+00:00",
          "2024-09-13T00:00:00+00:00",
          "2024-09-14T00:00:00+00:00",
          "2024-09-15T00:00:00+00:00",
          "2024-09-16T00:00:00+00:00",
          "2024-09-17T00:00:00+00:00",
          "2024-09-18T00:00:00+00:00",
          "2024-09-19T00:00:00+00:00",
          "2024-09-20T00:00:00+00:00",
          "2024-09-21T00:00:00+00:00",
          "2024-09-22T00:00:00+00:00",
          "2024-09-23T00:00:00+00:00",
          "2024-09-24T00:00:00+00:00",
          "2024-09-25T00:00:00+00:00",
          "2024-09-26T00:00:00+00:00",
          "2024-09-27T00:00:00+00:00",
          "2024-09-28T00:00:00+00:00",
          "2024-09-29T00:00:00+00:00",
          "2024-09-30T00:00:00+00:00",
          "2024-10-01T00:00:00+00:00",
          "2024-10-02T00:00:00+00:00",
          "2024-10-03T00:00:00+00:00",
          "2024-10-04T00:00:00+00:00",
          "2024-10-05T00:00:00+00:00",
          "2024-10-06T00:00:00+00:00",
          "2024-10-07T00:00:00+00:00",
          "2024-10-08T00:00:00+00:00",
          "2024-10-09T00:00:00+00:00",
          "2024-10-10T00:00:00+00:00",
          "2024-10-11T00:00:00+00:00",
          "2024-10-12T00:00:00+00:00",
          "2024-10-13T00:00:00+00:00",
          "2024-10-14T00:00:00+00:00",
          "2024-10-15T00:00:00+00:00",
          "2024-10-16T00:00:00+00:00",
          "2024-10-17T00:00:00+00:00",
          "2024-10-18T00:00:00+00:00",
          "2024-10-19T00:00:00+00:00",
          "2024-10-20T00:00:00+00:00",
          "2024-10-21T00:00:00+00:00",
          "2024-10-22T00:00:00+00:00",
          "2024-10-23T00:00:00+00:00",
          "2024-10-24T00:00:00+00:00",
          "2024-10-25T00:00:00+00:00",
          "2024-10-26T00:00:00+00:00",
          "2024-10-27T00:00:00+00:00",
          "2024-10-28T00:00:00+00:00",
          "2024-10-29T00:00:00+00:00",
          "2024-10-30T00:00:00+00:00",
          "2024-10-31T00:00:00+00:00",
          "2024-11-01T00:00:00+00:00",
          "2024-11-02T00:00:00+00:00",
          "2024-11-03T00:00:00+00:00",
          "2024-11-04T00:00:00+00:00",
          "2024-11-05T00:00:00+00:00",
          "2024-11-06T00:00:00+00:00",
          "2024-11-07T00:00:00+00:00",
          "2024-11-08T00:00:00+00:00",
          "2024-11-09T00:00:00+00:00",
          "2024-11-10T00:00:00+00:00",
          "2024-11-11T00:00:00+00:00",
          "2024-11-12T00:00:00+00:00",
          "2024-11-13T00:00:00+00:00",
          "2024-11-14T00:00:00+00:00",
          "2024-11-15T00:00:00+00:00",
          "2024-11-16T00:00:00+00:00",
          "2024-11-17T00:00:00+00:00",
          "2024-11-18T00:00:00+00:00",
          "2024-11-19T00:00:00+00:00",
          "2024-11-20T00:00:00+00:00",
          "2024-11-21T00:00:00+00:00",
          "2024-11-22T00:00:00+00:00",
          "2024-11-23T00:00:00+00:00",
          "2024-11-24T00:00:00+00:00",
          "2024-11-25T00:00:00+00:00",
          "2024-11-26T00:00:00+00:00",
          "2024-11-27T00:00:00+00:00",
          "2024-11-28T00:00:00+00:00",
          "2024-11-29T00:00:00+00:00",
          "2024-11-30T00:00:00+00:00",
          "2024-12-01T00:00:00+00:00",
          "2024-12-02T00:00:00+00:00",
          "2024-12-03T00:00:00+00:00",
          "2024-12-04T00:00:00+00:00",
          "2024-12-05T00:00:00+00:00",
          "2024-12-06T00:00:00+00:00",
          "2024-12-07T00:00:00+00:00",
          "2024-12-08T00:00:00+00:00",
          "2024-12-09T00:00:00+00:00",
          "2024-12-10T00:00:00+00:00",
          "2024-12-11T00:00:00+00:00",
          "2024-12-12T00:00:00+00:00",
          "2024-12-13T00:00:00+00:00",
          "2024-12-14T00:00:00+00:00",
          "2024-12-15T00:00:00+00:00",
          "2024-12-16T00:00:00+00:00",
          "2024-12-17T00:00:00+00:00",
          "2024-12-18T00:00:00+00:00",
          "2024-12-19T00:00:00+00:00",
          "2024-12-20T00:00:00+00:00",
          "2024-12-21T00:00:00+00:00",
          "2024-12-22T00:00:00+00:00",
          "2024-12-23T00:00:00+00:00",
          "2024-12-24T00:00:00+00:00",
          "2024-12-25T00:00:00+00:00",
          "2024-12-26T00:00:00+00:00",
          "2024-12-27T00:00:00+00:00",
          "2024-12-28T00:00:00+00:00",
          "2024-12-29T00:00:00+00:00",
          "2024-12-30T00:00:00+00:00",
          "2024-12-31T00:00:00+00:00",
          "2025-01-01T00:00:00+00:00",
          "2025-01-02T00:00:00+00:00",
          "2025-01-03T00:00:00+00:00",
          "2025-01-04T00:00:00+00:00",
          "2025-01-05T00:00:00+00:00",
          "2025-01-06T00:00:00+00:00",
          "2025-01-07T00:00:00+00:00",
          "2025-01-08T00:00:00+00:00",
          "2025-01-09T00:00:00+00:00",
          "2025-01-10T00:00:00+00:00",
          "2025-01-11T00:00:00+00:00",
          "2025-01-12T00:00:00+00:00",
          "2025-01-13T00:00:00+00:00",
          "2025-01-14T00:00:00+00:00",
          "2025-01-15T00:00:00+00:00",
          "2025-01-16T00:00:00+00:00",
          "2025-01-17T00:00:00+00:00",
          "2025-01-18T00:00:00+00:00",
          "2025-01-19T00:00:00+00:00",
          "2025-01-20T00:00:00+00:00",
          "2025-01-21T00:00:00+00:00",
          "2025-01-22T00:00:00+00:00",
          "2025-01-23T00:00:00+00:00",
          "2025-01-24T00:00:00+00:00",
          "2025-01-25T00:00:00+00:00",
          "2025-01-26T00:00:00+00:00",
          "2025-01-27T00:00:00+00:00",
          "2025-01-28T00:00:00+00:00",
          "2025-01-29T00:00:00+00:00",
          "2025-01-30T00:00:00+00:00"
         ],
         "y": [
          [
           null,
           null,
           null,
           null
          ],
          [
           null,
           null,
           null,
           null
          ],
          [
           null,
           null,
           null,
           null
          ],
          [
           null,
           null,
           null,
           null
          ],
          [
           null,
           null,
           null,
           null
          ],
          [
           null,
           null,
           null,
           null
          ],
          [
           null,
           null,
           null,
           null
          ],
          [
           null,
           null,
           null,
           null
          ],
          [
           null,
           null,
           null,
           null
          ],
          [
           null,
           null,
           null,
           null
          ],
          [
           null,
           null,
           null,
           null
          ],
          [
           null,
           null,
           null,
           null
          ],
          [
           null,
           null,
           null,
           null
          ],
          [
           null,
           null,
           null,
           null
          ],
          [
           null,
           null,
           null,
           null
          ],
          [
           null,
           null,
           null,
           null
          ],
          [
           null,
           null,
           null,
           null
          ],
          [
           null,
           null,
           null,
           null
          ],
          [
           null,
           null,
           null,
           null
          ],
          [
           null,
           null,
           null,
           null
          ],
          [
           null,
           null,
           null,
           null
          ],
          [
           null,
           null,
           null,
           null
          ],
          [
           null,
           null,
           null,
           null
          ],
          [
           null,
           null,
           null,
           null
          ],
          [
           null,
           null,
           null,
           null
          ],
          [
           null,
           null,
           null,
           null
          ],
          [
           null,
           null,
           null,
           null
          ],
          [
           null,
           null,
           null,
           null
          ],
          [
           null,
           null,
           null,
           null
          ],
          [
           null,
           null,
           null,
           null
          ],
          [
           null,
           null,
           null,
           null
          ],
          [
           null,
           null,
           null,
           null
          ],
          [
           null,
           null,
           null,
           null
          ],
          [
           null,
           null,
           null,
           null
          ],
          [
           null,
           null,
           null,
           null
          ],
          [
           null,
           null,
           null,
           null
          ],
          [
           null,
           null,
           null,
           null
          ],
          [
           null,
           null,
           null,
           null
          ],
          [
           null,
           null,
           null,
           null
          ],
          [
           null,
           null,
           null,
           null
          ],
          [
           null,
           null,
           null,
           null
          ],
          [
           null,
           null,
           null,
           null
          ],
          [
           null,
           null,
           null,
           null
          ],
          [
           null,
           null,
           null,
           null
          ],
          [
           null,
           null,
           null,
           null
          ],
          [
           null,
           null,
           null,
           null
          ],
          [
           null,
           null,
           null,
           null
          ],
          [
           null,
           null,
           null,
           null
          ],
          [
           null,
           null,
           null,
           null
          ],
          [
           null,
           null,
           null,
           null
          ],
          [
           null,
           null,
           null,
           null
          ],
          [
           null,
           null,
           null,
           null
          ],
          [
           null,
           null,
           null,
           null
          ],
          [
           null,
           null,
           null,
           null
          ],
          [
           null,
           null,
           null,
           null
          ],
          [
           null,
           null,
           null,
           null
          ],
          [
           null,
           null,
           null,
           null
          ],
          [
           null,
           null,
           null,
           null
          ],
          [
           null,
           null,
           null,
           null
          ],
          [
           null,
           null,
           null,
           null
          ],
          [
           null,
           null,
           null,
           null
          ],
          [
           null,
           null,
           null,
           null
          ],
          [
           null,
           null,
           null,
           null
          ],
          [
           null,
           null,
           null,
           null
          ],
          [
           null,
           null,
           null,
           null
          ],
          [
           null,
           null,
           null,
           null
          ],
          [
           null,
           null,
           null,
           null
          ],
          [
           null,
           null,
           null,
           null
          ],
          [
           null,
           null,
           null,
           null
          ],
          [
           null,
           null,
           null,
           null
          ],
          [
           null,
           null,
           null,
           null
          ],
          [
           null,
           null,
           null,
           null
          ],
          [
           null,
           null,
           null,
           null
          ],
          [
           null,
           null,
           null,
           null
          ],
          [
           null,
           null,
           null,
           null
          ],
          [
           null,
           null,
           null,
           null
          ],
          [
           null,
           null,
           null,
           null
          ],
          [
           null,
           null,
           null,
           null
          ],
          [
           null,
           null,
           null,
           null
          ],
          [
           null,
           null,
           null,
           null
          ],
          [
           null,
           null,
           null,
           null
          ],
          [
           null,
           null,
           null,
           null
          ],
          [
           null,
           null,
           null,
           null
          ],
          [
           null,
           null,
           null,
           null
          ],
          [
           null,
           null,
           null,
           null
          ],
          [
           null,
           null,
           null,
           null
          ],
          [
           null,
           null,
           null,
           null
          ],
          [
           null,
           null,
           null,
           null
          ],
          [
           null,
           null,
           null,
           null
          ],
          [
           null,
           null,
           null,
           null
          ],
          [
           null,
           null,
           null,
           null
          ],
          [
           null,
           null,
           null,
           null
          ],
          [
           null,
           null,
           null,
           null
          ],
          [
           null,
           null,
           null,
           null
          ],
          [
           null,
           null,
           null,
           null
          ],
          [
           null,
           null,
           null,
           null
          ],
          [
           null,
           null,
           null,
           null
          ],
          [
           null,
           null,
           null,
           null
          ],
          [
           null,
           null,
           null,
           null
          ],
          [
           24462.023,
           24462.023,
           null,
           null
          ],
          [
           24547.99878217822,
           24547.99878217822,
           null,
           null
          ],
          [
           24621.050291442018,
           24621.050291442018,
           null,
           null
          ],
          [
           24673.31860250257,
           24673.31860250257,
           null,
           null
          ],
          [
           24735.506352948065,
           24735.506352948065,
           null,
           null
          ],
          [
           24791.979494473846,
           24791.979494473846,
           null,
           null
          ],
          [
           24845.722474781294,
           24845.722474781294,
           null,
           null
          ],
          [
           24914.064603993545,
           24914.064603993545,
           null,
           null
          ],
          [
           24983.392037577833,
           24983.392037577833,
           null,
           null
          ],
          [
           25072.312987328765,
           25072.312987328765,
           null,
           null
          ],
          [
           25156.225601441067,
           25156.225601441067,
           null,
           null
          ],
          [
           25236.81519349174,
           25236.81519349174,
           null,
           null
          ],
          [
           25315.927763917647,
           25315.927763917647,
           null,
           null
          ],
          [
           25370.390580473733,
           25370.390580473733,
           null,
           null
          ],
          [
           25435.689776899995,
           25435.689776899995,
           null,
           null
          ],
          [
           25506.796910030687,
           25506.796910030687,
           null,
           null
          ],
          [
           25572.759347455823,
           25572.759347455823,
           null,
           null
          ],
          [
           25650.61757819927,
           25650.61757819927,
           null,
           null
          ],
          [
           25713.89049744285,
           25713.89049744285,
           null,
           null
          ],
          [
           25767.660982642003,
           25767.660982642003,
           null,
           null
          ],
          [
           25805.26967605503,
           25805.26967605503,
           null,
           null
          ],
          [
           25841.393048806418,
           25841.393048806418,
           null,
           null
          ],
          [
           25876.078334968668,
           25876.078334968668,
           null,
           null
          ],
          [
           25897.736189721763,
           25897.736189721763,
           null,
           null
          ],
          [
           25915.52359190549,
           25915.52359190549,
           null,
           null
          ],
          [
           25932.54094652122,
           25932.54094652122,
           null,
           null
          ],
          [
           25952.068848570307,
           25952.068848570307,
           null,
           null
          ],
          [
           25976.130851568916,
           25976.130851568916,
           null,
           null
          ],
          [
           25997.11637926062,
           25997.11637926062,
           null,
           null
          ],
          [
           26024.96555986932,
           26024.96555986932,
           null,
           null
          ],
          [
           26040.689014129333,
           26040.689014129333,
           null,
           null
          ],
          [
           26057.336756423803,
           26057.336756423803,
           null,
           null
          ],
          [
           26078.078602831254,
           26078.078602831254,
           null,
           null
          ],
          [
           26091.279026537566,
           26091.279026537566,
           null,
           null
          ],
          [
           26106.225976507118,
           26106.225976507118,
           null,
           null
          ],
          [
           26128.269026477275,
           26128.269026477275,
           null,
           null
          ],
          [
           26132.22805565594,
           26132.22805565594,
           null,
           null
          ],
          [
           26139.00967831622,
           26139.00967831622,
           null,
           null
          ],
          [
           26150.262952012927,
           26150.262952012927,
           null,
           null
          ],
          [
           26164.22606187406,
           26164.22606187406,
           null,
           null
          ],
          [
           26201.910694312195,
           26201.910694312195,
           null,
           null
          ],
          [
           26232.294640959477,
           26232.294640959477,
           null,
           null
          ],
          [
           26261.237321336517,
           26261.237321336517,
           null,
           null
          ],
          [
           26280.05638428035,
           26280.05638428035,
           null,
           null
          ],
          [
           26290.63150538371,
           26290.63150538371,
           null,
           null
          ],
          [
           26309.500188445418,
           26309.500188445418,
           null,
           null
          ],
          [
           26324.5576104564,
           26324.5576104564,
           null,
           null
          ],
          [
           26340.334687477065,
           26340.334687477065,
           null,
           null
          ],
          [
           26328.163703566628,
           26328.163703566628,
           null,
           null
          ],
          [
           26346.017887654416,
           26346.017887654416,
           null,
           null
          ],
          [
           26345.944266116705,
           26345.944266116705,
           null,
           null
          ],
          [
           26348.973092530236,
           26348.973092530236,
           null,
           null
          ],
          [
           26351.530060994985,
           26351.530060994985,
           null,
           null
          ],
          [
           26341.420554836666,
           26341.420554836666,
           null,
           null
          ],
          [
           26333.1805438498,
           26333.1805438498,
           null,
           null
          ],
          [
           26324.729443971588,
           26324.729443971588,
           null,
           null
          ],
          [
           26317.031831219676,
           26317.031831219676,
           null,
           null
          ],
          [
           26293.500507829187,
           26293.500507829187,
           null,
           null
          ],
          [
           26279.71633935732,
           26279.71633935732,
           null,
           null
          ],
          [
           26281.068491053215,
           26281.068491053215,
           null,
           null
          ],
          [
           26285.760204101665,
           26285.760204101665,
           null,
           null
          ],
          [
           26286.83227926797,
           26286.83227926797,
           null,
           null
          ],
          [
           26297.8474816587,
           26297.8474816587,
           null,
           null
          ],
          [
           26337.599016675358,
           26337.599016675358,
           null,
           null
          ],
          [
           26409.9455708006,
           26409.9455708006,
           null,
           null
          ],
          [
           26478.79615355702,
           26478.79615355702,
           null,
           null
          ],
          [
           26562.19820992223,
           26562.19820992223,
           null,
           null
          ],
          [
           26640.808146359414,
           26640.808146359414,
           null,
           null
          ],
          [
           26716.520856332496,
           26716.520856332496,
           null,
           null
          ],
          [
           26786.914502741754,
           26786.914502741754,
           null,
           null
          ],
          [
           26864.250849222117,
           26864.250849222117,
           null,
           null
          ],
          [
           26927.909248247423,
           26927.909248247423,
           null,
           null
          ],
          [
           26997.629857193017,
           26997.629857193017,
           null,
           null
          ],
          [
           27066.490652100085,
           27066.490652100085,
           null,
           null
          ],
          [
           27136.174005523844,
           27136.174005523844,
           null,
           null
          ],
          [
           27205.06362917684,
           27205.06362917684,
           null,
           null
          ],
          [
           27283.309893945614,
           27283.309893945614,
           null,
           null
          ],
          [
           27352.27207426352,
           27352.27207426352,
           null,
           null
          ],
          [
           27414.68846883256,
           27414.68846883256,
           null,
           null
          ],
          [
           27463.803548657655,
           27463.803548657655,
           null,
           null
          ],
          [
           27520.825260565423,
           27520.825260565423,
           null,
           null
          ],
          [
           27575.626740554228,
           27575.626740554228,
           null,
           null
          ],
          [
           27626.86779519672,
           27626.86779519672,
           null,
           null
          ],
          [
           27682.054571529457,
           27682.054571529457,
           null,
           null
          ],
          [
           27740.25547110313,
           27740.25547110313,
           null,
           null
          ],
          [
           27792.535560784258,
           27792.535560784258,
           null,
           null
          ],
          [
           27864.998222946946,
           27864.998222946946,
           null,
           null
          ],
          [
           27913.47944625493,
           27913.47944625493,
           null,
           null
          ],
          [
           27960.50361563602,
           27960.50361563602,
           null,
           null
          ],
          [
           28005.46394007887,
           28005.46394007887,
           null,
           null
          ],
          [
           28047.755743245623,
           28047.755743245623,
           null,
           null
          ],
          [
           28083.62196615165,
           28083.62196615165,
           null,
           null
          ],
          [
           28119.760145039738,
           28119.760145039738,
           null,
           null
          ],
          [
           28153.046082761724,
           28153.046082761724,
           null,
           null
          ],
          [
           28187.617447459514,
           28187.617447459514,
           null,
           null
          ],
          [
           28219.335913846455,
           28219.335913846455,
           null,
           null
          ],
          [
           28256.24213337425,
           28256.24213337425,
           null,
           null
          ],
          [
           28274.536348554957,
           28274.536348554957,
           null,
           null
          ],
          [
           28293.412856504365,
           28293.412856504365,
           null,
           null
          ],
          [
           28314.3809187518,
           28314.3809187518,
           null,
           null
          ],
          [
           28332.339712439883,
           28332.339712439883,
           26433.06399999999,
           26433.06399999999
          ],
          [
           28351.794371599488,
           28351.794371599488,
           26461.737990049744,
           26461.737990049744
          ],
          [
           28371.65388899356,
           28371.65388899356,
           26490.52368169104,
           26490.52368169104
          ],
          [
           28389.60727733032,
           28389.60727733032,
           26518.26274953491,
           26518.26274953491
          ],
          [
           28406.331885700016,
           28406.331885700016,
           26545.28700078332,
           26545.28700078332
          ],
          [
           28432.125313705958,
           28432.125313705958,
           26576.765737093934,
           26576.765737093934
          ],
          [
           28446.98421838505,
           28446.98421838505,
           26602.693441202453,
           26602.693441202453
          ],
          [
           28461.778590298218,
           28461.778590298218,
           26628.478581090985,
           26628.478581090985
          ],
          [
           28474.691885539836,
           28474.691885539836,
           26653.209142473166,
           26653.209142473166
          ],
          [
           28486.55937295489,
           28486.55937295489,
           26677.29661369234,
           26677.29661369234
          ],
          [
           28498.534434876576,
           28498.534434876576,
           26701.316547884453,
           26701.316547884453
          ],
          [
           28512.708010423576,
           28512.708010423576,
           26726.321358353263,
           26726.321358353263
          ],
          [
           28537.658346850832,
           28537.658346850832,
           26756.63358364328,
           26756.63358364328
          ],
          [
           28558.332438992402,
           28558.332438992402,
           26784.74369723887,
           26784.74369723887
          ],
          [
           28576.056549111363,
           28576.056549111363,
           26811.297491296194,
           26811.297491296194
          ],
          [
           28592.898993683415,
           28592.898993683415,
           26837.320401830562,
           26837.320401830562
          ],
          [
           28609.491092818396,
           28609.491092818396,
           26863.126168976527,
           26863.126168976527
          ],
          [
           28623.30513058437,
           28623.30513058437,
           26887.4443165489,
           26887.4443165489
          ],
          [
           28639.338692354977,
           28639.338692354977,
           26912.773228822043,
           26912.773228822043
          ],
          [
           28650.484460823194,
           28650.484460823194,
           26935.55359470441,
           26935.55359470441
          ],
          [
           28652.00556060887,
           28652.00556060887,
           26953.381917145165,
           26953.381917145165
          ],
          [
           28611.85297525028,
           28611.85297525028,
           26950.107470208397,
           26950.107470208397
          ],
          [
           28561.19054009681,
           28561.19054009681,
           26941.185007818265,
           26941.185007818265
          ],
          [
           28512.473895738458,
           28512.473895738458,
           26932.82495798923,
           26932.82495798923
          ],
          [
           28466.46055126839,
           28466.46055126839,
           26925.4217245764,
           26925.4217245764
          ],
          [
           28420.08905520367,
           28420.08905520367,
           26917.454344232356,
           26917.454344232356
          ],
          [
           28373.243727377852,
           28373.243727377852,
           26908.86673881711,
           26908.86673881711
          ],
          [
           28334.795336736708,
           28334.795336736708,
           26904.11781604281,
           26904.11781604281
          ],
          [
           28292.126122147863,
           28292.126122147863,
           26896.912663644373,
           26896.912663644373
          ],
          [
           28247.889961313253,
           28247.889961313253,
           26888.56726400612,
           26888.56726400612
          ],
          [
           28203.7673878219,
           28203.7673878219,
           26879.921818593124,
           26879.921818593124
          ],
          [
           28162.136350439287,
           28162.136350439287,
           26872.175332835977,
           26872.175332835977
          ],
          [
           28121.70592765831,
           28121.70592765831,
           26864.69498126547,
           26864.69498126547
          ],
          [
           28113.66818651656,
           28113.66818651656,
           26873.163687919547,
           26873.163687919547
          ],
          [
           28097.5757471796,
           28097.5757471796,
           26877.420765651692,
           26877.420765651692
          ],
          [
           28054.8593957503,
           28054.8593957503,
           26868.097175943716,
           26868.097175943716
          ],
          [
           28010.281981973065,
           28010.281981973065,
           26857.506159267657,
           26857.506159267657
          ],
          [
           27967.884318963697,
           27967.884318963697,
           26847.67226713564,
           26847.67226713564
          ],
          [
           27928.371758192137,
           27928.371758192137,
           26838.964085373096,
           26838.964085373096
          ],
          [
           27886.75449565368,
           27886.75449565368,
           26828.891805916646,
           26828.891805916646
          ],
          [
           27845.282129403113,
           27845.282129403113,
           26818.578454613995,
           26818.578454613995
          ],
          [
           27803.979512979287,
           27803.979512979287,
           26808.040360538234,
           26808.040360538234
          ],
          [
           27773.27100777178,
           27773.27100777178,
           26802.51956093089,
           26802.51956093089
          ],
          [
           27736.384453162435,
           27736.384453162435,
           26793.643744404213,
           26793.643744404213
          ],
          [
           27700.042186763178,
           27700.042186763178,
           26784.762712121585,
           26784.762712121585
          ],
          [
           27663.231450391628,
           27663.231450391628,
           26775.373033394008,
           26775.373033394008
          ],
          [
           27613.71399592843,
           27613.71399592843,
           26759.325540524416,
           26759.325540524416
          ],
          [
           27578.557283137765,
           27578.557283137765,
           26750.161107285367,
           26750.161107285367
          ],
          [
           27551.671000303355,
           27551.671000303355,
           26744.89383258601,
           26744.89383258601
          ],
          [
           27531.27553495081,
           27531.27553495081,
           26742.672998430928,
           26742.672998430928
          ],
          [
           27512.858197625053,
           27512.858197625053,
           26741.265306904254,
           26741.265306904254
          ],
          [
           27493.954074899804,
           27493.954074899804,
           26739.44376156192,
           26739.44376156192
          ],
          [
           27474.782707080005,
           27474.782707080005,
           26737.317952989164,
           26737.317952989164
          ],
          [
           27460.709782187332,
           27460.709782187332,
           26737.584441019124,
           26737.584441019124
          ],
          [
           27455.63038055986,
           27455.63038055986,
           26742.227381904504,
           26742.227381904504
          ],
          [
           27448.988194806203,
           27448.988194806203,
           26745.988303477592,
           26745.988303477592
          ],
          [
           27431.52506223578,
           27431.52506223578,
           26744.20832035841,
           26744.20832035841
          ],
          [
           27414.605754072698,
           27414.605754072698,
           26742.54555100161,
           26742.54555100161
          ],
          [
           27397.97791735839,
           27397.97791735839,
           26740.877436066272,
           26740.877436066272
          ],
          [
           27375.318948697826,
           27375.318948697826,
           26736.029899388996,
           26736.029899388996
          ],
          [
           27354.043325951334,
           27354.043325951334,
           26731.700248648805,
           26731.700248648805
          ],
          [
           27331.612765041406,
           27331.612765041406,
           26726.621639209512,
           26726.621639209512
          ],
          [
           27312.547165733657,
           27312.547165733657,
           26723.06122488902,
           26723.06122488902
          ],
          [
           27306.738310966655,
           27306.738310966655,
           26726.00787936774,
           26726.00787936774
          ],
          [
           27298.878146393057,
           27298.878146393057,
           26727.83665668746,
           26727.83665668746
          ],
          [
           27292.223133593194,
           27292.223133593194,
           26730.174600402013,
           26730.174600402013
          ],
          [
           27306.090002234912,
           27306.090002234912,
           26742.735052139305,
           26742.735052139305
          ],
          [
           27309.747625953034,
           27309.747625953034,
           26750.178484456326,
           26750.178484456326
          ],
          [
           27312.08925712228,
           27312.08925712228,
           26756.922977148304,
           26756.922977148304
          ],
          [
           27321.4063015357,
           27321.4063015357,
           26767.128718669217,
           26767.128718669217
          ],
          [
           27323.124988634,
           27323.124988634,
           26773.507537388927,
           26773.507537388927
          ],
          [
           27335.114592819467,
           27335.114592819467,
           26785.00099472834,
           26785.00099472834
          ],
          [
           27347.3697493973,
           27347.3697493973,
           26796.632825626566,
           26796.632825626566
          ],
          [
           27358.665397924087,
           27358.665397924087,
           26807.78871790889,
           26807.78871790889
          ],
          [
           27363.23836034143,
           27363.23836034143,
           26815.567934646115,
           26815.567934646115
          ],
          [
           27363.708887859422,
           27363.708887859422,
           26821.253825843665,
           26821.253825843665
          ],
          [
           27354.102771268146,
           27354.102771268146,
           26821.824434541737,
           26821.824434541737
          ],
          [
           27342.350241144024,
           27342.350241144024,
           26821.215236188087,
           26821.215236188087
          ],
          [
           27332.848256170873,
           27332.848256170873,
           26821.626029857856,
           26821.626029857856
          ],
          [
           27323.409676840758,
           27323.409676840758,
           26821.970049461263,
           26821.970049461263
          ],
          [
           27320.053049576585,
           27320.053049576585,
           26825.272835038762,
           26825.272835038762
          ],
          [
           27343.438137703783,
           27343.438137703783,
           26841.94673717768,
           26841.94673717768
          ],
          [
           27364.2849072542,
           27364.2849072542,
           26857.411943772928,
           26857.411943772928
          ],
          [
           27383.2297605759,
           27383.2297605759,
           26871.975009009017,
           26871.975009009017
          ],
          [
           27409.60342868331,
           27409.60342868331,
           26890.314561158182,
           26890.314561158182
          ],
          [
           27454.322172669778,
           27454.322172669778,
           26917.95222721631,
           26917.95222721631
          ],
          [
           27502.899951428793,
           27502.899951428793,
           26947.698971224105,
           26947.698971224105
          ],
          [
           27552.139556350994,
           27552.139556350994,
           26977.96564812735,
           26977.96564812735
          ],
          [
           27661.441743353946,
           27661.441743353946,
           27038.601810832548,
           27038.601810832548
          ],
          [
           27785.51220388159,
           27785.51220388159,
           27107.143086346652,
           27107.143086346652
          ],
          [
           27918.353546378985,
           27918.353546378985,
           27180.6441501641,
           27180.6441501641
          ],
          [
           28041.73070387643,
           28041.73070387643,
           27249.980029266942,
           27249.980029266942
          ],
          [
           28157.563759245215,
           28157.563759245215,
           27316.06281504538,
           27316.06281504538
          ],
          [
           28274.909031339368,
           28274.909031339368,
           27383.400498477764,
           27383.400498477764
          ],
          [
           28398.643505966313,
           28398.643505966313,
           27454.446264662063,
           27454.446264662063
          ],
          [
           28518.93769396698,
           28518.93769396698,
           27524.287595361944,
           27524.287595361944
          ],
          [
           28640.13694755179,
           28640.13694755179,
           27595.085728741426,
           27595.085728741426
          ],
          [
           28774.425324827993,
           28774.425324827993,
           27672.96248765942,
           27672.96248765942
          ],
          [
           28896.434724336348,
           28896.434724336348,
           27745.230522608083,
           27745.230522608083
          ],
          [
           29011.675620884143,
           29011.675620884143,
           27814.592407955264,
           27814.592407955264
          ],
          [
           29131.487984827032,
           29131.487984827032,
           27886.70790638357,
           27886.70790638357
          ],
          [
           29247.953569285903,
           29247.953569285903,
           27957.61628542453,
           27957.61628542453
          ],
          [
           29362.647558012915,
           29362.647558012915,
           28028.08776517155,
           28028.08776517155
          ],
          [
           29482.125824190876,
           29482.125824190876,
           28101.403309796708,
           28101.403309796708
          ],
          [
           29603.792639553434,
           29603.792639553434,
           28176.27790372908,
           28176.27790372908
          ],
          [
           29744.317537780098,
           29744.317537780098,
           28261.09404399048,
           28261.09404399048
          ],
          [
           29893.992438022076,
           29893.992438022076,
           28351.062262458236,
           28351.062262458236
          ],
          [
           30037.352983803816,
           30037.352983803816,
           28438.45169268253,
           28438.45169268253
          ],
          [
           30176.48460788691,
           30176.48460788691,
           28524.273068874743,
           28524.273068874743
          ],
          [
           30300.96412060202,
           30300.96412060202,
           28603.262391572505,
           28603.262391572505
          ],
          [
           30404.933147916832,
           30404.933147916832,
           28672.398089168797,
           28672.398089168797
          ],
          [
           30552.451303403628,
           30552.451303403628,
           28763.763282311396,
           28763.763282311396
          ],
          [
           30663.573059771872,
           30663.573059771872,
           28837.39847353218,
           28837.39847353218
          ],
          [
           30781.30824670708,
           30781.30824670708,
           28914.729832004497,
           28914.729832004497
          ],
          [
           30895.89818241585,
           30895.89818241585,
           28990.882768999476,
           28990.882768999476
          ],
          [
           31023.731881773954,
           31023.731881773954,
           29074.07299020346,
           29074.07299020346
          ],
          [
           31150.927290055657,
           31150.927290055657,
           29157.386691793476,
           29157.386691793476
          ],
          [
           31241.87922490604,
           31241.87922490604,
           29222.925132671153,
           29222.925132671153
          ],
          [
           31363.95488381879,
           31363.95488381879,
           29304.35572836597,
           29304.35572836597
          ],
          [
           31481.31221285208,
           31481.31221285208,
           29383.81985047178,
           29383.81985047178
          ],
          [
           31604.66048586491,
           31604.66048586491,
           29466.67139424818,
           29466.67139424818
          ],
          [
           31726.85730792699,
           31726.85730792699,
           29549.347300773075,
           29549.347300773075
          ],
          [
           31840.161123611604,
           31840.161123611604,
           29627.947825143492,
           29627.947825143492
          ],
          [
           31947.14011126286,
           31947.14011126286,
           29703.715508475398,
           29703.715508475398
          ],
          [
           32063.41258430716,
           32063.41258430716,
           29784.463612868676,
           29784.463612868676
          ],
          [
           32178.055899469393,
           32178.055899469393,
           29864.74656199436,
           29864.74656199436
          ],
          [
           32287.791426212574,
           32287.791426212574,
           29942.905302671035,
           29942.905302671035
          ],
          [
           32414.385655396483,
           32414.385655396483,
           30029.849528515104,
           30029.849528515104
          ],
          [
           32553.76415726982,
           32553.76415726982,
           30123.61221977366,
           30123.61221977366
          ],
          [
           32700.669817521903,
           32700.669817521903,
           30221.611103158994,
           30221.611103158994
          ],
          [
           32884.519920145234,
           32884.519920145234,
           30338.66074392358,
           30338.66074392358
          ],
          [
           33106.0383375681,
           33106.0383375681,
           30475.30292557608,
           30475.30292557608
          ],
          [
           33317.07520217071,
           33317.07520217071,
           30607.522796963385,
           30607.522796963385
          ],
          [
           33514.31529717723,
           33514.31529717723,
           30733.594211918975,
           30733.594211918975
          ],
          [
           33725.27737050045,
           33725.27737050045,
           30867.268896377493,
           30867.268896377493
          ],
          [
           33923.04811563905,
           33923.04811563905,
           30995.084131239408,
           30995.084131239408
          ],
          [
           34118.314489586795,
           34118.314489586795,
           31122.33702545593,
           31122.33702545593
          ],
          [
           34259.54192543656,
           34259.54192543656,
           31223.112776446418,
           31223.112776446418
          ],
          [
           34402.71931305168,
           34402.71931305168,
           31325.270858272823,
           31325.270858272823
          ],
          [
           34570.36249497145,
           34570.36249497145,
           31440.130849732795,
           31440.130849732795
          ],
          [
           34737.73749507103,
           34737.73749507103,
           31555.381289038938,
           31555.381289038938
          ],
          [
           34880.322891208234,
           34880.322891208234,
           31658.6939130286,
           31658.6939130286
          ],
          [
           35026.74620029322,
           35026.74620029322,
           31764.3258143915,
           31764.3258143915
          ],
          [
           35152.43043395078,
           35152.43043395078,
           31859.942472954768,
           31859.942472954768
          ],
          [
           35301.01200951611,
           35301.01200951611,
           31967.363940885567,
           31967.363940885567
          ],
          [
           35438.984048931634,
           35438.984048931634,
           32069.863802170286,
           32069.863802170286
          ],
          [
           35601.895255883486,
           35601.895255883486,
           32185.24824194969,
           32185.24824194969
          ],
          [
           35765.3864389353,
           35765.3864389353,
           32301.39701566163,
           32301.39701566163
          ],
          [
           35927.854034203905,
           35927.854034203905,
           32417.502517993355,
           32417.502517993355
          ],
          [
           36081.79949887314,
           36081.79949887314,
           32529.787070053124,
           32529.787070053124
          ],
          [
           36218.7757464202,
           36218.7757464202,
           32633.959338012795,
           32633.959338012795
          ],
          [
           36364.3960286693,
           36364.3960286693,
           32742.80153365446,
           32742.80153365446
          ],
          [
           36486.24363206199,
           36486.24363206199,
           32840.06420496138,
           32840.06420496138
          ],
          [
           36623.81504528849,
           36623.81504528849,
           32945.472521329924,
           32945.472521329924
          ],
          [
           36741.44247013426,
           36741.44247013426,
           33041.17926241122,
           33041.17926241122
          ],
          [
           36846.93469844843,
           36846.93469844843,
           33131.00633442703,
           33131.00633442703
          ],
          [
           36951.85480342965,
           36951.85480342965,
           33220.701793785964,
           33220.701793785964
          ],
          [
           37057.30718355975,
           37057.30718355975,
           33310.816203798044,
           33310.816203798044
          ],
          [
           37198.25555616253,
           37198.25555616253,
           33418.91952515329,
           33418.91952515329
          ],
          [
           37351.56930752564,
           37351.56930752564,
           33533.563111967684,
           33533.563111967684
          ],
          [
           37460.268925198405,
           37460.268925198405,
           33626.17342926154,
           33626.17342926154
          ],
          [
           37592.72300588754,
           37592.72300588754,
           33730.88016130868,
           33730.88016130868
          ],
          [
           37722.528490919474,
           37722.528490919474,
           33834.53210000213,
           33834.53210000213
          ],
          [
           37846.25663961414,
           37846.25663961414,
           33935.39048706678,
           33935.39048706678
          ],
          [
           37966.65947843366,
           37966.65947843366,
           34034.80550709597,
           34034.80550709597
          ],
          [
           38144.53156796963,
           38144.53156796963,
           34163.30694483631,
           34163.30694483631
          ],
          [
           38302.39826959399,
           38302.39826959399,
           34282.247174240925,
           34282.247174240925
          ],
          [
           38467.59434346342,
           38467.59434346342,
           34405.25765011912,
           34405.25765011912
          ],
          [
           38623.48554458295,
           38623.48554458295,
           34524.012300366696,
           34524.012300366696
          ],
          [
           38705.79672191794,
           38705.79672191794,
           34606.16342175608,
           34606.16342175608
          ],
          [
           38787.71559871164,
           38787.71559871164,
           34688.1190095993,
           34688.1190095993
          ],
          [
           38845.92321061834,
           38845.92321061834,
           34758.15961646896,
           34758.15961646896
          ],
          [
           38918.74849357639,
           38918.74849357639,
           34835.427679986686,
           34835.427679986686
          ],
          [
           39002.27426598082,
           39002.27426598082,
           34918.02839958881,
           34918.02839958881
          ],
          [
           39076.944082496055,
           39076.944082496055,
           34996.18831601081,
           34996.18831601081
          ],
          [
           39121.39073432782,
           39121.39073432782,
           35059.12674072712,
           35059.12674072712
          ],
          [
           39171.57111582628,
           39171.57111582628,
           35124.762295545755,
           35124.762295545755
          ],
          [
           39221.50832145348,
           39221.50832145348,
           35190.12187469455,
           35190.12187469455
          ],
          [
           39268.207166573215,
           39268.207166573215,
           35253.700761513515,
           35253.700761513515
          ],
          [
           39274.24266822523,
           39274.24266822523,
           35296.678863389,
           35296.678863389
          ],
          [
           39286.56261538909,
           39286.56261538909,
           35342.44723290752,
           35342.44723290752
          ],
          [
           39302.31583092594,
           39302.31583092594,
           35389.60795695819,
           35389.60795695819
          ],
          [
           39315.45809169968,
           39315.45809169968,
           35435.14419619244,
           35435.14419619244
          ],
          [
           39364.96981265612,
           39364.96981265612,
           35498.63330866814,
           35498.63330866814
          ],
          [
           39419.505063890654,
           39419.505063890654,
           35564.50760410428,
           35564.50760410428
          ],
          [
           39471.35446856609,
           39471.35446856609,
           35628.91946874006,
           35628.91946874006
          ],
          [
           39547.16527116874,
           39547.16527116874,
           35705.24663820533,
           35705.24663820533
          ],
          [
           39614.41546381886,
           39614.41546381886,
           35777.26706966598,
           35777.26706966598
          ],
          [
           39673.240900178884,
           39673.240900178884,
           35845.00670081358,
           35845.00670081358
          ],
          [
           39740.7450407694,
           39740.7450407694,
           35917.01857443732,
           35917.01857443732
          ],
          [
           39809.227317189805,
           39809.227317189805,
           35989.477096084716,
           35989.477096084716
          ],
          [
           39872.5317267504,
           39872.5317267504,
           36059.29423940726,
           36059.29423940726
          ],
          [
           39926.20238562663,
           39926.20238562663,
           36124.20573951266,
           36124.20573951266
          ],
          [
           39981.249863138975,
           39981.249863138975,
           36189.69722469164,
           36189.69722469164
          ],
          [
           40042.92808367088,
           40042.92808367088,
           36258.41665529172,
           36258.41665529172
          ],
          [
           40128.09782458829,
           40128.09782458829,
           36338.870220910714,
           36338.870220910714
          ],
          [
           40230.285986477626,
           40230.285986477626,
           36427.922258513594,
           36427.922258513594
          ],
          [
           40367.02685803252,
           40367.02685803252,
           36534.467310667686,
           36534.467310667686
          ],
          [
           40513.224345992276,
           40513.224345992276,
           36646.06465086005,
           36646.06465086005
          ],
          [
           40667.372378744905,
           40667.372378744905,
           36762.001321000746,
           36762.001321000746
          ],
          [
           40850.66995540342,
           40850.66995540342,
           36892.96548696094,
           36892.96548696094
          ],
          [
           41025.793322623154,
           41025.793322623154,
           37020.34294480212,
           37020.34294480212
          ],
          [
           41238.98553405636,
           41238.98553405636,
           37167.324607042894,
           37167.324607042894
          ],
          [
           41449.7066125899,
           41449.7066125899,
           37313.72336717182,
           37313.72336717182
          ],
          [
           41661.021333132674,
           41661.021333132674,
           37461.060448095486,
           37461.060448095486
          ],
          [
           41858.70605920925,
           41858.70605920925,
           37602.185219756226,
           37602.185219756226
          ],
          [
           42062.15742437343,
           42062.15742437343,
           37746.77044145019,
           37746.77044145019
          ],
          [
           42254.53252488089,
           42254.53252488089,
           37886.37571068949,
           37886.37571068949
          ],
          [
           42452.73584121988,
           42452.73584121988,
           38029.434658841834,
           38029.434658841834
          ],
          [
           42638.905428522456,
           42638.905428522456,
           38166.99550800759,
           38166.99550800759
          ],
          [
           42810.20631112597,
           42810.20631112597,
           38297.56868703239,
           38297.56868703239
          ],
          [
           42967.35470100466,
           42967.35470100466,
           38421.435665270874,
           38421.435665270874
          ],
          [
           43137.54767722239,
           43137.54767722239,
           38552.188544223405,
           38552.188544223405
          ],
          [
           43307.61405985165,
           43307.61405985165,
           38683.27025025104,
           38683.27025025104
          ],
          [
           43528.69298935954,
           43528.69298935954,
           38840.37303383063,
           38840.37303383063
          ],
          [
           43796.08124699598,
           43796.08124699598,
           39021.3822573746,
           39021.3822573746
          ],
          [
           44165.06379656041,
           44165.06379656041,
           39254.300841878336,
           39254.300841878336
          ],
          [
           44501.264513460206,
           44501.264513460206,
           39472.100833501434,
           39472.100833501434
          ],
          [
           44855.332542896635,
           44855.332542896635,
           39700.05704411336,
           39700.05704411336
          ],
          [
           45194.474472740265,
           45194.474472740265,
           39921.76791929631,
           39921.76791929631
          ],
          [
           45549.16012674541,
           45549.16012674541,
           40152.4577907461,
           40152.4577907461
          ],
          [
           45998.65200542372,
           45998.65200542372,
           40432.0203997934,
           40432.0203997934
          ],
          [
           46349.452955811365,
           46349.452955811365,
           40663.68288337754,
           40663.68288337754
          ],
          [
           46740.040025993316,
           46740.040025993316,
           40916.52285468722,
           40916.52285468722
          ],
          [
           47137.66695617166,
           47137.66695617166,
           41174.27088598386,
           41174.27088598386
          ],
          [
           47553.23988773262,
           47553.23988773262,
           41442.42838960591,
           41442.42838960591
          ],
          [
           47964.32424639138,
           47964.32424639138,
           41709.79726135113,
           41709.79726135113
          ],
          [
           48379.95940982917,
           48379.95940982917,
           41980.88286074067,
           41980.88286074067
          ],
          [
           48849.37605517909,
           48849.37605517909,
           42280.43128998703,
           42280.43128998703
          ],
          [
           49296.91316299733,
           49296.91316299733,
           42570.67575476327,
           42570.67575476327
          ],
          [
           49767.827753829064,
           49767.827753829064,
           42874.23221491488,
           42874.23221491488
          ],
          [
           50195.9479963275,
           50195.9479963275,
           43157.95030232867,
           43157.95030232867
          ],
          [
           50578.05001620221,
           50578.05001620221,
           43419.981642604005,
           43419.981642604005
          ],
          [
           50869.73615449523,
           50869.73615449523,
           43637.77486009053,
           43637.77486009053
          ],
          [
           51216.786923713145,
           51216.786923713145,
           43884.12336894535,
           43884.12336894535
          ],
          [
           51541.521836114865,
           51541.521836114865,
           44120.26044985137,
           44120.26044985137
          ],
          [
           51747.26991856804,
           51747.26991856804,
           44297.489699106576,
           44297.489699106576
          ],
          [
           52065.95962315085,
           52065.95962315085,
           44531.75447821994,
           44531.75447821994
          ],
          [
           52332.06141279142,
           52332.06141279142,
           44740.434533163025,
           44740.434533163025
          ],
          [
           52558.95128580545,
           52558.95128580545,
           44929.98244825593,
           44929.98244825593
          ],
          [
           52785.32254747267,
           52785.32254747267,
           45119.641329367805,
           45119.641329367805
          ],
          [
           53071.07259603757,
           53071.07259603757,
           45339.5026096726,
           45339.5026096726
          ],
          [
           53403.70284166059,
           53403.70284166059,
           45583.576215546505,
           45583.576215546505
          ],
          [
           53732.13842895444,
           53732.13842895444,
           45826.42321837689,
           45826.42321837689
          ],
          [
           54043.73964818306,
           54043.73964818306,
           46061.66278834329,
           46061.66278834329
          ],
          [
           54375.43391257547,
           54375.43391257547,
           46307.75868099659,
           46307.75868099659
          ],
          [
           54681.78373608883,
           54681.78373608883,
           46541.97103242946,
           46541.97103242946
          ],
          [
           54976.61772151281,
           54976.61772151281,
           46771.11460424608,
           46771.11460424608
          ],
          [
           55299.150043859096,
           55299.150043859096,
           47014.82988181577,
           47014.82988181577
          ],
          [
           55583.38469645594,
           55583.38469645594,
           47240.08530587731,
           47240.08530587731
          ],
          [
           55779.41470246672,
           55779.41470246672,
           47421.60585009743,
           47421.60585009743
          ],
          [
           55980.99460934856,
           55980.99460934856,
           47606.05952323079,
           47606.05952323079
          ],
          [
           56228.602636886215,
           56228.602636886215,
           47813.81216479068,
           47813.81216479068
          ],
          [
           56458.18278269045,
           56458.18278269045,
           48012.90259101167,
           48012.90259101167
          ],
          [
           56704.278173132225,
           56704.278173132225,
           48220.59510254389,
           48220.59510254389
          ],
          [
           56954.68850633753,
           56954.68850633753,
           48430.83793734445,
           48430.83793734445
          ],
          [
           57245.21744680609,
           57245.21744680609,
           48661.639549908185,
           48661.639549908185
          ],
          [
           57480.95769538419,
           57480.95769538419,
           48865.50482801855,
           48865.50482801855
          ],
          [
           57741.37041428747,
           57741.37041428747,
           49082.08487948105,
           49082.08487948105
          ],
          [
           57984.22644568772,
           57984.22644568772,
           49290.27905978472,
           49290.27905978472
          ],
          [
           58165.04572399093,
           58165.04572399093,
           49467.6454372993,
           49467.6454372993
          ],
          [
           58278.93590767428,
           58278.93590767428,
           49611.415134440605,
           49611.415134440605
          ],
          [
           58425.11737484904,
           58425.11737484904,
           49771.113491311844,
           49771.113491311844
          ],
          [
           58523.96059514906,
           58523.96059514906,
           49906.8904714978,
           49906.8904714978
          ],
          [
           58628.30196950254,
           58628.30196950254,
           50045.06270561225,
           50045.06270561225
          ],
          [
           58680.68806911635,
           58680.68806911635,
           50156.79143490964,
           50156.79143490964
          ],
          [
           58775.49226576751,
           58775.49226576751,
           50289.244256452825,
           50289.244256452825
          ],
          [
           58875.260735752316,
           58875.260735752316,
           50423.81695041847,
           50423.81695041847
          ],
          [
           58995.34072118296,
           58995.34072118296,
           50568.24961757848,
           50568.24961757848
          ],
          [
           59113.08248908033,
           59113.08248908033,
           50711.26504426925,
           50711.26504426925
          ],
          [
           59265.49867741537,
           59265.49867741537,
           50871.45245676408,
           50871.45245676408
          ],
          [
           59407.08484221903,
           59407.08484221903,
           51026.120591522646,
           51026.120591522646
          ],
          [
           59503.78811267014,
           59503.78811267014,
           51158.10546125874,
           51158.10546125874
          ],
          [
           59602.7467639044,
           59602.7467639044,
           51290.87257109696,
           51290.87257109696
          ],
          [
           59685.23098640134,
           59685.23098640134,
           51415.025082827335,
           51415.025082827335
          ],
          [
           59759.83235300725,
           59759.83235300725,
           51534.80194767482,
           51534.80194767482
          ],
          [
           59826.427751957606,
           59826.427751957606,
           51650.10640590692,
           51650.10640590692
          ],
          [
           59906.29650934458,
           59906.29650934458,
           51771.59589440536,
           51771.59589440536
          ],
          [
           59921.42727153578,
           59921.42727153578,
           51860.14120888888,
           51860.14120888888
          ],
          [
           59890.24059289151,
           59890.24059289151,
           51924.68209238253,
           51924.68209238253
          ],
          [
           59873.74077917088,
           59873.74077917088,
           51995.650429771755,
           51995.650429771755
          ],
          [
           59933.23304096948,
           59933.23304096948,
           52103.93351007254,
           52103.93351007254
          ],
          [
           60011.596743128495,
           60011.596743128495,
           52221.21377365391,
           52221.21377365391
          ],
          [
           60090.86215415566,
           60090.86215415566,
           52338.55990525934,
           52338.55990525934
          ],
          [
           60151.74211149911,
           60151.74211149911,
           52446.288662420935,
           52446.288662420935
          ],
          [
           60194.56900038032,
           60194.56900038032,
           52544.47982000879,
           52544.47982000879
          ],
          [
           60214.22505977873,
           60214.22505977873,
           52630.477035730095,
           52630.477035730095
          ],
          [
           60270.9057516643,
           60270.9057516643,
           52734.418557762634,
           52734.418557762634
          ],
          [
           60281.37296450263,
           60281.37296450263,
           52814.66812435206,
           52814.66812435206
          ],
          [
           60292.179440453074,
           60292.179440453074,
           52894.393814657014,
           52894.393814657014
          ],
          [
           60315.781827770836,
           60315.781827770836,
           52979.863527944006,
           52979.863527944006
          ],
          [
           60367.710900488244,
           60367.710900488244,
           53078.95145303909,
           53078.95145303909
          ],
          [
           60391.661179686496,
           60391.661179686496,
           53163.511140073526,
           53163.511140073526
          ],
          [
           60506.891651375874,
           60506.891651375874,
           53293.334909824036,
           53293.334909824036
          ],
          [
           60600.57102461596,
           60600.57102461596,
           53412.184313706384,
           53412.184313706384
          ],
          [
           60727.67060828693,
           60727.67060828693,
           53547.576509589904,
           53547.576509589904
          ],
          [
           60850.172180400055,
           60850.172180400055,
           53680.57574830045,
           53680.57574830045
          ],
          [
           60957.48362237233,
           60957.48362237233,
           53805.83768115318,
           53805.83768115318
          ],
          [
           61164.28988727585,
           61164.28988727585,
           53980.9159131815,
           53980.9159131815
          ],
          [
           61342.123750894156,
           61342.123750894156,
           54141.75157573691,
           54141.75157573691
          ],
          [
           61497.091597411105,
           61497.091597411105,
           54291.26648543107,
           54291.26648543107
          ],
          [
           61625.28978360099,
           61625.28978360099,
           54427.38423184469,
           54427.38423184469
          ],
          [
           61762.729589866314,
           61762.729589866314,
           54568.06697580643,
           54568.06697580643
          ],
          [
           61911.87553858183,
           61911.87553858183,
           54714.59964271383,
           54714.59964271383
          ],
          [
           62042.40275563962,
           62042.40275563962,
           54851.80263134354,
           54851.80263134354
          ],
          [
           62188.68190899329,
           62188.68190899329,
           54996.85434645455,
           54996.85434645455
          ],
          [
           62311.779296934015,
           62311.779296934015,
           55130.26972609182,
           55130.26972609182
          ],
          [
           62417.565845509576,
           62417.565845509576,
           55254.883957672995,
           55254.883957672995
          ],
          [
           62535.099195103445,
           62535.099195103445,
           55385.21347053197,
           55385.21347053197
          ],
          [
           62634.134854606345,
           62634.134854606345,
           55506.120799183394,
           55506.120799183394
          ],
          [
           62735.67079807949,
           62735.67079807949,
           55628.06686088306,
           55628.06686088306
          ],
          [
           62835.328802077915,
           62835.328802077915,
           55748.86619560064,
           55748.86619560064
          ],
          [
           62953.61338025459,
           62953.61338025459,
           55878.81479066929,
           55878.81479066929
          ],
          [
           63103.78935292282,
           63103.78935292282,
           56024.672354941235,
           56024.672354941235
          ],
          [
           63262.233128112464,
           63262.233128112464,
           56174.7273563846,
           56174.7273563846
          ],
          [
           63411.464155278554,
           63411.464155278554,
           56320.23653691809,
           56320.23653691809
          ],
          [
           63528.90050863937,
           63528.90050863937,
           56449.806322620396,
           56449.806322620396
          ],
          [
           63643.348023319784,
           63643.348023319784,
           56577.75352339034,
           56577.75352339034
          ],
          [
           63762.09954761048,
           63762.09954761048,
           56707.72911022227,
           56707.72911022227
          ],
          [
           63876.45797241027,
           63876.45797241027,
           56835.38553698623,
           56835.38553698623
          ],
          [
           63944.41722048136,
           63944.41722048136,
           56939.594636120695,
           56939.594636120695
          ],
          [
           64030.0347012639,
           64030.0347012639,
           57052.31608252745,
           57052.31608252745
          ],
          [
           64084.28351906066,
           64084.28351906066,
           57149.00547474111,
           57149.00547474111
          ],
          [
           64123.06008303965,
           64123.06008303965,
           57237.49795757951,
           57237.49795757951
          ],
          [
           64164.71631901906,
           64164.71631901906,
           57326.942754021504,
           57326.942754021504
          ],
          [
           64214.50411468205,
           64214.50411468205,
           57419.99805000139,
           57419.99805000139
          ],
          [
           64259.652548054684,
           64259.652548054684,
           57510.29160174267,
           57510.29160174267
          ],
          [
           64277.85942829122,
           64277.85942829122,
           57586.59815296911,
           57586.59815296911
          ],
          [
           64291.57112278051,
           64291.57112278051,
           57660.06782308882,
           57660.06782308882
          ],
          [
           64303.19941737891,
           64303.19941737891,
           57731.89600395361,
           57731.89600395361
          ],
          [
           64300.183587331805,
           64300.183587331805,
           57795.76669048143,
           57795.76669048143
          ],
          [
           64299.5007440183,
           64299.5007440183,
           57860.14413634729,
           57860.14413634729
          ],
          [
           64277.88686789913,
           64277.88686789913,
           57913.35663250304,
           57913.35663250304
          ],
          [
           64198.96831605954,
           64198.96831605954,
           57937.02970083634,
           57937.02970083634
          ],
          [
           64151.52735930588,
           64151.52735930588,
           57975.49905704692,
           57975.49905704692
          ],
          [
           64086.28523337903,
           64086.28523337903,
           58004.16871817083,
           58004.16871817083
          ],
          [
           64039.07166440123,
           64039.07166440123,
           58040.96305928356,
           58040.96305928356
          ],
          [
           63967.78707698734,
           63967.78707698734,
           58064.826113420044,
           58064.826113420044
          ],
          [
           63908.70416457175,
           63908.70416457175,
           58093.87361477905,
           58093.87361477905
          ],
          [
           63886.14368606538,
           63886.14368606538,
           58140.39626537826,
           58140.39626537826
          ],
          [
           63866.612127925466,
           63866.612127925466,
           58187.75351646902,
           58187.75351646902
          ],
          [
           63832.35842242199,
           63832.35842242199,
           58227.04751133003,
           58227.04751133003
          ],
          [
           63760.69389920571,
           63760.69389920571,
           58246.81121768495,
           58246.81121768495
          ],
          [
           63627.91976258778,
           63627.91976258778,
           58234.95836974779,
           58234.95836974779
          ],
          [
           63489.33917322961,
           63489.33917322961,
           58218.98465462592,
           58218.98465462592
          ],
          [
           63385.33839752209,
           63385.33839752209,
           58219.166896868446,
           58219.166896868446
          ],
          [
           63236.187142125615,
           63236.187142125615,
           58195.624937695626,
           58195.624937695626
          ],
          [
           63106.96759475679,
           63106.96759475679,
           58180.84857015636,
           58180.84857015636
          ],
          [
           63006.55239486061,
           63006.55239486061,
           58179.407290851326,
           58179.407290851326
          ],
          [
           62901.927594962384,
           62901.927594962384,
           58174.86592477321,
           58174.86592477321
          ],
          [
           62791.61615743837,
           62791.61615743837,
           58166.47123895457,
           58166.47123895457
          ],
          [
           62694.544550360384,
           62694.544550360384,
           58163.71530622865,
           58163.71530622865
          ],
          [
           62625.46842065028,
           62625.46842065028,
           58174.08828825623,
           58174.08828825623
          ],
          [
           62589.10666974631,
           62589.10666974631,
           58200.10930031338,
           58200.10930031338
          ],
          [
           62631.27485450381,
           62631.27485450381,
           58264.96990429036,
           58264.96990429036
          ],
          [
           62679.142679167104,
           62679.142679167104,
           58332.468711212845,
           58332.468711212845
          ],
          [
           62706.93985383706,
           62706.93985383706,
           58389.68693299182,
           58389.68693299182
          ],
          [
           62732.309361681866,
           62732.309361681866,
           58445.392535648614,
           58445.392535648614
          ],
          [
           62809.95472085648,
           62809.95472085648,
           58527.06425171181,
           58527.06425171181
          ],
          [
           62895.34967687913,
           62895.34967687913,
           58612.589980550496,
           58612.589980550496
          ],
          [
           62999.81800010925,
           62999.81800010925,
           58707.69853795796,
           58707.69853795796
          ],
          [
           63089.66120802788,
           63089.66120802788,
           58795.55128882405,
           58795.55128882405
          ],
          [
           63146.02039202733,
           63146.02039202733,
           58866.59853968152,
           58866.59853968152
          ],
          [
           63190.37840406639,
           63190.37840406639,
           58931.46920097822,
           58931.46920097822
          ],
          [
           63241.974871312595,
           63241.974871312595,
           58999.772990023215,
           58999.772990023215
          ],
          [
           63334.456557029174,
           63334.456557029174,
           59088.454850819006,
           59088.454850819006
          ],
          [
           63425.17424896919,
           63425.17424896919,
           59176.28813588549,
           59176.28813588549
          ],
          [
           63520.653966811384,
           63520.653966811384,
           59266.54298030453,
           59266.54298030453
          ],
          [
           63585.24695756759,
           63585.24695756759,
           59341.32961731643,
           59341.32961731643
          ],
          [
           63636.82226533853,
           63636.82226533853,
           59409.473601223726,
           59409.473601223726
          ],
          [
           63656.558458104104,
           63656.558458104104,
           59461.45396340061,
           59461.45396340061
          ],
          [
           63690.09789457729,
           63690.09789457729,
           59520.04944635185,
           59520.04944635185
          ],
          [
           63646.606847159914,
           63646.606847159914,
           59539.68875534337,
           59539.68875534337
          ],
          [
           63588.58096899833,
           63588.58096899833,
           59551.396329917065,
           59551.396329917065
          ],
          [
           63481.04273198846,
           63481.04273198846,
           59537.53069479351,
           59537.53069479351
          ],
          [
           63293.48941056295,
           63293.48941056295,
           59482.526409273174,
           59482.526409273174
          ],
          [
           63149.84803609636,
           63149.84803609636,
           59448.26843505155,
           59448.26843505155
          ],
          [
           62990.99163934198,
           62990.99163934198,
           59405.27670932964,
           59405.27670932964
          ],
          [
           62965.263092028275,
           62965.263092028275,
           59428.027189833825,
           59428.027189833825
          ],
          [
           62923.00837733465,
           62923.00837733465,
           59441.99109839269,
           59441.99109839269
          ],
          [
           62883.40227085278,
           62883.40227085278,
           59456.726510348984,
           59456.726510348984
          ],
          [
           62800.77846350916,
           62800.77846350916,
           59449.30535104203,
           59449.30535104203
          ],
          [
           62732.39473155848,
           62732.39473155848,
           59448.29136744957,
           59448.29136744957
          ],
          [
           62689.905726973164,
           62689.905726973164,
           59459.61881652968,
           59459.61881652968
          ],
          [
           62610.481851191515,
           62610.481851191515,
           59451.85146512142,
           59451.85146512142
          ],
          [
           62510.07825017782,
           62510.07825017782,
           59432.8290624834,
           59432.8290624834
          ],
          [
           62438.09452245153,
           62438.09452245153,
           59427.277529523366,
           59427.277529523366
          ],
          [
           62379.83324477922,
           62379.83324477922,
           59427.960340174875,
           59427.960340174875
          ],
          [
           62301.58110131825,
           62301.58110131825,
           59418.01148106866,
           59418.01148106866
          ],
          [
           62244.76365376739,
           62244.76365376739,
           59418.153655386384,
           59418.153655386384
          ],
          [
           62180.75051210863,
           62180.75051210863,
           59414.11332050692,
           59414.11332050692
          ],
          [
           62160.30000691836,
           62160.30000691836,
           59431.36592428297,
           59431.36592428297
          ],
          [
           62125.06832361305,
           62125.06832361305,
           59440.81601458861,
           59440.81601458861
          ],
          [
           62163.0055845316,
           62163.0055845316,
           59486.58799454295,
           59486.58799454295
          ],
          [
           62202.37775117454,
           62202.37775117454,
           59533.00303937337,
           59533.00303937337
          ],
          [
           62242.34254818099,
           62242.34254818099,
           59579.6457952005,
           59579.6457952005
          ],
          [
           62253.98130960315,
           62253.98130960315,
           59611.988623108955,
           59611.988623108955
          ],
          [
           62197.74207574962,
           62197.74207574962,
           59610.01759203324,
           59610.01759203324
          ],
          [
           62135.02045048725,
           62135.02045048725,
           59604.249257784155,
           59604.249257784155
          ],
          [
           62079.91113463602,
           62079.91113463602,
           59601.73931492063,
           59601.73931492063
          ],
          [
           62021.20002305907,
           62021.20002305907,
           59596.89613765774,
           59596.89613765774
          ],
          [
           61960.831705770775,
           61960.831705770775,
           59590.684235790504,
           59590.684235790504
          ],
          [
           61868.65087991393,
           61868.65087991393,
           59567.94807424035,
           59567.94807424035
          ],
          [
           61814.51125852949,
           61814.51125852949,
           59563.636153103624,
           59563.636153103624
          ],
          [
           61728.79816430119,
           61728.79816430119,
           59542.96315655533,
           59542.96315655533
          ],
          [
           61654.45760659225,
           61654.45760659225,
           59527.35755300751,
           59527.35755300751
          ],
          [
           61546.04260448152,
           61546.04260448152,
           59494.0455375547,
           59494.0455375547
          ],
          [
           61395.829879640296,
           61395.829879640296,
           59438.98339290242,
           59438.98339290242
          ],
          [
           61252.466911726624,
           61252.466911726624,
           59386.416393968066,
           59386.416393968066
          ],
          [
           61126.14281446471,
           61126.14281446471,
           59341.507773132565,
           59341.507773132565
          ],
          [
           61045.26869932679,
           61045.26869932679,
           59318.62709877304,
           59318.62709877304
          ],
          [
           60977.689121122305,
           60977.689121122305,
           59301.84971470565,
           59301.84971470565
          ],
          [
           60905.574485060475,
           60905.574485060475,
           59282.28802600211,
           59282.28802600211
          ],
          [
           60850.57102991076,
           60850.57102991076,
           59270.80157798219,
           59270.80157798219
          ],
          [
           60843.50823723926,
           60843.50823723926,
           59282.97171153461,
           59282.97171153461
          ],
          [
           60826.5674800662,
           60826.5674800662,
           59289.98691838501,
           59289.98691838501
          ],
          [
           60793.011688381725,
           60793.011688381725,
           59288.41490924685,
           59288.41490924685
          ],
          [
           60741.961951978126,
           60741.961951978126,
           59277.73416388121,
           59277.73416388121
          ],
          [
           60733.3627054043,
           60733.3627054043,
           59287.982580161,
           59287.982580161
          ],
          [
           60753.563443911145,
           60753.563443911145,
           59312.515091801186,
           59312.515091801186
          ],
          [
           60797.06515789311,
           60797.06515789311,
           59348.71295158426,
           59348.71295158426
          ],
          [
           60844.75693694473,
           60844.75693694473,
           59387.08894211576,
           59387.08894211576
          ],
          [
           60894.23699759929,
           60894.23699759929,
           59426.45621632357,
           59426.45621632357
          ],
          [
           60947.33923527059,
           60947.33923527059,
           59467.74421417109,
           59467.74421417109
          ],
          [
           60994.54835932464,
           60994.54835932464,
           59506.188550348495,
           59506.188550348495
          ],
          [
           61059.4028472588,
           61059.4028472588,
           59553.586674225626,
           59553.586674225626
          ],
          [
           61100.88793939229,
           61100.88793939229,
           59589.41566254179,
           59589.41566254179
          ],
          [
           61181.375306929076,
           61181.375306929076,
           59644.899088785154,
           59644.899088785154
          ],
          [
           61272.25500382157,
           61272.25500382157,
           59705.85332670769,
           59705.85332670769
          ],
          [
           61362.7252017657,
           61362.7252017657,
           59766.89956226284,
           59766.89956226284
          ],
          [
           61446.59202945351,
           61446.59202945351,
           59824.92046214082,
           59824.92046214082
          ],
          [
           61483.887236791066,
           61483.887236791066,
           59859.796875452856,
           59859.796875452856
          ],
          [
           61470.66174695362,
           61470.66174695362,
           59869.311334403574,
           59869.311334403574
          ],
          [
           61454.43874206345,
           61454.43874206345,
           59877.093311175675,
           59877.093311175675
          ],
          [
           61440.489460042394,
           61440.489460042394,
           59885.778949870444,
           59885.778949870444
          ],
          [
           61453.28174796235,
           61453.28174796235,
           59907.67667176228,
           59907.67667176228
          ],
          [
           61465.37715889379,
           61465.37715889379,
           59929.13362030196,
           59929.13362030196
          ],
          [
           61492.18949238104,
           61492.18949238104,
           59957.89248975169,
           59957.89248975169
          ],
          [
           61506.66494797746,
           61506.66494797746,
           59980.432862988,
           59980.432862988
          ],
          [
           61519.66960247295,
           61519.66960247295,
           60002.15392902792,
           60002.15392902792
          ],
          [
           61502.22069945369,
           61502.22069945369,
           60008.48573072913,
           60008.48573072913
          ],
          [
           61478.80048758332,
           61478.80048758332,
           60011.58040007511,
           60011.58040007511
          ],
          [
           61499.69354723514,
           61499.69354723514,
           60036.678107537045,
           60036.678107537045
          ],
          [
           61533.44417006217,
           61533.44417006217,
           60068.19474328295,
           60068.19474328295
          ],
          [
           61559.9561666946,
           61559.9561666946,
           60096.096288125904,
           60096.096288125904
          ],
          [
           61649.60059903729,
           61649.60059903729,
           60155.70727033361,
           60155.70727033361
          ],
          [
           61756.966923808825,
           61756.966923808825,
           60224.52212336512,
           60224.52212336512
          ],
          [
           61873.03094511954,
           61873.03094511954,
           60298.09105746099,
           60298.09105746099
          ],
          [
           61982.9610254142,
           61982.9610254142,
           60369.000599177794,
           60369.000599177794
          ],
          [
           62110.55981699016,
           62110.55981699016,
           60449.17671261881,
           60449.17671261881
          ],
          [
           62234.66754338639,
           62234.66754338639,
           60528.07047667236,
           60528.07047667236
          ],
          [
           62369.31769104211,
           62369.31769104211,
           60612.71156645671,
           60612.71156645671
          ],
          [
           62468.45001399177,
           62468.45001399177,
           60680.00299365615,
           60680.00299365615
          ],
          [
           62566.49654836817,
           62566.49654836817,
           60747.06565043569,
           60747.06565043569
          ],
          [
           62647.655032558905,
           62647.655032558905,
           60805.95056933683,
           60805.95056933683
          ],
          [
           62757.60245765675,
           62757.60245765675,
           60879.5232004877,
           60879.5232004877
          ],
          [
           62835.60636938632,
           62835.60636938632,
           60937.406551726635,
           60937.406551726635
          ],
          [
           62919.94485712124,
           62919.94485712124,
           60998.67315320199,
           60998.67315320199
          ],
          [
           63020.97169163369,
           63020.97169163369,
           61068.55501237411,
           61068.55501237411
          ],
          [
           63158.405915561736,
           63158.405915561736,
           61157.04103215149,
           61157.04103215149
          ],
          [
           63348.05134297635,
           63348.05134297635,
           61272.24957909525,
           61272.24957909525
          ],
          [
           63526.22062331346,
           63526.22062331346,
           61382.43217034804,
           61382.43217034804
          ],
          [
           63660.319224832005,
           63660.319224832005,
           61471.14627810577,
           61471.14627810577
          ],
          [
           63775.86141839969,
           63775.86141839969,
           61550.98760867188,
           61550.98760867188
          ],
          [
           63886.77109328286,
           63886.77109328286,
           61628.8563886851,
           61628.8563886851
          ],
          [
           63983.49839836637,
           63983.49839836637,
           61699.9274693947,
           61699.9274693947
          ],
          [
           64060.205360774955,
           64060.205360774955,
           61761.19386273406,
           61761.19386273406
          ],
          [
           64165.44683877941,
           64165.44683877941,
           61836.9521327566,
           61836.9521327566
          ],
          [
           64391.51125781348,
           64391.51125781348,
           61973.71579312719,
           61973.71579312719
          ],
          [
           64618.716975480536,
           64618.716975480536,
           62111.941506628405,
           62111.941506628405
          ],
          [
           64854.126540322504,
           64854.126540322504,
           62255.1749244729,
           62255.1749244729
          ],
          [
           65088.38344051414,
           65088.38344051414,
           62398.74631825924,
           62398.74631825924
          ],
          [
           65390.78178822673,
           65390.78178822673,
           62577.46028524174,
           62577.46028524174
          ],
          [
           65851.10492113314,
           65851.10492113314,
           62836.760182901024,
           62836.760182901024
          ],
          [
           66288.4473979424,
           66288.4473979424,
           63086.51281789703,
           63086.51281789703
          ],
          [
           66765.41675639898,
           66765.41675639898,
           63358.04403363935,
           63358.04403363935
          ],
          [
           67172.48573151979,
           67172.48573151979,
           63596.495336787215,
           63596.495336787215
          ],
          [
           67645.15532099464,
           67645.15532099464,
           63869.58792050077,
           63869.58792050077
          ],
          [
           68099.17600770762,
           68099.17600770762,
           64135.29550338136,
           64135.29550338136
          ],
          [
           68529.96856201044,
           68529.96856201044,
           64391.20500086016,
           64391.20500086016
          ],
          [
           68964.3394815746,
           68964.3394815746,
           64650.65271229439,
           64650.65271229439
          ],
          [
           69426.27533342461,
           69426.27533342461,
           64925.691988788974,
           64925.691988788974
          ],
          [
           69918.52730702017,
           69918.52730702017,
           65217.82440681098,
           65217.82440681098
          ],
          [
           70480.87330094056,
           70480.87330094056,
           65547.16943758898,
           65547.16943758898
          ],
          [
           71043.45798805065,
           71043.45798805065,
           65878.95282626968,
           65878.95282626968
          ],
          [
           71570.9954536338,
           71570.9954536338,
           66195.42195237645,
           66195.42195237645
          ],
          [
           72092.20148425491,
           72092.20148425491,
           66510.80979364633,
           66510.80979364633
          ],
          [
           72506.19749446769,
           72506.19749446769,
           66774.3738753016,
           66774.3738753016
          ],
          [
           72891.3876430921,
           72891.3876430921,
           67024.96020490058,
           67024.96020490058
          ],
          [
           73346.09877887245,
           73346.09877887245,
           67311.81930733938,
           67311.81930733938
          ],
          [
           73787.60771394428,
           73787.60771394428,
           67593.71463761461,
           67593.71463761461
          ],
          [
           74256.32835327211,
           74256.32835327211,
           67890.87170589705,
           67890.87170589705
          ],
          [
           74694.72383142514,
           74694.72383142514,
           68174.49785807719,
           68174.49785807719
          ],
          [
           75140.0896961494,
           75140.0896961494,
           68463.16653610626,
           68463.16653610626
          ],
          [
           75549.72752394842,
           75549.72752394842,
           68735.441495946,
           68735.441495946
          ],
          [
           75951.62004822666,
           75951.62004822666,
           69005.19133180723,
           69005.19133180723
          ],
          [
           76400.46519578653,
           76400.46519578653,
           69299.8491295007,
           69299.8491295007
          ],
          [
           76806.93717210759,
           76806.93717210759,
           69574.74913816238,
           69574.74913816238
          ],
          [
           77260.84732711536,
           77260.84732711536,
           69874.7954153946,
           69874.7954153946
          ],
          [
           77707.81272657843,
           77707.81272657843,
           70172.88302320162,
           70172.88302320162
          ],
          [
           78171.15306862639,
           78171.15306862639,
           70480.68020705036,
           70480.68020705036
          ],
          [
           78549.40548310903,
           78549.40548310903,
           70747.26945872151,
           70747.26945872151
          ],
          [
           78906.48854284945,
           78906.48854284945,
           71004.332449182,
           71004.332449182
          ],
          [
           79346.16995784253,
           79346.16995784253,
           71303.89531038416,
           71303.89531038416
          ],
          [
           79755.21411709317,
           79755.21411709317,
           71589.45754610174,
           71589.45754610174
          ],
          [
           80184.08512467549,
           80184.08512467549,
           71886.21120235944,
           71886.21120235944
          ],
          [
           80604.57452814726,
           80604.57452814726,
           72180.06780731109,
           72180.06780731109
          ],
          [
           81077.13938897604,
           81077.13938897604,
           72501.3517097259,
           72501.3517097259
          ],
          [
           81571.85544067949,
           81571.85544067949,
           72835.27159321122,
           72835.27159321122
          ],
          [
           82058.5493923492,
           82058.5493923492,
           73166.76043307976,
           73166.76043307976
          ],
          [
           82417.84346378784,
           82417.84346378784,
           73435.77674717848,
           73435.77674717848
          ],
          [
           82715.64062292075,
           82715.64062292075,
           73674.78991387322,
           73674.78991387322
          ],
          [
           83014.33882840746,
           83014.33882840746,
           73914.84076050135,
           73914.84076050135
          ],
          [
           83296.83112883504,
           83296.83112883504,
           74147.33189721277,
           74147.33189721277
          ],
          [
           83532.2641757888,
           83532.2641757888,
           74356.67386838478,
           74356.67386838478
          ],
          [
           83757.08864755536,
           83757.08864755536,
           74560.94477516702,
           74560.94477516702
          ],
          [
           84052.22946641565,
           84052.22946641565,
           74800.75328486685,
           74800.75328486685
          ],
          [
           84356.83482351633,
           84356.83482351633,
           75045.86817755474,
           75045.86817755474
          ],
          [
           84583.15096562491,
           84583.15096562491,
           75252.2356583751,
           75252.2356583751
          ],
          [
           84775.288570266,
           84775.288570266,
           75441.62734336639,
           75441.62734336639
          ],
          [
           84983.8313708548,
           84983.8313708548,
           75639.28975786026,
           75639.28975786026
          ],
          [
           85157.2149080656,
           85157.2149080656,
           75819.39334235917,
           75819.39334235917
          ],
          [
           85308.48193958905,
           85308.48193958905,
           75988.31679168892,
           75988.31679168892
          ],
          [
           85472.16150514175,
           85472.16150514175,
           76163.3016992343,
           76163.3016992343
          ],
          [
           85652.59593078251,
           85652.59593078251,
           76346.59322461506,
           76346.59322461506
          ],
          [
           85876.97620938088,
           85876.97620938088,
           76551.93856566367,
           76551.93856566367
          ],
          [
           86120.47965077928,
           86120.47965077928,
           76767.08246053269,
           76767.08246053269
          ],
          [
           86359.98302403117,
           86359.98302403117,
           76980.49855545277,
           76980.49855545277
          ],
          [
           86597.62296414937,
           86597.62296414937,
           77193.23787330896,
           77193.23787330896
          ],
          [
           86907.06211337414,
           86907.06211337414,
           77442.3031681019,
           77442.3031681019
          ],
          [
           87106.11434875286,
           87106.11434875286,
           77636.50114652875,
           77636.50114652875
          ],
          [
           87263.55366857954,
           87263.55366857954,
           77809.83745352847,
           77809.83745352847
          ],
          [
           87368.20607118192,
           87368.20607118192,
           77956.49081219983,
           77956.49081219983
          ],
          [
           87513.81387175257,
           87513.81387175257,
           78123.30582899386,
           78123.30582899386
          ],
          [
           87654.2631020149,
           87654.2631020149,
           78287.31771129243,
           78287.31771129243
          ],
          [
           87790.61036732154,
           87790.61036732154,
           78449.03395297112,
           78449.03395297112
          ],
          [
           87923.97847885973,
           87923.97847885973,
           78609.00077930972,
           78609.00077930972
          ],
          [
           88095.09375650607,
           88095.09375650607,
           78787.67042329669,
           78787.67042329669
          ],
          [
           88340.64833558517,
           88340.64833558517,
           79003.66972256737,
           79003.66972256737
          ],
          [
           88571.25529923695,
           88571.25529923695,
           79212.4521133876,
           79212.4521133876
          ],
          [
           88878.28588737086,
           88878.28588737086,
           79459.85358489618,
           79459.85358489618
          ],
          [
           89188.62874108629,
           89188.62874108629,
           79709.51275320566,
           79709.51275320566
          ],
          [
           89428.79648878754,
           89428.79648878754,
           79924.51362133297,
           79924.51362133297
          ],
          [
           89682.97873653432,
           89682.97873653432,
           80146.80701813563,
           80146.80701813563
          ],
          [
           90008.8643061079,
           90008.8643061079,
           80405.44774432333,
           80405.44774432333
          ],
          [
           90280.05511192755,
           90280.05511192755,
           80637.27413492708,
           80637.27413492708
          ],
          [
           90549.89560476066,
           90549.89560476066,
           80868.81369577357,
           80868.81369577357
          ],
          [
           90833.20856308224,
           90833.20856308224,
           81107.5041067609,
           81107.5041067609
          ],
          [
           91108.5925519321,
           91108.5925519321,
           81342.65431465383,
           81342.65431465383
          ],
          [
           91336.48972912156,
           91336.48972912156,
           81554.34332644832,
           81554.34332644832
          ],
          [
           91549.29785329736,
           91549.29785329736,
           81758.6115520558,
           81758.6115520558
          ],
          [
           91743.10977699445,
           91743.10977699445,
           81953.41939730897,
           81953.41939730897
          ],
          [
           91980.59473190545,
           91980.59473190545,
           82170.162487883,
           82170.162487883
          ],
          [
           92242.76711345188,
           92242.76711345188,
           82399.51708999362,
           82399.51708999362
          ]
         ]
        },
        {
         "marker": {
          "color": "red",
          "size": 20
         },
         "mode": "lines",
         "name": "20 MA",
         "type": "scatter",
         "x": [
          "2023-01-09T00:00:00+00:00",
          "2023-01-10T00:00:00+00:00",
          "2023-01-11T00:00:00+00:00",
          "2023-01-12T00:00:00+00:00",
          "2023-01-13T00:00:00+00:00",
          "2023-01-14T00:00:00+00:00",
          "2023-01-15T00:00:00+00:00",
          "2023-01-16T00:00:00+00:00",
          "2023-01-17T00:00:00+00:00",
          "2023-01-18T00:00:00+00:00",
          "2023-01-19T00:00:00+00:00",
          "2023-01-20T00:00:00+00:00",
          "2023-01-21T00:00:00+00:00",
          "2023-01-22T00:00:00+00:00",
          "2023-01-23T00:00:00+00:00",
          "2023-01-24T00:00:00+00:00",
          "2023-01-25T00:00:00+00:00",
          "2023-01-26T00:00:00+00:00",
          "2023-01-27T00:00:00+00:00",
          "2023-01-28T00:00:00+00:00",
          "2023-01-29T00:00:00+00:00",
          "2023-01-30T00:00:00+00:00",
          "2023-01-31T00:00:00+00:00",
          "2023-02-01T00:00:00+00:00",
          "2023-02-02T00:00:00+00:00",
          "2023-02-03T00:00:00+00:00",
          "2023-02-04T00:00:00+00:00",
          "2023-02-05T00:00:00+00:00",
          "2023-02-06T00:00:00+00:00",
          "2023-02-07T00:00:00+00:00",
          "2023-02-08T00:00:00+00:00",
          "2023-02-09T00:00:00+00:00",
          "2023-02-10T00:00:00+00:00",
          "2023-02-11T00:00:00+00:00",
          "2023-02-12T00:00:00+00:00",
          "2023-02-13T00:00:00+00:00",
          "2023-02-14T00:00:00+00:00",
          "2023-02-15T00:00:00+00:00",
          "2023-02-16T00:00:00+00:00",
          "2023-02-17T00:00:00+00:00",
          "2023-02-18T00:00:00+00:00",
          "2023-02-19T00:00:00+00:00",
          "2023-02-20T00:00:00+00:00",
          "2023-02-21T00:00:00+00:00",
          "2023-02-22T00:00:00+00:00",
          "2023-02-23T00:00:00+00:00",
          "2023-02-24T00:00:00+00:00",
          "2023-02-25T00:00:00+00:00",
          "2023-02-26T00:00:00+00:00",
          "2023-02-27T00:00:00+00:00",
          "2023-02-28T00:00:00+00:00",
          "2023-03-01T00:00:00+00:00",
          "2023-03-02T00:00:00+00:00",
          "2023-03-03T00:00:00+00:00",
          "2023-03-04T00:00:00+00:00",
          "2023-03-05T00:00:00+00:00",
          "2023-03-06T00:00:00+00:00",
          "2023-03-07T00:00:00+00:00",
          "2023-03-08T00:00:00+00:00",
          "2023-03-09T00:00:00+00:00",
          "2023-03-10T00:00:00+00:00",
          "2023-03-11T00:00:00+00:00",
          "2023-03-12T00:00:00+00:00",
          "2023-03-13T00:00:00+00:00",
          "2023-03-14T00:00:00+00:00",
          "2023-03-15T00:00:00+00:00",
          "2023-03-16T00:00:00+00:00",
          "2023-03-17T00:00:00+00:00",
          "2023-03-18T00:00:00+00:00",
          "2023-03-19T00:00:00+00:00",
          "2023-03-20T00:00:00+00:00",
          "2023-03-21T00:00:00+00:00",
          "2023-03-22T00:00:00+00:00",
          "2023-03-23T00:00:00+00:00",
          "2023-03-24T00:00:00+00:00",
          "2023-03-25T00:00:00+00:00",
          "2023-03-26T00:00:00+00:00",
          "2023-03-27T00:00:00+00:00",
          "2023-03-28T00:00:00+00:00",
          "2023-03-29T00:00:00+00:00",
          "2023-03-30T00:00:00+00:00",
          "2023-03-31T00:00:00+00:00",
          "2023-04-01T00:00:00+00:00",
          "2023-04-02T00:00:00+00:00",
          "2023-04-03T00:00:00+00:00",
          "2023-04-04T00:00:00+00:00",
          "2023-04-05T00:00:00+00:00",
          "2023-04-06T00:00:00+00:00",
          "2023-04-07T00:00:00+00:00",
          "2023-04-08T00:00:00+00:00",
          "2023-04-09T00:00:00+00:00",
          "2023-04-10T00:00:00+00:00",
          "2023-04-11T00:00:00+00:00",
          "2023-04-12T00:00:00+00:00",
          "2023-04-13T00:00:00+00:00",
          "2023-04-14T00:00:00+00:00",
          "2023-04-15T00:00:00+00:00",
          "2023-04-16T00:00:00+00:00",
          "2023-04-17T00:00:00+00:00",
          "2023-04-18T00:00:00+00:00",
          "2023-04-19T00:00:00+00:00",
          "2023-04-20T00:00:00+00:00",
          "2023-04-21T00:00:00+00:00",
          "2023-04-22T00:00:00+00:00",
          "2023-04-23T00:00:00+00:00",
          "2023-04-24T00:00:00+00:00",
          "2023-04-25T00:00:00+00:00",
          "2023-04-26T00:00:00+00:00",
          "2023-04-27T00:00:00+00:00",
          "2023-04-28T00:00:00+00:00",
          "2023-04-29T00:00:00+00:00",
          "2023-04-30T00:00:00+00:00",
          "2023-05-01T00:00:00+00:00",
          "2023-05-02T00:00:00+00:00",
          "2023-05-03T00:00:00+00:00",
          "2023-05-04T00:00:00+00:00",
          "2023-05-05T00:00:00+00:00",
          "2023-05-06T00:00:00+00:00",
          "2023-05-07T00:00:00+00:00",
          "2023-05-08T00:00:00+00:00",
          "2023-05-09T00:00:00+00:00",
          "2023-05-10T00:00:00+00:00",
          "2023-05-11T00:00:00+00:00",
          "2023-05-12T00:00:00+00:00",
          "2023-05-13T00:00:00+00:00",
          "2023-05-14T00:00:00+00:00",
          "2023-05-15T00:00:00+00:00",
          "2023-05-16T00:00:00+00:00",
          "2023-05-17T00:00:00+00:00",
          "2023-05-18T00:00:00+00:00",
          "2023-05-19T00:00:00+00:00",
          "2023-05-20T00:00:00+00:00",
          "2023-05-21T00:00:00+00:00",
          "2023-05-22T00:00:00+00:00",
          "2023-05-23T00:00:00+00:00",
          "2023-05-24T00:00:00+00:00",
          "2023-05-25T00:00:00+00:00",
          "2023-05-26T00:00:00+00:00",
          "2023-05-27T00:00:00+00:00",
          "2023-05-28T00:00:00+00:00",
          "2023-05-29T00:00:00+00:00",
          "2023-05-30T00:00:00+00:00",
          "2023-05-31T00:00:00+00:00",
          "2023-06-01T00:00:00+00:00",
          "2023-06-02T00:00:00+00:00",
          "2023-06-03T00:00:00+00:00",
          "2023-06-04T00:00:00+00:00",
          "2023-06-05T00:00:00+00:00",
          "2023-06-06T00:00:00+00:00",
          "2023-06-07T00:00:00+00:00",
          "2023-06-08T00:00:00+00:00",
          "2023-06-09T00:00:00+00:00",
          "2023-06-10T00:00:00+00:00",
          "2023-06-11T00:00:00+00:00",
          "2023-06-12T00:00:00+00:00",
          "2023-06-13T00:00:00+00:00",
          "2023-06-14T00:00:00+00:00",
          "2023-06-15T00:00:00+00:00",
          "2023-06-16T00:00:00+00:00",
          "2023-06-17T00:00:00+00:00",
          "2023-06-18T00:00:00+00:00",
          "2023-06-19T00:00:00+00:00",
          "2023-06-20T00:00:00+00:00",
          "2023-06-21T00:00:00+00:00",
          "2023-06-22T00:00:00+00:00",
          "2023-06-23T00:00:00+00:00",
          "2023-06-24T00:00:00+00:00",
          "2023-06-25T00:00:00+00:00",
          "2023-06-26T00:00:00+00:00",
          "2023-06-27T00:00:00+00:00",
          "2023-06-28T00:00:00+00:00",
          "2023-06-29T00:00:00+00:00",
          "2023-06-30T00:00:00+00:00",
          "2023-07-01T00:00:00+00:00",
          "2023-07-02T00:00:00+00:00",
          "2023-07-03T00:00:00+00:00",
          "2023-07-04T00:00:00+00:00",
          "2023-07-05T00:00:00+00:00",
          "2023-07-06T00:00:00+00:00",
          "2023-07-07T00:00:00+00:00",
          "2023-07-08T00:00:00+00:00",
          "2023-07-09T00:00:00+00:00",
          "2023-07-10T00:00:00+00:00",
          "2023-07-11T00:00:00+00:00",
          "2023-07-12T00:00:00+00:00",
          "2023-07-13T00:00:00+00:00",
          "2023-07-14T00:00:00+00:00",
          "2023-07-15T00:00:00+00:00",
          "2023-07-16T00:00:00+00:00",
          "2023-07-17T00:00:00+00:00",
          "2023-07-18T00:00:00+00:00",
          "2023-07-19T00:00:00+00:00",
          "2023-07-20T00:00:00+00:00",
          "2023-07-21T00:00:00+00:00",
          "2023-07-22T00:00:00+00:00",
          "2023-07-23T00:00:00+00:00",
          "2023-07-24T00:00:00+00:00",
          "2023-07-25T00:00:00+00:00",
          "2023-07-26T00:00:00+00:00",
          "2023-07-27T00:00:00+00:00",
          "2023-07-28T00:00:00+00:00",
          "2023-07-29T00:00:00+00:00",
          "2023-07-30T00:00:00+00:00",
          "2023-07-31T00:00:00+00:00",
          "2023-08-01T00:00:00+00:00",
          "2023-08-02T00:00:00+00:00",
          "2023-08-03T00:00:00+00:00",
          "2023-08-04T00:00:00+00:00",
          "2023-08-05T00:00:00+00:00",
          "2023-08-06T00:00:00+00:00",
          "2023-08-07T00:00:00+00:00",
          "2023-08-08T00:00:00+00:00",
          "2023-08-09T00:00:00+00:00",
          "2023-08-10T00:00:00+00:00",
          "2023-08-11T00:00:00+00:00",
          "2023-08-12T00:00:00+00:00",
          "2023-08-13T00:00:00+00:00",
          "2023-08-14T00:00:00+00:00",
          "2023-08-15T00:00:00+00:00",
          "2023-08-16T00:00:00+00:00",
          "2023-08-17T00:00:00+00:00",
          "2023-08-18T00:00:00+00:00",
          "2023-08-19T00:00:00+00:00",
          "2023-08-20T00:00:00+00:00",
          "2023-08-21T00:00:00+00:00",
          "2023-08-22T00:00:00+00:00",
          "2023-08-23T00:00:00+00:00",
          "2023-08-24T00:00:00+00:00",
          "2023-08-25T00:00:00+00:00",
          "2023-08-26T00:00:00+00:00",
          "2023-08-27T00:00:00+00:00",
          "2023-08-28T00:00:00+00:00",
          "2023-08-29T00:00:00+00:00",
          "2023-08-30T00:00:00+00:00",
          "2023-08-31T00:00:00+00:00",
          "2023-09-01T00:00:00+00:00",
          "2023-09-02T00:00:00+00:00",
          "2023-09-03T00:00:00+00:00",
          "2023-09-04T00:00:00+00:00",
          "2023-09-05T00:00:00+00:00",
          "2023-09-06T00:00:00+00:00",
          "2023-09-07T00:00:00+00:00",
          "2023-09-08T00:00:00+00:00",
          "2023-09-09T00:00:00+00:00",
          "2023-09-10T00:00:00+00:00",
          "2023-09-11T00:00:00+00:00",
          "2023-09-12T00:00:00+00:00",
          "2023-09-13T00:00:00+00:00",
          "2023-09-14T00:00:00+00:00",
          "2023-09-15T00:00:00+00:00",
          "2023-09-16T00:00:00+00:00",
          "2023-09-17T00:00:00+00:00",
          "2023-09-18T00:00:00+00:00",
          "2023-09-19T00:00:00+00:00",
          "2023-09-20T00:00:00+00:00",
          "2023-09-21T00:00:00+00:00",
          "2023-09-22T00:00:00+00:00",
          "2023-09-23T00:00:00+00:00",
          "2023-09-24T00:00:00+00:00",
          "2023-09-25T00:00:00+00:00",
          "2023-09-26T00:00:00+00:00",
          "2023-09-27T00:00:00+00:00",
          "2023-09-28T00:00:00+00:00",
          "2023-09-29T00:00:00+00:00",
          "2023-09-30T00:00:00+00:00",
          "2023-10-01T00:00:00+00:00",
          "2023-10-02T00:00:00+00:00",
          "2023-10-03T00:00:00+00:00",
          "2023-10-04T00:00:00+00:00",
          "2023-10-05T00:00:00+00:00",
          "2023-10-06T00:00:00+00:00",
          "2023-10-07T00:00:00+00:00",
          "2023-10-08T00:00:00+00:00",
          "2023-10-09T00:00:00+00:00",
          "2023-10-10T00:00:00+00:00",
          "2023-10-11T00:00:00+00:00",
          "2023-10-12T00:00:00+00:00",
          "2023-10-13T00:00:00+00:00",
          "2023-10-14T00:00:00+00:00",
          "2023-10-15T00:00:00+00:00",
          "2023-10-16T00:00:00+00:00",
          "2023-10-17T00:00:00+00:00",
          "2023-10-18T00:00:00+00:00",
          "2023-10-19T00:00:00+00:00",
          "2023-10-20T00:00:00+00:00",
          "2023-10-21T00:00:00+00:00",
          "2023-10-22T00:00:00+00:00",
          "2023-10-23T00:00:00+00:00",
          "2023-10-24T00:00:00+00:00",
          "2023-10-25T00:00:00+00:00",
          "2023-10-26T00:00:00+00:00",
          "2023-10-27T00:00:00+00:00",
          "2023-10-28T00:00:00+00:00",
          "2023-10-29T00:00:00+00:00",
          "2023-10-30T00:00:00+00:00",
          "2023-10-31T00:00:00+00:00",
          "2023-11-01T00:00:00+00:00",
          "2023-11-02T00:00:00+00:00",
          "2023-11-03T00:00:00+00:00",
          "2023-11-04T00:00:00+00:00",
          "2023-11-05T00:00:00+00:00",
          "2023-11-06T00:00:00+00:00",
          "2023-11-07T00:00:00+00:00",
          "2023-11-08T00:00:00+00:00",
          "2023-11-09T00:00:00+00:00",
          "2023-11-10T00:00:00+00:00",
          "2023-11-11T00:00:00+00:00",
          "2023-11-12T00:00:00+00:00",
          "2023-11-13T00:00:00+00:00",
          "2023-11-14T00:00:00+00:00",
          "2023-11-15T00:00:00+00:00",
          "2023-11-16T00:00:00+00:00",
          "2023-11-17T00:00:00+00:00",
          "2023-11-18T00:00:00+00:00",
          "2023-11-19T00:00:00+00:00",
          "2023-11-20T00:00:00+00:00",
          "2023-11-21T00:00:00+00:00",
          "2023-11-22T00:00:00+00:00",
          "2023-11-23T00:00:00+00:00",
          "2023-11-24T00:00:00+00:00",
          "2023-11-25T00:00:00+00:00",
          "2023-11-26T00:00:00+00:00",
          "2023-11-27T00:00:00+00:00",
          "2023-11-28T00:00:00+00:00",
          "2023-11-29T00:00:00+00:00",
          "2023-11-30T00:00:00+00:00",
          "2023-12-01T00:00:00+00:00",
          "2023-12-02T00:00:00+00:00",
          "2023-12-03T00:00:00+00:00",
          "2023-12-04T00:00:00+00:00",
          "2023-12-05T00:00:00+00:00",
          "2023-12-06T00:00:00+00:00",
          "2023-12-07T00:00:00+00:00",
          "2023-12-08T00:00:00+00:00",
          "2023-12-09T00:00:00+00:00",
          "2023-12-10T00:00:00+00:00",
          "2023-12-11T00:00:00+00:00",
          "2023-12-12T00:00:00+00:00",
          "2023-12-13T00:00:00+00:00",
          "2023-12-14T00:00:00+00:00",
          "2023-12-15T00:00:00+00:00",
          "2023-12-16T00:00:00+00:00",
          "2023-12-17T00:00:00+00:00",
          "2023-12-18T00:00:00+00:00",
          "2023-12-19T00:00:00+00:00",
          "2023-12-20T00:00:00+00:00",
          "2023-12-21T00:00:00+00:00",
          "2023-12-22T00:00:00+00:00",
          "2023-12-23T00:00:00+00:00",
          "2023-12-24T00:00:00+00:00",
          "2023-12-25T00:00:00+00:00",
          "2023-12-26T00:00:00+00:00",
          "2023-12-27T00:00:00+00:00",
          "2023-12-28T00:00:00+00:00",
          "2023-12-29T00:00:00+00:00",
          "2023-12-30T00:00:00+00:00",
          "2023-12-31T00:00:00+00:00",
          "2024-01-01T00:00:00+00:00",
          "2024-01-02T00:00:00+00:00",
          "2024-01-03T00:00:00+00:00",
          "2024-01-04T00:00:00+00:00",
          "2024-01-05T00:00:00+00:00",
          "2024-01-06T00:00:00+00:00",
          "2024-01-07T00:00:00+00:00",
          "2024-01-08T00:00:00+00:00",
          "2024-01-09T00:00:00+00:00",
          "2024-01-10T00:00:00+00:00",
          "2024-01-11T00:00:00+00:00",
          "2024-01-12T00:00:00+00:00",
          "2024-01-13T00:00:00+00:00",
          "2024-01-14T00:00:00+00:00",
          "2024-01-15T00:00:00+00:00",
          "2024-01-16T00:00:00+00:00",
          "2024-01-17T00:00:00+00:00",
          "2024-01-18T00:00:00+00:00",
          "2024-01-19T00:00:00+00:00",
          "2024-01-20T00:00:00+00:00",
          "2024-01-21T00:00:00+00:00",
          "2024-01-22T00:00:00+00:00",
          "2024-01-23T00:00:00+00:00",
          "2024-01-24T00:00:00+00:00",
          "2024-01-25T00:00:00+00:00",
          "2024-01-26T00:00:00+00:00",
          "2024-01-27T00:00:00+00:00",
          "2024-01-28T00:00:00+00:00",
          "2024-01-29T00:00:00+00:00",
          "2024-01-30T00:00:00+00:00",
          "2024-01-31T00:00:00+00:00",
          "2024-02-01T00:00:00+00:00",
          "2024-02-02T00:00:00+00:00",
          "2024-02-03T00:00:00+00:00",
          "2024-02-04T00:00:00+00:00",
          "2024-02-05T00:00:00+00:00",
          "2024-02-06T00:00:00+00:00",
          "2024-02-07T00:00:00+00:00",
          "2024-02-08T00:00:00+00:00",
          "2024-02-09T00:00:00+00:00",
          "2024-02-10T00:00:00+00:00",
          "2024-02-11T00:00:00+00:00",
          "2024-02-12T00:00:00+00:00",
          "2024-02-13T00:00:00+00:00",
          "2024-02-14T00:00:00+00:00",
          "2024-02-15T00:00:00+00:00",
          "2024-02-16T00:00:00+00:00",
          "2024-02-17T00:00:00+00:00",
          "2024-02-18T00:00:00+00:00",
          "2024-02-19T00:00:00+00:00",
          "2024-02-20T00:00:00+00:00",
          "2024-02-21T00:00:00+00:00",
          "2024-02-22T00:00:00+00:00",
          "2024-02-23T00:00:00+00:00",
          "2024-02-24T00:00:00+00:00",
          "2024-02-25T00:00:00+00:00",
          "2024-02-26T00:00:00+00:00",
          "2024-02-27T00:00:00+00:00",
          "2024-02-28T00:00:00+00:00",
          "2024-02-29T00:00:00+00:00",
          "2024-03-01T00:00:00+00:00",
          "2024-03-02T00:00:00+00:00",
          "2024-03-03T00:00:00+00:00",
          "2024-03-04T00:00:00+00:00",
          "2024-03-05T00:00:00+00:00",
          "2024-03-06T00:00:00+00:00",
          "2024-03-07T00:00:00+00:00",
          "2024-03-08T00:00:00+00:00",
          "2024-03-09T00:00:00+00:00",
          "2024-03-10T00:00:00+00:00",
          "2024-03-11T00:00:00+00:00",
          "2024-03-12T00:00:00+00:00",
          "2024-03-13T00:00:00+00:00",
          "2024-03-14T00:00:00+00:00",
          "2024-03-15T00:00:00+00:00",
          "2024-03-16T00:00:00+00:00",
          "2024-03-17T00:00:00+00:00",
          "2024-03-18T00:00:00+00:00",
          "2024-03-19T00:00:00+00:00",
          "2024-03-20T00:00:00+00:00",
          "2024-03-21T00:00:00+00:00",
          "2024-03-22T00:00:00+00:00",
          "2024-03-23T00:00:00+00:00",
          "2024-03-24T00:00:00+00:00",
          "2024-03-25T00:00:00+00:00",
          "2024-03-26T00:00:00+00:00",
          "2024-03-27T00:00:00+00:00",
          "2024-03-28T00:00:00+00:00",
          "2024-03-29T00:00:00+00:00",
          "2024-03-30T00:00:00+00:00",
          "2024-03-31T00:00:00+00:00",
          "2024-04-01T00:00:00+00:00",
          "2024-04-02T00:00:00+00:00",
          "2024-04-03T00:00:00+00:00",
          "2024-04-04T00:00:00+00:00",
          "2024-04-05T00:00:00+00:00",
          "2024-04-06T00:00:00+00:00",
          "2024-04-07T00:00:00+00:00",
          "2024-04-08T00:00:00+00:00",
          "2024-04-09T00:00:00+00:00",
          "2024-04-10T00:00:00+00:00",
          "2024-04-11T00:00:00+00:00",
          "2024-04-12T00:00:00+00:00",
          "2024-04-13T00:00:00+00:00",
          "2024-04-14T00:00:00+00:00",
          "2024-04-15T00:00:00+00:00",
          "2024-04-16T00:00:00+00:00",
          "2024-04-17T00:00:00+00:00",
          "2024-04-18T00:00:00+00:00",
          "2024-04-19T00:00:00+00:00",
          "2024-04-20T00:00:00+00:00",
          "2024-04-21T00:00:00+00:00",
          "2024-04-22T00:00:00+00:00",
          "2024-04-23T00:00:00+00:00",
          "2024-04-24T00:00:00+00:00",
          "2024-04-25T00:00:00+00:00",
          "2024-04-26T00:00:00+00:00",
          "2024-04-27T00:00:00+00:00",
          "2024-04-28T00:00:00+00:00",
          "2024-04-29T00:00:00+00:00",
          "2024-04-30T00:00:00+00:00",
          "2024-05-01T00:00:00+00:00",
          "2024-05-02T00:00:00+00:00",
          "2024-05-03T00:00:00+00:00",
          "2024-05-04T00:00:00+00:00",
          "2024-05-05T00:00:00+00:00",
          "2024-05-06T00:00:00+00:00",
          "2024-05-07T00:00:00+00:00",
          "2024-05-08T00:00:00+00:00",
          "2024-05-09T00:00:00+00:00",
          "2024-05-10T00:00:00+00:00",
          "2024-05-11T00:00:00+00:00",
          "2024-05-12T00:00:00+00:00",
          "2024-05-13T00:00:00+00:00",
          "2024-05-14T00:00:00+00:00",
          "2024-05-15T00:00:00+00:00",
          "2024-05-16T00:00:00+00:00",
          "2024-05-17T00:00:00+00:00",
          "2024-05-18T00:00:00+00:00",
          "2024-05-19T00:00:00+00:00",
          "2024-05-20T00:00:00+00:00",
          "2024-05-21T00:00:00+00:00",
          "2024-05-22T00:00:00+00:00",
          "2024-05-23T00:00:00+00:00",
          "2024-05-24T00:00:00+00:00",
          "2024-05-25T00:00:00+00:00",
          "2024-05-26T00:00:00+00:00",
          "2024-05-27T00:00:00+00:00",
          "2024-05-28T00:00:00+00:00",
          "2024-05-29T00:00:00+00:00",
          "2024-05-30T00:00:00+00:00",
          "2024-05-31T00:00:00+00:00",
          "2024-06-01T00:00:00+00:00",
          "2024-06-02T00:00:00+00:00",
          "2024-06-03T00:00:00+00:00",
          "2024-06-04T00:00:00+00:00",
          "2024-06-05T00:00:00+00:00",
          "2024-06-06T00:00:00+00:00",
          "2024-06-07T00:00:00+00:00",
          "2024-06-08T00:00:00+00:00",
          "2024-06-09T00:00:00+00:00",
          "2024-06-10T00:00:00+00:00",
          "2024-06-11T00:00:00+00:00",
          "2024-06-12T00:00:00+00:00",
          "2024-06-13T00:00:00+00:00",
          "2024-06-14T00:00:00+00:00",
          "2024-06-15T00:00:00+00:00",
          "2024-06-16T00:00:00+00:00",
          "2024-06-17T00:00:00+00:00",
          "2024-06-18T00:00:00+00:00",
          "2024-06-19T00:00:00+00:00",
          "2024-06-20T00:00:00+00:00",
          "2024-06-21T00:00:00+00:00",
          "2024-06-22T00:00:00+00:00",
          "2024-06-23T00:00:00+00:00",
          "2024-06-24T00:00:00+00:00",
          "2024-06-25T00:00:00+00:00",
          "2024-06-26T00:00:00+00:00",
          "2024-06-27T00:00:00+00:00",
          "2024-06-28T00:00:00+00:00",
          "2024-06-29T00:00:00+00:00",
          "2024-06-30T00:00:00+00:00",
          "2024-07-01T00:00:00+00:00",
          "2024-07-02T00:00:00+00:00",
          "2024-07-03T00:00:00+00:00",
          "2024-07-04T00:00:00+00:00",
          "2024-07-05T00:00:00+00:00",
          "2024-07-06T00:00:00+00:00",
          "2024-07-07T00:00:00+00:00",
          "2024-07-08T00:00:00+00:00",
          "2024-07-09T00:00:00+00:00",
          "2024-07-10T00:00:00+00:00",
          "2024-07-11T00:00:00+00:00",
          "2024-07-12T00:00:00+00:00",
          "2024-07-13T00:00:00+00:00",
          "2024-07-14T00:00:00+00:00",
          "2024-07-15T00:00:00+00:00",
          "2024-07-16T00:00:00+00:00",
          "2024-07-17T00:00:00+00:00",
          "2024-07-18T00:00:00+00:00",
          "2024-07-19T00:00:00+00:00",
          "2024-07-20T00:00:00+00:00",
          "2024-07-21T00:00:00+00:00",
          "2024-07-22T00:00:00+00:00",
          "2024-07-23T00:00:00+00:00",
          "2024-07-24T00:00:00+00:00",
          "2024-07-25T00:00:00+00:00",
          "2024-07-26T00:00:00+00:00",
          "2024-07-27T00:00:00+00:00",
          "2024-07-28T00:00:00+00:00",
          "2024-07-29T00:00:00+00:00",
          "2024-07-30T00:00:00+00:00",
          "2024-07-31T00:00:00+00:00",
          "2024-08-01T00:00:00+00:00",
          "2024-08-02T00:00:00+00:00",
          "2024-08-03T00:00:00+00:00",
          "2024-08-04T00:00:00+00:00",
          "2024-08-05T00:00:00+00:00",
          "2024-08-06T00:00:00+00:00",
          "2024-08-07T00:00:00+00:00",
          "2024-08-08T00:00:00+00:00",
          "2024-08-09T00:00:00+00:00",
          "2024-08-10T00:00:00+00:00",
          "2024-08-11T00:00:00+00:00",
          "2024-08-12T00:00:00+00:00",
          "2024-08-13T00:00:00+00:00",
          "2024-08-14T00:00:00+00:00",
          "2024-08-15T00:00:00+00:00",
          "2024-08-16T00:00:00+00:00",
          "2024-08-17T00:00:00+00:00",
          "2024-08-18T00:00:00+00:00",
          "2024-08-19T00:00:00+00:00",
          "2024-08-20T00:00:00+00:00",
          "2024-08-21T00:00:00+00:00",
          "2024-08-22T00:00:00+00:00",
          "2024-08-23T00:00:00+00:00",
          "2024-08-24T00:00:00+00:00",
          "2024-08-25T00:00:00+00:00",
          "2024-08-26T00:00:00+00:00",
          "2024-08-27T00:00:00+00:00",
          "2024-08-28T00:00:00+00:00",
          "2024-08-29T00:00:00+00:00",
          "2024-08-30T00:00:00+00:00",
          "2024-08-31T00:00:00+00:00",
          "2024-09-01T00:00:00+00:00",
          "2024-09-02T00:00:00+00:00",
          "2024-09-03T00:00:00+00:00",
          "2024-09-04T00:00:00+00:00",
          "2024-09-05T00:00:00+00:00",
          "2024-09-06T00:00:00+00:00",
          "2024-09-07T00:00:00+00:00",
          "2024-09-08T00:00:00+00:00",
          "2024-09-09T00:00:00+00:00",
          "2024-09-10T00:00:00+00:00",
          "2024-09-11T00:00:00+00:00",
          "2024-09-12T00:00:00+00:00",
          "2024-09-13T00:00:00+00:00",
          "2024-09-14T00:00:00+00:00",
          "2024-09-15T00:00:00+00:00",
          "2024-09-16T00:00:00+00:00",
          "2024-09-17T00:00:00+00:00",
          "2024-09-18T00:00:00+00:00",
          "2024-09-19T00:00:00+00:00",
          "2024-09-20T00:00:00+00:00",
          "2024-09-21T00:00:00+00:00",
          "2024-09-22T00:00:00+00:00",
          "2024-09-23T00:00:00+00:00",
          "2024-09-24T00:00:00+00:00",
          "2024-09-25T00:00:00+00:00",
          "2024-09-26T00:00:00+00:00",
          "2024-09-27T00:00:00+00:00",
          "2024-09-28T00:00:00+00:00",
          "2024-09-29T00:00:00+00:00",
          "2024-09-30T00:00:00+00:00",
          "2024-10-01T00:00:00+00:00",
          "2024-10-02T00:00:00+00:00",
          "2024-10-03T00:00:00+00:00",
          "2024-10-04T00:00:00+00:00",
          "2024-10-05T00:00:00+00:00",
          "2024-10-06T00:00:00+00:00",
          "2024-10-07T00:00:00+00:00",
          "2024-10-08T00:00:00+00:00",
          "2024-10-09T00:00:00+00:00",
          "2024-10-10T00:00:00+00:00",
          "2024-10-11T00:00:00+00:00",
          "2024-10-12T00:00:00+00:00",
          "2024-10-13T00:00:00+00:00",
          "2024-10-14T00:00:00+00:00",
          "2024-10-15T00:00:00+00:00",
          "2024-10-16T00:00:00+00:00",
          "2024-10-17T00:00:00+00:00",
          "2024-10-18T00:00:00+00:00",
          "2024-10-19T00:00:00+00:00",
          "2024-10-20T00:00:00+00:00",
          "2024-10-21T00:00:00+00:00",
          "2024-10-22T00:00:00+00:00",
          "2024-10-23T00:00:00+00:00",
          "2024-10-24T00:00:00+00:00",
          "2024-10-25T00:00:00+00:00",
          "2024-10-26T00:00:00+00:00",
          "2024-10-27T00:00:00+00:00",
          "2024-10-28T00:00:00+00:00",
          "2024-10-29T00:00:00+00:00",
          "2024-10-30T00:00:00+00:00",
          "2024-10-31T00:00:00+00:00",
          "2024-11-01T00:00:00+00:00",
          "2024-11-02T00:00:00+00:00",
          "2024-11-03T00:00:00+00:00",
          "2024-11-04T00:00:00+00:00",
          "2024-11-05T00:00:00+00:00",
          "2024-11-06T00:00:00+00:00",
          "2024-11-07T00:00:00+00:00",
          "2024-11-08T00:00:00+00:00",
          "2024-11-09T00:00:00+00:00",
          "2024-11-10T00:00:00+00:00",
          "2024-11-11T00:00:00+00:00",
          "2024-11-12T00:00:00+00:00",
          "2024-11-13T00:00:00+00:00",
          "2024-11-14T00:00:00+00:00",
          "2024-11-15T00:00:00+00:00",
          "2024-11-16T00:00:00+00:00",
          "2024-11-17T00:00:00+00:00",
          "2024-11-18T00:00:00+00:00",
          "2024-11-19T00:00:00+00:00",
          "2024-11-20T00:00:00+00:00",
          "2024-11-21T00:00:00+00:00",
          "2024-11-22T00:00:00+00:00",
          "2024-11-23T00:00:00+00:00",
          "2024-11-24T00:00:00+00:00",
          "2024-11-25T00:00:00+00:00",
          "2024-11-26T00:00:00+00:00",
          "2024-11-27T00:00:00+00:00",
          "2024-11-28T00:00:00+00:00",
          "2024-11-29T00:00:00+00:00",
          "2024-11-30T00:00:00+00:00",
          "2024-12-01T00:00:00+00:00",
          "2024-12-02T00:00:00+00:00",
          "2024-12-03T00:00:00+00:00",
          "2024-12-04T00:00:00+00:00",
          "2024-12-05T00:00:00+00:00",
          "2024-12-06T00:00:00+00:00",
          "2024-12-07T00:00:00+00:00",
          "2024-12-08T00:00:00+00:00",
          "2024-12-09T00:00:00+00:00",
          "2024-12-10T00:00:00+00:00",
          "2024-12-11T00:00:00+00:00",
          "2024-12-12T00:00:00+00:00",
          "2024-12-13T00:00:00+00:00",
          "2024-12-14T00:00:00+00:00",
          "2024-12-15T00:00:00+00:00",
          "2024-12-16T00:00:00+00:00",
          "2024-12-17T00:00:00+00:00",
          "2024-12-18T00:00:00+00:00",
          "2024-12-19T00:00:00+00:00",
          "2024-12-20T00:00:00+00:00",
          "2024-12-21T00:00:00+00:00",
          "2024-12-22T00:00:00+00:00",
          "2024-12-23T00:00:00+00:00",
          "2024-12-24T00:00:00+00:00",
          "2024-12-25T00:00:00+00:00",
          "2024-12-26T00:00:00+00:00",
          "2024-12-27T00:00:00+00:00",
          "2024-12-28T00:00:00+00:00",
          "2024-12-29T00:00:00+00:00",
          "2024-12-30T00:00:00+00:00",
          "2024-12-31T00:00:00+00:00",
          "2025-01-01T00:00:00+00:00",
          "2025-01-02T00:00:00+00:00",
          "2025-01-03T00:00:00+00:00",
          "2025-01-04T00:00:00+00:00",
          "2025-01-05T00:00:00+00:00",
          "2025-01-06T00:00:00+00:00",
          "2025-01-07T00:00:00+00:00",
          "2025-01-08T00:00:00+00:00",
          "2025-01-09T00:00:00+00:00",
          "2025-01-10T00:00:00+00:00",
          "2025-01-11T00:00:00+00:00",
          "2025-01-12T00:00:00+00:00",
          "2025-01-13T00:00:00+00:00",
          "2025-01-14T00:00:00+00:00",
          "2025-01-15T00:00:00+00:00",
          "2025-01-16T00:00:00+00:00",
          "2025-01-17T00:00:00+00:00",
          "2025-01-18T00:00:00+00:00",
          "2025-01-19T00:00:00+00:00",
          "2025-01-20T00:00:00+00:00",
          "2025-01-21T00:00:00+00:00",
          "2025-01-22T00:00:00+00:00",
          "2025-01-23T00:00:00+00:00",
          "2025-01-24T00:00:00+00:00",
          "2025-01-25T00:00:00+00:00",
          "2025-01-26T00:00:00+00:00",
          "2025-01-27T00:00:00+00:00",
          "2025-01-28T00:00:00+00:00",
          "2025-01-29T00:00:00+00:00",
          "2025-01-30T00:00:00+00:00"
         ],
         "y": [
          [
           null,
           null,
           null,
           null
          ],
          [
           null,
           null,
           null,
           null
          ],
          [
           null,
           null,
           null,
           null
          ],
          [
           null,
           null,
           null,
           null
          ],
          [
           null,
           null,
           null,
           null
          ],
          [
           null,
           null,
           null,
           null
          ],
          [
           null,
           null,
           null,
           null
          ],
          [
           null,
           null,
           null,
           null
          ],
          [
           null,
           null,
           null,
           null
          ],
          [
           null,
           null,
           null,
           null
          ],
          [
           null,
           null,
           null,
           null
          ],
          [
           null,
           null,
           null,
           null
          ],
          [
           null,
           null,
           null,
           null
          ],
          [
           null,
           null,
           null,
           null
          ],
          [
           null,
           null,
           null,
           null
          ],
          [
           null,
           null,
           null,
           null
          ],
          [
           null,
           null,
           null,
           null
          ],
          [
           null,
           null,
           null,
           null
          ],
          [
           null,
           null,
           null,
           null
          ],
          [
           21154.155000000002,
           21154.155000000002,
           21154.155000000002,
           21154.155000000002
          ],
          [
           21400.597380952382,
           21400.597380952382,
           21400.597380952382,
           21400.597380952382
          ],
          [
           21536.483344671204,
           21536.483344671204,
           21536.483344671204,
           21536.483344671204
          ],
          [
           21688.256359464423,
           21688.256359464423,
           21688.256359464423,
           21688.256359464423
          ],
          [
           21882.27003951543,
           21882.27003951543,
           21882.27003951543,
           21882.27003951543
          ],
          [
           22035.501464323486,
           22035.501464323486,
           22035.501464323486,
           22035.501464323486
          ],
          [
           22168.69180105458,
           22168.69180105458,
           22168.69180105458,
           22168.69180105458
          ],
          [
           22278.768772382715,
           22278.768772382715,
           22278.768772382715,
           22278.768772382715
          ],
          [
           22340.628889298645,
           22340.628889298645,
           22340.628889298645,
           22340.628889298645
          ],
          [
           22380.559471270204,
           22380.559471270204,
           22380.559471270204,
           22380.559471270204
          ],
          [
           22462.868093053996,
           22462.868093053996,
           22462.868093053996,
           22462.868093053996
          ],
          [
           22510.19494133457,
           22510.19494133457,
           22510.19494133457,
           22510.19494133457
          ],
          [
           22442.281137397942,
           22442.281137397942,
           22442.281137397942,
           22442.281137397942
          ],
          [
           22364.45436240766,
           22364.45436240766,
           22364.45436240766,
           22364.45436240766
          ],
          [
           22316.582518368836,
           22316.582518368836,
           22316.582518368836,
           22316.582518368836
          ],
          [
           22265.44132614323,
           22265.44132614323,
           22265.44132614323,
           22265.44132614323
          ],
          [
           22218.551676034353,
           22218.551676034353,
           22218.551676034353,
           22218.551676034353
          ],
          [
           22216.699135459654,
           22216.699135459654,
           22216.699135459654,
           22216.699135459654
          ],
          [
           22417.74683684445,
           22417.74683684445,
           22417.74683684445,
           22417.74683684445
          ],
          [
           22522.294757144977,
           22522.294757144977,
           22522.294757144977,
           22522.294757144977
          ],
          [
           22717.600018369263,
           22717.600018369263,
           22717.600018369263,
           22717.600018369263
          ],
          [
           22900.057159476954,
           22900.057159476954,
           22900.057159476954,
           22900.057159476954
          ],
          [
           23030.527906193434,
           23030.527906193434,
           23030.527906193434,
           23030.527906193434
          ],
          [
           23202.849057984535,
           23202.849057984535,
           23202.849057984535,
           23202.849057984535
          ],
          [
           23321.5110524622,
           23321.5110524622,
           23321.5110524622,
           23321.5110524622
          ],
          [
           23403.538571275323,
           23403.538571275323,
           23403.538571275323,
           23403.538571275323
          ],
          [
           23454.277754963387,
           23454.277754963387,
           23454.277754963387,
           23454.277754963387
          ],
          [
           23428.82273068116,
           23428.82273068116,
           23428.82273068116,
           23428.82273068116
          ],
          [
           23403.249137282954,
           23403.249137282954,
           23403.249137282954,
           23403.249137282954
          ],
          [
           23418.01588611315,
           23418.01588611315,
           23418.01588611315,
           23418.01588611315
          ],
          [
           23424.966754102374,
           23424.966754102374,
           23424.966754102374,
           23424.966754102374
          ],
          [
           23397.64611085453,
           23397.64611085453,
           23397.64611085453,
           23397.64611085453
          ],
          [
           23419.822671725527,
           23419.822671725527,
           23419.822671725527,
           23419.822671725527
          ],
          [
           23423.71575060881,
           23423.71575060881,
           23423.71575060881,
           23423.71575060881
          ],
          [
           23321.68567912226,
           23321.68567912226,
           23321.68567912226,
           23321.68567912226
          ],
          [
           23228.810852539187,
           23228.810852539187,
           23228.810852539187,
           23228.810852539187
          ],
          [
           23152.49553324974,
           23152.49553324974,
           23152.49553324974,
           23152.49553324974
          ],
          [
           23081.40072055929,
           23081.40072055929,
           23081.40072055929,
           23081.40072055929
          ],
          [
           22997.391128125073,
           22997.391128125073,
           22997.391128125073,
           22997.391128125073
          ],
          [
           22874.058639732208,
           22874.058639732208,
           22874.058639732208,
           22874.058639732208
          ],
          [
           22634.729245471997,
           22634.729245471997,
           22634.729245471997,
           22634.729245471997
          ],
          [
           22398.269317331808,
           22398.269317331808,
           22398.269317331808,
           22398.269317331808
          ],
          [
           22214.16747758592,
           22214.16747758592,
           22214.16747758592,
           22214.16747758592
          ],
          [
           22193.903908292024,
           22193.903908292024,
           22193.903908292024,
           22193.903908292024
          ],
          [
           22375.427345597545,
           22375.427345597545,
           22375.427345597545,
           22375.427345597545
          ],
          [
           22594.586646016825,
           22594.586646016825,
           22594.586646016825,
           22594.586646016825
          ],
          [
           22755.27363211046,
           22755.27363211046,
           22755.27363211046,
           22755.27363211046
          ],
          [
           22969.152333814225,
           22969.152333814225,
           22969.152333814225,
           22969.152333814225
          ],
          [
           23390.261635355728,
           23390.261635355728,
           23390.261635355728,
           23390.261635355728
          ],
          [
           23725.25576532185,
           23725.25576532185,
           23725.25576532185,
           23725.25576532185
          ],
          [
           24129.269501957864,
           24129.269501957864,
           24129.269501957864,
           24129.269501957864
          ],
          [
           24471.472406533307,
           24471.472406533307,
           24471.472406533307,
           24471.472406533307
          ],
          [
           24817.798844006324,
           24817.798844006324,
           24817.798844006324,
           24817.798844006324
          ],
          [
           25049.808477910483,
           25049.808477910483,
           25049.808477910483,
           25049.808477910483
          ],
          [
           25358.72195620472,
           25358.72195620472,
           25358.72195620472,
           25358.72195620472
          ],
          [
           25558.100817518556,
           25558.100817518556,
           25558.100817518556,
           25558.100817518556
          ],
          [
           25739.500739659645,
           25739.500739659645,
           25739.500739659645,
           25739.500739659645
          ],
          [
           25951.938764453964,
           25951.938764453964,
           25951.938764453964,
           25951.938764453964
          ],
          [
           26063.706501172634,
           26063.706501172634,
           26063.706501172634,
           26063.706501172634
          ],
          [
           26177.810643918096,
           26177.810643918096,
           26177.810643918096,
           26177.810643918096
          ],
          [
           26384.514392116373,
           26384.514392116373,
           26384.514392116373,
           26384.514392116373
          ],
          [
           26540.989211914813,
           26540.989211914813,
           26540.989211914813,
           26540.989211914813
          ],
          [
           26724.437858399117,
           26724.437858399117,
           26724.437858399117,
           26724.437858399117
          ],
          [
           26889.14853855158,
           26889.14853855158,
           26889.14853855158,
           26889.14853855158
          ],
          [
           27011.467725356193,
           27011.467725356193,
           27011.467725356193,
           27011.467725356193
          ],
          [
           27086.651751512745,
           27086.651751512745,
           27086.651751512745,
           27086.651751512745
          ],
          [
           27189.2277751782,
           27189.2277751782,
           27189.2277751782,
           27189.2277751782
          ],
          [
           27282.777510875512,
           27282.777510875512,
           27282.777510875512,
           27282.777510875512
          ],
          [
           27353.97012888737,
           27353.97012888737,
           27353.97012888737,
           27353.97012888737
          ],
          [
           27406.54440232667,
           27406.54440232667,
           27406.54440232667,
           27406.54440232667
          ],
          [
           27457.273506866986,
           27457.273506866986,
           27457.273506866986,
           27457.273506866986
          ],
          [
           27539.514125260608,
           27539.514125260608,
           27539.514125260608,
           27539.514125260608
          ],
          [
           27739.2365895215,
           27739.2365895215,
           27739.2365895215,
           27739.2365895215
          ],
          [
           27973.623580995645,
           27973.623580995645,
           27973.623580995645,
           27973.623580995645
          ],
          [
           28156.07847804368,
           28156.07847804368,
           28156.07847804368,
           28156.07847804368
          ],
          [
           28367.18528965857,
           28367.18528965857,
           28367.18528965857,
           28367.18528965857
          ],
          [
           28566.805738262516,
           28566.805738262516,
           28566.805738262516,
           28566.805738262516
          ],
          [
           28731.700429856563,
           28731.700429856563,
           28731.700429856563,
           28731.700429856563
          ],
          [
           28881.452769870222,
           28881.452769870222,
           28881.452769870222,
           28881.452769870222
          ],
          [
           28933.381077501628,
           28933.381077501628,
           28933.381077501628,
           28933.381077501628
          ],
          [
           29071.163832025282,
           29071.163832025282,
           29071.163832025282,
           29071.163832025282
          ],
          [
           29045.700609927637,
           29045.700609927637,
           29045.700609927637,
           29045.700609927637
          ],
          [
           28968.691028029767,
           28968.691028029767,
           28968.691028029767,
           28968.691028029767
          ],
          [
           28806.015692026933,
           28806.015692026933,
           28806.015692026933,
           28806.015692026933
          ],
          [
           28711.51895945294,
           28711.51895945294,
           28711.51895945294,
           28711.51895945294
          ],
          [
           28604.460010933613,
           28604.460010933613,
           28604.460010933613,
           28604.460010933613
          ],
          [
           28499.844771797078,
           28499.844771797078,
           28499.844771797078,
           28499.844771797078
          ],
          [
           28480.52622210212,
           28480.52622210212,
           28480.52622210212,
           28480.52622210212
          ],
          [
           28474.295153330488,
           28474.295153330488,
           28474.295153330488,
           28474.295153330488
          ],
          [
           28569.49561491806,
           28569.49561491806,
           28569.49561491806,
           28569.49561491806
          ],
          [
           28640.0103182592,
           28640.0103182592,
           28640.0103182592,
           28640.0103182592
          ],
          [
           28695.81885937737,
           28695.81885937737,
           28695.81885937737,
           28695.81885937737
          ],
          [
           28746.883729912857,
           28746.883729912857,
           28746.883729912857,
           28746.883729912857
          ],
          [
           28682.06623182592,
           28682.06623182592,
           28682.06623182592,
           28682.06623182592
          ],
          [
           28680.726590699644,
           28680.726590699644,
           28680.726590699644,
           28680.726590699644
          ],
          [
           28713.666915394915,
           28713.666915394915,
           28713.666915394915,
           28713.666915394915
          ],
          [
           28725.498637738256,
           28725.498637738256,
           28725.498637738256,
           28725.498637738256
          ],
          [
           28799.69876747747,
           28799.69876747747,
           28799.69876747747,
           28799.69876747747
          ],
          [
           28804.098884860567,
           28804.098884860567,
           28804.098884860567,
           28804.098884860567
          ],
          [
           28768.403752969083,
           28768.403752969083,
           28768.403752969083,
           28768.403752969083
          ],
          [
           28663.498633638694,
           28663.498633638694,
           28663.498633638694,
           28663.498633638694
          ],
          [
           28565.02257329215,
           28565.02257329215,
           28565.02257329215,
           28565.02257329215
          ],
          [
           28472.448994883373,
           28472.448994883373,
           28472.448994883373,
           28472.448994883373
          ],
          [
           28329.33956679924,
           28329.33956679924,
           28329.33956679924,
           28329.33956679924
          ],
          [
           28183.307227104076,
           28183.307227104076,
           28183.307227104076,
           28183.307227104076
          ],
          [
           28049.173205475116,
           28049.173205475116,
           28049.173205475116,
           28049.173205475116
          ],
          [
           27941.50909066796,
           27941.50909066796,
           27941.50909066796,
           27941.50909066796
          ],
          [
           27867.765367747204,
           27867.765367747204,
           27867.765367747204,
           27867.765367747204
          ],
          [
           27788.540094628424,
           27788.540094628424,
           27788.540094628424,
           27788.540094628424
          ],
          [
           27751.869609425717,
           27751.869609425717,
           27751.869609425717,
           27751.869609425717
          ],
          [
           27663.024884718507,
           27663.024884718507,
           27663.024884718507,
           27663.024884718507
          ],
          [
           27588.58441950722,
           27588.58441950722,
           27588.58441950722,
           27588.58441950722
          ],
          [
           27542.509712887484,
           27542.509712887484,
           27542.509712887484,
           27542.509712887484
          ],
          [
           27466.527835469627,
           27466.527835469627,
           27466.527835469627,
           27466.527835469627
          ],
          [
           27407.439470186804,
           27407.439470186804,
           27407.439470186804,
           27407.439470186804
          ],
          [
           27389.53094921663,
           27389.53094921663,
           27389.53094921663,
           27389.53094921663
          ],
          [
           27288.451811196,
           27288.451811196,
           27288.451811196,
           27288.451811196
          ],
          [
           27210.951638701143,
           27210.951638701143,
           27210.951638701143,
           27210.951638701143
          ],
          [
           27162.984815967702,
           27162.984815967702,
           27162.984815967702,
           27162.984815967702
          ],
          [
           27133.69102397078,
           27133.69102397078,
           27133.69102397078,
           27133.69102397078
          ],
          [
           27222.60616454499,
           27222.60616454499,
           27222.60616454499,
           27222.60616454499
          ],
          [
           27271.52938696928,
           27271.52938696928,
           27271.52938696928,
           27271.52938696928
          ],
          [
           27311.755159638873,
           27311.755159638873,
           27311.755159638873,
           27311.755159638873
          ],
          [
           27302.2165730066,
           27302.2165730066,
           27302.2165730066,
           27302.2165730066
          ],
          [
           27255.729280339307,
           27255.729280339307,
           27255.729280339307,
           27255.729280339307
          ],
          [
           27254.564586973658,
           27254.564586973658,
           27254.564586973658,
           27254.564586973658
          ],
          [
           27236.977483452356,
           27236.977483452356,
           27236.977483452356,
           27236.977483452356
          ],
          [
           27225.960580266415,
           27225.960580266415,
           27225.960580266415,
           27225.960580266415
          ],
          [
           27083.07862024104,
           27083.07862024104,
           27083.07862024104,
           27083.07862024104
          ],
          [
           27097.05208497999,
           27097.05208497999,
           27097.05208497999,
           27097.05208497999
          ],
          [
           27025.170934029517,
           27025.170934029517,
           27025.170934029517,
           27025.170934029517
          ],
          [
           26975.049892693372,
           26975.049892693372,
           26975.049892693372,
           26975.049892693372
          ],
          [
           26927.72133148448,
           26927.72133148448,
           26927.72133148448,
           26927.72133148448
          ],
          [
           26824.224061819292,
           26824.224061819292,
           26824.224061819292,
           26824.224061819292
          ],
          [
           26738.61224640793,
           26738.61224640793,
           26738.61224640793,
           26738.61224640793
          ],
          [
           26659.353937226224,
           26659.353937226224,
           26659.353937226224,
           26659.353937226224
          ],
          [
           26590.46308606182,
           26590.46308606182,
           26590.46308606182,
           26590.46308606182
          ],
          [
           26451.24755405593,
           26451.24755405593,
           26451.24755405593,
           26451.24755405593
          ],
          [
           26369.928739383937,
           26369.928739383937,
           26369.928739383937,
           26369.928739383937
          ],
          [
           26367.84028801404,
           26367.84028801404,
           26367.84028801404,
           26367.84028801404
          ],
          [
           26382.14121296508,
           26382.14121296508,
           26382.14121296508,
           26382.14121296508
          ],
          [
           26378.11824030174,
           26378.11824030174,
           26378.11824030174,
           26378.11824030174
          ],
          [
           26422.40221741586,
           26422.40221741586,
           26422.40221741586,
           26422.40221741586
          ],
          [
           26601.725815757207,
           26601.725815757207,
           26601.725815757207,
           26601.725815757207
          ],
          [
           26924.523357113663,
           26924.523357113663,
           26924.523357113663,
           26924.523357113663
          ],
          [
           27206.654465959982,
           27206.654465959982,
           27206.654465959982,
           27206.654465959982
          ],
          [
           27538.45880253522,
           27538.45880253522,
           27538.45880253522,
           27538.45880253522
          ],
          [
           27823.55796419853,
           27823.55796419853,
           27823.55796419853,
           27823.55796419853
          ],
          [
           28075.057205703433,
           28075.057205703433,
           28075.057205703433,
           28075.057205703433
          ],
          [
           28284.232709922155,
           28284.232709922155,
           28284.232709922155,
           28284.232709922155
          ],
          [
           28513.581975643854,
           28513.581975643854,
           28513.581975643854,
           28513.581975643854
          ],
          [
           28662.669406534915,
           28662.669406534915,
           28662.669406534915,
           28662.669406534915
          ],
          [
           28832.777082103017,
           28832.777082103017,
           28832.777082103017,
           28832.777082103017
          ],
          [
           28989.188788569398,
           28989.188788569398,
           28989.188788569398,
           28989.188788569398
          ],
          [
           29141.218427753265,
           29141.218427753265,
           29141.218427753265,
           29141.218427753265
          ],
          [
           29281.588101300575,
           29281.588101300575,
           29281.588101300575,
           29281.588101300575
          ],
          [
           29460.151139271948,
           29460.151139271948,
           29460.151139271948,
           29460.151139271948
          ],
          [
           29584.508173627,
           29584.508173627,
           29584.508173627,
           29584.508173627
          ],
          [
           29672.107395186333,
           29672.107395186333,
           29672.107395186333,
           29672.107395186333
          ],
          [
           29693.335262311444,
           29693.335262311444,
           29693.335262311444,
           29693.335262311444
          ],
          [
           29755.246189710353,
           29755.246189710353,
           29755.246189710353,
           29755.246189710353
          ],
          [
           29806.01321926175,
           29806.01321926175,
           29806.01321926175,
           29806.01321926175
          ],
          [
           29840.04053171301,
           29840.04053171301,
           29840.04053171301,
           29840.04053171301
          ],
          [
           29894.684290597485,
           29894.684290597485,
           29894.684290597485,
           29894.684290597485
          ],
          [
           29963.876262921534,
           29963.876262921534,
           29963.876262921534,
           29963.876262921534
          ],
          [
           30003.54519026234,
           30003.54519026234,
           30003.54519026234,
           30003.54519026234
          ],
          [
           30141.483743570687,
           30141.483743570687,
           30141.483743570687,
           30141.483743570687
          ],
          [
           30157.847196563955,
           30157.847196563955,
           30157.847196563955,
           30157.847196563955
          ],
          [
           30170.26174927215,
           30170.26174927215,
           30170.26174927215,
           30170.26174927215
          ],
          [
           30176.046344579565,
           30176.046344579565,
           30176.046344579565,
           30176.046344579565
          ],
          [
           30172.727645095798,
           30172.727645095798,
           30172.727645095798,
           30172.727645095798
          ],
          [
           30142.84882175334,
           30142.84882175334,
           30142.84882175334,
           30142.84882175334
          ],
          [
           30120.539410157784,
           30120.539410157784,
           30120.539410157784,
           30120.539410157784
          ],
          [
           30090.07851395228,
           30090.07851395228,
           30090.07851395228,
           30090.07851395228
          ],
          [
           30071.871036433018,
           30071.871036433018,
           30071.871036433018,
           30071.871036433018
          ],
          [
           30044.969032963207,
           30044.969032963207,
           30044.969032963207,
           30044.969032963207
          ],
          [
           30048.600553633376,
           30048.600553633376,
           30048.600553633376,
           30048.600553633376
          ],
          [
           29965.886215192102,
           29965.886215192102,
           29965.886215192102,
           29965.886215192102
          ],
          [
           29895.59228993571,
           29895.59228993571,
           29895.59228993571,
           29895.59228993571
          ],
          [
           29843.85016708469,
           29843.85016708469,
           29843.85016708469,
           29843.85016708469
          ],
          [
           29784.559674981385,
           29784.559674981385,
           29784.559674981385,
           29784.559674981385
          ],
          [
           29739.82065831649,
           29739.82065831649,
           29739.82065831649,
           29739.82065831649
          ],
          [
           29703.142500381586,
           29703.142500381586,
           29703.142500381586,
           29703.142500381586
          ],
          [
           29662.681309869055,
           29662.681309869055,
           29662.681309869055,
           29662.681309869055
          ],
          [
           29621.873566072,
           29621.873566072,
           29621.873566072,
           29621.873566072
          ],
          [
           29630.16179787467,
           29630.16179787467,
           29630.16179787467,
           29630.16179787467
          ],
          [
           29587.527340934223,
           29587.527340934223,
           29587.527340934223,
           29587.527340934223
          ],
          [
           29550.058070369058,
           29550.058070369058,
           29550.058070369058,
           29550.058070369058
          ],
          [
           29508.519206524386,
           29508.519206524386,
           29508.519206524386,
           29508.519206524386
          ],
          [
           29467.136424950637,
           29467.136424950637,
           29467.136424950637,
           29467.136424950637
          ],
          [
           29431.34247971724,
           29431.34247971724,
           29431.34247971724,
           29431.34247971724
          ],
          [
           29410.67176736322,
           29410.67176736322,
           29410.67176736322,
           29410.67176736322
          ],
          [
           29445.15064666196,
           29445.15064666196,
           29445.15064666196,
           29445.15064666196
          ],
          [
           29458.15534697987,
           29458.15534697987,
           29458.15534697987,
           29458.15534697987
          ],
          [
           29457.70245679131,
           29457.70245679131,
           29457.70245679131,
           29457.70245679131
          ],
          [
           29454.74031804928,
           29454.74031804928,
           29454.74031804928,
           29454.74031804928
          ],
          [
           29452.460287758873,
           29452.460287758873,
           29452.460287758873,
           29452.460287758873
          ],
          [
           29438.616450829457,
           29438.616450829457,
           29438.616450829457,
           29438.616450829457
          ],
          [
           29438.08155075046,
           29438.08155075046,
           29438.08155075046,
           29438.08155075046
          ],
          [
           29415.61664115518,
           29415.61664115518,
           29415.61664115518,
           29415.61664115518
          ],
          [
           29350.062675330875,
           29350.062675330875,
           29350.062675330875,
           29350.062675330875
          ],
          [
           29090.46623006127,
           29090.46623006127,
           29090.46623006127,
           29090.46623006127
          ],
          [
           28801.221827198293,
           28801.221827198293,
           28801.221827198293,
           28801.221827198293
          ],
          [
           28544.0578436556,
           28544.0578436556,
           28544.0578436556,
           28544.0578436556
          ],
          [
           28319.747572831257,
           28319.747572831257,
           28319.747572831257,
           28319.747572831257
          ],
          [
           28110.695423037803,
           28110.695423037803,
           28110.695423037803,
           28110.695423037803
          ],
          [
           27914.85776370087,
           27914.85776370087,
           27914.85776370087,
           27914.85776370087
          ],
          [
           27773.595119538884,
           27773.595119538884,
           27773.595119538884,
           27773.595119538884
          ],
          [
           27621.824155773276,
           27621.824155773276,
           27621.824155773276,
           27621.824155773276
          ],
          [
           27472.907569509156,
           27472.907569509156,
           27472.907569509156,
           27472.907569509156
          ],
          [
           27334.506848603523,
           27334.506848603523,
           27334.506848603523,
           27334.506848603523
          ],
          [
           27217.068101117475,
           27217.068101117475,
           27217.068101117475,
           27217.068101117475
          ],
          [
           27112.623520058667,
           27112.623520058667,
           27112.623520058667,
           27112.623520058667
          ],
          [
           27170.068899100697,
           27170.068899100697,
           27170.068899100697,
           27170.068899100697
          ],
          [
           27182.538527757773,
           27182.538527757773,
           27182.538527757773,
           27182.538527757773
          ],
          [
           27064.239620352273,
           27064.239620352273,
           27064.239620352273,
           27064.239620352273
          ],
          [
           26944.18822793777,
           26944.18822793777,
           26944.18822793777,
           26944.18822793777
          ],
          [
           26841.808396705605,
           26841.808396705605,
           26841.808396705605,
           26841.808396705605
          ],
          [
           26759.01712082888,
           26759.01712082888,
           26759.01712082888,
           26759.01712082888
          ],
          [
           26670.225014083273,
           26670.225014083273,
           26670.225014083273,
           26670.225014083273
          ],
          [
           26586.62263178963,
           26586.62263178963,
           26586.62263178963,
           26586.62263178963
          ],
          [
           26507.849047809665,
           26507.849047809665,
           26507.849047809665,
           26507.849047809665
          ],
          [
           26483.596757542076,
           26483.596757542076,
           26483.596757542076,
           26483.596757542076
          ],
          [
           26429.01611396664,
           26429.01611396664,
           26429.01611396664,
           26429.01611396664
          ],
          [
           26378.73838882696,
           26378.73838882696,
           26378.73838882696,
           26378.73838882696
          ],
          [
           26327.5347327482,
           26327.5347327482,
           26327.5347327482,
           26327.5347327482
          ],
          [
           26216.588567724564,
           26216.588567724564,
           26216.588567724564,
           26216.588567724564
          ],
          [
           26180.56108508413,
           26180.56108508413,
           26180.56108508413,
           26180.56108508413
          ],
          [
           26184.393362695166,
           26184.393362695166,
           26184.393362695166,
           26184.393362695166
          ],
          [
           26216.517804343246,
           26216.517804343246,
           26216.517804343246,
           26216.517804343246
          ],
          [
           26253.154203929604,
           26253.154203929604,
           26253.154203929604,
           26253.154203929604
          ],
          [
           26282.206184507737,
           26282.206184507737,
           26282.206184507737,
           26282.206184507737
          ],
          [
           26305.405595507,
           26305.405595507,
           26305.405595507,
           26305.405595507
          ],
          [
           26349.090776887286,
           26349.090776887286,
           26349.090776887286,
           26349.090776887286
          ],
          [
           26430.529750517067,
           26430.529750517067,
           26430.529750517067,
           26430.529750517067
          ],
          [
           26496.212631420203,
           26496.212631420203,
           26496.212631420203,
           26496.212631420203
          ],
          [
           26502.963809380184,
           26502.963809380184,
           26502.963809380184,
           26502.963809380184
          ],
          [
           26510.024398963025,
           26510.024398963025,
           26510.024398963025,
           26510.024398963025
          ],
          [
           26516.203027633215,
           26516.203027633215,
           26516.203027633215,
           26516.203027633215
          ],
          [
           26491.202739287193,
           26491.202739287193,
           26491.202739287193,
           26491.202739287193
          ],
          [
           26473.07866887889,
           26473.07866887889,
           26473.07866887889,
           26473.07866887889
          ],
          [
           26449.09974803328,
           26449.09974803328,
           26449.09974803328,
           26449.09974803328
          ],
          [
           26441.452152982492,
           26441.452152982492,
           26441.452152982492,
           26441.452152982492
          ],
          [
           26496.47575746035,
           26496.47575746035,
           26496.47575746035,
           26496.47575746035
          ],
          [
           26535.839971035555,
           26535.839971035555,
           26535.839971035555,
           26535.839971035555
          ],
          [
           26576.50283093693,
           26576.50283093693,
           26576.50283093693,
           26576.50283093693
          ],
          [
           26711.35970418103,
           26711.35970418103,
           26711.35970418103,
           26711.35970418103
          ],
          [
           26785.592113306648,
           26785.592113306648,
           26785.592113306648,
           26785.592113306648
          ],
          [
           26846.77381680125,
           26846.77381680125,
           26846.77381680125,
           26846.77381680125
          ],
          [
           26935.900119963037,
           26935.900119963037,
           26935.900119963037,
           26935.900119963037
          ],
          [
           26980.88106091894,
           26980.88106091894,
           26980.88106091894,
           26980.88106091894
          ],
          [
           27071.14000749809,
           27071.14000749809,
           27071.14000749809,
           27071.14000749809
          ],
          [
           27155.22191154589,
           27155.22191154589,
           27155.22191154589,
           27155.22191154589
          ],
          [
           27227.848396160567,
           27227.848396160567,
           27227.848396160567,
           27227.848396160567
          ],
          [
           27262.30092985956,
           27262.30092985956,
           27262.30092985956,
           27262.30092985956
          ],
          [
           27274.177031777697,
           27274.177031777697,
           27274.177031777697,
           27274.177031777697
          ],
          [
           27236.50302875125,
           27236.50302875125,
           27236.50302875125,
           27236.50302875125
          ],
          [
           27191.17893077494,
           27191.17893077494,
           27191.17893077494,
           27191.17893077494
          ],
          [
           27159.87617546304,
           27159.87617546304,
           27159.87617546304,
           27159.87617546304
          ],
          [
           27130.95463494275,
           27130.95463494275,
           27130.95463494275,
           27130.95463494275
          ],
          [
           27133.139907805347,
           27133.139907805347,
           27133.139907805347,
           27133.139907805347
          ],
          [
           27263.412297538172,
           27263.412297538172,
           27263.412297538172,
           27263.412297538172
          ],
          [
           27371.296840629777,
           27371.296840629777,
           27371.296840629777,
           27371.296840629777
          ],
          [
           27461.7447605698,
           27461.7447605698,
           27461.7447605698,
           27461.7447605698
          ],
          [
           27581.11192622982,
           27581.11192622982,
           27581.11192622982,
           27581.11192622982
          ],
          [
           27779.853647541266,
           27779.853647541266,
           27779.853647541266,
           27779.853647541266
          ],
          [
           27982.486633489716,
           27982.486633489716,
           27982.486633489716,
           27982.486633489716
          ],
          [
           28173.63076363355,
           28173.63076363355,
           28173.63076363355,
           28173.63076363355
          ],
          [
           28640.132595668452,
           28640.132595668452,
           28640.132595668452,
           28640.132595668452
          ],
          [
           29143.64377703336,
           29143.64377703336,
           29143.64377703336,
           29143.64377703336
          ],
          [
           29653.201512553995,
           29653.201512553995,
           29653.201512553995,
           29653.201512553995
          ],
          [
           30081.363273263138,
           30081.363273263138,
           30081.363273263138,
           30081.363273263138
          ],
          [
           30444.21439009522,
           30444.21439009522,
           30444.21439009522,
           30444.21439009522
          ],
          [
           30790.813019609963,
           30790.813019609963,
           30790.813019609963,
           30790.813019609963
          ],
          [
           31146.307017742347,
           31146.307017742347,
           31146.307017742347,
           31146.307017742347
          ],
          [
           31463.182539862122,
           31463.182539862122,
           31463.182539862122,
           31463.182539862122
          ],
          [
           31765.688964637156,
           31765.688964637156,
           31765.688964637156,
           31765.688964637156
          ],
          [
           32113.88049181457,
           32113.88049181457,
           32113.88049181457,
           32113.88049181457
          ],
          [
           32382.644254498897,
           32382.644254498897,
           32382.644254498897,
           32382.644254498897
          ],
          [
           32604.878135022813,
           32604.878135022813,
           32604.878135022813,
           32604.878135022813
          ],
          [
           32838.908788830166,
           32838.908788830166,
           32838.908788830166,
           32838.908788830166
          ],
          [
           33045.96509465586,
           33045.96509465586,
           33045.96509465586,
           33045.96509465586
          ],
          [
           33235.87318087911,
           33235.87318087911,
           33235.87318087911,
           33235.87318087911
          ],
          [
           33441.628116033484,
           33441.628116033484,
           33441.628116033484,
           33441.628116033484
          ],
          [
           33649.69210498268,
           33649.69210498268,
           33649.69210498268,
           33649.69210498268
          ],
          [
           33940.22619022242,
           33940.22619022242,
           33940.22619022242,
           33940.22619022242
          ],
          [
           34260.480838772666,
           34260.480838772666,
           34260.480838772666,
           34260.480838772666
          ],
          [
           34534.120758889556,
           34534.120758889556,
           34534.120758889556,
           34534.120758889556
          ],
          [
           34775.014019947695,
           34775.014019947695,
           34775.014019947695,
           34775.014019947695
          ],
          [
           34935.74601804792,
           34935.74601804792,
           34935.74601804792,
           34935.74601804792
          ],
          [
           34994.37973061478,
           34994.37973061478,
           34994.37973061478,
           34994.37973061478
          ],
          [
           35266.78166103242,
           35266.78166103242,
           35266.78166103242,
           35266.78166103242
          ],
          [
           35352.24055045791,
           35352.24055045791,
           35352.24055045791,
           35352.24055045791
          ],
          [
           35471.95097422382,
           35471.95097422382,
           35471.95097422382,
           35471.95097422382
          ],
          [
           35576.34611953584,
           35576.34611953584,
           35576.34611953584,
           35576.34611953584
          ],
          [
           35745.40839386576,
           35745.40839386576,
           35745.40839386576,
           35745.40839386576
          ],
          [
           35907.47426111664,
           35907.47426111664,
           35907.47426111664,
           35907.47426111664
          ],
          [
           35891.90528386743,
           35891.90528386743,
           35891.90528386743,
           35891.90528386743
          ],
          [
           36036.17144730863,
           36036.17144730863,
           36036.17144730863,
           36036.17144730863
          ],
          [
           36155.63130946972,
           36155.63130946972,
           36155.63130946972,
           36155.63130946972
          ],
          [
           36303.70451809165,
           36303.70451809165,
           36303.70451809165,
           36303.70451809165
          ],
          [
           36443.88504017815,
           36443.88504017815,
           36443.88504017815,
           36443.88504017815
          ],
          [
           36539.58170301833,
           36539.58170301833,
           36539.58170301833,
           36539.58170301833
          ],
          [
           36606.53582654039,
           36606.53582654039,
           36606.53582654039,
           36606.53582654039
          ],
          [
           36721.99908115559,
           36721.99908115559,
           36721.99908115559,
           36721.99908115559
          ],
          [
           36829.70393056935,
           36829.70393056935,
           36829.70393056935,
           36829.70393056935
          ],
          [
           36914.46546099131,
           36914.46546099131,
           36914.46546099131,
           36914.46546099131
          ],
          [
           37082.68779803976,
           37082.68779803976,
           37082.68779803976,
           37082.68779803976
          ],
          [
           37308.43181727407,
           37308.43181727407,
           37308.43181727407,
           37308.43181727407
          ],
          [
           37562.1525965813,
           37562.1525965813,
           37562.1525965813,
           37562.1525965813
          ],
          [
           37983.38568262118,
           37983.38568262118,
           37983.38568262118,
           37983.38568262118
          ],
          [
           38563.177522371545,
           38563.177522371545,
           38563.177522371545,
           38563.177522371545
          ],
          [
           39058.43680595521,
           39058.43680595521,
           39058.43680595521,
           39058.43680595521
          ],
          [
           39460.271395864234,
           39460.271395864234,
           39460.271395864234,
           39460.271395864234
          ],
          [
           39908.6169772105,
           39908.6169772105,
           39908.6169772105,
           39908.6169772105
          ],
          [
           40270.91059842855,
           40270.91059842855,
           40270.91059842855,
           40270.91059842855
          ],
          [
           40605.490541435356,
           40605.490541435356,
           40605.490541435356,
           40605.490541435356
          ],
          [
           40666.90096606056,
           40666.90096606056,
           40666.90096606056,
           40666.90096606056
          ],
          [
           40745.291350245265,
           40745.291350245265,
           40745.291350245265,
           40745.291350245265
          ],
          [
           40947.52074546,
           40947.52074546,
           40947.52074546,
           40947.52074546
          ],
          [
           41145.16638874952,
           41145.16638874952,
           41145.16638874952,
           41145.16638874952
          ],
          [
           41220.70292315433,
           41220.70292315433,
           41220.70292315433,
           41220.70292315433
          ],
          [
           41321.08359713963,
           41321.08359713963,
           41321.08359713963,
           41321.08359713963
          ],
          [
           41326.10420693586,
           41326.10420693586,
           41326.10420693586,
           41326.10420693586
          ],
          [
           41452.7419015134,
           41452.7419015134,
           41452.7419015134,
           41452.7419015134
          ],
          [
           41530.442672797835,
           41530.442672797835,
           41530.442672797835,
           41530.442672797835
          ],
          [
           41733.82908491233,
           41733.82908491233,
           41733.82908491233,
           41733.82908491233
          ],
          [
           41936.15012444449,
           41936.15012444449,
           41936.15012444449,
           41936.15012444449
          ],
          [
           42129.850112592634,
           42129.850112592634,
           42129.850112592634,
           42129.850112592634
          ],
          [
           42279.58819710762,
           42279.58819710762,
           42279.58819710762,
           42279.58819710762
          ],
          [
           42348.11313071642,
           42348.11313071642,
           42348.11313071642,
           42348.11313071642
          ],
          [
           42464.730927791046,
           42464.730927791046,
           42464.730927791046,
           42464.730927791046
          ],
          [
           42469.77560133475,
           42469.77560133475,
           42469.77560133475,
           42469.77560133475
          ],
          [
           42561.56840120763,
           42561.56840120763,
           42561.56840120763,
           42561.56840120763
          ],
          [
           42561.799982045,
           42561.799982045,
           42561.799982045,
           42561.799982045
          ],
          [
           42514.84760280262,
           42514.84760280262,
           42514.84760280262,
           42514.84760280262
          ],
          [
           42479.66211682142,
           42479.66211682142,
           42479.66211682142,
           42479.66211682142
          ],
          [
           42460.38001045748,
           42460.38001045748,
           42460.38001045748,
           42460.38001045748
          ],
          [
           42623.696199937716,
           42623.696199937716,
           42623.696199937716,
           42623.696199937716
          ],
          [
           42844.35370470555,
           42844.35370470555,
           42844.35370470555,
           42844.35370470555
          ],
          [
           42844.02478044788,
           42844.02478044788,
           42844.02478044788,
           42844.02478044788
          ],
          [
           42968.327182309986,
           42968.327182309986,
           42968.327182309986,
           42968.327182309986
          ],
          [
           43080.667450661414,
           43080.667450661414,
           43080.667450661414,
           43080.667450661414
          ],
          [
           43165.44197916985,
           43165.44197916985,
           43165.44197916985,
           43165.44197916985
          ],
          [
           43237.93321924892,
           43237.93321924892,
           43237.93321924892,
           43237.93321924892
          ],
          [
           43591.387198368066,
           43591.387198368066,
           43591.387198368066,
           43591.387198368066
          ],
          [
           43831.90270328539,
           43831.90270328539,
           43831.90270328539,
           43831.90270328539
          ],
          [
           44099.79768392488,
           44099.79768392488,
           44099.79768392488,
           44099.79768392488
          ],
          [
           44313.159809265366,
           44313.159809265366,
           44313.159809265366,
           44313.159809265366
          ],
          [
           44167.16363695438,
           44167.16363695438,
           44167.16363695438,
           44167.16363695438
          ],
          [
           44041.02424295872,
           44041.02424295872,
           44041.02424295872,
           44041.02424295872
          ],
          [
           43820.660029343606,
           43820.660029343606,
           43820.660029343606,
           43820.660029343606
          ],
          [
           43697.130502739456,
           43697.130502739456,
           43697.130502739456,
           43697.130502739456
          ],
          [
           43643.765692954745,
           43643.765692954745,
           43643.765692954745,
           43643.765692954745
          ],
          [
           43560.845150768575,
           43560.845150768575,
           43560.845150768575,
           43560.845150768575
          ],
          [
           43347.57418402871,
           43347.57418402871,
           43347.57418402871,
           43347.57418402871
          ],
          [
           43186.42426174026,
           43186.42426174026,
           43186.42426174026,
           43186.42426174026
          ],
          [
           43044.23147490786,
           43044.23147490786,
           43044.23147490786,
           43044.23147490786
          ],
          [
           42904.76181063092,
           42904.76181063092,
           42904.76181063092,
           42904.76181063092
          ],
          [
           42587.4511619994,
           42587.4511619994,
           42587.4511619994,
           42587.4511619994
          ],
          [
           42331.16057514231,
           42331.16057514231,
           42331.16057514231,
           42331.16057514231
          ],
          [
           42116.96432989067,
           42116.96432989067,
           42116.96432989067,
           42116.96432989067
          ],
          [
           41912.11058418679,
           41912.11058418679,
           41912.11058418679,
           41912.11058418679
          ],
          [
           41902.938147597575,
           41902.938147597575,
           41902.938147597575,
           41902.938147597575
          ],
          [
           41923.515466874,
           41923.515466874,
           41923.515466874,
           41923.515466874
          ],
          [
           41934.40923193362,
           41934.40923193362,
           41934.40923193362,
           41934.40923193362
          ],
          [
           42064.44644793994,
           42064.44644793994,
           42064.44644793994,
           42064.44644793994
          ],
          [
           42148.14678623137,
           42148.14678623137,
           42148.14678623137,
           42148.14678623137
          ],
          [
           42189.76137801886,
           42189.76137801886,
           42189.76137801886,
           42189.76137801886
          ],
          [
           42274.755532493255,
           42274.755532493255,
           42274.755532493255,
           42274.755532493255
          ],
          [
           42362.788338922466,
           42362.788338922466,
           42362.788338922466,
           42362.788338922466
          ],
          [
           42424.05611616794,
           42424.05611616794,
           42424.05611616794,
           42424.05611616794
          ],
          [
           42439.18410510433,
           42439.18410510433,
           42439.18410510433,
           42439.18410510433
          ],
          [
           42464.604666522966,
           42464.604666522966,
           42464.604666522966,
           42464.604666522966
          ],
          [
           42524.73755542554,
           42524.73755542554,
           42524.73755542554,
           42524.73755542554
          ],
          [
           42698.000645385015,
           42698.000645385015,
           42698.000645385015,
           42698.000645385015
          ],
          [
           42944.72439344358,
           42944.72439344358,
           42944.72439344358,
           42944.72439344358
          ],
          [
           43343.86492740134,
           43343.86492740134,
           43343.86492740134,
           43343.86492740134
          ],
          [
           43763.4968390774,
           43763.4968390774,
           43763.4968390774,
           43763.4968390774
          ],
          [
           44195.32571154622,
           44195.32571154622,
           44195.32571154622,
           44195.32571154622
          ],
          [
           44740.90421520848,
           44740.90421520848,
           44740.90421520848,
           44740.90421520848
          ],
          [
           45212.66571852196,
           45212.66571852196,
           45212.66571852196,
           45212.66571852196
          ],
          [
           45839.26898342463,
           45839.26898342463,
           45839.26898342463,
           45839.26898342463
          ],
          [
           46414.61479452704,
           46414.61479452704,
           46414.61479452704,
           46414.61479452704
          ],
          [
           46958.08957600066,
           46958.08957600066,
           46958.08957600066,
           46958.08957600066
          ],
          [
           47404.376283048216,
           47404.376283048216,
           47404.376283048216,
           47404.376283048216
          ],
          [
           47854.721398948386,
           47854.721398948386,
           47854.721398948386,
           47854.721398948386
          ],
          [
           48228.28126571521,
           48228.28126571521,
           48228.28126571521,
           48228.28126571521
          ],
          [
           48612.61638326614,
           48612.61638326614,
           48612.61638326614,
           48612.61638326614
          ],
          [
           48921.34815628841,
           48921.34815628841,
           48921.34815628841,
           48921.34815628841
          ],
          [
           49146.89595092761,
           49146.89595092761,
           49146.89595092761,
           49146.89595092761
          ],
          [
           49299.210622267834,
           49299.210622267834,
           49299.210622267834,
           49299.210622267834
          ],
          [
           49514.723896337564,
           49514.723896337564,
           49514.723896337564,
           49514.723896337564
          ],
          [
           49725.312096686364,
           49725.312096686364,
           49725.312096686364,
           49725.312096686364
          ],
          [
           50177.38713509719,
           50177.38713509719,
           50177.38713509719,
           50177.38713509719
          ],
          [
           50830.18836032603,
           50830.18836032603,
           50830.18836032603,
           50830.18836032603
          ],
          [
           51934.90375458069,
           51934.90375458069,
           51934.90375458069,
           51934.90375458069
          ],
          [
           52811.88434938253,
           52811.88434938253,
           52811.88434938253,
           52811.88434938253
          ],
          [
           53723.295363727055,
           53723.295363727055,
           53723.295363727055,
           53723.295363727055
          ],
          [
           54509.838662419716,
           54509.838662419716,
           54509.838662419716,
           54509.838662419716
          ],
          [
           55328.53021837974,
           55328.53021837974,
           55328.53021837974,
           55328.53021837974
          ],
          [
           56559.003530915004,
           56559.003530915004,
           56559.003530915004,
           56559.003530915004
          ],
          [
           57240.44128987548,
           57240.44128987548,
           57240.44128987548,
           57240.44128987548
          ],
          [
           58081.74211941115,
           58081.74211941115,
           58081.74211941115,
           58081.74211941115
          ],
          [
           58913.976203276754,
           58913.976203276754,
           58913.976203276754,
           58913.976203276754
          ],
          [
           59791.13085058373,
           59791.13085058373,
           59791.13085058373,
           59791.13085058373
          ],
          [
           60602.73743624242,
           60602.73743624242,
           60602.73743624242,
           60602.73743624242
          ],
          [
           61398.08625183838,
           61398.08625183838,
           61398.08625183838,
           61398.08625183838
          ],
          [
           62415.93518023472,
           62415.93518023472,
           62415.93518023472,
           62415.93518023472
          ],
          [
           63276.32230592665,
           63276.32230592665,
           63276.32230592665,
           63276.32230592665
          ],
          [
           64209.824943457446,
           64209.824943457446,
           64209.824943457446,
           64209.824943457446
          ],
          [
           64893.45113931864,
           64893.45113931864,
           64893.45113931864,
           64893.45113931864
          ],
          [
           65331.41769747877,
           65331.41769747877,
           65331.41769747877,
           65331.41769747877
          ],
          [
           65329.20648819508,
           65329.20648819508,
           65329.20648819508,
           65329.20648819508
          ],
          [
           65621.26301312888,
           65621.26301312888,
           65621.26301312888,
           65621.26301312888
          ],
          [
           65811.22844044994,
           65811.22844044994,
           65811.22844044994,
           65811.22844044994
          ],
          [
           65441.75906516899,
           65441.75906516899,
           65441.75906516899,
           65441.75906516899
          ],
          [
           65670.26772562909,
           65670.26772562909,
           65670.26772562909,
           65670.26772562909
          ],
          [
           65654.44222795013,
           65654.44222795013,
           65654.44222795013,
           65654.44222795013
          ],
          [
           65476.87630147869,
           65476.87630147869,
           65476.87630147869,
           65476.87630147869
          ],
          [
           65335.33570133786,
           65335.33570133786,
           65335.33570133786,
           65335.33570133786
          ],
          [
           65514.41801549616,
           65514.41801549616,
           65514.41801549616,
           65514.41801549616
          ],
          [
           65929.1305854489,
           65929.1305854489,
           65929.1305854489,
           65929.1305854489
          ],
          [
           66315.85148207282,
           66315.85148207282,
           66315.85148207282,
           66315.85148207282
          ],
          [
           66616.05610282779,
           66616.05610282779,
           66616.05610282779,
           66616.05610282779
          ],
          [
           67013.98409303467,
           67013.98409303467,
           67013.98409303467,
           67013.98409303467
          ],
          [
           67283.70941750756,
           67283.70941750756,
           67283.70941750756,
           67283.70941750756
          ],
          [
           67501.53709203064,
           67501.53709203064,
           67501.53709203064,
           67501.53709203064
          ],
          [
           67859.91451183725,
           67859.91451183725,
           67859.91451183725,
           67859.91451183725
          ],
          [
           68030.68455832894,
           68030.68455832894,
           68030.68455832894,
           68030.68455832894
          ],
          [
           67788.03840991665,
           67788.03840991665,
           67788.03840991665,
           67788.03840991665
          ],
          [
           67613.86332325793,
           67613.86332325793,
           67613.86332325793,
           67613.86332325793
          ],
          [
           67696.84776866193,
           67696.84776866193,
           67696.84776866193,
           67696.84776866193
          ],
          [
           67708.80512402747,
           67708.80512402747,
           67708.80512402747,
           67708.80512402747
          ],
          [
           67820.91892173914,
           67820.91892173914,
           67820.91892173914,
           67820.91892173914
          ],
          [
           67966.54569109732,
           67966.54569109732,
           67966.54569109732,
           67966.54569109732
          ],
          [
           68315.10324432614,
           68315.10324432614,
           68315.10324432614,
           68315.10324432614
          ],
          [
           68394.6267448665,
           68394.6267448665,
           68394.6267448665,
           68394.6267448665
          ],
          [
           68607.69086440302,
           68607.69086440302,
           68607.69086440302,
           68607.69086440302
          ],
          [
           68740.82506779321,
           68740.82506779321,
           68740.82506779321,
           68740.82506779321
          ],
          [
           68586.04172800337,
           68586.04172800337,
           68586.04172800337,
           68586.04172800337
          ],
          [
           68141.32346819353,
           68141.32346819353,
           68141.32346819353,
           68141.32346819353
          ],
          [
           67905.11170931795,
           67905.11170931795,
           67905.11170931795,
           67905.11170931795
          ],
          [
           67477.64392747814,
           67477.64392747814,
           67477.64392747814,
           67477.64392747814
          ],
          [
           67126.74450581356,
           67126.74450581356,
           67126.74450581356,
           67126.74450581356
          ],
          [
           66569.3212195456,
           66569.3212195456,
           66569.3212195456,
           66569.3212195456
          ],
          [
           66273.98586530316,
           66273.98586530316,
           66273.98586530316,
           66273.98586530316
          ],
          [
           66039.68244956,
           66039.68244956,
           66039.68244956,
           66039.68244956
          ],
          [
           65934.88412103048,
           65934.88412103048,
           65934.88412103048,
           65934.88412103048
          ],
          [
           65840.25706188472,
           65840.25706188472,
           65840.25706188472,
           65840.25706188472
          ],
          [
           65932.62305599095,
           65932.62305599095,
           65932.62305599095,
           65932.62305599095
          ],
          [
           65978.62086018229,
           65978.62086018229,
           65978.62086018229,
           65978.62086018229
          ],
          [
           65817.85696873635,
           65817.85696873635,
           65817.85696873635,
           65817.85696873635
          ],
          [
           65692.46106695193,
           65692.46106695193,
           65692.46106695193,
           65692.46106695193
          ],
          [
           65509.19810819461,
           65509.19810819461,
           65509.19810819461,
           65509.19810819461
          ],
          [
           65313.33162169988,
           65313.33162169988,
           65313.33162169988,
           65313.33162169988
          ],
          [
           65104.71908629989,
           65104.71908629989,
           65104.71908629989,
           65104.71908629989
          ],
          [
           64986.15536379514,
           64986.15536379514,
           64986.15536379514,
           64986.15536379514
          ],
          [
           64575.13104343369,
           64575.13104343369,
           64575.13104343369,
           64575.13104343369
          ],
          [
           63981.928086916196,
           63981.928086916196,
           63981.928086916196,
           63981.928086916196
          ],
          [
           63512.8873167337,
           63512.8873167337,
           63512.8873167337,
           63512.8873167337
          ],
          [
           63452.43138180668,
           63452.43138180668,
           63452.43138180668,
           63452.43138180668
          ],
          [
           63494.16172639652,
           63494.16172639652,
           63494.16172639652,
           63494.16172639652
          ],
          [
           63543.717752453995,
           63543.717752453995,
           63543.717752453995,
           63543.717752453995
          ],
          [
           63507.677966505995,
           63507.677966505995,
           63507.677966505995,
           63507.677966505995
          ],
          [
           63394.0419696959,
           63394.0419696959,
           63394.0419696959,
           63394.0419696959
          ],
          [
           63183.866544010576,
           63183.866544010576,
           63183.866544010576,
           63183.866544010576
          ],
          [
           63173.650682676234,
           63173.650682676234,
           63173.650682676234,
           63173.650682676234
          ],
          [
           62947.541093849926,
           62947.541093849926,
           62947.541093849926,
           62947.541093849926
          ],
          [
           62745.59432300708,
           62745.59432300708,
           62745.59432300708,
           62745.59432300708
          ],
          [
           62625.45200653021,
           62625.45200653021,
           62625.45200653021,
           62625.45200653021
          ],
          [
           62655.237529717815,
           62655.237529717815,
           62655.237529717815,
           62655.237529717815
          ],
          [
           62552.56728879231,
           62552.56728879231,
           62552.56728879231,
           62552.56728879231
          ],
          [
           62900.97040414542,
           62900.97040414542,
           62900.97040414542,
           62900.97040414542
          ],
          [
           63123.51607994109,
           63123.51607994109,
           63123.51607994109,
           63123.51607994109
          ],
          [
           63494.52407232765,
           63494.52407232765,
           63494.52407232765,
           63494.52407232765
          ],
          [
           63820.18844639169,
           63820.18844639169,
           63820.18844639169,
           63820.18844639169
          ],
          [
           64053.44668959248,
           64053.44668959248,
           64053.44668959248,
           64053.44668959248
          ],
          [
           64753.2327191551,
           64753.2327191551,
           64753.2327191551,
           64753.2327191551
          ],
          [
           65266.72484114033,
           65266.72484114033,
           65266.72484114033,
           65266.72484114033
          ],
          [
           65638.27485626983,
           65638.27485626983,
           65638.27485626983,
           65638.27485626983
          ],
          [
           65860.44867948223,
           65860.44867948223,
           65860.44867948223,
           65860.44867948223
          ],
          [
           66118.12023381726,
           66118.12023381726,
           66118.12023381726,
           66118.12023381726
          ],
          [
           66420.64211631086,
           66420.64211631086,
           66420.64211631086,
           66420.64211631086
          ],
          [
           66619.00953380506,
           66619.00953380506,
           66619.00953380506,
           66619.00953380506
          ],
          [
           66886.6752924903,
           66886.6752924903,
           66886.6752924903,
           66886.6752924903
          ],
          [
           67031.28716939599,
           67031.28716939599,
           67031.28716939599,
           67031.28716939599
          ],
          [
           67090.59315326303,
           67090.59315326303,
           67090.59315326303,
           67090.59315326303
          ],
          [
           67210.82237676179,
           67210.82237676179,
           67210.82237676179,
           67210.82237676179
          ],
          [
           67241.82976945114,
           67241.82976945114,
           67241.82976945114,
           67241.82976945114
          ],
          [
           67291.3412199796,
           67291.3412199796,
           67291.3412199796,
           67291.3412199796
          ],
          [
           67336.77538950535,
           67336.77538950535,
           67336.77538950535,
           67336.77538950535
          ],
          [
           67476.95868574294,
           67476.95868574294,
           67476.95868574294,
           67476.95868574294
          ],
          [
           67768.43881091027,
           67768.43881091027,
           67768.43881091027,
           67768.43881091027
          ],
          [
           68086.22559082358,
           68086.22559082358,
           68086.22559082358,
           68086.22559082358
          ],
          [
           68344.52791550705,
           68344.52791550705,
           68344.52791550705,
           68344.52791550705
          ],
          [
           68439.52525688733,
           68439.52525688733,
           68439.52525688733,
           68439.52525688733
          ],
          [
           68522.28475623138,
           68522.28475623138,
           68522.28475623138,
           68522.28475623138
          ],
          [
           68628.76239849506,
           68628.76239849506,
           68628.76239849506,
           68628.76239849506
          ],
          [
           68715.28026530506,
           68715.28026530506,
           68715.28026530506,
           68715.28026530506
          ],
          [
           68581.29166860934,
           68581.29166860934,
           68581.29166860934,
           68581.29166860934
          ],
          [
           68551.46389064654,
           68551.46389064654,
           68551.46389064654,
           68551.46389064654
          ],
          [
           68381.76256772783,
           68381.76256772783,
           68381.76256772783,
           68381.76256772783
          ],
          [
           68158.97565651566,
           68158.97565651566,
           68158.97565651566,
           68158.97565651566
          ],
          [
           67974.94940351417,
           67974.94940351417,
           67974.94940351417,
           67974.94940351417
          ],
          [
           67851.52565079853,
           67851.52565079853,
           67851.52565079853,
           67851.52565079853
          ],
          [
           67722.28511262724,
           67722.28511262724,
           67722.28511262724,
           67722.28511262724
          ],
          [
           67480.07700666274,
           67480.07700666274,
           67480.07700666274,
           67480.07700666274
          ],
          [
           67241.05062507582,
           67241.05062507582,
           67241.05062507582,
           67241.05062507582
          ],
          [
           67016.0743750686,
           67016.0743750686,
           67016.0743750686,
           67016.0743750686
          ],
          [
           66743.20062506206,
           66743.20062506206,
           66743.20062506206,
           66743.20062506206
          ],
          [
           66507.24818457996,
           66507.24818457996,
           66507.24818457996,
           66507.24818457996
          ],
          [
           66193.03407176283,
           66193.03407176283,
           66193.03407176283,
           66193.03407176283
          ],
          [
           65631.07844588066,
           65631.07844588066,
           65631.07844588066,
           65631.07844588066
          ],
          [
           65266.518593892026,
           65266.518593892026,
           65266.518593892026,
           65266.518593892026
          ],
          [
           64846.54539447374,
           64846.54539447374,
           64846.54539447374,
           64846.54539447374
          ],
          [
           64547.06488071434,
           64547.06488071434,
           64547.06488071434,
           64547.06488071434
          ],
          [
           64155.83965397964,
           64155.83965397964,
           64155.83965397964,
           64155.83965397964
          ],
          [
           63853.769210743485,
           63853.769210743485,
           63853.769210743485,
           63853.769210743485
          ],
          [
           63750.49595257744,
           63750.49595257744,
           63750.49595257744,
           63750.49595257744
          ],
          [
           63669.47729042721,
           63669.47729042721,
           63669.47729042721,
           63669.47729042721
          ],
          [
           63523.508024672235,
           63523.508024672235,
           63523.508024672235,
           63523.508024672235
          ],
          [
           63208.250117560594,
           63208.250117560594,
           63208.250117560594,
           63208.250117560594
          ],
          [
           62622.28343969768,
           62622.28343969768,
           62622.28343969768,
           62622.28343969768
          ],
          [
           62051.551683535996,
           62051.551683535996,
           62051.551683535996,
           62051.551683535996
          ],
          [
           61688.28961843733,
           61688.28961843733,
           61688.28961843733,
           61688.28961843733
          ],
          [
           61132.56679763378,
           61132.56679763378,
           61132.56679763378,
           61132.56679763378
          ],
          [
           60711.42710262104,
           60711.42710262104,
           60711.42710262104,
           60711.42710262104
          ],
          [
           60456.624521419035,
           60456.624521419035,
           60456.624521419035,
           60456.624521419035
          ],
          [
           60196.279328902936,
           60196.279328902936,
           60196.279328902936,
           60196.279328902936
          ],
          [
           59923.41463091218,
           59923.41463091218,
           59923.41463091218,
           59923.41463091218
          ],
          [
           59729.70847558721,
           59729.70847558721,
           59729.70847558721,
           59729.70847558721
          ],
          [
           59679.850525531285,
           59679.850525531285,
           59679.850525531285,
           59679.850525531285
          ],
          [
           59785.502856433064,
           59785.502856433064,
           59785.502856433064,
           59785.502856433064
          ],
          [
           60255.32163201087,
           60255.32163201087,
           60255.32163201087,
           60255.32163201087
          ],
          [
           60711.82433372412,
           60711.82433372412,
           60711.82433372412,
           60711.82433372412
          ],
          [
           61032.87915908373,
           61032.87915908373,
           61032.87915908373,
           61032.87915908373
          ],
          [
           61314.32876298051,
           61314.32876298051,
           61314.32876298051,
           61314.32876298051
          ],
          [
           61822.811737934746,
           61822.811737934746,
           61822.811737934746,
           61822.811737934746
          ],
          [
           62327.53442956001,
           62327.53442956001,
           62327.53442956001,
           62327.53442956001
          ],
          [
           62884.0549600781,
           62884.0549600781,
           62884.0549600781,
           62884.0549600781
          ],
          [
           63327.18305911828,
           63327.18305911828,
           63327.18305911828,
           63327.18305911828
          ],
          [
           63575.62276777368,
           63575.62276777368,
           63575.62276777368,
           63575.62276777368
          ],
          [
           63748.04917084285,
           63748.04917084285,
           63748.04917084285,
           63748.04917084285
          ],
          [
           63943.09210695306,
           63943.09210695306,
           63943.09210695306,
           63943.09210695306
          ],
          [
           64321.11190629086,
           64321.11190629086,
           64321.11190629086,
           64321.11190629086
          ],
          [
           64663.45362950126,
           64663.45362950126,
           64663.45362950126,
           64663.45362950126
          ],
          [
           65004.73423621542,
           65004.73423621542,
           65004.73423621542,
           65004.73423621542
          ],
          [
           65174.05478514729,
           65174.05478514729,
           65174.05478514729,
           65174.05478514729
          ],
          [
           65270.79242465707,
           65270.79242465707,
           65270.79242465707,
           65270.79242465707
          ],
          [
           65210.09790802306,
           65210.09790802306,
           65210.09790802306,
           65210.09790802306
          ],
          [
           65223.45048821134,
           65223.45048821134,
           65223.45048821134,
           65223.45048821134
          ],
          [
           64868.24567981026,
           64868.24567981026,
           64868.24567981026,
           64868.24567981026
          ],
          [
           64472.82228173309,
           64472.82228173309,
           64472.82228173309,
           64472.82228173309
          ],
          [
           63871.40111204422,
           63871.40111204422,
           63871.40111204422,
           63871.40111204422
          ],
          [
           62932.1819585162,
           62932.1819585162,
           62932.1819585162,
           62932.1819585162
          ],
          [
           62275.74558151466,
           62275.74558151466,
           62275.74558151466,
           62275.74558151466
          ],
          [
           61594.9698118466,
           61594.9698118466,
           61594.9698118466,
           61594.9698118466
          ],
          [
           61604.18221071835,
           61604.18221071835,
           61604.18221071835,
           61604.18221071835
          ],
          [
           61530.58390493565,
           61530.58390493565,
           61530.58390493565,
           61530.58390493565
          ],
          [
           61472.70924732273,
           61472.70924732273,
           61472.70924732273,
           61472.70924732273
          ],
          [
           61209.67979519676,
           61209.67979519676,
           61209.67979519676,
           61209.67979519676
          ],
          [
           61032.319814701834,
           61032.319814701834,
           61032.319814701834,
           61032.319814701834
          ],
          [
           60989.87983234928,
           60989.87983234928,
           60989.87983234928,
           60989.87983234928
          ],
          [
           60769.79603879221,
           60769.79603879221,
           60769.79603879221,
           60769.79603879221
          ],
          [
           60462.20593985962,
           60462.20593985962,
           60462.20593985962,
           60462.20593985962
          ],
          [
           60311.033945587275,
           60311.033945587275,
           60311.033945587275,
           60311.033945587275
          ],
          [
           60233.40214124563,
           60233.40214124563,
           60233.40214124563,
           60233.40214124563
          ],
          [
           60061.46860398414,
           60061.46860398414,
           60061.46860398414,
           60061.46860398414
          ],
          [
           60001.54778455708,
           60001.54778455708,
           60001.54778455708,
           60001.54778455708
          ],
          [
           59907.31466221831,
           59907.31466221831,
           59907.31466221831,
           59907.31466221831
          ],
          [
           60025.47517057847,
           60025.47517057847,
           60025.47517057847,
           60025.47517057847
          ],
          [
           60059.34420195195,
           60059.34420195195,
           60059.34420195195,
           60059.34420195195
          ],
          [
           60438.539992242244,
           60438.539992242244,
           60438.539992242244,
           60438.539992242244
          ],
          [
           60792.13618345727,
           60792.13618345727,
           60792.13618345727,
           60792.13618345727
          ],
          [
           61118.65654693753,
           61118.65654693753,
           61118.65654693753,
           61118.65654693753
          ],
          [
           61281.65116151491,
           61281.65116151491,
           61281.65116151491,
           61281.65116151491
          ],
          [
           61103.77009851349,
           61103.77009851349,
           61103.77009851349,
           61103.77009851349
          ],
          [
           60906.296755797914,
           60906.296755797914,
           60906.296755797914,
           60906.296755797914
          ],
          [
           60758.26849334097,
           60758.26849334097,
           60758.26849334097,
           60758.26849334097
          ],
          [
           60601.7667320704,
           60601.7667320704,
           60601.7667320704,
           60601.7667320704
          ],
          [
           60446.60799568274,
           60446.60799568274,
           60446.60799568274,
           60446.60799568274
          ],
          [
           60147.47390085581,
           60147.47390085581,
           60147.47390085581,
           60147.47390085581
          ],
          [
           60051.00971982192,
           60051.00971982192,
           60051.00971982192,
           60051.00971982192
          ],
          [
           59806.723079838885,
           59806.723079838885,
           59806.723079838885,
           59806.723079838885
          ],
          [
           59632.23516747328,
           59632.23516747328,
           59632.23516747328,
           59632.23516747328
          ],
          [
           59303.40324676154,
           59303.40324676154,
           59303.40324676154,
           59303.40324676154
          ],
          [
           58794.536270879486,
           58794.536270879486,
           58794.536270879486,
           58794.536270879486
          ],
          [
           58352.770911748106,
           58352.770911748106,
           58352.770911748106,
           58352.770911748106
          ],
          [
           58021.37368205781,
           58021.37368205781,
           58021.37368205781,
           58021.37368205781
          ],
          [
           57928.099998052305,
           57928.099998052305,
           57928.099998052305,
           57928.099998052305
          ],
          [
           57899.94761728542,
           57899.94761728542,
           57899.94761728542,
           57899.94761728542
          ],
          [
           57846.22879659157,
           57846.22879659157,
           57846.22879659157,
           57846.22879659157
          ],
          [
           57873.05462548761,
           57873.05462548761,
           57873.05462548761,
           57873.05462548761
          ],
          [
           58122.65894686974,
           58122.65894686974,
           58122.65894686974,
           58122.65894686974
          ],
          [
           58300.310475739294,
           58300.310475739294,
           58300.310475739294,
           58300.310475739294
          ],
          [
           58379.519001859364,
           58379.519001859364,
           58379.519001859364,
           58379.519001859364
          ],
          [
           58363.850525491805,
           58363.850525491805,
           58363.850525491805,
           58363.850525491805
          ],
          [
           58548.97904687354,
           58548.97904687354,
           58548.97904687354,
           58548.97904687354
          ],
          [
           58854.17151859987,
           58854.17151859987,
           58854.17151859987,
           58854.17151859987
          ],
          [
           59244.288516828456,
           59244.288516828456,
           59244.288516828456,
           59244.288516828456
          ],
          [
           59621.54675332098,
           59621.54675332098,
           59621.54675332098,
           59621.54675332098
          ],
          [
           59976.01849109994,
           59976.01849109994,
           59976.01849109994,
           59976.01849109994
          ],
          [
           60318.86434909042,
           60318.86434909042,
           60318.86434909042,
           60318.86434909042
          ],
          [
           60605.7725063199,
           60605.7725063199,
           60605.7725063199,
           60605.7725063199
          ],
          [
           60954.717981908485,
           60954.717981908485,
           60954.717981908485,
           60954.717981908485
          ],
          [
           61164.21150744101,
           61164.21150744101,
           61164.21150744101,
           61164.21150744101
          ],
          [
           61545.28660197044,
           61545.28660197044,
           61545.28660197044,
           61545.28660197044
          ],
          [
           61947.71644940182,
           61947.71644940182,
           61947.71644940182,
           61947.71644940182
          ],
          [
           62318.5053589826,
           62318.5053589826,
           62318.5053589826,
           62318.5053589826
          ],
          [
           62630.83818193663,
           62630.83818193663,
           62630.83818193663,
           62630.83818193663
          ],
          [
           62697.42502175219,
           62697.42502175219,
           62697.42502175219,
           62697.42502175219
          ],
          [
           62518.24168634722,
           62518.24168634722,
           62518.24168634722,
           62518.24168634722
          ],
          [
           62340.447240028436,
           62340.447240028436,
           62340.447240028436,
           62340.447240028436
          ],
          [
           62188.97607431144,
           62188.97607431144,
           62188.97607431144,
           62188.97607431144
          ],
          [
           62179.21644818654,
           62179.21644818654,
           62179.21644818654,
           62179.21644818654
          ],
          [
           62168.25297693068,
           62168.25297693068,
           62168.25297693068,
           62168.25297693068
          ],
          [
           62230.26697912776,
           62230.26697912776,
           62230.26697912776,
           62230.26697912776
          ],
          [
           62229.593933496544,
           62229.593933496544,
           62229.593933496544,
           62229.593933496544
          ],
          [
           62223.289749354015,
           62223.289749354015,
           62223.289749354015,
           62223.289749354015
          ],
          [
           62072.35739227268,
           62072.35739227268,
           62072.35739227268,
           62072.35739227268
          ],
          [
           61905.41859300862,
           61905.41859300862,
           61905.41859300862,
           61905.41859300862
          ],
          [
           61965.273965103035,
           61965.273965103035,
           61965.273965103035,
           61965.273965103035
          ],
          [
           62083.257396997986,
           62083.257396997986,
           62083.257396997986,
           62083.257396997986
          ],
          [
           62158.404311569604,
           62158.404311569604,
           62158.404311569604,
           62158.404311569604
          ],
          [
           62532.55628189631,
           62532.55628189631,
           62532.55628189631,
           62532.55628189631
          ],
          [
           62964.84615981094,
           62964.84615981094,
           62964.84615981094,
           62964.84615981094
          ],
          [
           63408.022716019426,
           63408.022716019426,
           63408.022716019426,
           63408.022716019426
          ],
          [
           63790.544362112814,
           63790.544362112814,
           63790.544362112814,
           63790.544362112814
          ],
          [
           64232.08299429255,
           64232.08299429255,
           64232.08299429255,
           64232.08299429255
          ],
          [
           64626.93223293135,
           64626.93223293135,
           64626.93223293135,
           64626.93223293135
          ],
          [
           65046.700591699795,
           65046.700591699795,
           65046.700591699795,
           65046.700591699795
          ],
          [
           65268.49101153791,
           65268.49101153791,
           65268.49101153791,
           65268.49101153791
          ],
          [
           65473.37758186763,
           65473.37758186763,
           65473.37758186763,
           65473.37758186763
          ],
          [
           65586.86543121358,
           65586.86543121358,
           65586.86543121358,
           65586.86543121358
          ],
          [
           65835.73539014562,
           65835.73539014562,
           65835.73539014562,
           65835.73539014562
          ],
          [
           65917.74154346509,
           65917.74154346509,
           65917.74154346509,
           65917.74154346509
          ],
          [
           66029.83282503985,
           66029.83282503985,
           66029.83282503985,
           66029.83282503985
          ],
          [
           66219.54398455986,
           66219.54398455986,
           66219.54398455986,
           66219.54398455986
          ],
          [
           66575.9112241256,
           66575.9112241256,
           66575.9112241256,
           66575.9112241256
          ],
          [
           67162.53872658982,
           67162.53872658982,
           67162.53872658982,
           67162.53872658982
          ],
          [
           67656.16360977174,
           67656.16360977174,
           67656.16360977174,
           67656.16360977174
          ],
          [
           67907.78612312682,
           67907.78612312682,
           67907.78612312682,
           67907.78612312682
          ],
          [
           68058.96839711475,
           68058.96839711475,
           68058.96839711475,
           68058.96839711475
          ],
          [
           68184.4761688181,
           68184.4761688181,
           68184.4761688181,
           68184.4761688181
          ],
          [
           68240.38320035924,
           68240.38320035924,
           68240.38320035924,
           68240.38320035924
          ],
          [
           68203.88956222979,
           68203.88956222979,
           68203.88956222979,
           68203.88956222979
          ],
          [
           68315.41436582695,
           68315.41436582695,
           68315.41436582695,
           68315.41436582695
          ],
          [
           69007.44156908152,
           69007.44156908152,
           69007.44156908152,
           69007.44156908152
          ],
          [
           69660.58046726424,
           69660.58046726424,
           69660.58046726424,
           69660.58046726424
          ],
          [
           70312.61089895335,
           70312.61089895335,
           70312.61089895335,
           70312.61089895335
          ],
          [
           70919.41938476732,
           70919.41938476732,
           70919.41938476732,
           70919.41938476732
          ],
          [
           71818.47468145614,
           71818.47468145614,
           71818.47468145614,
           71818.47468145614
          ],
          [
           73420.24852131745,
           73420.24852131745,
           73420.24852131745,
           73420.24852131745
          ],
          [
           74802.78675738246,
           74802.78675738246,
           74802.78675738246,
           74802.78675738246
          ],
          [
           76285.8927804889,
           76285.8927804889,
           76285.8927804889,
           76285.8927804889
          ],
          [
           77336.98870615663,
           77336.98870615663,
           77336.98870615663,
           77336.98870615663
          ],
          [
           78642.25644842742,
           78642.25644842742,
           78642.25644842742,
           78642.25644842742
          ],
          [
           79778.53678667243,
           79778.53678667243,
           79778.53678667243,
           79778.53678667243
          ],
          [
           80738.1237593703,
           80738.1237593703,
           80738.1237593703,
           80738.1237593703
          ],
          [
           81664.55959181122,
           81664.55959181122,
           81664.55959181122,
           81664.55959181122
          ],
          [
           82676.70629735301,
           82676.70629735301,
           82676.70629735301,
           82676.70629735301
          ],
          [
           83782.25807855748,
           83782.25807855748,
           83782.25807855748,
           83782.25807855748
          ],
          [
           85166.51921393296,
           85166.51921393296,
           85166.51921393296,
           85166.51921393296
          ],
          [
           86473.65071736791,
           86473.65071736791,
           86473.65071736791,
           86473.65071736791
          ],
          [
           87541.31255380907,
           87541.31255380907,
           87541.31255380907,
           87541.31255380907
          ],
          [
           88527.08278677963,
           88527.08278677963,
           88527.08278677963,
           88527.08278677963
          ],
          [
           88952.97966422919,
           88952.97966422919,
           88952.97966422919,
           88952.97966422919
          ],
          [
           89239.20064858832,
           89239.20064858832,
           89239.20064858832,
           89239.20064858832
          ],
          [
           89869.21011062752,
           89869.21011062752,
           89869.21011062752,
           89869.21011062752
          ],
          [
           90419.02819532967,
           90419.02819532967,
           90419.02819532967,
           90419.02819532967
          ],
          [
           91089.40646244113,
           91089.40646244113,
           91089.40646244113,
           91089.40646244113
          ],
          [
           91594.72965649435,
           91594.72965649435,
           91594.72965649435,
           91594.72965649435
          ],
          [
           92127.20302254251,
           92127.20302254251,
           92127.20302254251,
           92127.20302254251
          ],
          [
           92479.54559182418,
           92479.54559182418,
           92479.54559182418,
           92479.54559182418
          ],
          [
           92800.09363069807,
           92800.09363069807,
           92800.09363069807,
           92800.09363069807
          ],
          [
           93354.20852301254,
           93354.20852301254,
           93354.20852301254,
           93354.20852301254
          ],
          [
           93694.50294939229,
           93694.50294939229,
           93694.50294939229,
           93694.50294939229
          ],
          [
           94269.25504945016,
           94269.25504945016,
           94269.25504945016,
           94269.25504945016
          ],
          [
           94799.097425693,
           94799.097425693,
           94799.097425693,
           94799.097425693
          ],
          [
           95399.80243276987,
           95399.80243276987,
           95399.80243276987,
           95399.80243276987
          ],
          [
           95578.19267726797,
           95578.19267726797,
           95578.19267726797,
           95578.19267726797
          ],
          [
           95673.80289848054,
           95673.80289848054,
           95673.80289848054,
           95673.80289848054
          ],
          [
           96191.5740510062,
           96191.5740510062,
           96191.5740510062,
           96191.5740510062
          ],
          [
           96554.5574747199,
           96554.5574747199,
           96554.5574747199,
           96554.5574747199
          ],
          [
           97017.28533427039,
           97017.28533427039,
           97017.28533427039,
           97017.28533427039
          ],
          [
           97436.47720719702,
           97436.47720719702,
           97436.47720719702,
           97436.47720719702
          ],
          [
           98106.2508065116,
           98106.2508065116,
           98106.2508065116,
           98106.2508065116
          ],
          [
           98863.77930112954,
           98863.77930112954,
           98863.77930112954,
           98863.77930112954
          ],
          [
           99557.69555816482,
           99557.69555816482,
           99557.69555816482,
           99557.69555816482
          ],
          [
           99619.14360024437,
           99619.14360024437,
           99619.14360024437,
           99619.14360024437
          ],
          [
           99413.18706688777,
           99413.18706688777,
           99413.18706688777,
           99413.18706688777
          ],
          [
           99259.54067956512,
           99259.54067956512,
           99259.54067956512,
           99259.54067956512
          ],
          [
           99071.03204341607,
           99071.03204341607,
           99071.03204341607,
           99071.03204341607
          ],
          [
           98701.0480392812,
           98701.0480392812,
           98701.0480392812,
           98701.0480392812
          ],
          [
           98337.7006069687,
           98337.7006069687,
           98337.7006069687,
           98337.7006069687
          ],
          [
           98368.5576920193,
           98368.5576920193,
           98368.5576920193,
           98368.5576920193
          ],
          [
           98470.10457849366,
           98470.10457849366,
           98470.10457849366,
           98470.10457849366
          ],
          [
           98214.45652339903,
           98214.45652339903,
           98214.45652339903,
           98214.45652339903
          ],
          [
           97840.32733069436,
           97840.32733069436,
           97840.32733069436,
           97840.32733069436
          ],
          [
           97599.02948967584,
           97599.02948967584,
           97599.02948967584,
           97599.02948967584
          ],
          [
           97231.4743001829,
           97231.4743001829,
           97231.4743001829,
           97231.4743001829
          ],
          [
           96809.06722397501,
           96809.06722397501,
           96809.06722397501,
           96809.06722397501
          ],
          [
           96500.99415502501,
           96500.99415502501,
           96500.99415502501,
           96500.99415502501
          ],
          [
           96318.43280692739,
           96318.43280692739,
           96318.43280692739,
           96318.43280692739
          ],
          [
           96381.80111102955,
           96381.80111102955,
           96381.80111102955,
           96381.80111102955
          ],
          [
           96552.4771956934,
           96552.4771956934,
           96552.4771956934,
           96552.4771956934
          ],
          [
           96710.85079610355,
           96710.85079610355,
           96710.85079610355,
           96710.85079610355
          ],
          [
           96867.98881552226,
           96867.98881552226,
           96867.98881552226,
           96867.98881552226
          ],
          [
           97378.11369023443,
           97378.11369023443,
           97378.11369023443,
           97378.11369023443
          ],
          [
           97338.21714830735,
           97338.21714830735,
           97338.21714830735,
           97338.21714830735
          ],
          [
           97120.93932465903,
           97120.93932465903,
           97120.93932465903,
           97120.93932465903
          ],
          [
           96685.46891278675,
           96685.46891278675,
           96685.46891278675,
           96685.46891278675
          ],
          [
           96498.41473061658,
           96498.41473061658,
           96498.41473061658,
           96498.41473061658
          ],
          [
           96318.23237531977,
           96318.23237531977,
           96318.23237531977,
           96318.23237531977
          ],
          [
           96148.85786338456,
           96148.85786338456,
           96148.85786338456,
           96148.85786338456
          ],
          [
           95994.27140020508,
           95994.27140020508,
           95994.27140020508,
           95994.27140020508
          ],
          [
           96048.65507637602,
           96048.65507637602,
           96048.65507637602,
           96048.65507637602
          ],
          [
           96472.17364053069,
           96472.17364053069,
           96472.17364053069,
           96472.17364053069
          ],
          [
           96806.85234143253,
           96806.85234143253,
           96806.85234143253,
           96806.85234143253
          ],
          [
           97499.18068986753,
           97499.18068986753,
           97499.18068986753,
           97499.18068986753
          ],
          [
           98170.74443368967,
           98170.74443368967,
           98170.74443368967,
           98170.74443368967
          ],
          [
           98470.39734476685,
           98470.39734476685,
           98470.39734476685,
           98470.39734476685
          ],
          [
           98831.78807383668,
           98831.78807383668,
           98831.78807383668,
           98831.78807383668
          ],
          [
           99527.82730489985,
           99527.82730489985,
           99527.82730489985,
           99527.82730489985
          ],
          [
           99925.55803776653,
           99925.55803776653,
           99925.55803776653,
           99925.55803776653
          ],
          [
           100304.74298655067,
           100304.74298655067,
           100304.74298655067,
           100304.74298655067
          ],
          [
           100738.3103211649,
           100738.3103211649,
           100738.3103211649,
           100738.3103211649
          ],
          [
           101119.43314772063,
           101119.43314772063,
           101119.43314772063,
           101119.43314772063
          ],
          [
           101262.09665746152,
           101262.09665746152,
           101262.09665746152,
           101262.09665746152
          ],
          [
           101340.30649960804,
           101340.30649960804,
           101340.30649960804,
           101340.30649960804
          ],
          [
           101339.97254726442,
           101339.97254726442,
           101339.97254726442,
           101339.97254726442
          ],
          [
           101568.17516181066,
           101568.17516181066,
           101568.17516181066,
           101568.17516181066
          ],
          [
           101915.99657497155,
           101915.99657497155,
           101915.99657497155,
           101915.99657497155
          ]
         ]
        }
       ],
       "layout": {
        "annotations": [
         {
          "arrowhead": 2,
          "ax": 0,
          "ay": -40,
          "showarrow": true,
          "text": "Entry",
          "x": "2023-04-21T00:00:00+00:00",
          "y": 27450.076198508716
         },
         {
          "arrowhead": 2,
          "ax": 0,
          "ay": -40,
          "showarrow": true,
          "text": "Entry",
          "x": "2023-05-01T00:00:00+00:00",
          "y": 28662.3269158203
         },
         {
          "arrowhead": 2,
          "ax": 0,
          "ay": -40,
          "showarrow": true,
          "text": "Entry",
          "x": "2023-05-12T00:00:00+00:00",
          "y": 26237.650532881733
         },
         {
          "arrowhead": 2,
          "ax": 0,
          "ay": -40,
          "showarrow": true,
          "text": "Entry",
          "x": "2023-05-31T00:00:00+00:00",
          "y": 27233.0561172742
         },
         {
          "arrowhead": 2,
          "ax": 0,
          "ay": -40,
          "showarrow": true,
          "text": "Entry",
          "x": "2023-07-05T00:00:00+00:00",
          "y": 30297.088121152457
         },
         {
          "arrowhead": 2,
          "ax": 0,
          "ay": -40,
          "showarrow": true,
          "text": "Entry",
          "x": "2023-10-11T00:00:00+00:00",
          "y": 27071.21767261815
         },
         {
          "arrowhead": 2,
          "ax": 0,
          "ay": -40,
          "showarrow": true,
          "text": "Entry",
          "x": "2023-11-14T00:00:00+00:00",
          "y": 35910.44004449496
         },
         {
          "arrowhead": 2,
          "ax": 0,
          "ay": -40,
          "showarrow": true,
          "text": "Entry",
          "x": "2023-12-29T00:00:00+00:00",
          "y": 41614.35073951056
         },
         {
          "arrowhead": 2,
          "ax": 0,
          "ay": -40,
          "showarrow": true,
          "text": "Entry",
          "x": "2024-01-12T00:00:00+00:00",
          "y": 44126.71464929943
         },
         {
          "arrowhead": 2,
          "ax": 0,
          "ay": -40,
          "showarrow": true,
          "text": "Entry",
          "x": "2024-02-20T00:00:00+00:00",
          "y": 51153.32490593769
         },
         {
          "arrowhead": 2,
          "ax": 0,
          "ay": -40,
          "showarrow": true,
          "text": "Entry",
          "x": "2024-04-29T00:00:00+00:00",
          "y": 61962.44678234696
         },
         {
          "arrowhead": 2,
          "ax": 0,
          "ay": -40,
          "showarrow": true,
          "text": "Entry",
          "x": "2024-05-08T00:00:00+00:00",
          "y": 61104.099781504934
         },
         {
          "arrowhead": 2,
          "ax": 0,
          "ay": -40,
          "showarrow": true,
          "text": "Entry",
          "x": "2024-05-23T00:00:00+00:00",
          "y": 67740.2004527096
         },
         {
          "arrowhead": 2,
          "ax": 0,
          "ay": -40,
          "showarrow": true,
          "text": "Entry",
          "x": "2024-06-14T00:00:00+00:00",
          "y": 65253.13542540305
         },
         {
          "arrowhead": 2,
          "ax": 0,
          "ay": -40,
          "showarrow": true,
          "text": "Entry",
          "x": "2024-06-21T00:00:00+00:00",
          "y": 63818.71374341636
         },
         {
          "arrowhead": 2,
          "ax": 0,
          "ay": -40,
          "showarrow": true,
          "text": "Entry",
          "x": "2024-07-25T00:00:00+00:00",
          "y": 64131.357421773806
         },
         {
          "arrowhead": 2,
          "ax": 0,
          "ay": -40,
          "showarrow": true,
          "text": "Entry",
          "x": "2024-08-01T00:00:00+00:00",
          "y": 63488.81361288846
         },
         {
          "arrowhead": 2,
          "ax": 0,
          "ay": -40,
          "showarrow": true,
          "text": "Entry",
          "x": "2024-08-27T00:00:00+00:00",
          "y": 62002.33401369978
         },
         {
          "arrowhead": 2,
          "ax": 0,
          "ay": -40,
          "showarrow": true,
          "text": "Entry",
          "x": "2024-09-30T00:00:00+00:00",
          "y": 64888.45933249532
         },
         {
          "arrowhead": 2,
          "ax": 0,
          "ay": -40,
          "showarrow": true,
          "text": "Entry",
          "x": "2024-12-18T00:00:00+00:00",
          "y": 103604.53482766042
         },
         {
          "arrowhead": 2,
          "ax": 0,
          "ay": -40,
          "showarrow": true,
          "text": "Entry",
          "x": "2023-04-21T00:00:00+00:00",
          "y": 27450.076198508716
         },
         {
          "arrowhead": 2,
          "ax": 0,
          "ay": -40,
          "showarrow": true,
          "text": "Entry",
          "x": "2023-05-01T00:00:00+00:00",
          "y": 28662.3269158203
         },
         {
          "arrowhead": 2,
          "ax": 0,
          "ay": -40,
          "showarrow": true,
          "text": "Entry",
          "x": "2023-05-12T00:00:00+00:00",
          "y": 26237.650532881733
         },
         {
          "arrowhead": 2,
          "ax": 0,
          "ay": -40,
          "showarrow": true,
          "text": "Entry",
          "x": "2023-05-31T00:00:00+00:00",
          "y": 27233.0561172742
         },
         {
          "arrowhead": 2,
          "ax": 0,
          "ay": -40,
          "showarrow": true,
          "text": "Entry",
          "x": "2023-07-05T00:00:00+00:00",
          "y": 30297.088121152457
         },
         {
          "arrowhead": 2,
          "ax": 0,
          "ay": -40,
          "showarrow": true,
          "text": "Entry",
          "x": "2023-10-11T00:00:00+00:00",
          "y": 27071.21767261815
         },
         {
          "arrowhead": 2,
          "ax": 0,
          "ay": -40,
          "showarrow": true,
          "text": "Entry",
          "x": "2023-11-14T00:00:00+00:00",
          "y": 35910.44004449496
         },
         {
          "arrowhead": 2,
          "ax": 0,
          "ay": -40,
          "showarrow": true,
          "text": "Entry",
          "x": "2024-01-12T00:00:00+00:00",
          "y": 44126.71464929943
         },
         {
          "arrowhead": 2,
          "ax": 0,
          "ay": -40,
          "showarrow": true,
          "text": "Entry",
          "x": "2024-02-20T00:00:00+00:00",
          "y": 51153.32490593769
         },
         {
          "arrowhead": 2,
          "ax": 0,
          "ay": -40,
          "showarrow": true,
          "text": "Entry",
          "x": "2024-04-29T00:00:00+00:00",
          "y": 61962.44678234696
         },
         {
          "arrowhead": 2,
          "ax": 0,
          "ay": -40,
          "showarrow": true,
          "text": "Entry",
          "x": "2024-05-23T00:00:00+00:00",
          "y": 67740.2004527096
         },
         {
          "arrowhead": 2,
          "ax": 0,
          "ay": -40,
          "showarrow": true,
          "text": "Entry",
          "x": "2024-06-21T00:00:00+00:00",
          "y": 63818.71374341636
         },
         {
          "arrowhead": 2,
          "ax": 0,
          "ay": -40,
          "showarrow": true,
          "text": "Entry",
          "x": "2024-07-25T00:00:00+00:00",
          "y": 64131.357421773806
         },
         {
          "arrowhead": 2,
          "ax": 0,
          "ay": -40,
          "showarrow": true,
          "text": "Entry",
          "x": "2024-08-01T00:00:00+00:00",
          "y": 63488.81361288846
         },
         {
          "arrowhead": 2,
          "ax": 0,
          "ay": -40,
          "showarrow": true,
          "text": "Entry",
          "x": "2024-08-27T00:00:00+00:00",
          "y": 62002.33401369978
         },
         {
          "arrowhead": 2,
          "ax": 0,
          "ay": -40,
          "showarrow": true,
          "text": "Entry",
          "x": "2024-09-30T00:00:00+00:00",
          "y": 64888.45933249532
         },
         {
          "arrowhead": 2,
          "ax": 0,
          "ay": -40,
          "showarrow": true,
          "text": "Entry",
          "x": "2024-12-18T00:00:00+00:00",
          "y": 103604.53482766042
         },
         {
          "arrowhead": 2,
          "ax": 0,
          "ay": -40,
          "showarrow": true,
          "text": "Entry",
          "x": "2023-10-11T00:00:00+00:00",
          "y": 27071.21767261815
         },
         {
          "arrowhead": 2,
          "ax": 0,
          "ay": -40,
          "showarrow": true,
          "text": "Entry",
          "x": "2023-11-14T00:00:00+00:00",
          "y": 35910.44004449496
         },
         {
          "arrowhead": 2,
          "ax": 0,
          "ay": -40,
          "showarrow": true,
          "text": "Entry",
          "x": "2023-12-29T00:00:00+00:00",
          "y": 41614.35073951056
         },
         {
          "arrowhead": 2,
          "ax": 0,
          "ay": -40,
          "showarrow": true,
          "text": "Entry",
          "x": "2024-01-12T00:00:00+00:00",
          "y": 44126.71464929943
         },
         {
          "arrowhead": 2,
          "ax": 0,
          "ay": -40,
          "showarrow": true,
          "text": "Entry",
          "x": "2024-02-20T00:00:00+00:00",
          "y": 51153.32490593769
         },
         {
          "arrowhead": 2,
          "ax": 0,
          "ay": -40,
          "showarrow": true,
          "text": "Entry",
          "x": "2024-04-29T00:00:00+00:00",
          "y": 61962.44678234696
         },
         {
          "arrowhead": 2,
          "ax": 0,
          "ay": -40,
          "showarrow": true,
          "text": "Entry",
          "x": "2024-05-08T00:00:00+00:00",
          "y": 61104.099781504934
         },
         {
          "arrowhead": 2,
          "ax": 0,
          "ay": -40,
          "showarrow": true,
          "text": "Entry",
          "x": "2024-05-23T00:00:00+00:00",
          "y": 67740.2004527096
         },
         {
          "arrowhead": 2,
          "ax": 0,
          "ay": -40,
          "showarrow": true,
          "text": "Entry",
          "x": "2024-06-14T00:00:00+00:00",
          "y": 65253.13542540305
         },
         {
          "arrowhead": 2,
          "ax": 0,
          "ay": -40,
          "showarrow": true,
          "text": "Entry",
          "x": "2024-06-21T00:00:00+00:00",
          "y": 63818.71374341636
         },
         {
          "arrowhead": 2,
          "ax": 0,
          "ay": -40,
          "showarrow": true,
          "text": "Entry",
          "x": "2024-06-24T00:00:00+00:00",
          "y": 62630.09530545671
         },
         {
          "arrowhead": 2,
          "ax": 0,
          "ay": -40,
          "showarrow": true,
          "text": "Entry",
          "x": "2024-07-03T00:00:00+00:00",
          "y": 61117.043380399016
         },
         {
          "arrowhead": 2,
          "ax": 0,
          "ay": -40,
          "showarrow": true,
          "text": "Entry",
          "x": "2024-07-25T00:00:00+00:00",
          "y": 64131.357421773806
         },
         {
          "arrowhead": 2,
          "ax": 0,
          "ay": -40,
          "showarrow": true,
          "text": "Entry",
          "x": "2024-08-01T00:00:00+00:00",
          "y": 63488.81361288846
         },
         {
          "arrowhead": 2,
          "ax": 0,
          "ay": -40,
          "showarrow": true,
          "text": "Entry",
          "x": "2024-08-27T00:00:00+00:00",
          "y": 62002.33401369978
         },
         {
          "arrowhead": 2,
          "ax": 0,
          "ay": -40,
          "showarrow": true,
          "text": "Entry",
          "x": "2024-09-30T00:00:00+00:00",
          "y": 64888.45933249532
         },
         {
          "arrowhead": 2,
          "ax": 0,
          "ay": -40,
          "showarrow": true,
          "text": "Entry",
          "x": "2024-12-18T00:00:00+00:00",
          "y": 103604.53482766042
         },
         {
          "arrowhead": 2,
          "ax": 0,
          "ay": -40,
          "showarrow": true,
          "text": "Entry",
          "x": "2023-10-11T00:00:00+00:00",
          "y": 27071.21767261815
         },
         {
          "arrowhead": 2,
          "ax": 0,
          "ay": -40,
          "showarrow": true,
          "text": "Entry",
          "x": "2023-11-14T00:00:00+00:00",
          "y": 35910.44004449496
         },
         {
          "arrowhead": 2,
          "ax": 0,
          "ay": -40,
          "showarrow": true,
          "text": "Entry",
          "x": "2024-01-12T00:00:00+00:00",
          "y": 44126.71464929943
         },
         {
          "arrowhead": 2,
          "ax": 0,
          "ay": -40,
          "showarrow": true,
          "text": "Entry",
          "x": "2024-02-20T00:00:00+00:00",
          "y": 51153.32490593769
         },
         {
          "arrowhead": 2,
          "ax": 0,
          "ay": -40,
          "showarrow": true,
          "text": "Entry",
          "x": "2024-04-29T00:00:00+00:00",
          "y": 61962.44678234696
         },
         {
          "arrowhead": 2,
          "ax": 0,
          "ay": -40,
          "showarrow": true,
          "text": "Entry",
          "x": "2024-05-23T00:00:00+00:00",
          "y": 67740.2004527096
         },
         {
          "arrowhead": 2,
          "ax": 0,
          "ay": -40,
          "showarrow": true,
          "text": "Entry",
          "x": "2024-06-21T00:00:00+00:00",
          "y": 63818.71374341636
         },
         {
          "arrowhead": 2,
          "ax": 0,
          "ay": -40,
          "showarrow": true,
          "text": "Entry",
          "x": "2024-06-24T00:00:00+00:00",
          "y": 62630.09530545671
         },
         {
          "arrowhead": 2,
          "ax": 0,
          "ay": -40,
          "showarrow": true,
          "text": "Entry",
          "x": "2024-07-03T00:00:00+00:00",
          "y": 61117.043380399016
         },
         {
          "arrowhead": 2,
          "ax": 0,
          "ay": -40,
          "showarrow": true,
          "text": "Entry",
          "x": "2024-07-25T00:00:00+00:00",
          "y": 64131.357421773806
         },
         {
          "arrowhead": 2,
          "ax": 0,
          "ay": -40,
          "showarrow": true,
          "text": "Entry",
          "x": "2024-08-01T00:00:00+00:00",
          "y": 63488.81361288846
         },
         {
          "arrowhead": 2,
          "ax": 0,
          "ay": -40,
          "showarrow": true,
          "text": "Entry",
          "x": "2024-08-27T00:00:00+00:00",
          "y": 62002.33401369977
         },
         {
          "arrowhead": 2,
          "ax": 0,
          "ay": -40,
          "showarrow": true,
          "text": "Entry",
          "x": "2024-09-30T00:00:00+00:00",
          "y": 64888.45933249531
         },
         {
          "arrowhead": 2,
          "ax": 0,
          "ay": -40,
          "showarrow": true,
          "text": "Entry",
          "x": "2024-12-18T00:00:00+00:00",
          "y": 103604.53482766042
         },
         {
          "arrowhead": 2,
          "ax": 0,
          "ay": 40,
          "showarrow": true,
          "text": "Exit",
          "x": "2023-04-22T00:00:00+00:00",
          "y": 27206.0788
         },
         {
          "arrowhead": 2,
          "ax": 0,
          "ay": 40,
          "showarrow": true,
          "text": "Exit",
          "x": "2023-05-02T00:00:00+00:00",
          "y": 28010.267200000002
         },
         {
          "arrowhead": 2,
          "ax": 0,
          "ay": 40,
          "showarrow": true,
          "text": "Exit",
          "x": "2023-05-13T00:00:00+00:00",
          "y": 26743.2064
         },
         {
          "arrowhead": 2,
          "ax": 0,
          "ay": 40,
          "showarrow": true,
          "text": "Exit",
          "x": "2023-06-02T00:00:00+00:00",
          "y": 26760.372
         },
         {
          "arrowhead": 2,
          "ax": 0,
          "ay": 40,
          "showarrow": true,
          "text": "Exit",
          "x": "2023-07-07T00:00:00+00:00",
          "y": 29835.21
         },
         {
          "arrowhead": 2,
          "ax": 0,
          "ay": 40,
          "showarrow": true,
          "text": "Exit",
          "x": "2023-10-15T00:00:00+00:00",
          "y": 26802.4876
         },
         {
          "arrowhead": 2,
          "ax": 0,
          "ay": 40,
          "showarrow": true,
          "text": "Exit",
          "x": "2023-11-15T00:00:00+00:00",
          "y": 35480.2972
         },
         {
          "arrowhead": 2,
          "ax": 0,
          "ay": 40,
          "showarrow": true,
          "text": "Exit",
          "x": "2023-12-30T00:00:00+00:00",
          "y": 41984.5626
         },
         {
          "arrowhead": 2,
          "ax": 0,
          "ay": 40,
          "showarrow": true,
          "text": "Exit",
          "x": "2024-02-07T00:00:00+00:00",
          "y": 43011.804
         },
         {
          "arrowhead": 2,
          "ax": 0,
          "ay": 40,
          "showarrow": true,
          "text": "Exit",
          "x": "2024-02-21T00:00:00+00:00",
          "y": 52159.3722
         },
         {
          "arrowhead": 2,
          "ax": 0,
          "ay": 40,
          "showarrow": true,
          "text": "Exit",
          "x": "2024-05-03T00:00:00+00:00",
          "y": 58938.985799999995
         },
         {
          "arrowhead": 2,
          "ax": 0,
          "ay": 40,
          "showarrow": true,
          "text": "Exit",
          "x": "2024-05-09T00:00:00+00:00",
          "y": 61068.3186
         },
         {
          "arrowhead": 2,
          "ax": 0,
          "ay": 40,
          "showarrow": true,
          "text": "Exit",
          "x": "2024-05-24T00:00:00+00:00",
          "y": 67828.4712
         },
         {
          "arrowhead": 2,
          "ax": 0,
          "ay": 40,
          "showarrow": true,
          "text": "Exit",
          "x": "2024-06-15T00:00:00+00:00",
          "y": 65910.5148
         },
         {
          "arrowhead": 2,
          "ax": 0,
          "ay": 40,
          "showarrow": true,
          "text": "Exit",
          "x": "2024-06-22T00:00:00+00:00",
          "y": 64022.698
         },
         {
          "arrowhead": 2,
          "ax": 0,
          "ay": 40,
          "showarrow": true,
          "text": "Exit",
          "x": "2024-07-26T00:00:00+00:00",
          "y": 65664.5078
         },
         {
          "arrowhead": 2,
          "ax": 0,
          "ay": 40,
          "showarrow": true,
          "text": "Exit",
          "x": "2024-08-23T00:00:00+00:00",
          "y": 60260.8368
         },
         {
          "arrowhead": 2,
          "ax": 0,
          "ay": 40,
          "showarrow": true,
          "text": "Exit",
          "x": "2024-09-19T00:00:00+00:00",
          "y": 61631.3902
         },
         {
          "arrowhead": 2,
          "ax": 0,
          "ay": 40,
          "showarrow": true,
          "text": "Exit",
          "x": "2024-10-14T00:00:00+00:00",
          "y": 62746.6552
         },
         {
          "arrowhead": 2,
          "ax": 0,
          "ay": 40,
          "showarrow": true,
          "text": "Exit",
          "x": "2025-01-17T00:00:00+00:00",
          "y": 99786.32740000001
         },
         {
          "arrowhead": 2,
          "ax": 0,
          "ay": 40,
          "showarrow": true,
          "text": "Exit",
          "x": "2023-04-22T00:00:00+00:00",
          "y": 27206.0788
         },
         {
          "arrowhead": 2,
          "ax": 0,
          "ay": 40,
          "showarrow": true,
          "text": "Exit",
          "x": "2023-05-02T00:00:00+00:00",
          "y": 28010.267200000002
         },
         {
          "arrowhead": 2,
          "ax": 0,
          "ay": 40,
          "showarrow": true,
          "text": "Exit",
          "x": "2023-05-13T00:00:00+00:00",
          "y": 26743.2064
         },
         {
          "arrowhead": 2,
          "ax": 0,
          "ay": 40,
          "showarrow": true,
          "text": "Exit",
          "x": "2023-06-02T00:00:00+00:00",
          "y": 26760.372
         },
         {
          "arrowhead": 2,
          "ax": 0,
          "ay": 40,
          "showarrow": true,
          "text": "Exit",
          "x": "2023-07-07T00:00:00+00:00",
          "y": 29835.21
         },
         {
          "arrowhead": 2,
          "ax": 0,
          "ay": 40,
          "showarrow": true,
          "text": "Exit",
          "x": "2023-10-15T00:00:00+00:00",
          "y": 26802.4876
         },
         {
          "arrowhead": 2,
          "ax": 0,
          "ay": 40,
          "showarrow": true,
          "text": "Exit",
          "x": "2023-11-15T00:00:00+00:00",
          "y": 35480.2972
         },
         {
          "arrowhead": 2,
          "ax": 0,
          "ay": 40,
          "showarrow": true,
          "text": "Exit",
          "x": "2024-02-07T00:00:00+00:00",
          "y": 43011.804
         },
         {
          "arrowhead": 2,
          "ax": 0,
          "ay": 40,
          "showarrow": true,
          "text": "Exit",
          "x": "2024-02-21T00:00:00+00:00",
          "y": 52159.3722
         },
         {
          "arrowhead": 2,
          "ax": 0,
          "ay": 40,
          "showarrow": true,
          "text": "Exit",
          "x": "2024-05-03T00:00:00+00:00",
          "y": 58938.985799999995
         },
         {
          "arrowhead": 2,
          "ax": 0,
          "ay": 40,
          "showarrow": true,
          "text": "Exit",
          "x": "2024-05-24T00:00:00+00:00",
          "y": 67828.4712
         },
         {
          "arrowhead": 2,
          "ax": 0,
          "ay": 40,
          "showarrow": true,
          "text": "Exit",
          "x": "2024-06-22T00:00:00+00:00",
          "y": 64022.698
         },
         {
          "arrowhead": 2,
          "ax": 0,
          "ay": 40,
          "showarrow": true,
          "text": "Exit",
          "x": "2024-07-26T00:00:00+00:00",
          "y": 65664.5078
         },
         {
          "arrowhead": 2,
          "ax": 0,
          "ay": 40,
          "showarrow": true,
          "text": "Exit",
          "x": "2024-08-23T00:00:00+00:00",
          "y": 60260.8368
         },
         {
          "arrowhead": 2,
          "ax": 0,
          "ay": 40,
          "showarrow": true,
          "text": "Exit",
          "x": "2024-09-19T00:00:00+00:00",
          "y": 61631.3902
         },
         {
          "arrowhead": 2,
          "ax": 0,
          "ay": 40,
          "showarrow": true,
          "text": "Exit",
          "x": "2024-10-14T00:00:00+00:00",
          "y": 62746.6552
         },
         {
          "arrowhead": 2,
          "ax": 0,
          "ay": 40,
          "showarrow": true,
          "text": "Exit",
          "x": "2025-01-17T00:00:00+00:00",
          "y": 99786.32740000001
         },
         {
          "arrowhead": 2,
          "ax": 0,
          "ay": 40,
          "showarrow": true,
          "text": "Exit",
          "x": "2023-10-15T00:00:00+00:00",
          "y": 26802.4876
         },
         {
          "arrowhead": 2,
          "ax": 0,
          "ay": 40,
          "showarrow": true,
          "text": "Exit",
          "x": "2023-11-15T00:00:00+00:00",
          "y": 35480.2972
         },
         {
          "arrowhead": 2,
          "ax": 0,
          "ay": 40,
          "showarrow": true,
          "text": "Exit",
          "x": "2023-12-30T00:00:00+00:00",
          "y": 41984.5626
         },
         {
          "arrowhead": 2,
          "ax": 0,
          "ay": 40,
          "showarrow": true,
          "text": "Exit",
          "x": "2024-02-07T00:00:00+00:00",
          "y": 43011.804
         },
         {
          "arrowhead": 2,
          "ax": 0,
          "ay": 40,
          "showarrow": true,
          "text": "Exit",
          "x": "2024-02-21T00:00:00+00:00",
          "y": 52159.3722
         },
         {
          "arrowhead": 2,
          "ax": 0,
          "ay": 40,
          "showarrow": true,
          "text": "Exit",
          "x": "2024-05-03T00:00:00+00:00",
          "y": 58938.985799999995
         },
         {
          "arrowhead": 2,
          "ax": 0,
          "ay": 40,
          "showarrow": true,
          "text": "Exit",
          "x": "2024-05-09T00:00:00+00:00",
          "y": 61068.3186
         },
         {
          "arrowhead": 2,
          "ax": 0,
          "ay": 40,
          "showarrow": true,
          "text": "Exit",
          "x": "2024-05-24T00:00:00+00:00",
          "y": 67828.4712
         },
         {
          "arrowhead": 2,
          "ax": 0,
          "ay": 40,
          "showarrow": true,
          "text": "Exit",
          "x": "2024-06-15T00:00:00+00:00",
          "y": 65910.5148
         },
         {
          "arrowhead": 2,
          "ax": 0,
          "ay": 40,
          "showarrow": true,
          "text": "Exit",
          "x": "2024-06-22T00:00:00+00:00",
          "y": 64022.698
         },
         {
          "arrowhead": 2,
          "ax": 0,
          "ay": 40,
          "showarrow": true,
          "text": "Exit",
          "x": "2024-06-30T00:00:00+00:00",
          "y": 60862.131799999996
         },
         {
          "arrowhead": 2,
          "ax": 0,
          "ay": 40,
          "showarrow": true,
          "text": "Exit",
          "x": "2024-07-15T00:00:00+00:00",
          "y": 60667.6216
         },
         {
          "arrowhead": 2,
          "ax": 0,
          "ay": 40,
          "showarrow": true,
          "text": "Exit",
          "x": "2024-07-26T00:00:00+00:00",
          "y": 65664.5078
         },
         {
          "arrowhead": 2,
          "ax": 0,
          "ay": 40,
          "showarrow": true,
          "text": "Exit",
          "x": "2024-08-23T00:00:00+00:00",
          "y": 60260.8368
         },
         {
          "arrowhead": 2,
          "ax": 0,
          "ay": 40,
          "showarrow": true,
          "text": "Exit",
          "x": "2024-09-19T00:00:00+00:00",
          "y": 61631.3902
         },
         {
          "arrowhead": 2,
          "ax": 0,
          "ay": 40,
          "showarrow": true,
          "text": "Exit",
          "x": "2024-10-14T00:00:00+00:00",
          "y": 62746.6552
         },
         {
          "arrowhead": 2,
          "ax": 0,
          "ay": 40,
          "showarrow": true,
          "text": "Exit",
          "x": "2025-01-17T00:00:00+00:00",
          "y": 99786.32740000001
         },
         {
          "arrowhead": 2,
          "ax": 0,
          "ay": 40,
          "showarrow": true,
          "text": "Exit",
          "x": "2023-10-15T00:00:00+00:00",
          "y": 26802.4876
         },
         {
          "arrowhead": 2,
          "ax": 0,
          "ay": 40,
          "showarrow": true,
          "text": "Exit",
          "x": "2023-11-15T00:00:00+00:00",
          "y": 35480.2972
         },
         {
          "arrowhead": 2,
          "ax": 0,
          "ay": 40,
          "showarrow": true,
          "text": "Exit",
          "x": "2024-02-07T00:00:00+00:00",
          "y": 43011.804
         },
         {
          "arrowhead": 2,
          "ax": 0,
          "ay": 40,
          "showarrow": true,
          "text": "Exit",
          "x": "2024-02-21T00:00:00+00:00",
          "y": 52159.3722
         },
         {
          "arrowhead": 2,
          "ax": 0,
          "ay": 40,
          "showarrow": true,
          "text": "Exit",
          "x": "2024-05-03T00:00:00+00:00",
          "y": 58938.985799999995
         },
         {
          "arrowhead": 2,
          "ax": 0,
          "ay": 40,
          "showarrow": true,
          "text": "Exit",
          "x": "2024-05-24T00:00:00+00:00",
          "y": 67828.4712
         },
         {
          "arrowhead": 2,
          "ax": 0,
          "ay": 40,
          "showarrow": true,
          "text": "Exit",
          "x": "2024-06-22T00:00:00+00:00",
          "y": 64022.698
         },
         {
          "arrowhead": 2,
          "ax": 0,
          "ay": 40,
          "showarrow": true,
          "text": "Exit",
          "x": "2024-06-30T00:00:00+00:00",
          "y": 60862.131799999996
         },
         {
          "arrowhead": 2,
          "ax": 0,
          "ay": 40,
          "showarrow": true,
          "text": "Exit",
          "x": "2024-07-15T00:00:00+00:00",
          "y": 60667.6216
         },
         {
          "arrowhead": 2,
          "ax": 0,
          "ay": 40,
          "showarrow": true,
          "text": "Exit",
          "x": "2024-07-26T00:00:00+00:00",
          "y": 65664.5078
         },
         {
          "arrowhead": 2,
          "ax": 0,
          "ay": 40,
          "showarrow": true,
          "text": "Exit",
          "x": "2024-08-23T00:00:00+00:00",
          "y": 60260.8368
         },
         {
          "arrowhead": 2,
          "ax": 0,
          "ay": 40,
          "showarrow": true,
          "text": "Exit",
          "x": "2024-09-19T00:00:00+00:00",
          "y": 61631.3902
         },
         {
          "arrowhead": 2,
          "ax": 0,
          "ay": 40,
          "showarrow": true,
          "text": "Exit",
          "x": "2024-10-14T00:00:00+00:00",
          "y": 62746.6552
         },
         {
          "arrowhead": 2,
          "ax": 0,
          "ay": 40,
          "showarrow": true,
          "text": "Exit",
          "x": "2025-01-17T00:00:00+00:00",
          "y": 99786.32740000001
         }
        ],
        "clickmode": "event+select",
        "template": {
         "data": {
          "bar": [
           {
            "error_x": {
             "color": "#2a3f5f"
            },
            "error_y": {
             "color": "#2a3f5f"
            },
            "marker": {
             "line": {
              "color": "#E5ECF6",
              "width": 0.5
             },
             "pattern": {
              "fillmode": "overlay",
              "size": 10,
              "solidity": 0.2
             }
            },
            "type": "bar"
           }
          ],
          "barpolar": [
           {
            "marker": {
             "line": {
              "color": "#E5ECF6",
              "width": 0.5
             },
             "pattern": {
              "fillmode": "overlay",
              "size": 10,
              "solidity": 0.2
             }
            },
            "type": "barpolar"
           }
          ],
          "carpet": [
           {
            "aaxis": {
             "endlinecolor": "#2a3f5f",
             "gridcolor": "white",
             "linecolor": "white",
             "minorgridcolor": "white",
             "startlinecolor": "#2a3f5f"
            },
            "baxis": {
             "endlinecolor": "#2a3f5f",
             "gridcolor": "white",
             "linecolor": "white",
             "minorgridcolor": "white",
             "startlinecolor": "#2a3f5f"
            },
            "type": "carpet"
           }
          ],
          "choropleth": [
           {
            "colorbar": {
             "outlinewidth": 0,
             "ticks": ""
            },
            "type": "choropleth"
           }
          ],
          "contour": [
           {
            "colorbar": {
             "outlinewidth": 0,
             "ticks": ""
            },
            "colorscale": [
             [
              0,
              "#0d0887"
             ],
             [
              0.1111111111111111,
              "#46039f"
             ],
             [
              0.2222222222222222,
              "#7201a8"
             ],
             [
              0.3333333333333333,
              "#9c179e"
             ],
             [
              0.4444444444444444,
              "#bd3786"
             ],
             [
              0.5555555555555556,
              "#d8576b"
             ],
             [
              0.6666666666666666,
              "#ed7953"
             ],
             [
              0.7777777777777778,
              "#fb9f3a"
             ],
             [
              0.8888888888888888,
              "#fdca26"
             ],
             [
              1,
              "#f0f921"
             ]
            ],
            "type": "contour"
           }
          ],
          "contourcarpet": [
           {
            "colorbar": {
             "outlinewidth": 0,
             "ticks": ""
            },
            "type": "contourcarpet"
           }
          ],
          "heatmap": [
           {
            "colorbar": {
             "outlinewidth": 0,
             "ticks": ""
            },
            "colorscale": [
             [
              0,
              "#0d0887"
             ],
             [
              0.1111111111111111,
              "#46039f"
             ],
             [
              0.2222222222222222,
              "#7201a8"
             ],
             [
              0.3333333333333333,
              "#9c179e"
             ],
             [
              0.4444444444444444,
              "#bd3786"
             ],
             [
              0.5555555555555556,
              "#d8576b"
             ],
             [
              0.6666666666666666,
              "#ed7953"
             ],
             [
              0.7777777777777778,
              "#fb9f3a"
             ],
             [
              0.8888888888888888,
              "#fdca26"
             ],
             [
              1,
              "#f0f921"
             ]
            ],
            "type": "heatmap"
           }
          ],
          "heatmapgl": [
           {
            "colorbar": {
             "outlinewidth": 0,
             "ticks": ""
            },
            "colorscale": [
             [
              0,
              "#0d0887"
             ],
             [
              0.1111111111111111,
              "#46039f"
             ],
             [
              0.2222222222222222,
              "#7201a8"
             ],
             [
              0.3333333333333333,
              "#9c179e"
             ],
             [
              0.4444444444444444,
              "#bd3786"
             ],
             [
              0.5555555555555556,
              "#d8576b"
             ],
             [
              0.6666666666666666,
              "#ed7953"
             ],
             [
              0.7777777777777778,
              "#fb9f3a"
             ],
             [
              0.8888888888888888,
              "#fdca26"
             ],
             [
              1,
              "#f0f921"
             ]
            ],
            "type": "heatmapgl"
           }
          ],
          "histogram": [
           {
            "marker": {
             "pattern": {
              "fillmode": "overlay",
              "size": 10,
              "solidity": 0.2
             }
            },
            "type": "histogram"
           }
          ],
          "histogram2d": [
           {
            "colorbar": {
             "outlinewidth": 0,
             "ticks": ""
            },
            "colorscale": [
             [
              0,
              "#0d0887"
             ],
             [
              0.1111111111111111,
              "#46039f"
             ],
             [
              0.2222222222222222,
              "#7201a8"
             ],
             [
              0.3333333333333333,
              "#9c179e"
             ],
             [
              0.4444444444444444,
              "#bd3786"
             ],
             [
              0.5555555555555556,
              "#d8576b"
             ],
             [
              0.6666666666666666,
              "#ed7953"
             ],
             [
              0.7777777777777778,
              "#fb9f3a"
             ],
             [
              0.8888888888888888,
              "#fdca26"
             ],
             [
              1,
              "#f0f921"
             ]
            ],
            "type": "histogram2d"
           }
          ],
          "histogram2dcontour": [
           {
            "colorbar": {
             "outlinewidth": 0,
             "ticks": ""
            },
            "colorscale": [
             [
              0,
              "#0d0887"
             ],
             [
              0.1111111111111111,
              "#46039f"
             ],
             [
              0.2222222222222222,
              "#7201a8"
             ],
             [
              0.3333333333333333,
              "#9c179e"
             ],
             [
              0.4444444444444444,
              "#bd3786"
             ],
             [
              0.5555555555555556,
              "#d8576b"
             ],
             [
              0.6666666666666666,
              "#ed7953"
             ],
             [
              0.7777777777777778,
              "#fb9f3a"
             ],
             [
              0.8888888888888888,
              "#fdca26"
             ],
             [
              1,
              "#f0f921"
             ]
            ],
            "type": "histogram2dcontour"
           }
          ],
          "mesh3d": [
           {
            "colorbar": {
             "outlinewidth": 0,
             "ticks": ""
            },
            "type": "mesh3d"
           }
          ],
          "parcoords": [
           {
            "line": {
             "colorbar": {
              "outlinewidth": 0,
              "ticks": ""
             }
            },
            "type": "parcoords"
           }
          ],
          "pie": [
           {
            "automargin": true,
            "type": "pie"
           }
          ],
          "scatter": [
           {
            "fillpattern": {
             "fillmode": "overlay",
             "size": 10,
             "solidity": 0.2
            },
            "type": "scatter"
           }
          ],
          "scatter3d": [
           {
            "line": {
             "colorbar": {
              "outlinewidth": 0,
              "ticks": ""
             }
            },
            "marker": {
             "colorbar": {
              "outlinewidth": 0,
              "ticks": ""
             }
            },
            "type": "scatter3d"
           }
          ],
          "scattercarpet": [
           {
            "marker": {
             "colorbar": {
              "outlinewidth": 0,
              "ticks": ""
             }
            },
            "type": "scattercarpet"
           }
          ],
          "scattergeo": [
           {
            "marker": {
             "colorbar": {
              "outlinewidth": 0,
              "ticks": ""
             }
            },
            "type": "scattergeo"
           }
          ],
          "scattergl": [
           {
            "marker": {
             "colorbar": {
              "outlinewidth": 0,
              "ticks": ""
             }
            },
            "type": "scattergl"
           }
          ],
          "scattermapbox": [
           {
            "marker": {
             "colorbar": {
              "outlinewidth": 0,
              "ticks": ""
             }
            },
            "type": "scattermapbox"
           }
          ],
          "scatterpolar": [
           {
            "marker": {
             "colorbar": {
              "outlinewidth": 0,
              "ticks": ""
             }
            },
            "type": "scatterpolar"
           }
          ],
          "scatterpolargl": [
           {
            "marker": {
             "colorbar": {
              "outlinewidth": 0,
              "ticks": ""
             }
            },
            "type": "scatterpolargl"
           }
          ],
          "scatterternary": [
           {
            "marker": {
             "colorbar": {
              "outlinewidth": 0,
              "ticks": ""
             }
            },
            "type": "scatterternary"
           }
          ],
          "surface": [
           {
            "colorbar": {
             "outlinewidth": 0,
             "ticks": ""
            },
            "colorscale": [
             [
              0,
              "#0d0887"
             ],
             [
              0.1111111111111111,
              "#46039f"
             ],
             [
              0.2222222222222222,
              "#7201a8"
             ],
             [
              0.3333333333333333,
              "#9c179e"
             ],
             [
              0.4444444444444444,
              "#bd3786"
             ],
             [
              0.5555555555555556,
              "#d8576b"
             ],
             [
              0.6666666666666666,
              "#ed7953"
             ],
             [
              0.7777777777777778,
              "#fb9f3a"
             ],
             [
              0.8888888888888888,
              "#fdca26"
             ],
             [
              1,
              "#f0f921"
             ]
            ],
            "type": "surface"
           }
          ],
          "table": [
           {
            "cells": {
             "fill": {
              "color": "#EBF0F8"
             },
             "line": {
              "color": "white"
             }
            },
            "header": {
             "fill": {
              "color": "#C8D4E3"
             },
             "line": {
              "color": "white"
             }
            },
            "type": "table"
           }
          ]
         },
         "layout": {
          "annotationdefaults": {
           "arrowcolor": "#2a3f5f",
           "arrowhead": 0,
           "arrowwidth": 1
          },
          "autotypenumbers": "strict",
          "coloraxis": {
           "colorbar": {
            "outlinewidth": 0,
            "ticks": ""
           }
          },
          "colorscale": {
           "diverging": [
            [
             0,
             "#8e0152"
            ],
            [
             0.1,
             "#c51b7d"
            ],
            [
             0.2,
             "#de77ae"
            ],
            [
             0.3,
             "#f1b6da"
            ],
            [
             0.4,
             "#fde0ef"
            ],
            [
             0.5,
             "#f7f7f7"
            ],
            [
             0.6,
             "#e6f5d0"
            ],
            [
             0.7,
             "#b8e186"
            ],
            [
             0.8,
             "#7fbc41"
            ],
            [
             0.9,
             "#4d9221"
            ],
            [
             1,
             "#276419"
            ]
           ],
           "sequential": [
            [
             0,
             "#0d0887"
            ],
            [
             0.1111111111111111,
             "#46039f"
            ],
            [
             0.2222222222222222,
             "#7201a8"
            ],
            [
             0.3333333333333333,
             "#9c179e"
            ],
            [
             0.4444444444444444,
             "#bd3786"
            ],
            [
             0.5555555555555556,
             "#d8576b"
            ],
            [
             0.6666666666666666,
             "#ed7953"
            ],
            [
             0.7777777777777778,
             "#fb9f3a"
            ],
            [
             0.8888888888888888,
             "#fdca26"
            ],
            [
             1,
             "#f0f921"
            ]
           ],
           "sequentialminus": [
            [
             0,
             "#0d0887"
            ],
            [
             0.1111111111111111,
             "#46039f"
            ],
            [
             0.2222222222222222,
             "#7201a8"
            ],
            [
             0.3333333333333333,
             "#9c179e"
            ],
            [
             0.4444444444444444,
             "#bd3786"
            ],
            [
             0.5555555555555556,
             "#d8576b"
            ],
            [
             0.6666666666666666,
             "#ed7953"
            ],
            [
             0.7777777777777778,
             "#fb9f3a"
            ],
            [
             0.8888888888888888,
             "#fdca26"
            ],
            [
             1,
             "#f0f921"
            ]
           ]
          },
          "colorway": [
           "#636efa",
           "#EF553B",
           "#00cc96",
           "#ab63fa",
           "#FFA15A",
           "#19d3f3",
           "#FF6692",
           "#B6E880",
           "#FF97FF",
           "#FECB52"
          ],
          "font": {
           "color": "#2a3f5f"
          },
          "geo": {
           "bgcolor": "white",
           "lakecolor": "white",
           "landcolor": "#E5ECF6",
           "showlakes": true,
           "showland": true,
           "subunitcolor": "white"
          },
          "hoverlabel": {
           "align": "left"
          },
          "hovermode": "closest",
          "mapbox": {
           "style": "light"
          },
          "paper_bgcolor": "white",
          "plot_bgcolor": "#E5ECF6",
          "polar": {
           "angularaxis": {
            "gridcolor": "white",
            "linecolor": "white",
            "ticks": ""
           },
           "bgcolor": "#E5ECF6",
           "radialaxis": {
            "gridcolor": "white",
            "linecolor": "white",
            "ticks": ""
           }
          },
          "scene": {
           "xaxis": {
            "backgroundcolor": "#E5ECF6",
            "gridcolor": "white",
            "gridwidth": 2,
            "linecolor": "white",
            "showbackground": true,
            "ticks": "",
            "zerolinecolor": "white"
           },
           "yaxis": {
            "backgroundcolor": "#E5ECF6",
            "gridcolor": "white",
            "gridwidth": 2,
            "linecolor": "white",
            "showbackground": true,
            "ticks": "",
            "zerolinecolor": "white"
           },
           "zaxis": {
            "backgroundcolor": "#E5ECF6",
            "gridcolor": "white",
            "gridwidth": 2,
            "linecolor": "white",
            "showbackground": true,
            "ticks": "",
            "zerolinecolor": "white"
           }
          },
          "shapedefaults": {
           "line": {
            "color": "#2a3f5f"
           }
          },
          "ternary": {
           "aaxis": {
            "gridcolor": "white",
            "linecolor": "white",
            "ticks": ""
           },
           "baxis": {
            "gridcolor": "white",
            "linecolor": "white",
            "ticks": ""
           },
           "bgcolor": "#E5ECF6",
           "caxis": {
            "gridcolor": "white",
            "linecolor": "white",
            "ticks": ""
           }
          },
          "title": {
           "x": 0.05
          },
          "xaxis": {
           "automargin": true,
           "gridcolor": "white",
           "linecolor": "white",
           "ticks": "",
           "title": {
            "standoff": 15
           },
           "zerolinecolor": "white",
           "zerolinewidth": 2
          },
          "yaxis": {
           "automargin": true,
           "gridcolor": "white",
           "linecolor": "white",
           "ticks": "",
           "title": {
            "standoff": 15
           },
           "zerolinecolor": "white",
           "zerolinewidth": 2
          }
         }
        },
        "yaxis": {
         "fixedrange": false
        }
       }
      }
     },
     "metadata": {},
     "output_type": "display_data"
    }
   ],
   "source": [
    "check_ma_200 = ta.ema(df['close'], length=200)\n",
    "fig = go.Figure()\n",
    "\n",
    "fig.add_trace(go.Candlestick(\n",
    "    x=df.index,\n",
    "    open=df['open'],\n",
    "    high=df['high'],\n",
    "    low=df['low'],\n",
    "    close=df['close'],\n",
    "    name='candlesticks'))\n",
    "\n",
    "fig.add_trace(go.Scatter(x=df.index, y=indicator.long_term_ma, mode='lines',marker=dict(color='yellow',size=20), name='200 MA'))\n",
    "\n",
    "fig.add_trace(go.Scatter(x=df.index, y=indicator.short_term_ma, mode='lines',marker=dict(color='red',size=20), name='20 MA'))\n",
    "\n",
    "# Add annotations for trades\n",
    "for i, row in trades.iterrows():\n",
    "    fig.add_annotation(\n",
    "        x=row['Entry Timestamp'],\n",
    "        y=row['Avg Entry Price'],\n",
    "        text=\"Entry\",\n",
    "        showarrow=True,\n",
    "        arrowhead=2,\n",
    "        ax=0,\n",
    "        ay=-40\n",
    "    )\n",
    "\n",
    "for i, row in trades.iterrows():\n",
    "    fig.add_annotation(\n",
    "        x=row['Exit Timestamp'],\n",
    "        y=row['Avg Exit Price'],\n",
    "        text=\"Exit\",\n",
    "        showarrow=True,\n",
    "        arrowhead=2,\n",
    "        ax=0,\n",
    "        ay=40\n",
    "    )\n",
    "# fig.add_trad(go.Scatter(x=df.index, y=entry_exit_bars['entry_time'],))\n",
    "# Enable y-axis zooming\n",
    "fig.update_layout(\n",
    "    yaxis=dict(fixedrange=False),  # Allow y-axis zooming\n",
    "    clickmode='event+select'  # Enable click events and selection events\n",
    "\n",
    ")\n"
   ]
  },
  {
   "cell_type": "code",
   "execution_count": 11,
   "metadata": {},
   "outputs": [
    {
     "name": "stderr",
     "output_type": "stream",
     "text": [
      "/var/folders/33/gyg8_bbj4qn5_tvszhbzjxdm0000gn/T/ipykernel_94846/4031687587.py:1: UserWarning:\n",
      "\n",
      "Subplot 'orders' raised an exception\n",
      "\n"
     ]
    },
    {
     "ename": "TypeError",
     "evalue": "Only one column is allowed. Use indexing or column argument.",
     "output_type": "error",
     "traceback": [
      "\u001b[0;31m---------------------------------------------------------------------------\u001b[0m",
      "\u001b[0;31mTypeError\u001b[0m                                 Traceback (most recent call last)",
      "Cell \u001b[0;32mIn[11], line 1\u001b[0m\n\u001b[0;32m----> 1\u001b[0m \u001b[43mpf\u001b[49m\u001b[38;5;241;43m.\u001b[39;49m\u001b[43mplot\u001b[49m\u001b[43m(\u001b[49m\u001b[43m)\u001b[49m\n",
      "File \u001b[0;32m~/Documents/Python_local/mean_reversion_strategy/venv/lib/python3.9/site-packages/vectorbt/generic/plots_builder.py:604\u001b[0m, in \u001b[0;36mPlotsBuilderMixin.plots\u001b[0;34m(self, subplots, tags, column, group_by, silence_warnings, template_mapping, settings, filters, subplot_settings, show_titles, hide_id_labels, group_id_labels, make_subplots_kwargs, **layout_kwargs)\u001b[0m\n\u001b[1;32m    602\u001b[0m     \u001b[38;5;28;01mexcept\u001b[39;00m \u001b[38;5;167;01mException\u001b[39;00m \u001b[38;5;28;01mas\u001b[39;00m e:\n\u001b[1;32m    603\u001b[0m         warnings\u001b[38;5;241m.\u001b[39mwarn(\u001b[38;5;124mf\u001b[39m\u001b[38;5;124m\"\u001b[39m\u001b[38;5;124mSubplot \u001b[39m\u001b[38;5;124m'\u001b[39m\u001b[38;5;132;01m{\u001b[39;00msubplot_name\u001b[38;5;132;01m}\u001b[39;00m\u001b[38;5;124m'\u001b[39m\u001b[38;5;124m raised an exception\u001b[39m\u001b[38;5;124m\"\u001b[39m, stacklevel\u001b[38;5;241m=\u001b[39m\u001b[38;5;241m2\u001b[39m)\n\u001b[0;32m--> 604\u001b[0m         \u001b[38;5;28;01mraise\u001b[39;00m e\n\u001b[1;32m    606\u001b[0m \u001b[38;5;66;03m# Remove duplicate legend labels\u001b[39;00m\n\u001b[1;32m    607\u001b[0m found_ids \u001b[38;5;241m=\u001b[39m \u001b[38;5;28mdict\u001b[39m()\n",
      "File \u001b[0;32m~/Documents/Python_local/mean_reversion_strategy/venv/lib/python3.9/site-packages/vectorbt/generic/plots_builder.py:589\u001b[0m, in \u001b[0;36mPlotsBuilderMixin.plots\u001b[0;34m(self, subplots, tags, column, group_by, silence_warnings, template_mapping, settings, filters, subplot_settings, show_titles, hide_id_labels, group_id_labels, make_subplots_kwargs, **layout_kwargs)\u001b[0m\n\u001b[1;32m    586\u001b[0m             final_kwargs\u001b[38;5;241m.\u001b[39mpop(k, \u001b[38;5;28;01mNone\u001b[39;00m)  \u001b[38;5;66;03m# cleanup\u001b[39;00m\n\u001b[1;32m    588\u001b[0m     \u001b[38;5;66;03m# Call plot_func\u001b[39;00m\n\u001b[0;32m--> 589\u001b[0m     \u001b[43mplot_func\u001b[49m\u001b[43m(\u001b[49m\u001b[38;5;241;43m*\u001b[39;49m\u001b[38;5;241;43m*\u001b[39;49m\u001b[43mfinal_kwargs\u001b[49m\u001b[43m)\u001b[49m\n\u001b[1;32m    590\u001b[0m \u001b[38;5;28;01melse\u001b[39;00m:\n\u001b[1;32m    591\u001b[0m     \u001b[38;5;66;03m# Do not resolve plot_func\u001b[39;00m\n\u001b[1;32m    592\u001b[0m     plot_func(custom_reself, _subplot_settings)\n",
      "File \u001b[0;32m~/Documents/Python_local/mean_reversion_strategy/venv/lib/python3.9/site-packages/vectorbt/portfolio/orders.py:385\u001b[0m, in \u001b[0;36mOrders.plot\u001b[0;34m(self, column, close_trace_kwargs, buy_trace_kwargs, sell_trace_kwargs, add_trace_kwargs, fig, **layout_kwargs)\u001b[0m\n\u001b[1;32m    382\u001b[0m \u001b[38;5;28;01mfrom\u001b[39;00m\u001b[38;5;250m \u001b[39m\u001b[38;5;21;01mvectorbt\u001b[39;00m\u001b[38;5;21;01m.\u001b[39;00m\u001b[38;5;21;01m_settings\u001b[39;00m\u001b[38;5;250m \u001b[39m\u001b[38;5;28;01mimport\u001b[39;00m settings\n\u001b[1;32m    383\u001b[0m plotting_cfg \u001b[38;5;241m=\u001b[39m settings[\u001b[38;5;124m'\u001b[39m\u001b[38;5;124mplotting\u001b[39m\u001b[38;5;124m'\u001b[39m]\n\u001b[0;32m--> 385\u001b[0m self_col \u001b[38;5;241m=\u001b[39m \u001b[38;5;28;43mself\u001b[39;49m\u001b[38;5;241;43m.\u001b[39;49m\u001b[43mselect_one\u001b[49m\u001b[43m(\u001b[49m\u001b[43mcolumn\u001b[49m\u001b[38;5;241;43m=\u001b[39;49m\u001b[43mcolumn\u001b[49m\u001b[43m,\u001b[49m\u001b[43m \u001b[49m\u001b[43mgroup_by\u001b[49m\u001b[38;5;241;43m=\u001b[39;49m\u001b[38;5;28;43;01mFalse\u001b[39;49;00m\u001b[43m)\u001b[49m\n\u001b[1;32m    387\u001b[0m \u001b[38;5;28;01mif\u001b[39;00m close_trace_kwargs \u001b[38;5;129;01mis\u001b[39;00m \u001b[38;5;28;01mNone\u001b[39;00m:\n\u001b[1;32m    388\u001b[0m     close_trace_kwargs \u001b[38;5;241m=\u001b[39m {}\n",
      "File \u001b[0;32m~/Documents/Python_local/mean_reversion_strategy/venv/lib/python3.9/site-packages/vectorbt/base/array_wrapper.py:791\u001b[0m, in \u001b[0;36mWrapping.select_one\u001b[0;34m(self, column, group_by, **kwargs)\u001b[0m\n\u001b[1;32m    789\u001b[0m     \u001b[38;5;28;01mif\u001b[39;00m _self\u001b[38;5;241m.\u001b[39mwrapper\u001b[38;5;241m.\u001b[39mndim \u001b[38;5;241m==\u001b[39m \u001b[38;5;241m1\u001b[39m:\n\u001b[1;32m    790\u001b[0m         \u001b[38;5;28;01mreturn\u001b[39;00m _self\n\u001b[0;32m--> 791\u001b[0m     \u001b[38;5;28;01mraise\u001b[39;00m \u001b[38;5;167;01mTypeError\u001b[39;00m(\u001b[38;5;124m\"\u001b[39m\u001b[38;5;124mOnly one column is allowed. Use indexing or column argument.\u001b[39m\u001b[38;5;124m\"\u001b[39m)\n\u001b[1;32m    792\u001b[0m \u001b[38;5;28;01mif\u001b[39;00m _self\u001b[38;5;241m.\u001b[39mwrapper\u001b[38;5;241m.\u001b[39mgrouped_ndim \u001b[38;5;241m==\u001b[39m \u001b[38;5;241m1\u001b[39m:\n\u001b[1;32m    793\u001b[0m     \u001b[38;5;28;01mreturn\u001b[39;00m _self\n",
      "\u001b[0;31mTypeError\u001b[0m: Only one column is allowed. Use indexing or column argument."
     ]
    }
   ],
   "source": [
    "pf.plot()"
   ]
  }
 ],
 "metadata": {
  "kernelspec": {
   "display_name": "venv",
   "language": "python",
   "name": "python3"
  },
  "language_info": {
   "codemirror_mode": {
    "name": "ipython",
    "version": 3
   },
   "file_extension": ".py",
   "mimetype": "text/x-python",
   "name": "python",
   "nbconvert_exporter": "python",
   "pygments_lexer": "ipython3",
   "version": "3.9.6"
  }
 },
 "nbformat": 4,
 "nbformat_minor": 2
}
