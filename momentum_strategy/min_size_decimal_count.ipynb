{
 "cells": [
  {
   "cell_type": "code",
   "execution_count": 70,
   "metadata": {},
   "outputs": [
    {
     "name": "stdout",
     "output_type": "stream",
     "text": [
      "USDT balance: {'free': 52.59245652, 'used': 0.0, 'total': 52.59245652}\n"
     ]
    }
   ],
   "source": [
    "import ccxt\n",
    "import json\n",
    "\n",
    "config_path = '/Users/andre/Documents/Python/trading_clone_singapore_DO/trading_singapore_digitalocean/kucoin_dir/config_api.json'\n",
    "\n",
    "with open(config_path, 'r') as file:\n",
    "    api_creds = json.load(file)\n",
    "    \n",
    "# Create the exchange object\n",
    "exchange = ccxt.kucoin({\n",
    "    'apiKey': api_creds['api_key'],\n",
    "    'secret': api_creds['api_secret'],\n",
    "    'password': api_creds['api_passphrase'],\n",
    "})\n",
    "balance = exchange.fetch_balance()\n",
    "usdt_balance = balance['USDT']\n",
    "\n",
    "# Print the balance details\n",
    "print('USDT balance:', usdt_balance)"
   ]
  },
  {
   "cell_type": "code",
   "execution_count": 3,
   "metadata": {},
   "outputs": [
    {
     "name": "stdout",
     "output_type": "stream",
     "text": [
      "{'info': {'orderId': '6773e894a36b99000705931b'}, 'id': '6773e894a36b99000705931b', 'clientOrderId': None, 'symbol': 'BTC/USDT', 'type': None, 'timeInForce': None, 'postOnly': None, 'side': None, 'amount': None, 'price': None, 'stopPrice': None, 'triggerPrice': None, 'cost': None, 'filled': None, 'remaining': None, 'timestamp': None, 'datetime': None, 'fee': {'currency': None, 'cost': None}, 'status': None, 'lastTradeTimestamp': None, 'average': None, 'trades': [], 'fees': [{'currency': None, 'cost': None}], 'lastUpdateTimestamp': None, 'reduceOnly': None, 'takeProfitPrice': None, 'stopLossPrice': None}\n"
     ]
    }
   ],
   "source": [
    "limit_order = exchange.create_limit_buy_order('BTC/USDT', 0.0001, 10000)\n",
    "print(limit_order)"
   ]
  },
  {
   "cell_type": "code",
   "execution_count": 44,
   "metadata": {},
   "outputs": [
    {
     "name": "stdout",
     "output_type": "stream",
     "text": [
      "5.511449585010061e-05\n",
      "Order size:\n"
     ]
    }
   ],
   "source": [
    "def calculate_buy_order_size(usdt_balance,percent_from_bal,exchange_object):\n",
    "    # Get USDT the balance\n",
    "    balance = exchange_object.fetch_balance()\n",
    "    usdt_balance = balance['USDT']['free']\n",
    "\n",
    "    #calculate percent of balance to use\n",
    "    usdt_to_use = usdt_balance * percent_from_bal\n",
    "\n",
    "    # Get the current price of the asset\n",
    "    price = exchange_object.fetch_ticker('BTC/USDT')['last']\n",
    "\n",
    "    # Calculate the order size\n",
    "    return usdt_to_use / price\n",
    "\n",
    "# Calculate the order size\n",
    "order_size = calculate_buy_order_size(usdt_balance, 0.1, exchange)\n",
    "# Print the order size in a readable format\n",
    "print(order_size)\n",
    "print('Order size: {:.6f}'.format(order_size))"
   ]
  },
  {
   "cell_type": "code",
   "execution_count": 87,
   "metadata": {},
   "outputs": [
    {
     "name": "stdout",
     "output_type": "stream",
     "text": [
      "USDT balance: 52.59245652\n",
      "USDT to use: 52.59245652\n",
      "Current price of BTC/USDT: 95777.3\n",
      "0.00054911\n"
     ]
    }
   ],
   "source": [
    "import math\n",
    "from decimal import Decimal\n",
    "    \n",
    "def calculate_order_size(exchange, symbol: str, percent_from_bal: float):\n",
    "\n",
    "    # Fetch the balance\n",
    "    balance = exchange.fetch_balance()\n",
    "    usdt_balance = balance['USDT']['free']\n",
    "    print(f'USDT balance: {usdt_balance}')\n",
    "\n",
    "    # Calculate percent of balance to use\n",
    "    usdt_to_use = usdt_balance * percent_from_bal\n",
    "    print(f'USDT to use: {usdt_to_use}')\n",
    "\n",
    "    # Get the current price of the asset\n",
    "    price = exchange.fetch_ticker(symbol)['last']\n",
    "    print(f'Current price of {symbol}: {price}')\n",
    "\n",
    "    # Calculate the order size\n",
    "    order_size = usdt_to_use / price\n",
    "\n",
    "    # Get the precision of the asset for rounding\n",
    "    market = exchange.market(symbol)\n",
    "    precision = market['precision']['amount']\n",
    "    max_decimals = abs(Decimal(str(precision)).as_tuple().exponent)\n",
    "\n",
    "    # Round down the order size to the maximum number of decimal places allowed by the exchange\n",
    "    factor = 10 ** max_decimals\n",
    "    rounded_order_size = math.floor(order_size * factor) / factor\n",
    "\n",
    "    # print(f'Order size: {rounded_order_size:.{max_decimals}f}')\n",
    "    return rounded_order_size\n",
    "\n",
    "# Example usage\n",
    "symbol = 'BTC/USDT'\n",
    "percent_from_bal = 1  # Use 1% of the balance\n",
    "\n",
    "# Assuming exchange is already initialized and in memory\n",
    "print(calculate_order_size(exchange, symbol, percent_from_bal))\n",
    "\n",
    "\n"
   ]
  },
  {
   "cell_type": "code",
   "execution_count": 59,
   "metadata": {},
   "outputs": [
    {
     "name": "stdout",
     "output_type": "stream",
     "text": [
      "Number of decimal places: 8\n"
     ]
    }
   ],
   "source": [
    "from decimal import Decimal\n",
    "market = exchange.market(symbol)\n",
    "precision = market['precision']['amount']\n",
    "decimal_count = abs(Decimal(str(precision)).as_tuple().exponent)\n",
    "print(f'Number of decimal places: {decimal_count}')"
   ]
  },
  {
   "cell_type": "code",
   "execution_count": 68,
   "metadata": {},
   "outputs": [
    {
     "name": "stdout",
     "output_type": "stream",
     "text": [
      "<class 'str'>\n"
     ]
    }
   ],
   "source": [
    "from decimal import Decimal\n",
    "\n",
    "market = exchange.market(symbol)\n",
    "precision = market['precision']['amount']\n",
    "readable = format(Decimal(str(precision)), 'f')  \n",
    "# or\n",
    "# readable = '{:f}'.format(Decimal(str(precision)))\n",
    "print(type(readable))  \n",
    "print(readable)"
   ]
  },
  {
   "cell_type": "code",
   "execution_count": 39,
   "metadata": {},
   "outputs": [
    {
     "name": "stdout",
     "output_type": "stream",
     "text": [
      "Readable value: 5.503e-06\n"
     ]
    }
   ],
   "source": [
    "\n",
    "value = 5.50299532701479e-06\n",
    "readable_value = format(value, 'g')\n",
    "print(f\"Readable value: {readable_value}\")"
   ]
  }
 ],
 "metadata": {
  "kernelspec": {
   "display_name": "pandas",
   "language": "python",
   "name": "python3"
  },
  "language_info": {
   "codemirror_mode": {
    "name": "ipython",
    "version": 3
   },
   "file_extension": ".py",
   "mimetype": "text/x-python",
   "name": "python",
   "nbconvert_exporter": "python",
   "pygments_lexer": "ipython3",
   "version": "3.9.6"
  }
 },
 "nbformat": 4,
 "nbformat_minor": 2
}
